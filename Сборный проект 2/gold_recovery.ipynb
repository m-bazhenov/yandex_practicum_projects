{
 "cells": [
  {
   "cell_type": "markdown",
   "metadata": {
    "toc": true
   },
   "source": [
    "<h1>Содержание<span class=\"tocSkip\"></span></h1>\n",
    "<div class=\"toc\"><ul class=\"toc-item\"><li><span><a href=\"#Подготовка-данных\" data-toc-modified-id=\"Подготовка-данных-1\"><span class=\"toc-item-num\">1&nbsp;&nbsp;</span>Подготовка данных</a></span><ul class=\"toc-item\"><li><span><a href=\"#Изучение-файлов\" data-toc-modified-id=\"Изучение-файлов-1.1\"><span class=\"toc-item-num\">1.1&nbsp;&nbsp;</span>Изучение файлов</a></span></li><li><span><a href=\"#Проверка-эффективности-обогащения\" data-toc-modified-id=\"Проверка-эффективности-обогащения-1.2\"><span class=\"toc-item-num\">1.2&nbsp;&nbsp;</span>Проверка эффективности обогащения</a></span></li><li><span><a href=\"#Анализ-признаков-недоступных-в-тестовой-выборке\" data-toc-modified-id=\"Анализ-признаков-недоступных-в-тестовой-выборке-1.3\"><span class=\"toc-item-num\">1.3&nbsp;&nbsp;</span>Анализ признаков недоступных в тестовой выборке</a></span></li><li><span><a href=\"#Предобработка-данных\" data-toc-modified-id=\"Предобработка-данных-1.4\"><span class=\"toc-item-num\">1.4&nbsp;&nbsp;</span>Предобработка данных</a></span></li><li><span><a href=\"#Выводы-первого-этапа\" data-toc-modified-id=\"Выводы-первого-этапа-1.5\"><span class=\"toc-item-num\">1.5&nbsp;&nbsp;</span>Выводы первого этапа</a></span></li></ul></li><li><span><a href=\"#Анализ-данных\" data-toc-modified-id=\"Анализ-данных-2\"><span class=\"toc-item-num\">2&nbsp;&nbsp;</span>Анализ данных</a></span><ul class=\"toc-item\"><li><span><a href=\"#Анализ-изменений-концентрации-металлов\" data-toc-modified-id=\"Анализ-изменений-концентрации-металлов-2.1\"><span class=\"toc-item-num\">2.1&nbsp;&nbsp;</span>Анализ изменений концентрации металлов</a></span></li><li><span><a href=\"#Анализ-распределения-размеров-гранул\" data-toc-modified-id=\"Анализ-распределения-размеров-гранул-2.2\"><span class=\"toc-item-num\">2.2&nbsp;&nbsp;</span>Анализ распределения размеров гранул</a></span></li><li><span><a href=\"#Исследование-суммарной-концентрации-веществ-на-различных-этапах\" data-toc-modified-id=\"Исследование-суммарной-концентрации-веществ-на-различных-этапах-2.3\"><span class=\"toc-item-num\">2.3&nbsp;&nbsp;</span>Исследование суммарной концентрации веществ на различных этапах</a></span></li><li><span><a href=\"#Выводы-второго-этапа\" data-toc-modified-id=\"Выводы-второго-этапа-2.4\"><span class=\"toc-item-num\">2.4&nbsp;&nbsp;</span>Выводы второго этапа</a></span></li></ul></li><li><span><a href=\"#Модель\" data-toc-modified-id=\"Модель-3\"><span class=\"toc-item-num\">3&nbsp;&nbsp;</span>Модель</a></span><ul class=\"toc-item\"><li><span><a href=\"#Функция-для-вычисления-итоговой-sMAPE\" data-toc-modified-id=\"Функция-для-вычисления-итоговой-sMAPE-3.1\"><span class=\"toc-item-num\">3.1&nbsp;&nbsp;</span>Функция для вычисления итоговой sMAPE</a></span></li><li><span><a href=\"#Обучение-моделей\" data-toc-modified-id=\"Обучение-моделей-3.2\"><span class=\"toc-item-num\">3.2&nbsp;&nbsp;</span>Обучение моделей</a></span><ul class=\"toc-item\"><li><span><a href=\"#RandomForestRegressor\" data-toc-modified-id=\"RandomForestRegressor-3.2.1\"><span class=\"toc-item-num\">3.2.1&nbsp;&nbsp;</span>RandomForestRegressor</a></span></li><li><span><a href=\"#DecisionTreeRegressor\" data-toc-modified-id=\"DecisionTreeRegressor-3.2.2\"><span class=\"toc-item-num\">3.2.2&nbsp;&nbsp;</span>DecisionTreeRegressor</a></span></li><li><span><a href=\"#LinearRegression\" data-toc-modified-id=\"LinearRegression-3.2.3\"><span class=\"toc-item-num\">3.2.3&nbsp;&nbsp;</span>LinearRegression</a></span></li><li><span><a href=\"#CatBoost\" data-toc-modified-id=\"CatBoost-3.2.4\"><span class=\"toc-item-num\">3.2.4&nbsp;&nbsp;</span>CatBoost</a></span></li></ul></li></ul></li><li><span><a href=\"#Выводы\" data-toc-modified-id=\"Выводы-4\"><span class=\"toc-item-num\">4&nbsp;&nbsp;</span>Выводы</a></span></li><li><span><a href=\"#Чек-лист-готовности-проекта\" data-toc-modified-id=\"Чек-лист-готовности-проекта-5\"><span class=\"toc-item-num\">5&nbsp;&nbsp;</span>Чек-лист готовности проекта</a></span></li></ul></div>"
   ]
  },
  {
   "cell_type": "markdown",
   "metadata": {},
   "source": [
    "# Восстановление золота из руды"
   ]
  },
  {
   "cell_type": "markdown",
   "metadata": {},
   "source": [
    "**Цели проекта:**  \n",
    "Подготовьте прототип модели машинного обучения для «Цифры». Компания разрабатывает решения для эффективной работы промышленных предприятий. Модель должна предсказать коэффициент восстановления золота из золотосодержащей руды. Используйте данные с параметрами добычи и очистки. Модель поможет оптимизировать производство, чтобы не запускать предприятие с убыточными характеристиками."
   ]
  },
  {
   "cell_type": "markdown",
   "metadata": {},
   "source": [
    "## Подготовка данных"
   ]
  },
  {
   "cell_type": "markdown",
   "metadata": {},
   "source": [
    "**Задачи первого этапа:**  \n",
    "1. Открыть и изучить файлы.\n",
    "2. Проверить, что эффективность обогащения рассчитана правильно: \n",
    "  - вычислить эффективность на обучающей выборке для признака rougher.output.recovery;\n",
    "  - найти MAE между расчётами и значением признака;\n",
    "  - описать выводы.\n",
    "3. Проанализировать признаки, недоступные в тестовой выборке:\n",
    "  - ответить на вопрос, что это за параметры? \n",
    "  - ответить на вопрос, к какому типу относятся?\n",
    "4. Провести предобработку данных."
   ]
  },
  {
   "cell_type": "markdown",
   "metadata": {},
   "source": [
    "### Изучение файлов"
   ]
  },
  {
   "cell_type": "code",
   "execution_count": 1,
   "metadata": {},
   "outputs": [],
   "source": [
    "# Библиотеки.\n",
    "import pandas as pd\n",
    "import seaborn as sns\n",
    "import matplotlib.pyplot as plt\n",
    "import numpy as np\n",
    "import warnings\n",
    "import random\n",
    "\n",
    "from sklearn.model_selection import cross_validate\n",
    "from sklearn.preprocessing import StandardScaler\n",
    "from sklearn.model_selection import GridSearchCV\n",
    "from sklearn.model_selection import cross_val_score\n",
    "\n",
    "from sklearn.linear_model import LinearRegression\n",
    "from sklearn.tree import DecisionTreeRegressor\n",
    "from sklearn.ensemble import RandomForestRegressor\n",
    "from catboost import CatBoostRegressor\n",
    "\n",
    "from sklearn.metrics import mean_squared_error, mean_absolute_error, make_scorer\n",
    "\n",
    "# Настрйки.\n",
    "%matplotlib inline\n",
    "sns.set(rc={'figure.figsize':(12, 9)})\n",
    "pd.options.display.max_columns = None\n",
    "pd.options.mode.chained_assignment = None\n",
    "pd.options.display.float_format ='{:,.3f}'.format\n",
    "warnings.filterwarnings('ignore')"
   ]
  },
  {
   "cell_type": "code",
   "execution_count": 2,
   "metadata": {},
   "outputs": [],
   "source": [
    "# Загрузка данных.\n",
    "df_train = pd.read_csv('gold_recovery_train_new.csv')\n",
    "df_test = pd.read_csv('gold_recovery_test_new.csv')\n",
    "df_full = pd.read_csv('gold_recovery_full_new.csv')"
   ]
  },
  {
   "cell_type": "code",
   "execution_count": 3,
   "metadata": {},
   "outputs": [
    {
     "data": {
      "text/html": [
       "<div>\n",
       "<style scoped>\n",
       "    .dataframe tbody tr th:only-of-type {\n",
       "        vertical-align: middle;\n",
       "    }\n",
       "\n",
       "    .dataframe tbody tr th {\n",
       "        vertical-align: top;\n",
       "    }\n",
       "\n",
       "    .dataframe thead th {\n",
       "        text-align: right;\n",
       "    }\n",
       "</style>\n",
       "<table border=\"1\" class=\"dataframe\">\n",
       "  <thead>\n",
       "    <tr style=\"text-align: right;\">\n",
       "      <th></th>\n",
       "      <th>Параметры</th>\n",
       "      <th>df_full</th>\n",
       "      <th>df_train</th>\n",
       "      <th>df_test</th>\n",
       "    </tr>\n",
       "  </thead>\n",
       "  <tbody>\n",
       "    <tr>\n",
       "      <th>0</th>\n",
       "      <td>Признаки</td>\n",
       "      <td>87</td>\n",
       "      <td>87</td>\n",
       "      <td>53</td>\n",
       "    </tr>\n",
       "    <tr>\n",
       "      <th>1</th>\n",
       "      <td>Объекты</td>\n",
       "      <td>19439</td>\n",
       "      <td>14149</td>\n",
       "      <td>5290</td>\n",
       "    </tr>\n",
       "  </tbody>\n",
       "</table>\n",
       "</div>"
      ],
      "text/plain": [
       "  Параметры  df_full  df_train  df_test\n",
       "0  Признаки       87        87       53\n",
       "1   Объекты    19439     14149     5290"
      ]
     },
     "execution_count": 3,
     "metadata": {},
     "output_type": "execute_result"
    }
   ],
   "source": [
    "# Создадим функцию для анализа размерности датасетов.\n",
    "def shape(full, train, test):\n",
    "    return pd.DataFrame({'Параметры': ['Признаки', 'Объекты'],\n",
    "                         'df_full': [full.shape[1], full.shape[0]],\n",
    "                         'df_train': [train.shape[1], train.shape[0]],\n",
    "                         'df_test': [test.shape[1], test.shape[0]]\n",
    "    \n",
    "})\n",
    "\n",
    "shape(df_full, df_train, df_test)"
   ]
  },
  {
   "cell_type": "code",
   "execution_count": 4,
   "metadata": {},
   "outputs": [],
   "source": [
    "# Запишем в файл информацию о датасете df_full.\n",
    "# profile = pp.ProfileReport(df_full, minimal=True)\n",
    "# profile.to_file(\"full_info.html\")"
   ]
  },
  {
   "cell_type": "code",
   "execution_count": 5,
   "metadata": {},
   "outputs": [],
   "source": [
    "# Запишем в файл информацию о датасете df_train.\n",
    "# profile = pp.ProfileReport(df_train, minimal=True)\n",
    "# profile.to_file(\"train_info.html\")"
   ]
  },
  {
   "cell_type": "code",
   "execution_count": 6,
   "metadata": {},
   "outputs": [],
   "source": [
    "# Запишем в файл информацию о датасете df_test.\n",
    "# profile = pp.ProfileReport(df_test, minimal=True)\n",
    "# profile.to_file(\"test_info.html\")"
   ]
  },
  {
   "cell_type": "markdown",
   "metadata": {},
   "source": [
    "**Выводы**  \n",
    "\n",
    "Во всех трех датасетах содержатся признаки с высокой корреляцией. В датасете df_full, из которого были образованы выборки train и test таких признаков более 20. Между собой коррелируют признаки со сходными названиями параметров, например:\n",
    "- rougher.state.floatbank10_e_air и\n",
    "- rougher.state.floatbank10_f_air.  \n",
    "\n",
    "Можно предположить, что замеры одних и тех же параметров проводились, например, разными датчиками, что в конечном итоге дало сильно коррелирующие (порог > 0.9) между собой признаки. Наличие корреляции может отразиться на качестве обучения, поэтому в дальнейшем мы проведем тест и обучим модель на двух датасетах: исходном, с коррелирующими признаками и очищенным от этих признаков.  \n",
    "\n",
    "В датасете df_full 5 признаков имеют пропуски превышающие 1%:\n",
    "- primary_cleaner.output.concentrate_sol - 1.9%;\n",
    "- rougher.input.floatbank11_xanthate - 2.3%;\n",
    "- rougher.state.floatbank10_e_air - 2.2%;\n",
    "- secondary_cleaner.output.tail_sol - 9.0%;\n",
    "- secondary_cleaner.state.floatbank2_a_air - 1.1%;  \n",
    "\n",
    "Еще несколько десятков признаков имеют пропуски, чей порог не превышает одного процента. Стратегию обработки пропущенных значений мы разработаем позднее.\n",
    "\n",
    "Признаки: \n",
    "- rougher.calculation.sulfate_to_au_concentrate;\n",
    "- rougher.calculation.floatbank10_sulfate_to_au_feed;\n",
    "- rougher.calculation.floatbank11_sulfate_to_au_feed;  \n",
    "\n",
    "были помечены программой как сильно скошенные. Этот факт необходимо будет учесть в дальнейшем процессе подготовки данных к обучению, так как искаженные признаки ухудшают качество обучения.  \n",
    "\n",
    "Также в трейновом датасете наблюдается аномалия с нулевыми значениями сразу для нескольких признаков.  \n",
    "\n",
    "- rougher.output.concentrate_ag has 297 (2.1%)\n",
    "- rougher.output.concentrate_pb has 297 (2.1%)\n",
    "- rougher.output.concentrate_sol has 297 (2.1%)\n",
    "- rougher.output.concentrate_au has 297 (2.1%)\n",
    "\n",
    "- rougher.output.recovery has 297 (2.1%) \n",
    "\n",
    "- secondary_cleaner.output.tail_ag has 739 (5.2%)\n",
    "- secondary_cleaner.output.tail_pb has 739 (5.2%)\n",
    "- secondary_cleaner.output.tail_sol has 739 (5.2%)\n",
    "- secondary_cleaner.output.tail_au has 739 (5.2%)  \n",
    "\n",
    "Судя по равному количеству нулевых значений среди сразу нескольких признаков при записи (или сборе) данных произошел сбой. И данные, скорее всего, некорректны."
   ]
  },
  {
   "cell_type": "markdown",
   "metadata": {},
   "source": [
    "### Проверка эффективности обогащения"
   ]
  },
  {
   "cell_type": "code",
   "execution_count": 7,
   "metadata": {},
   "outputs": [],
   "source": [
    "# Создадим переменные.\n",
    "c = df_train['rougher.output.concentrate_au']\n",
    "f = df_train['rougher.input.feed_au']\n",
    "t = df_train['rougher.output.tail_au']"
   ]
  },
  {
   "cell_type": "code",
   "execution_count": 8,
   "metadata": {},
   "outputs": [],
   "source": [
    "# Расчитаем по формуле recovery.\n",
    "recovery = (c * (f-t)) / (f * (c-t)) * 100"
   ]
  },
  {
   "cell_type": "code",
   "execution_count": 9,
   "metadata": {},
   "outputs": [
    {
     "name": "stdout",
     "output_type": "stream",
     "text": [
      "Значение МАЕ - 9.73512347450521e-15\n"
     ]
    }
   ],
   "source": [
    "# Расчитаем MAE.\n",
    "y_true = df_train['rougher.output.recovery']\n",
    "y_pred = recovery\n",
    "\n",
    "mae = mean_absolute_error(y_true, y_pred)\n",
    "print(f'Значение МАЕ - {mae}')"
   ]
  },
  {
   "cell_type": "markdown",
   "metadata": {},
   "source": [
    "**Выводы**  \n",
    "Значение MAE между расчетами и значением признака составляет 9.73512347450521e-15, т.е. стремиться к нулю, а это означает, что признак эффективности обогащения был рассчитана правильно."
   ]
  },
  {
   "cell_type": "markdown",
   "metadata": {},
   "source": [
    "### Анализ признаков недоступных в тестовой выборке"
   ]
  },
  {
   "cell_type": "code",
   "execution_count": 10,
   "metadata": {},
   "outputs": [
    {
     "data": {
      "text/plain": [
       "['final.output.concentrate_ag',\n",
       " 'final.output.concentrate_pb',\n",
       " 'final.output.concentrate_sol',\n",
       " 'final.output.concentrate_au',\n",
       " 'final.output.recovery',\n",
       " 'final.output.tail_ag',\n",
       " 'final.output.tail_pb',\n",
       " 'final.output.tail_sol',\n",
       " 'final.output.tail_au',\n",
       " 'primary_cleaner.output.concentrate_ag',\n",
       " 'primary_cleaner.output.concentrate_pb',\n",
       " 'primary_cleaner.output.concentrate_sol',\n",
       " 'primary_cleaner.output.concentrate_au',\n",
       " 'primary_cleaner.output.tail_ag',\n",
       " 'primary_cleaner.output.tail_pb',\n",
       " 'primary_cleaner.output.tail_sol',\n",
       " 'primary_cleaner.output.tail_au',\n",
       " 'rougher.calculation.sulfate_to_au_concentrate',\n",
       " 'rougher.calculation.floatbank10_sulfate_to_au_feed',\n",
       " 'rougher.calculation.floatbank11_sulfate_to_au_feed',\n",
       " 'rougher.calculation.au_pb_ratio',\n",
       " 'rougher.output.concentrate_ag',\n",
       " 'rougher.output.concentrate_pb',\n",
       " 'rougher.output.concentrate_sol',\n",
       " 'rougher.output.concentrate_au',\n",
       " 'rougher.output.recovery',\n",
       " 'rougher.output.tail_ag',\n",
       " 'rougher.output.tail_pb',\n",
       " 'rougher.output.tail_sol',\n",
       " 'rougher.output.tail_au',\n",
       " 'secondary_cleaner.output.tail_ag',\n",
       " 'secondary_cleaner.output.tail_pb',\n",
       " 'secondary_cleaner.output.tail_sol',\n",
       " 'secondary_cleaner.output.tail_au']"
      ]
     },
     "execution_count": 10,
     "metadata": {},
     "output_type": "execute_result"
    }
   ],
   "source": [
    "# Отберем признаки, которые не вышли в тестовую выборку.\n",
    "lost_columns = []\n",
    "\n",
    "for column in df_train.columns:\n",
    "    if not column in df_test.columns:\n",
    "        lost_columns.append(column)\n",
    "        \n",
    "lost_columns"
   ]
  },
  {
   "cell_type": "markdown",
   "metadata": {},
   "source": [
    "В тестовую выборку не вошли признаки, связанные с показателями концентрации золота и сопуствующих элементов на каждом из этапов отчистки. А также расчетные (calculation) значения содержания сульфида натрия. Каждый из этих признаков описывает не процесс очистки, а ее результат. Это параметры продукта. Они появляются в процессе производства, а значит не могут быть применены для построения прототипа модели ML. А следовательно будут исключены из тренировочной выборки. В тестовую выборку также не вышли целевые признаки: \n",
    "- 'rougher.output.recovery' и 'final.output.recovery'.  \n",
    "\n",
    "В дальнейшем нам будет необходимо включить таргеты в тестовую выборку. "
   ]
  },
  {
   "cell_type": "markdown",
   "metadata": {},
   "source": [
    "### Предобработка данных"
   ]
  },
  {
   "cell_type": "code",
   "execution_count": 11,
   "metadata": {},
   "outputs": [
    {
     "data": {
      "text/plain": [
       "(14149, 55)"
      ]
     },
     "execution_count": 11,
     "metadata": {},
     "output_type": "execute_result"
    }
   ],
   "source": [
    "# Удалим из df_train признаки, которых нет в df_test.\n",
    "target_list = ['rougher.output.recovery', 'final.output.recovery']\n",
    "\n",
    "for column in lost_columns:\n",
    "    if not column in target_list:\n",
    "        df_train = df_train.drop(column, axis=1)\n",
    "\n",
    "df_train.shape"
   ]
  },
  {
   "cell_type": "code",
   "execution_count": 12,
   "metadata": {},
   "outputs": [
    {
     "data": {
      "text/plain": [
       "((5290, 55), (19439, 87))"
      ]
     },
     "execution_count": 12,
     "metadata": {},
     "output_type": "execute_result"
    }
   ],
   "source": [
    "# Добавим целевые признаки в df_test из df_full\n",
    "df_test.index, df_full.index = df_test['date'], df_full['date']\n",
    "\n",
    "df_test['rougher.output.recovery'] = df_full['rougher.output.recovery'][df_test.index]\n",
    "df_test['final.output.recovery'] = df_full['final.output.recovery'][df_test.index]\n",
    "\n",
    "# Вернем индексы к исходному состоянию.\n",
    "df_test = df_test.drop('date', axis=1).reset_index()\n",
    "df_full = df_full.drop('date', axis=1).reset_index()\n",
    "df_test.shape, df_full.shape"
   ]
  },
  {
   "cell_type": "code",
   "execution_count": 13,
   "metadata": {},
   "outputs": [
    {
     "data": {
      "text/html": [
       "<div>\n",
       "<style scoped>\n",
       "    .dataframe tbody tr th:only-of-type {\n",
       "        vertical-align: middle;\n",
       "    }\n",
       "\n",
       "    .dataframe tbody tr th {\n",
       "        vertical-align: top;\n",
       "    }\n",
       "\n",
       "    .dataframe thead th {\n",
       "        text-align: right;\n",
       "    }\n",
       "</style>\n",
       "<table border=\"1\" class=\"dataframe\">\n",
       "  <thead>\n",
       "    <tr style=\"text-align: right;\">\n",
       "      <th></th>\n",
       "      <th>rougher.output.recovery</th>\n",
       "      <th>final.output.recovery</th>\n",
       "    </tr>\n",
       "  </thead>\n",
       "  <tbody>\n",
       "    <tr>\n",
       "      <th>0</th>\n",
       "      <td>89.993</td>\n",
       "      <td>70.274</td>\n",
       "    </tr>\n",
       "    <tr>\n",
       "      <th>1</th>\n",
       "      <td>88.090</td>\n",
       "      <td>68.910</td>\n",
       "    </tr>\n",
       "    <tr>\n",
       "      <th>2</th>\n",
       "      <td>88.413</td>\n",
       "      <td>68.143</td>\n",
       "    </tr>\n",
       "    <tr>\n",
       "      <th>3</th>\n",
       "      <td>87.360</td>\n",
       "      <td>67.776</td>\n",
       "    </tr>\n",
       "    <tr>\n",
       "      <th>4</th>\n",
       "      <td>83.236</td>\n",
       "      <td>61.467</td>\n",
       "    </tr>\n",
       "    <tr>\n",
       "      <th>...</th>\n",
       "      <td>...</td>\n",
       "      <td>...</td>\n",
       "    </tr>\n",
       "    <tr>\n",
       "      <th>5285</th>\n",
       "      <td>95.173</td>\n",
       "      <td>68.920</td>\n",
       "    </tr>\n",
       "    <tr>\n",
       "      <th>5286</th>\n",
       "      <td>94.575</td>\n",
       "      <td>68.441</td>\n",
       "    </tr>\n",
       "    <tr>\n",
       "      <th>5287</th>\n",
       "      <td>93.018</td>\n",
       "      <td>67.093</td>\n",
       "    </tr>\n",
       "    <tr>\n",
       "      <th>5288</th>\n",
       "      <td>92.599</td>\n",
       "      <td>68.061</td>\n",
       "    </tr>\n",
       "    <tr>\n",
       "      <th>5289</th>\n",
       "      <td>91.178</td>\n",
       "      <td>71.700</td>\n",
       "    </tr>\n",
       "  </tbody>\n",
       "</table>\n",
       "<p>5290 rows × 2 columns</p>\n",
       "</div>"
      ],
      "text/plain": [
       "      rougher.output.recovery  final.output.recovery\n",
       "0                      89.993                 70.274\n",
       "1                      88.090                 68.910\n",
       "2                      88.413                 68.143\n",
       "3                      87.360                 67.776\n",
       "4                      83.236                 61.467\n",
       "...                       ...                    ...\n",
       "5285                   95.173                 68.920\n",
       "5286                   94.575                 68.441\n",
       "5287                   93.018                 67.093\n",
       "5288                   92.599                 68.061\n",
       "5289                   91.178                 71.700\n",
       "\n",
       "[5290 rows x 2 columns]"
      ]
     },
     "execution_count": 13,
     "metadata": {},
     "output_type": "execute_result"
    }
   ],
   "source": [
    "df_test[['rougher.output.recovery','final.output.recovery']]"
   ]
  },
  {
   "cell_type": "markdown",
   "metadata": {},
   "source": [
    "Наибольшее количество пропусков в полном датасете содержал признак: `secondary_cleaner.output.tail_sol`. Он не вошел ни в тестовую, ни в обучающую выборки. Остальные пропуски в этих выборках имеют незначительную долю.  \n",
    "\n",
    "Значения признаков в датасете расположены по времени. Мы используем этот факт, чтобы заполнить их методом `fillna()` c аргументом `method=\"ffill\"`."
   ]
  },
  {
   "cell_type": "code",
   "execution_count": 14,
   "metadata": {},
   "outputs": [],
   "source": [
    "# Заполняем пропуски.\n",
    "df_train = df_train.fillna(method='ffill')\n",
    "df_test = df_test.fillna(method='ffill')"
   ]
  },
  {
   "cell_type": "markdown",
   "metadata": {},
   "source": [
    "### Выводы первого этапа"
   ]
  },
  {
   "cell_type": "markdown",
   "metadata": {},
   "source": [
    "- Мы выяснили, что в обучающей выборке содержаться часть признаков, которых нет в тестовой выборке. Эти признаки были получены в процессе производства, а значит, не годятся для создания прототипа модели. Они были удалены.\n",
    "- Мы выяснили, что в тестовой выборке не хватало целевых признаков и добавили их туда.\n",
    "- Мы выяснили, что mae между фактическим значением признака `rougher.output.recovery` и его расчетным значением имеет значение 9.73512347450521e-15, т.е. что признак эффективности обогащения был рассчитана верно.\n",
    "- Мы заполнили пропуски в тестовой и обучающей выборках методом `fillna()` c аргументом `method=\"ffill\"`.\n",
    "- Мы выяснили, что часть признаков в тестовой и обучающих выборках имеют сильную корреляцию друг с другом, а также то, что часть признаков имееют скошенное распределение."
   ]
  },
  {
   "cell_type": "markdown",
   "metadata": {},
   "source": [
    "## Анализ данных"
   ]
  },
  {
   "cell_type": "markdown",
   "metadata": {},
   "source": [
    "**Задачи второго этапа:**  \n",
    "1. Посмотрить, как меняется концентрация металлов (Au, Ag, Pb) на различных этапах очистки. Описать выводы.\n",
    "2. Сравнить распределения размеров гранул сырья на обучающей и тестовой выборках. Если распределения сильно отличаются друг от друга, оценка модели будет неправильной.\n",
    "3. Исследовать суммарную концентрацию всех веществ на разных стадиях: в сырье, в черновом и финальном концентратах."
   ]
  },
  {
   "cell_type": "markdown",
   "metadata": {},
   "source": [
    "### Анализ изменений концентрации металлов"
   ]
  },
  {
   "cell_type": "code",
   "execution_count": 15,
   "metadata": {},
   "outputs": [],
   "source": [
    "# Создадим переменные.\n",
    "au_phase = [df_full['rougher.output.concentrate_au'], \n",
    "            df_full['primary_cleaner.output.concentrate_au'],\n",
    "            df_full['final.output.concentrate_au']]\n",
    "\n",
    "ag_phase = [df_full['rougher.output.concentrate_ag'], \n",
    "            df_full['primary_cleaner.output.concentrate_ag'],\n",
    "            df_full['final.output.concentrate_ag']]\n",
    "\n",
    "pb_phase = [df_full['rougher.output.concentrate_pb'], \n",
    "            df_full['primary_cleaner.output.concentrate_pb'],\n",
    "            df_full['final.output.concentrate_pb']]\n",
    "\n",
    "au_tail_phase = [df_full['rougher.output.tail_au'], \n",
    "                 df_full['primary_cleaner.output.tail_au'],\n",
    "                 df_full['secondary_cleaner.output.tail_au'],\n",
    "                 df_full['final.output.tail_au']]\n",
    "\n",
    "ag_tail_phase = [df_full['rougher.output.tail_ag'], \n",
    "                 df_full['primary_cleaner.output.tail_ag'],\n",
    "                 df_full['secondary_cleaner.output.tail_ag'],\n",
    "                 df_full['final.output.tail_ag']]\n",
    "\n",
    "pb_tail_phase = [df_full['rougher.output.tail_pb'], \n",
    "                 df_full['primary_cleaner.output.tail_pb'],\n",
    "                 df_full['secondary_cleaner.output.tail_pb'],\n",
    "                 df_full['final.output.tail_pb']]\n",
    "\n",
    "phase_list = ['rougher', 'primary', 'secondary', 'final']\n",
    "metal_list = ['AU', 'AG', 'PB']\n",
    "metal_phase = [au_phase, ag_phase, pb_phase]\n",
    "metal_tail_phase = [au_tail_phase, ag_tail_phase, pb_tail_phase]"
   ]
  },
  {
   "cell_type": "markdown",
   "metadata": {},
   "source": [
    "Создадим функцию, которая расчитывает средние значения концентрации металлов на различных этапах очистки и строит график из этих значений."
   ]
  },
  {
   "cell_type": "code",
   "execution_count": 16,
   "metadata": {},
   "outputs": [],
   "source": [
    "# Функция построения графика.\n",
    "def barplot(data, metal):\n",
    "    x = data['phase']\n",
    "    y = data['concentration']\n",
    "    \n",
    "    sns.barplot(x=x, y=y)\n",
    "    \n",
    "    if len(x) == 3:\n",
    "        plt.title(f'Концентрация <{metal}> на разных стадиях очистки', fontsize=16)\n",
    "    else:\n",
    "        plt.title(f'Концентрация <{metal}> в хвостах разных на стадиях очистки', fontsize=16)\n",
    "\n",
    "    plt.xlabel('Стадии очистки')\n",
    "    plt.ylabel(f'Средняя концентрация металла')\n",
    "    \n",
    "    plt.show()"
   ]
  },
  {
   "cell_type": "code",
   "execution_count": 17,
   "metadata": {},
   "outputs": [],
   "source": [
    "# Функция расчета среднего значения.\n",
    "def concentration(production, phase, metal):\n",
    "    product_mean = []\n",
    "    for product in production:\n",
    "        product_mean.append(product.mean())\n",
    "    phase_copy = phase.copy()\n",
    "    if len(product_mean) != len(phase_copy):\n",
    "        del phase_copy[2]\n",
    "    data = pd.DataFrame({'phase': phase_copy,\n",
    "                        'concentration': product_mean})\n",
    "    barplot(data, metal)"
   ]
  },
  {
   "cell_type": "code",
   "execution_count": 18,
   "metadata": {},
   "outputs": [
    {
     "data": {
      "image/png": "[encoded data removed]",
      "text/plain": [
       "<Figure size 864x648 with 1 Axes>"
      ]
     },
     "metadata": {},
     "output_type": "display_data"
    },
    {
     "data": {
      "image/png": "[encoded data removed]",
      "text/plain": [
       "<Figure size 864x648 with 1 Axes>"
      ]
     },
     "metadata": {},
     "output_type": "display_data"
    },
    {
     "data": {
      "image/png": "[encoded data removed]",
      "text/plain": [
       "<Figure size 864x648 with 1 Axes>"
      ]
     },
     "metadata": {},
     "output_type": "display_data"
    }
   ],
   "source": [
    "# Выведим графики на экран.\n",
    "for phase, metal in zip(metal_phase, metal_list):\n",
    "    concentration(phase, phase_list, metal) "
   ]
  },
  {
   "cell_type": "code",
   "execution_count": 19,
   "metadata": {},
   "outputs": [
    {
     "data": {
      "image/png": "[encoded data removed]",
      "text/plain": [
       "<Figure size 864x648 with 1 Axes>"
      ]
     },
     "metadata": {},
     "output_type": "display_data"
    },
    {
     "data": {
      "image/png": "[encoded data removed]",
      "text/plain": [
       "<Figure size 864x648 with 1 Axes>"
      ]
     },
     "metadata": {},
     "output_type": "display_data"
    },
    {
     "data": {
      "image/png": "[encoded data removed]",
      "text/plain": [
       "<Figure size 864x648 with 1 Axes>"
      ]
     },
     "metadata": {},
     "output_type": "display_data"
    }
   ],
   "source": [
    "# Выведим графики на экран.\n",
    "for phase, metal in zip(metal_tail_phase, metal_list):\n",
    "    concentration(phase, phase_list, metal)"
   ]
  },
  {
   "cell_type": "markdown",
   "metadata": {},
   "source": [
    "**Выводы**  \n",
    "Концентрация золота в сырье на каждой стадии очистки, повышается. В конце его концентрация в два раза превышает ту, что получают после флотации. Концентрация серебра на каждой стадии очистки падает, а концентрация свинца, напротив, растет до финальной стадии.  \n",
    "Интересно выглядит рост концентрации свинца и золота в хвостах после первой очистки. И в особенности, рост концентрации золота и свинца после второй очистки по сравнению с концентрацией после флотации. Подобное поведение может быть свидетельство несовершенства технологического процесса. Ведь по сути, получается, что после очистки не выделенным остается 6.6% золота. "
   ]
  },
  {
   "cell_type": "markdown",
   "metadata": {},
   "source": [
    "### Анализ распределения размеров гранул"
   ]
  },
  {
   "cell_type": "code",
   "execution_count": 20,
   "metadata": {},
   "outputs": [
    {
     "data": {
      "image/png": "[encoded data removed]",
      "text/plain": [
       "<Figure size 864x648 with 2 Axes>"
      ]
     },
     "metadata": {},
     "output_type": "display_data"
    }
   ],
   "source": [
    "# Построим гистограммы признака 'rougher.input.feed_size' из тестовой и обучающей выборок.\n",
    "feed_size = pd.DataFrame({'test': df_test['rougher.input.feed_size'],\n",
    "                         'train': df_train['rougher.input.feed_size']})\n",
    "feed_size.hist(range=[0,200])\n",
    "plt.show()"
   ]
  },
  {
   "cell_type": "markdown",
   "metadata": {},
   "source": [
    "Основные значения признака 'rougher.input.feed_size' на тестовой и обучающей выборках лежат в диапозоне от 0 до 200. Именно он был выбран в качестве масштаба. На этом масштабе, как видно из гистограм, распределения размеров гранул сырья совпадают. А значит, мы избегаем риска неверной оценки модели. "
   ]
  },
  {
   "cell_type": "markdown",
   "metadata": {},
   "source": [
    "### Исследование суммарной концентрации веществ на различных этапах"
   ]
  },
  {
   "cell_type": "code",
   "execution_count": 21,
   "metadata": {},
   "outputs": [],
   "source": [
    "# Для исследования концентрации веществ создадим переменные.\n",
    "rougher_phase = [df_full['rougher.output.concentrate_ag'],\n",
    "                 df_full['rougher.output.concentrate_pb'],\n",
    "                 df_full['rougher.output.concentrate_sol'],\n",
    "                 df_full['rougher.output.concentrate_au']] \n",
    "\n",
    "primary_phase = [df_full['primary_cleaner.output.concentrate_ag'],\n",
    "                 df_full['primary_cleaner.output.concentrate_pb'],\n",
    "                 df_full['primary_cleaner.output.concentrate_sol'],\n",
    "                 df_full['primary_cleaner.output.concentrate_au']]\n",
    "\n",
    "final_phase = [df_full['final.output.concentrate_ag'],\n",
    "               df_full['final.output.concentrate_pb'],\n",
    "               df_full['final.output.concentrate_sol'],\n",
    "               df_full['final.output.concentrate_au']]\n",
    "\n",
    "phase_substance = [rougher_phase,\n",
    "                   primary_phase, \n",
    "                   final_phase]\n",
    "\n",
    "phase_name = ['rougher_phase', \n",
    "              'primary_phase', \n",
    "              'final_phase']"
   ]
  },
  {
   "cell_type": "code",
   "execution_count": 22,
   "metadata": {},
   "outputs": [
    {
     "data": {
      "image/png": "[encoded data removed]",
      "text/plain": [
       "<Figure size 864x648 with 1 Axes>"
      ]
     },
     "metadata": {},
     "output_type": "display_data"
    },
    {
     "data": {
      "image/png": "[encoded data removed]",
      "text/plain": [
       "<Figure size 864x648 with 1 Axes>"
      ]
     },
     "metadata": {},
     "output_type": "display_data"
    },
    {
     "data": {
      "image/png": "[encoded data removed]",
      "text/plain": [
       "<Figure size 864x648 with 1 Axes>"
      ]
     },
     "metadata": {},
     "output_type": "display_data"
    }
   ],
   "source": [
    "# Напишем функцию для построения гистограммы.\n",
    "def hist_plot(phases):\n",
    "    for phase in phases:\n",
    "        sns.histplot(phase)\n",
    "        \n",
    "        plt.title(f'Суммарная концентрация веществ', fontsize=16)\n",
    "        plt.xlabel('Концентрация')\n",
    "        plt.ylabel('Количество')\n",
    "        plt.show()\n",
    "\n",
    "hist_plot(phase_substance)"
   ]
  },
  {
   "cell_type": "markdown",
   "metadata": {},
   "source": [
    "Мы видим, что на каждом этапе производства часть данных показывают нулевую суммарную концетрацию всех веществ. На предыдущем шаге мы узнали, что средняя концентрацию веществ на каждом этапе производства не достигает нуля. Другими словами, во время производства, вероятнее всего, происходил определенный сбой, когда измерения концентрации веществ производились некорректно. Нам неизвестна природа этого сбоя, однако мы не можем утверждать, что он касался только процесса измерения концентрации. Сбой мог вовлиять и на сбор других данных, сделав его некорректным. Чтобы избежать использования некоррестных данных мы удалим те из них, где был зафиксирован сбой, т.е. суммарная концентрация всех веществ была равна нулю."
   ]
  },
  {
   "cell_type": "markdown",
   "metadata": {},
   "source": [
    "Проверим через расчеты, на каких этапах произошел сбой."
   ]
  },
  {
   "cell_type": "code",
   "execution_count": 23,
   "metadata": {},
   "outputs": [
    {
     "name": "stdout",
     "output_type": "stream",
     "text": [
      "Сбой на этапе: <rougher_phase>!\n",
      "Сбой на этапе: <primary_phase>!\n",
      "Сбой на этапе: <final_phase>!\n"
     ]
    }
   ],
   "source": [
    "# Пройдемся по производственным этапам.\n",
    "failure_count = 0 # Создадим счетчик сбоев. \n",
    "\n",
    "for phase, name in zip(phase_substance, phase_name):\n",
    "    # Отфильтруем этапы, на которых суммарная концентрация веществ была равно нулю.\n",
    "    failure = df_full.loc[(phase[0] == 0) &\n",
    "                   (phase[1] == 0) & \n",
    "                   (phase[2] == 0) & \n",
    "                   (phase[3] == 0), 'date'].count()\n",
    "    if  failure != 0:\n",
    "        print(f'Сбой на этапе: <{name}>!')\n",
    "        failure_count += failure\n",
    "    else: \n",
    "        print(f'На этапе <{name}> все хорошо!')"
   ]
  },
  {
   "cell_type": "code",
   "execution_count": 24,
   "metadata": {},
   "outputs": [
    {
     "name": "stdout",
     "output_type": "stream",
     "text": [
      "Всего сбоев: 600 или 3.09% от наблюдений\n"
     ]
    }
   ],
   "source": [
    "# Посчитаем долю сбоев.\n",
    "ratio = failure_count/df_full.shape[0]\n",
    "print(f'Всего сбоев: {failure_count} или {ratio:,.2%} от наблюдений')"
   ]
  },
  {
   "cell_type": "markdown",
   "metadata": {},
   "source": [
    "Сбои могли случаться на разных стадиях производства в одно и тоже время. Поэтому общее количество строк, которое мы удалим может быть меньше 600. 600 - это возможное максимальное количество недостоверных наблюдений, или чуть более 3% от данных. Удаление даже такого количество данных никак не отразиться на корректности дальнейшего исследования."
   ]
  },
  {
   "cell_type": "code",
   "execution_count": 25,
   "metadata": {},
   "outputs": [
    {
     "data": {
      "text/html": [
       "<div>\n",
       "<style scoped>\n",
       "    .dataframe tbody tr th:only-of-type {\n",
       "        vertical-align: middle;\n",
       "    }\n",
       "\n",
       "    .dataframe tbody tr th {\n",
       "        vertical-align: top;\n",
       "    }\n",
       "\n",
       "    .dataframe thead th {\n",
       "        text-align: right;\n",
       "    }\n",
       "</style>\n",
       "<table border=\"1\" class=\"dataframe\">\n",
       "  <thead>\n",
       "    <tr style=\"text-align: right;\">\n",
       "      <th></th>\n",
       "      <th>Параметры</th>\n",
       "      <th>df_full</th>\n",
       "      <th>df_train</th>\n",
       "      <th>df_test</th>\n",
       "    </tr>\n",
       "  </thead>\n",
       "  <tbody>\n",
       "    <tr>\n",
       "      <th>0</th>\n",
       "      <td>Признаки</td>\n",
       "      <td>87</td>\n",
       "      <td>55</td>\n",
       "      <td>55</td>\n",
       "    </tr>\n",
       "    <tr>\n",
       "      <th>1</th>\n",
       "      <td>Объекты</td>\n",
       "      <td>18848</td>\n",
       "      <td>13725</td>\n",
       "      <td>5123</td>\n",
       "    </tr>\n",
       "  </tbody>\n",
       "</table>\n",
       "</div>"
      ],
      "text/plain": [
       "  Параметры  df_full  df_train  df_test\n",
       "0  Признаки       87        55       55\n",
       "1   Объекты    18848     13725     5123"
      ]
     },
     "execution_count": 25,
     "metadata": {},
     "output_type": "execute_result"
    }
   ],
   "source": [
    "# Отфильтруем данные.\n",
    "for phase in phase_substance:\n",
    "    df_full = df_full.loc[(phase[0] != 0) &\n",
    "                          (phase[1] != 0) & \n",
    "                          (phase[2] != 0) & \n",
    "                          (phase[3] != 0)]\n",
    "\n",
    "# Удалим из обучающей и тестовой выборки строки.\n",
    "df_test = df_test.loc[df_test['date'].isin(df_full['date'])]\n",
    "df_train = df_train.loc[df_train['date'].isin(df_full['date'])]\n",
    "\n",
    "# Проверим размерность.\n",
    "shape(df_full, df_train, df_test)"
   ]
  },
  {
   "cell_type": "markdown",
   "metadata": {},
   "source": [
    "Признак 'date' для дальнейших целей нашего исследования нам больше не понадобится, поэтому мы его удалим из обучающей и тестовой выборок."
   ]
  },
  {
   "cell_type": "code",
   "execution_count": 26,
   "metadata": {},
   "outputs": [
    {
     "data": {
      "text/html": [
       "<div>\n",
       "<style scoped>\n",
       "    .dataframe tbody tr th:only-of-type {\n",
       "        vertical-align: middle;\n",
       "    }\n",
       "\n",
       "    .dataframe tbody tr th {\n",
       "        vertical-align: top;\n",
       "    }\n",
       "\n",
       "    .dataframe thead th {\n",
       "        text-align: right;\n",
       "    }\n",
       "</style>\n",
       "<table border=\"1\" class=\"dataframe\">\n",
       "  <thead>\n",
       "    <tr style=\"text-align: right;\">\n",
       "      <th></th>\n",
       "      <th>Параметры</th>\n",
       "      <th>df_full</th>\n",
       "      <th>df_train</th>\n",
       "      <th>df_test</th>\n",
       "    </tr>\n",
       "  </thead>\n",
       "  <tbody>\n",
       "    <tr>\n",
       "      <th>0</th>\n",
       "      <td>Признаки</td>\n",
       "      <td>87</td>\n",
       "      <td>54</td>\n",
       "      <td>54</td>\n",
       "    </tr>\n",
       "    <tr>\n",
       "      <th>1</th>\n",
       "      <td>Объекты</td>\n",
       "      <td>18848</td>\n",
       "      <td>13725</td>\n",
       "      <td>5123</td>\n",
       "    </tr>\n",
       "  </tbody>\n",
       "</table>\n",
       "</div>"
      ],
      "text/plain": [
       "  Параметры  df_full  df_train  df_test\n",
       "0  Признаки       87        54       54\n",
       "1   Объекты    18848     13725     5123"
      ]
     },
     "execution_count": 26,
     "metadata": {},
     "output_type": "execute_result"
    }
   ],
   "source": [
    "# Удаляем признак\n",
    "df_train = df_train.drop('date', axis=1)\n",
    "df_test = df_test.drop('date', axis=1)\n",
    "\n",
    "shape(df_full, df_train, df_test)"
   ]
  },
  {
   "cell_type": "markdown",
   "metadata": {},
   "source": [
    "### Выводы второго этапа"
   ]
  },
  {
   "cell_type": "markdown",
   "metadata": {},
   "source": [
    "1. Мы выяснили, что концентрация золота и свинца в продукте на каждой стадии очистки, повышается, концентрация серебра падает;\n",
    "2. В хвостах концентрация металлов на каждой стадии очистки изменяется разнонарпавлено. На последней стадии падает. При этом золота в хвостах после финальной стадии очистки остается более 6%;\n",
    "3. Распределения размеров гранул сырья на обучающей и тестовой выборках выглядят одинаково, мы избегаем риска неверной оценки модели;\n",
    "4. На всех стадиях производства случаются сбои, которые приводят к появлению данных о нулевой концентрации всех веществ. Мы нашли такие данные, удалили их из тестовой и обучающей выборок. Всего было удалено 591 наблюдейние, что составляет около 3% данных и не отразится на корректности дальнейшего исследования."
   ]
  },
  {
   "cell_type": "markdown",
   "metadata": {},
   "source": [
    "## Модель"
   ]
  },
  {
   "cell_type": "markdown",
   "metadata": {},
   "source": [
    "**Задачи третьего этапа:**  \n",
    "1. Написать функцию для вычисления итоговой sMAPE.\n",
    "2. Обучить разные модели и оценить их качество кросс-валидацией. \n",
    "3. Выбрать лучшую модель и проверьте её на тестовой выборке. \n",
    "4. Описать выводы."
   ]
  },
  {
   "cell_type": "code",
   "execution_count": 27,
   "metadata": {},
   "outputs": [],
   "source": [
    "# Выделим обучающие и целевые признаки.\n",
    "target_train_rougher = df_train['rougher.output.recovery']\n",
    "target_train_final = df_train['final.output.recovery']\n",
    "features_train = df_train.drop(['rougher.output.recovery', 'final.output.recovery'], axis=1)\n",
    "\n",
    "target_test_rougher = df_test['rougher.output.recovery']\n",
    "target_test_final = df_test['final.output.recovery']\n",
    "features_test = df_test.drop(['rougher.output.recovery', 'final.output.recovery'], axis=1)"
   ]
  },
  {
   "cell_type": "code",
   "execution_count": 28,
   "metadata": {},
   "outputs": [],
   "source": [
    "# Проведем масштабирование обучающих признаков\n",
    "scaler = StandardScaler()\n",
    "scaler.fit(features_train)\n",
    "features_train = scaler.transform(features_train)\n",
    "features_test = scaler.transform(features_test)"
   ]
  },
  {
   "cell_type": "code",
   "execution_count": 29,
   "metadata": {},
   "outputs": [
    {
     "data": {
      "text/plain": [
       "((5123, 52), (13725, 52))"
      ]
     },
     "execution_count": 29,
     "metadata": {},
     "output_type": "execute_result"
    }
   ],
   "source": [
    "features_test.shape, features_train.shape"
   ]
  },
  {
   "cell_type": "markdown",
   "metadata": {},
   "source": [
    "### Функция для вычисления итоговой sMAPE"
   ]
  },
  {
   "cell_type": "code",
   "execution_count": 30,
   "metadata": {},
   "outputs": [],
   "source": [
    "def sMAPE_rougher(target, prediction):\n",
    "    target = target.to_numpy()\n",
    "    N = len(target)\n",
    "    sMAPE_rougher = (2*abs(target-prediction)/((abs(target) + abs(prediction)))).sum()/N *100\n",
    "    return sMAPE_rougher\n",
    "    \n",
    "def sMAPE_final(target, prediction):\n",
    "    target = target.to_numpy()\n",
    "    N = len(target)\n",
    "    sMAPE_final = (2*abs(target-prediction)/((abs(target) + abs(prediction)))).sum()/N *100\n",
    "    return sMAPE_final\n",
    "\n",
    "def sMAPE_aggregate(rougher, final):\n",
    "    return rougher * 0.25 + final * 0.75"
   ]
  },
  {
   "cell_type": "code",
   "execution_count": 31,
   "metadata": {},
   "outputs": [
    {
     "name": "stdout",
     "output_type": "stream",
     "text": [
      "sMAPE для константной модели: 7.37\n"
     ]
    }
   ],
   "source": [
    "# Создадим константную модель для определения нижнего порога sMAPE\n",
    "predict_rougher = target_train_rougher.median()\n",
    "predict_final = target_train_final.median()\n",
    "\n",
    "sMAPE_r = sMAPE_rougher(target_test_rougher, predict_rougher)\n",
    "sMAPE_f = sMAPE_final(target_test_final, predict_final)\n",
    "sMAPE = sMAPE_aggregate(sMAPE_r, sMAPE_f)\n",
    "\n",
    "print(f'sMAPE для константной модели: {sMAPE:,.2f}')"
   ]
  },
  {
   "cell_type": "markdown",
   "metadata": {},
   "source": [
    "### Обучение моделей"
   ]
  },
  {
   "cell_type": "markdown",
   "metadata": {},
   "source": [
    "#### RandomForestRegressor"
   ]
  },
  {
   "cell_type": "code",
   "execution_count": 32,
   "metadata": {},
   "outputs": [
    {
     "name": "stdout",
     "output_type": "stream",
     "text": [
      "Fitting 5 folds for each of 16 candidates, totalling 80 fits\n",
      "Лучшие гиперпараметры: {'max_depth': 51, 'min_samples_leaf': 76, 'n_estimators': 200}\n",
      "Лучшее значение sMAPE_rougher: 6.511880644298\n"
     ]
    }
   ],
   "source": [
    "# Создадим модель.\n",
    "model_rfr_rougher = RandomForestRegressor(random_state=42, n_jobs=8)\n",
    "# Создадим метрику качества.\n",
    "score = make_scorer(sMAPE_rougher, greater_is_better=False) \n",
    "\n",
    "# Создадим список параметров.\n",
    "param_grid = {\n",
    "    \"n_estimators\": [200],\n",
    "    \"max_depth\": range(1, 101, 25),\n",
    "    \"min_samples_leaf\": range(1, 101, 25)\n",
    "}\n",
    "\n",
    "# Запустим обучение.\n",
    "gs = GridSearchCV(model_rfr_rougher, \n",
    "                  param_grid, \n",
    "                  scoring=score, \n",
    "                  cv=5,\n",
    "                  n_jobs=8,\n",
    "                  verbose=2)\n",
    "\n",
    "gs.fit(features_train, target_train_rougher)\n",
    "best_r_score = -1 * gs.best_score_\n",
    "# Выведим лучшие показатели гиперпараметров и значение sMAPE_rougher.\n",
    "print(f'Лучшие гиперпараметры: {gs.best_params_}')\n",
    "print(f'Лучшее значение sMAPE_rougher: {best_r_score}')"
   ]
  },
  {
   "cell_type": "code",
   "execution_count": 33,
   "metadata": {},
   "outputs": [
    {
     "name": "stdout",
     "output_type": "stream",
     "text": [
      "Лучшие гиперпараметры: {'max_depth': 76, 'min_samples_leaf': 76, 'n_estimators': 1000}\n",
      "Лучшее значение sMAPE_rougher: 9.088788447631464\n"
     ]
    }
   ],
   "source": [
    "# Создадим модель.\n",
    "model_rfr_final = RandomForestRegressor(random_state=42, n_jobs=-1)\n",
    "# Создадим метрику качества.\n",
    "score = make_scorer(sMAPE_final, greater_is_better=False) \n",
    "\n",
    "# Создадим список параметров.\n",
    "param_grid = {\n",
    "    \"n_estimators\": [1000],\n",
    "    \"max_depth\": range(1, 101, 25),\n",
    "    \"min_samples_leaf\": range(1, 101, 25)\n",
    "}\n",
    "\n",
    "# Запустим обсучение.\n",
    "gs = GridSearchCV(model_rfr_final, \n",
    "                  param_grid, \n",
    "                  scoring=score, \n",
    "                  cv=5,\n",
    "                  n_jobs=-1)\n",
    "\n",
    "gs.fit(features_train, target_train_final)\n",
    "best_f_score = -1 * gs.best_score_\n",
    "# Выведим лучшие показатели гиперпараметров и значение sMAPE_final.\n",
    "print(f'Лучшие гиперпараметры: {gs.best_params_}')\n",
    "print(f'Лучшее значение sMAPE_rougher: {best_f_score}')"
   ]
  },
  {
   "cell_type": "code",
   "execution_count": 34,
   "metadata": {},
   "outputs": [
    {
     "name": "stdout",
     "output_type": "stream",
     "text": [
      "Лучшее значение sMAPE для модели RandomForestRegressor 8.44\n"
     ]
    }
   ],
   "source": [
    "# Посчитаем sMAPE для модели RandomForestRegressor на обучающей выборке.\n",
    "sMAPE = sMAPE_aggregate(best_r_score, best_f_score)\n",
    "print(f'Лучшее значение sMAPE для модели RandomForestRegressor {sMAPE:,.2f}')"
   ]
  },
  {
   "cell_type": "markdown",
   "metadata": {},
   "source": [
    "Обучим модель с полученными гиперпараметрами и получим sMAPE на тестовой выборке."
   ]
  },
  {
   "cell_type": "code",
   "execution_count": 35,
   "metadata": {},
   "outputs": [
    {
     "name": "stdout",
     "output_type": "stream",
     "text": [
      "Лучшее значение sMAPE_rougher: 4.356953880701382\n"
     ]
    }
   ],
   "source": [
    "# Создадим модель.\n",
    "model_rfr_rougher = RandomForestRegressor(random_state=42,\n",
    "                                          n_estimators=200,\n",
    "                                          max_depth=51, \n",
    "                                          min_samples_leaf=76)\n",
    "\n",
    "# Обучим модель.\n",
    "model_rfr_rougher.fit(features_train, target_train_rougher)\n",
    "\n",
    "# Вычислим значения sMAPE на тестовой выборке.\n",
    "predictions_test = model_rfr_rougher.predict(features_test)\n",
    "\n",
    "best_r_score = sMAPE_rougher(target_test_rougher, predictions_test)\n",
    "print(f'Лучшее значение sMAPE_rougher: {best_r_score}')"
   ]
  },
  {
   "cell_type": "code",
   "execution_count": 36,
   "metadata": {},
   "outputs": [
    {
     "name": "stdout",
     "output_type": "stream",
     "text": [
      "[CV] END .max_depth=1, min_samples_leaf=26, n_estimators=200; total time=   5.4s\n",
      "[CV] END .max_depth=1, min_samples_leaf=51, n_estimators=200; total time=   5.4s\n",
      "[CV] END .max_depth=26, min_samples_leaf=1, n_estimators=200; total time=  58.9s\n",
      "[CV] END max_depth=26, min_samples_leaf=51, n_estimators=200; total time=  30.5s\n",
      "[CV] END .max_depth=51, min_samples_leaf=1, n_estimators=200; total time= 1.0min\n",
      "[CV] END max_depth=51, min_samples_leaf=51, n_estimators=200; total time=  30.3s\n",
      "[CV] END max_depth=51, min_samples_leaf=76, n_estimators=200; total time=  28.3s\n",
      "[CV] END max_depth=76, min_samples_leaf=26, n_estimators=200; total time=  37.2s\n",
      "[CV] END max_depth=76, min_samples_leaf=51, n_estimators=200; total time=  29.9s\n",
      "[CV] END max_depth=76, min_samples_leaf=76, n_estimators=200; total time=  16.6s\n",
      "[CV] END ..max_depth=1, min_samples_leaf=1, n_estimators=200; total time=   5.2s\n",
      "[CV] END .max_depth=1, min_samples_leaf=51, n_estimators=200; total time=   5.3s\n",
      "[CV] END .max_depth=26, min_samples_leaf=1, n_estimators=200; total time= 1.0min\n",
      "[CV] END max_depth=26, min_samples_leaf=76, n_estimators=200; total time=  30.1s\n",
      "[CV] END .max_depth=51, min_samples_leaf=1, n_estimators=200; total time=  57.0s\n",
      "[CV] END max_depth=51, min_samples_leaf=51, n_estimators=200; total time=  33.3s\n",
      "[CV] END .max_depth=76, min_samples_leaf=1, n_estimators=200; total time=  58.8s\n",
      "[CV] END max_depth=76, min_samples_leaf=26, n_estimators=200; total time=  36.0s\n",
      "[CV] END max_depth=76, min_samples_leaf=76, n_estimators=200; total time=  16.8s\n",
      "Лучшее значение sMAPE_final: 8.011608736665487\n"
     ]
    }
   ],
   "source": [
    "# Создадим модель.\n",
    "model_rfr_final = RandomForestRegressor(random_state=42,\n",
    "                                          n_estimators=1000,\n",
    "                                          max_depth=26, \n",
    "                                          min_samples_leaf=76)\n",
    "\n",
    "# Обучим модель.\n",
    "model_rfr_final.fit(features_train, target_train_final)\n",
    "\n",
    "# Вычислим значения sMAPE на тестовой выборке.\n",
    "predictions_test = model_rfr_final.predict(features_test)\n",
    "\n",
    "best_f_score = sMAPE_final(target_test_final, predictions_test)\n",
    "print(f'Лучшее значение sMAPE_final: {best_f_score}')"
   ]
  },
  {
   "cell_type": "code",
   "execution_count": 37,
   "metadata": {},
   "outputs": [
    {
     "name": "stdout",
     "output_type": "stream",
     "text": [
      "Лучшее значение sMAPE для модели RandomForestRegressor 7.10\n"
     ]
    }
   ],
   "source": [
    "# Посчитаем sMAPE для модели RandomForestRegressor на тестовой выборке.\n",
    "sMAPE = sMAPE_aggregate(best_r_score, best_f_score)\n",
    "print(f'Лучшее значение sMAPE для модели RandomForestRegressor {sMAPE:,.2f}')"
   ]
  },
  {
   "cell_type": "markdown",
   "metadata": {},
   "source": [
    "#### DecisionTreeRegressor"
   ]
  },
  {
   "cell_type": "code",
   "execution_count": 38,
   "metadata": {},
   "outputs": [
    {
     "name": "stdout",
     "output_type": "stream",
     "text": [
      "Лучшие гиперпараметры: {'max_depth': 1, 'min_samples_leaf': 1, 'min_samples_split': 2}\n",
      "Лучшее значение sMAPE_rougher: 7.998889504644171\n"
     ]
    }
   ],
   "source": [
    "# Создадим модель.\n",
    "model_dtr_rougher = DecisionTreeRegressor(random_state=42)\n",
    "\n",
    "# Создадим метрику качества.\n",
    "score = make_scorer(sMAPE_rougher, greater_is_better=False) \n",
    "\n",
    "# Создадим список параметров.\n",
    "param_grid = {\n",
    "    \"max_depth\": range(1, 100, 10),\n",
    "    \"min_samples_split\": range(2, 50, 5),\n",
    "    \"min_samples_leaf\": range(1, 100, 10)\n",
    "}\n",
    "\n",
    "# Запустим обучение.\n",
    "gs = GridSearchCV(model_dtr_rougher, \n",
    "                  param_grid, \n",
    "                  scoring=score, \n",
    "                  cv=5,\n",
    "                  n_jobs=-1)\n",
    "\n",
    "gs.fit(features_train, target_train_rougher)\n",
    "best_r_score = -1 * gs.best_score_\n",
    "\n",
    "# Выведим лучшие показатели гиперпараметров и значение sMAPE_rougher.\n",
    "print(f'Лучшие гиперпараметры: {gs.best_params_}')\n",
    "print(f'Лучшее значение sMAPE_rougher: {best_r_score}')"
   ]
  },
  {
   "cell_type": "code",
   "execution_count": 39,
   "metadata": {},
   "outputs": [
    {
     "name": "stdout",
     "output_type": "stream",
     "text": [
      "Лучшие гиперпараметры: {'max_depth': 11, 'min_samples_leaf': 91, 'min_samples_split': 2}\n",
      "Лучшее значение sMAPE_rougher: 7.998889504644171\n"
     ]
    }
   ],
   "source": [
    "# Создадим модель.\n",
    "model_dtr_final = DecisionTreeRegressor(random_state=42)\n",
    "\n",
    "# Создадим метрику качества.\n",
    "score = make_scorer(sMAPE_final, greater_is_better=False) \n",
    "\n",
    "# Создадим список параметров.\n",
    "param_grid = {\n",
    "    \"max_depth\": range(1, 100, 10),\n",
    "    \"min_samples_split\": range(2, 50, 10),\n",
    "    \"min_samples_leaf\": range(1, 100, 10)\n",
    "}\n",
    "\n",
    "# Запустим обучение.\n",
    "gs = GridSearchCV(model_dtr_final, \n",
    "                  param_grid, \n",
    "                  scoring=score, \n",
    "                  cv=5,\n",
    "                  n_jobs=-1)\n",
    "\n",
    "gs.fit(features_train, target_train_final)\n",
    "best_f_score = -1 * gs.best_score_\n",
    "\n",
    "# Выведим лучшие показатели гиперпараметров и значение sMAPE_rougher.\n",
    "print(f'Лучшие гиперпараметры: {gs.best_params_}')\n",
    "print(f'Лучшее значение sMAPE_rougher: {best_r_score}')"
   ]
  },
  {
   "cell_type": "code",
   "execution_count": 40,
   "metadata": {},
   "outputs": [
    {
     "name": "stdout",
     "output_type": "stream",
     "text": [
      "Лучшее значение sMAPE для модели DecisionTreeRegressor 9.23\n"
     ]
    }
   ],
   "source": [
    "# Посчитаем sMAPE для модели RandomForestRegressor на обучающей выборке.\n",
    "sMAPE = sMAPE_aggregate(best_r_score, best_f_score)\n",
    "print(f'Лучшее значение sMAPE для модели DecisionTreeRegressor {sMAPE:,.2f}')"
   ]
  },
  {
   "cell_type": "markdown",
   "metadata": {},
   "source": [
    "Обучим модель с полученными гиперпараметрами."
   ]
  },
  {
   "cell_type": "code",
   "execution_count": 41,
   "metadata": {},
   "outputs": [
    {
     "name": "stdout",
     "output_type": "stream",
     "text": [
      "Лучшее значение sMAPE_rougher: 5.094264530722137\n"
     ]
    }
   ],
   "source": [
    "# Создадим модель.\n",
    "model_dtr_rougher = DecisionTreeRegressor(random_state=42,\n",
    "                                          max_depth=1,\n",
    "                                          min_samples_leaf=1, \n",
    "                                          min_samples_split=2)\n",
    "\n",
    "# Обучим модель.\n",
    "model_dtr_rougher.fit(features_train, target_train_rougher)\n",
    "\n",
    "# Вычислим значения sMAPE на тестовой выборке.\n",
    "predictions_test = model_dtr_rougher.predict(features_test)\n",
    "\n",
    "best_r_score = sMAPE_rougher(target_test_rougher, predictions_test)\n",
    "print(f'Лучшее значение sMAPE_rougher: {best_r_score}')"
   ]
  },
  {
   "cell_type": "code",
   "execution_count": 42,
   "metadata": {},
   "outputs": [
    {
     "name": "stdout",
     "output_type": "stream",
     "text": [
      "Лучшее значение sMAPE_final: 8.955863573569646\n"
     ]
    }
   ],
   "source": [
    "# Создадим модель.\n",
    "model_dtr_final = DecisionTreeRegressor(random_state=42,\n",
    "                                          max_depth=11,\n",
    "                                          min_samples_leaf=91, \n",
    "                                          min_samples_split=2)\n",
    "\n",
    "# Обучим модель.\n",
    "#model_dtr_final.fit(features_train, target_train_rougher)  # ВОТ ТУТ ОПИСКА Скорректирую уже сам:\n",
    "model_dtr_final.fit(features_train, target_train_final)\n",
    "\n",
    "# Вычислим значения sMAPE на тестовой выборке.\n",
    "predictions_test = model_dtr_final.predict(features_test)\n",
    "\n",
    "best_f_score = sMAPE_rougher(target_test_final, predictions_test)\n",
    "print(f'Лучшее значение sMAPE_final: {best_f_score}')"
   ]
  },
  {
   "cell_type": "code",
   "execution_count": 43,
   "metadata": {},
   "outputs": [
    {
     "name": "stdout",
     "output_type": "stream",
     "text": [
      "Лучшее значение sMAPE для модели DecisionTreeRegressor 7.99\n"
     ]
    }
   ],
   "source": [
    "# Посчитаем sMAPE для модели RandomForestRegressor на тестовой выборке.\n",
    "sMAPE = sMAPE_aggregate(best_r_score, best_f_score)\n",
    "print(f'Лучшее значение sMAPE для модели DecisionTreeRegressor {sMAPE:,.2f}')"
   ]
  },
  {
   "cell_type": "markdown",
   "metadata": {},
   "source": [
    "#### LinearRegression"
   ]
  },
  {
   "cell_type": "code",
   "execution_count": 44,
   "metadata": {},
   "outputs": [
    {
     "name": "stdout",
     "output_type": "stream",
     "text": [
      "Оценки модели: [-9.64639848 -7.20258456 -5.57674694 -4.86839332 -9.03435694]\n",
      "Лучшая оценка: 4.8683933207065735\n"
     ]
    }
   ],
   "source": [
    "# Создадим модель LinearRegression.\n",
    "model_lr_rougher = LinearRegression()\n",
    "\n",
    "# Создадим целевую метрику.\n",
    "score = make_scorer(sMAPE_rougher, greater_is_better=False)\n",
    "\n",
    "# Проведем обучение с валидацией.\n",
    "scores = cross_val_score(model_lr_rougher, features_train, target_train_rougher, scoring=score, cv=5)\n",
    "\n",
    "scores = -1 * scores\n",
    "best_r_score = scores.min()\n",
    "\n",
    "print('Оценки модели:', -1 * scores)\n",
    "print('Лучшая оценка:', best_r_score)"
   ]
  },
  {
   "cell_type": "code",
   "execution_count": 45,
   "metadata": {},
   "outputs": [
    {
     "name": "stdout",
     "output_type": "stream",
     "text": [
      "Оценки модели: [-13.40101442  -9.72494889  -9.26519869  -9.08363603 -13.27786447]\n",
      "Лучшая оценка: 9.083636031879418\n"
     ]
    }
   ],
   "source": [
    "# Создадим модель LinearRegression.\n",
    "model_lr_final = LinearRegression()\n",
    "\n",
    "# Создадим целевую метрику.\n",
    "score = make_scorer(sMAPE_final, greater_is_better=False)\n",
    "\n",
    "# Проведем обучение с валидацией.\n",
    "scores = cross_val_score(model_lr_final, features_train, target_train_final, scoring=score, cv=5)\n",
    "\n",
    "scores = -1 * scores\n",
    "best_f_score = scores.min()\n",
    "\n",
    "print('Оценки модели:', -1 * scores)\n",
    "print('Лучшая оценка:', best_f_score)"
   ]
  },
  {
   "cell_type": "code",
   "execution_count": 46,
   "metadata": {},
   "outputs": [
    {
     "name": "stdout",
     "output_type": "stream",
     "text": [
      "Лучшее значение sMAPE для модели LinearRegression 8.03\n"
     ]
    }
   ],
   "source": [
    "# Посчитаем sMAPE для модели LinearRegression на обучающей выборке.\n",
    "sMAPE = sMAPE_aggregate(best_r_score, best_f_score)\n",
    "print(f'Лучшее значение sMAPE для модели LinearRegression {sMAPE:,.2f}')"
   ]
  },
  {
   "cell_type": "code",
   "execution_count": 47,
   "metadata": {},
   "outputs": [
    {
     "name": "stdout",
     "output_type": "stream",
     "text": [
      "Лучшее значение sMAPE для модели LinearRegression 7.32\n"
     ]
    }
   ],
   "source": [
    "# Посчитаем sMAPE для модели LinearRegression на тестовой выборке.\n",
    "model_lr_rougher = LinearRegression()\n",
    "model_lr_final = LinearRegression()\n",
    "\n",
    "# Обучим модель.\n",
    "model_lr_rougher.fit(features_train, target_train_rougher)\n",
    "model_lr_final.fit(features_train, target_train_final)\n",
    "\n",
    "# Посчитаем sMAPE_rougher\n",
    "predictions_rougher = model_lr_rougher.predict(features_test)\n",
    "best_r_score = sMAPE_rougher(target_test_rougher, predictions_rougher)\n",
    "\n",
    "# Посчитаем sMAPE_final\n",
    "predictions_final = model_lr_final.predict(features_test)\n",
    "best_f_score = sMAPE_final(target_test_final, predictions_final)\n",
    "\n",
    "# Посчитаем итоговую sMAPE\n",
    "sMAPE = sMAPE_aggregate(best_r_score, best_f_score)\n",
    "print(f'Лучшее значение sMAPE для модели LinearRegression {sMAPE:,.2f}')"
   ]
  },
  {
   "cell_type": "code",
   "execution_count": 48,
   "metadata": {},
   "outputs": [
    {
     "data": {
      "text/plain": [
       "(array([89.0734606 , 89.17384437, 89.29216184, ..., 92.71648741,\n",
       "        93.62693269, 92.38684618]),\n",
       " array([73.28432388, 72.90685836, 73.17992275, ..., 74.63536545,\n",
       "        75.85123203, 75.16439185]))"
      ]
     },
     "execution_count": 48,
     "metadata": {},
     "output_type": "execute_result"
    }
   ],
   "source": [
    "predictions_rougher, predictions_final"
   ]
  },
  {
   "cell_type": "markdown",
   "metadata": {},
   "source": [
    "#### CatBoost"
   ]
  },
  {
   "cell_type": "code",
   "execution_count": 49,
   "metadata": {},
   "outputs": [
    {
     "name": "stdout",
     "output_type": "stream",
     "text": [
      "Learning rate set to 0.061931\n",
      "0:\tlearn: 7.7502331\ttotal: 48.6ms\tremaining: 48.5s\n",
      "1:\tlearn: 7.5207634\ttotal: 51.8ms\tremaining: 25.8s\n",
      "2:\tlearn: 7.3192855\ttotal: 54.5ms\tremaining: 18.1s\n",
      "3:\tlearn: 7.1327551\ttotal: 57.3ms\tremaining: 14.3s\n",
      "4:\tlearn: 6.9661907\ttotal: 60.1ms\tremaining: 12s\n",
      "5:\tlearn: 6.8089502\ttotal: 63.6ms\tremaining: 10.5s\n",
      "6:\tlearn: 6.6745426\ttotal: 66.2ms\tremaining: 9.4s\n",
      "7:\tlearn: 6.5298543\ttotal: 68.9ms\tremaining: 8.54s\n",
      "8:\tlearn: 6.4017669\ttotal: 71.4ms\tremaining: 7.87s\n",
      "9:\tlearn: 6.2944844\ttotal: 74.1ms\tremaining: 7.34s\n",
      "10:\tlearn: 6.1827580\ttotal: 76.7ms\tremaining: 6.89s\n",
      "11:\tlearn: 6.0788451\ttotal: 79.5ms\tremaining: 6.55s\n",
      "12:\tlearn: 5.9808909\ttotal: 83.4ms\tremaining: 6.33s\n",
      "13:\tlearn: 5.8916349\ttotal: 87.6ms\tremaining: 6.17s\n",
      "14:\tlearn: 5.8179647\ttotal: 91.1ms\tremaining: 5.98s\n",
      "15:\tlearn: 5.7431800\ttotal: 94.1ms\tremaining: 5.79s\n",
      "16:\tlearn: 5.6745339\ttotal: 97.8ms\tremaining: 5.66s\n",
      "17:\tlearn: 5.6032402\ttotal: 101ms\tremaining: 5.52s\n",
      "18:\tlearn: 5.5408033\ttotal: 105ms\tremaining: 5.39s\n",
      "19:\tlearn: 5.4841217\ttotal: 108ms\tremaining: 5.27s\n",
      "20:\tlearn: 5.4282956\ttotal: 111ms\tremaining: 5.15s\n",
      "21:\tlearn: 5.3750661\ttotal: 114ms\tremaining: 5.05s\n",
      "22:\tlearn: 5.3272687\ttotal: 117ms\tremaining: 4.99s\n",
      "23:\tlearn: 5.2825582\ttotal: 120ms\tremaining: 4.9s\n",
      "24:\tlearn: 5.2387547\ttotal: 124ms\tremaining: 4.85s\n",
      "25:\tlearn: 5.1963999\ttotal: 128ms\tremaining: 4.78s\n",
      "26:\tlearn: 5.1607241\ttotal: 131ms\tremaining: 4.73s\n",
      "27:\tlearn: 5.1247160\ttotal: 134ms\tremaining: 4.66s\n",
      "28:\tlearn: 5.0960657\ttotal: 137ms\tremaining: 4.59s\n",
      "29:\tlearn: 5.0538305\ttotal: 140ms\tremaining: 4.53s\n",
      "30:\tlearn: 5.0238242\ttotal: 143ms\tremaining: 4.46s\n",
      "31:\tlearn: 4.9951052\ttotal: 145ms\tremaining: 4.4s\n",
      "32:\tlearn: 4.9637854\ttotal: 149ms\tremaining: 4.36s\n",
      "33:\tlearn: 4.9387556\ttotal: 151ms\tremaining: 4.3s\n",
      "34:\tlearn: 4.9147945\ttotal: 154ms\tremaining: 4.25s\n",
      "35:\tlearn: 4.8865529\ttotal: 157ms\tremaining: 4.19s\n",
      "36:\tlearn: 4.8651788\ttotal: 160ms\tremaining: 4.16s\n",
      "37:\tlearn: 4.8417988\ttotal: 163ms\tremaining: 4.12s\n",
      "38:\tlearn: 4.8211566\ttotal: 165ms\tremaining: 4.08s\n",
      "39:\tlearn: 4.8013946\ttotal: 169ms\tremaining: 4.05s\n",
      "40:\tlearn: 4.7800115\ttotal: 171ms\tremaining: 4.01s\n",
      "41:\tlearn: 4.7544244\ttotal: 174ms\tremaining: 3.97s\n",
      "42:\tlearn: 4.7328358\ttotal: 177ms\tremaining: 3.94s\n",
      "43:\tlearn: 4.7165223\ttotal: 180ms\tremaining: 3.92s\n",
      "44:\tlearn: 4.7016590\ttotal: 183ms\tremaining: 3.89s\n",
      "45:\tlearn: 4.6790112\ttotal: 186ms\tremaining: 3.86s\n",
      "46:\tlearn: 4.6590003\ttotal: 189ms\tremaining: 3.83s\n",
      "47:\tlearn: 4.6400178\ttotal: 192ms\tremaining: 3.81s\n",
      "48:\tlearn: 4.6218021\ttotal: 197ms\tremaining: 3.82s\n",
      "49:\tlearn: 4.6082167\ttotal: 199ms\tremaining: 3.79s\n",
      "50:\tlearn: 4.5907930\ttotal: 202ms\tremaining: 3.76s\n",
      "51:\tlearn: 4.5771414\ttotal: 205ms\tremaining: 3.73s\n",
      "52:\tlearn: 4.5650876\ttotal: 207ms\tremaining: 3.7s\n",
      "53:\tlearn: 4.5448431\ttotal: 210ms\tremaining: 3.68s\n",
      "54:\tlearn: 4.5364856\ttotal: 213ms\tremaining: 3.66s\n",
      "55:\tlearn: 4.5268028\ttotal: 216ms\tremaining: 3.64s\n",
      "56:\tlearn: 4.5127046\ttotal: 218ms\tremaining: 3.61s\n",
      "57:\tlearn: 4.4969655\ttotal: 221ms\tremaining: 3.59s\n",
      "58:\tlearn: 4.4814225\ttotal: 225ms\tremaining: 3.58s\n",
      "59:\tlearn: 4.4654011\ttotal: 228ms\tremaining: 3.57s\n",
      "60:\tlearn: 4.4568449\ttotal: 230ms\tremaining: 3.55s\n",
      "61:\tlearn: 4.4429140\ttotal: 233ms\tremaining: 3.52s\n",
      "62:\tlearn: 4.4318776\ttotal: 236ms\tremaining: 3.51s\n",
      "63:\tlearn: 4.4213824\ttotal: 238ms\tremaining: 3.48s\n",
      "64:\tlearn: 4.4073250\ttotal: 241ms\tremaining: 3.47s\n",
      "65:\tlearn: 4.3926814\ttotal: 245ms\tremaining: 3.47s\n",
      "66:\tlearn: 4.3797247\ttotal: 248ms\tremaining: 3.45s\n",
      "67:\tlearn: 4.3692343\ttotal: 250ms\tremaining: 3.43s\n",
      "68:\tlearn: 4.3609536\ttotal: 253ms\tremaining: 3.41s\n",
      "69:\tlearn: 4.3496068\ttotal: 256ms\tremaining: 3.4s\n",
      "70:\tlearn: 4.3333240\ttotal: 259ms\tremaining: 3.38s\n",
      "71:\tlearn: 4.3229617\ttotal: 261ms\tremaining: 3.37s\n",
      "72:\tlearn: 4.3152524\ttotal: 264ms\tremaining: 3.35s\n",
      "73:\tlearn: 4.3054555\ttotal: 267ms\tremaining: 3.34s\n",
      "74:\tlearn: 4.2958540\ttotal: 269ms\tremaining: 3.32s\n",
      "75:\tlearn: 4.2853739\ttotal: 273ms\tremaining: 3.32s\n",
      "76:\tlearn: 4.2735401\ttotal: 277ms\tremaining: 3.31s\n",
      "77:\tlearn: 4.2615472\ttotal: 279ms\tremaining: 3.3s\n",
      "78:\tlearn: 4.2487546\ttotal: 282ms\tremaining: 3.29s\n",
      "79:\tlearn: 4.2353170\ttotal: 286ms\tremaining: 3.28s\n",
      "80:\tlearn: 4.2270920\ttotal: 291ms\tremaining: 3.3s\n",
      "81:\tlearn: 4.2181237\ttotal: 294ms\tremaining: 3.29s\n",
      "82:\tlearn: 4.2093052\ttotal: 296ms\tremaining: 3.27s\n",
      "83:\tlearn: 4.1986592\ttotal: 299ms\tremaining: 3.26s\n",
      "84:\tlearn: 4.1865897\ttotal: 302ms\tremaining: 3.25s\n",
      "85:\tlearn: 4.1768144\ttotal: 305ms\tremaining: 3.24s\n",
      "86:\tlearn: 4.1692023\ttotal: 308ms\tremaining: 3.23s\n",
      "87:\tlearn: 4.1599539\ttotal: 311ms\tremaining: 3.22s\n",
      "88:\tlearn: 4.1478456\ttotal: 313ms\tremaining: 3.21s\n",
      "89:\tlearn: 4.1362547\ttotal: 316ms\tremaining: 3.19s\n",
      "90:\tlearn: 4.1279601\ttotal: 320ms\tremaining: 3.19s\n",
      "91:\tlearn: 4.1179888\ttotal: 323ms\tremaining: 3.19s\n",
      "92:\tlearn: 4.1097024\ttotal: 326ms\tremaining: 3.18s\n",
      "93:\tlearn: 4.1029168\ttotal: 328ms\tremaining: 3.16s\n",
      "94:\tlearn: 4.0929866\ttotal: 331ms\tremaining: 3.15s\n",
      "95:\tlearn: 4.0815773\ttotal: 334ms\tremaining: 3.14s\n",
      "96:\tlearn: 4.0719526\ttotal: 336ms\tremaining: 3.13s\n",
      "97:\tlearn: 4.0613286\ttotal: 339ms\tremaining: 3.12s\n",
      "98:\tlearn: 4.0560365\ttotal: 342ms\tremaining: 3.11s\n",
      "99:\tlearn: 4.0449647\ttotal: 345ms\tremaining: 3.1s\n",
      "100:\tlearn: 4.0363318\ttotal: 347ms\tremaining: 3.09s\n",
      "101:\tlearn: 4.0292836\ttotal: 350ms\tremaining: 3.08s\n",
      "102:\tlearn: 4.0229766\ttotal: 353ms\tremaining: 3.07s\n",
      "103:\tlearn: 4.0127387\ttotal: 356ms\tremaining: 3.06s\n",
      "104:\tlearn: 4.0059687\ttotal: 358ms\tremaining: 3.06s\n",
      "105:\tlearn: 4.0002317\ttotal: 361ms\tremaining: 3.04s\n",
      "106:\tlearn: 3.9930424\ttotal: 364ms\tremaining: 3.04s\n",
      "107:\tlearn: 3.9881673\ttotal: 366ms\tremaining: 3.02s\n",
      "108:\tlearn: 3.9782589\ttotal: 369ms\tremaining: 3.02s\n",
      "109:\tlearn: 3.9734867\ttotal: 372ms\tremaining: 3.01s\n",
      "110:\tlearn: 3.9664082\ttotal: 375ms\tremaining: 3s\n",
      "111:\tlearn: 3.9590348\ttotal: 377ms\tremaining: 2.99s\n",
      "112:\tlearn: 3.9476374\ttotal: 380ms\tremaining: 2.98s\n",
      "113:\tlearn: 3.9416170\ttotal: 383ms\tremaining: 2.97s\n",
      "114:\tlearn: 3.9331944\ttotal: 386ms\tremaining: 2.97s\n",
      "115:\tlearn: 3.9246059\ttotal: 389ms\tremaining: 2.96s\n",
      "116:\tlearn: 3.9192848\ttotal: 391ms\tremaining: 2.95s\n",
      "117:\tlearn: 3.9135430\ttotal: 394ms\tremaining: 2.94s\n",
      "118:\tlearn: 3.9079585\ttotal: 397ms\tremaining: 2.94s\n",
      "119:\tlearn: 3.9007842\ttotal: 399ms\tremaining: 2.93s\n",
      "120:\tlearn: 3.8952951\ttotal: 402ms\tremaining: 2.92s\n",
      "121:\tlearn: 3.8902935\ttotal: 405ms\tremaining: 2.91s\n",
      "122:\tlearn: 3.8841967\ttotal: 408ms\tremaining: 2.9s\n",
      "123:\tlearn: 3.8780659\ttotal: 410ms\tremaining: 2.9s\n",
      "124:\tlearn: 3.8729680\ttotal: 413ms\tremaining: 2.89s\n",
      "125:\tlearn: 3.8669015\ttotal: 416ms\tremaining: 2.89s\n",
      "126:\tlearn: 3.8604882\ttotal: 419ms\tremaining: 2.88s\n",
      "127:\tlearn: 3.8523991\ttotal: 422ms\tremaining: 2.87s\n",
      "128:\tlearn: 3.8476959\ttotal: 424ms\tremaining: 2.87s\n",
      "129:\tlearn: 3.8413317\ttotal: 427ms\tremaining: 2.86s\n",
      "130:\tlearn: 3.8367718\ttotal: 430ms\tremaining: 2.85s\n",
      "131:\tlearn: 3.8284756\ttotal: 433ms\tremaining: 2.85s\n",
      "132:\tlearn: 3.8214201\ttotal: 436ms\tremaining: 2.84s\n",
      "133:\tlearn: 3.8161798\ttotal: 439ms\tremaining: 2.83s\n",
      "134:\tlearn: 3.8109907\ttotal: 441ms\tremaining: 2.83s\n",
      "135:\tlearn: 3.8053271\ttotal: 444ms\tremaining: 2.82s\n",
      "136:\tlearn: 3.8003391\ttotal: 447ms\tremaining: 2.82s\n",
      "137:\tlearn: 3.7942117\ttotal: 450ms\tremaining: 2.81s\n",
      "138:\tlearn: 3.7868767\ttotal: 453ms\tremaining: 2.8s\n",
      "139:\tlearn: 3.7804018\ttotal: 455ms\tremaining: 2.8s\n",
      "140:\tlearn: 3.7755403\ttotal: 458ms\tremaining: 2.79s\n",
      "141:\tlearn: 3.7682333\ttotal: 461ms\tremaining: 2.78s\n",
      "142:\tlearn: 3.7622249\ttotal: 463ms\tremaining: 2.77s\n",
      "143:\tlearn: 3.7540937\ttotal: 466ms\tremaining: 2.77s\n",
      "144:\tlearn: 3.7488532\ttotal: 470ms\tremaining: 2.77s\n",
      "145:\tlearn: 3.7428588\ttotal: 472ms\tremaining: 2.76s\n",
      "146:\tlearn: 3.7342714\ttotal: 475ms\tremaining: 2.75s\n",
      "147:\tlearn: 3.7267573\ttotal: 477ms\tremaining: 2.75s\n",
      "148:\tlearn: 3.7203099\ttotal: 481ms\tremaining: 2.75s\n",
      "149:\tlearn: 3.7136343\ttotal: 484ms\tremaining: 2.74s\n",
      "150:\tlearn: 3.7068365\ttotal: 486ms\tremaining: 2.73s\n",
      "151:\tlearn: 3.7018560\ttotal: 489ms\tremaining: 2.73s\n",
      "152:\tlearn: 3.6953964\ttotal: 492ms\tremaining: 2.72s\n",
      "153:\tlearn: 3.6878627\ttotal: 494ms\tremaining: 2.71s\n",
      "154:\tlearn: 3.6827952\ttotal: 497ms\tremaining: 2.71s\n",
      "155:\tlearn: 3.6787689\ttotal: 500ms\tremaining: 2.7s\n",
      "156:\tlearn: 3.6732686\ttotal: 502ms\tremaining: 2.7s\n",
      "157:\tlearn: 3.6685547\ttotal: 505ms\tremaining: 2.69s\n",
      "158:\tlearn: 3.6619130\ttotal: 508ms\tremaining: 2.68s\n",
      "159:\tlearn: 3.6565974\ttotal: 510ms\tremaining: 2.68s\n"
     ]
    },
    {
     "name": "stdout",
     "output_type": "stream",
     "text": [
      "160:\tlearn: 3.6526037\ttotal: 513ms\tremaining: 2.67s\n",
      "161:\tlearn: 3.6471232\ttotal: 517ms\tremaining: 2.67s\n",
      "162:\tlearn: 3.6411549\ttotal: 519ms\tremaining: 2.67s\n",
      "163:\tlearn: 3.6357911\ttotal: 522ms\tremaining: 2.66s\n",
      "164:\tlearn: 3.6293439\ttotal: 525ms\tremaining: 2.66s\n",
      "165:\tlearn: 3.6227522\ttotal: 528ms\tremaining: 2.65s\n",
      "166:\tlearn: 3.6176892\ttotal: 532ms\tremaining: 2.65s\n",
      "167:\tlearn: 3.6112536\ttotal: 535ms\tremaining: 2.65s\n",
      "168:\tlearn: 3.6079201\ttotal: 537ms\tremaining: 2.64s\n",
      "169:\tlearn: 3.6020449\ttotal: 540ms\tremaining: 2.64s\n",
      "170:\tlearn: 3.5960773\ttotal: 543ms\tremaining: 2.63s\n",
      "171:\tlearn: 3.5904412\ttotal: 547ms\tremaining: 2.63s\n",
      "172:\tlearn: 3.5858633\ttotal: 550ms\tremaining: 2.63s\n",
      "173:\tlearn: 3.5809901\ttotal: 553ms\tremaining: 2.62s\n",
      "174:\tlearn: 3.5755261\ttotal: 556ms\tremaining: 2.62s\n",
      "175:\tlearn: 3.5697665\ttotal: 558ms\tremaining: 2.61s\n",
      "176:\tlearn: 3.5643592\ttotal: 561ms\tremaining: 2.61s\n",
      "177:\tlearn: 3.5601568\ttotal: 565ms\tremaining: 2.61s\n",
      "178:\tlearn: 3.5542400\ttotal: 568ms\tremaining: 2.61s\n",
      "179:\tlearn: 3.5473480\ttotal: 571ms\tremaining: 2.6s\n",
      "180:\tlearn: 3.5428974\ttotal: 574ms\tremaining: 2.6s\n",
      "181:\tlearn: 3.5377374\ttotal: 577ms\tremaining: 2.59s\n",
      "182:\tlearn: 3.5316933\ttotal: 581ms\tremaining: 2.59s\n",
      "183:\tlearn: 3.5278692\ttotal: 584ms\tremaining: 2.59s\n",
      "184:\tlearn: 3.5225217\ttotal: 587ms\tremaining: 2.58s\n",
      "185:\tlearn: 3.5181422\ttotal: 590ms\tremaining: 2.58s\n",
      "186:\tlearn: 3.5128251\ttotal: 593ms\tremaining: 2.58s\n",
      "187:\tlearn: 3.5053174\ttotal: 596ms\tremaining: 2.57s\n",
      "188:\tlearn: 3.5020869\ttotal: 599ms\tremaining: 2.57s\n",
      "189:\tlearn: 3.4966795\ttotal: 602ms\tremaining: 2.56s\n",
      "190:\tlearn: 3.4914581\ttotal: 605ms\tremaining: 2.56s\n",
      "191:\tlearn: 3.4843445\ttotal: 608ms\tremaining: 2.56s\n",
      "192:\tlearn: 3.4801405\ttotal: 611ms\tremaining: 2.56s\n",
      "193:\tlearn: 3.4751212\ttotal: 614ms\tremaining: 2.55s\n",
      "194:\tlearn: 3.4708462\ttotal: 617ms\tremaining: 2.55s\n",
      "195:\tlearn: 3.4661817\ttotal: 620ms\tremaining: 2.54s\n",
      "196:\tlearn: 3.4599944\ttotal: 623ms\tremaining: 2.54s\n",
      "197:\tlearn: 3.4559137\ttotal: 625ms\tremaining: 2.53s\n",
      "198:\tlearn: 3.4531497\ttotal: 629ms\tremaining: 2.53s\n",
      "199:\tlearn: 3.4485332\ttotal: 632ms\tremaining: 2.53s\n",
      "200:\tlearn: 3.4442570\ttotal: 635ms\tremaining: 2.52s\n",
      "201:\tlearn: 3.4387589\ttotal: 637ms\tremaining: 2.52s\n",
      "202:\tlearn: 3.4338835\ttotal: 641ms\tremaining: 2.52s\n",
      "203:\tlearn: 3.4300619\ttotal: 644ms\tremaining: 2.51s\n",
      "204:\tlearn: 3.4238308\ttotal: 647ms\tremaining: 2.51s\n",
      "205:\tlearn: 3.4206822\ttotal: 649ms\tremaining: 2.5s\n",
      "206:\tlearn: 3.4166097\ttotal: 652ms\tremaining: 2.5s\n",
      "207:\tlearn: 3.4115532\ttotal: 656ms\tremaining: 2.5s\n",
      "208:\tlearn: 3.4064962\ttotal: 659ms\tremaining: 2.49s\n",
      "209:\tlearn: 3.4026807\ttotal: 662ms\tremaining: 2.49s\n",
      "210:\tlearn: 3.3962317\ttotal: 665ms\tremaining: 2.48s\n",
      "211:\tlearn: 3.3929541\ttotal: 668ms\tremaining: 2.48s\n",
      "212:\tlearn: 3.3882271\ttotal: 671ms\tremaining: 2.48s\n",
      "213:\tlearn: 3.3839387\ttotal: 673ms\tremaining: 2.47s\n",
      "214:\tlearn: 3.3795593\ttotal: 677ms\tremaining: 2.47s\n",
      "215:\tlearn: 3.3740552\ttotal: 680ms\tremaining: 2.47s\n",
      "216:\tlearn: 3.3683890\ttotal: 683ms\tremaining: 2.46s\n",
      "217:\tlearn: 3.3633033\ttotal: 686ms\tremaining: 2.46s\n",
      "218:\tlearn: 3.3591753\ttotal: 689ms\tremaining: 2.46s\n",
      "219:\tlearn: 3.3563037\ttotal: 692ms\tremaining: 2.45s\n",
      "220:\tlearn: 3.3537061\ttotal: 694ms\tremaining: 2.45s\n",
      "221:\tlearn: 3.3496267\ttotal: 697ms\tremaining: 2.44s\n",
      "222:\tlearn: 3.3447100\ttotal: 700ms\tremaining: 2.44s\n",
      "223:\tlearn: 3.3410418\ttotal: 703ms\tremaining: 2.44s\n",
      "224:\tlearn: 3.3361105\ttotal: 707ms\tremaining: 2.43s\n",
      "225:\tlearn: 3.3307637\ttotal: 710ms\tremaining: 2.43s\n",
      "226:\tlearn: 3.3261935\ttotal: 713ms\tremaining: 2.43s\n",
      "227:\tlearn: 3.3230753\ttotal: 716ms\tremaining: 2.42s\n",
      "228:\tlearn: 3.3195575\ttotal: 720ms\tremaining: 2.42s\n",
      "229:\tlearn: 3.3165293\ttotal: 723ms\tremaining: 2.42s\n",
      "230:\tlearn: 3.3115816\ttotal: 726ms\tremaining: 2.42s\n",
      "231:\tlearn: 3.3067265\ttotal: 729ms\tremaining: 2.41s\n",
      "232:\tlearn: 3.3031440\ttotal: 732ms\tremaining: 2.41s\n",
      "233:\tlearn: 3.2983217\ttotal: 734ms\tremaining: 2.4s\n",
      "234:\tlearn: 3.2940718\ttotal: 737ms\tremaining: 2.4s\n",
      "235:\tlearn: 3.2885921\ttotal: 741ms\tremaining: 2.4s\n",
      "236:\tlearn: 3.2839659\ttotal: 744ms\tremaining: 2.39s\n",
      "237:\tlearn: 3.2812081\ttotal: 746ms\tremaining: 2.39s\n",
      "238:\tlearn: 3.2770161\ttotal: 749ms\tremaining: 2.38s\n",
      "239:\tlearn: 3.2722064\ttotal: 753ms\tremaining: 2.38s\n",
      "240:\tlearn: 3.2680585\ttotal: 757ms\tremaining: 2.38s\n",
      "241:\tlearn: 3.2643249\ttotal: 759ms\tremaining: 2.38s\n",
      "242:\tlearn: 3.2594079\ttotal: 763ms\tremaining: 2.38s\n",
      "243:\tlearn: 3.2545458\ttotal: 765ms\tremaining: 2.37s\n",
      "244:\tlearn: 3.2504760\ttotal: 768ms\tremaining: 2.37s\n",
      "245:\tlearn: 3.2480712\ttotal: 771ms\tremaining: 2.36s\n",
      "246:\tlearn: 3.2448812\ttotal: 774ms\tremaining: 2.36s\n",
      "247:\tlearn: 3.2413315\ttotal: 777ms\tremaining: 2.36s\n",
      "248:\tlearn: 3.2373253\ttotal: 780ms\tremaining: 2.35s\n",
      "249:\tlearn: 3.2322217\ttotal: 783ms\tremaining: 2.35s\n",
      "250:\tlearn: 3.2290743\ttotal: 785ms\tremaining: 2.34s\n",
      "251:\tlearn: 3.2271336\ttotal: 788ms\tremaining: 2.34s\n",
      "252:\tlearn: 3.2239711\ttotal: 791ms\tremaining: 2.34s\n",
      "253:\tlearn: 3.2196577\ttotal: 794ms\tremaining: 2.33s\n",
      "254:\tlearn: 3.2164754\ttotal: 797ms\tremaining: 2.33s\n",
      "255:\tlearn: 3.2126657\ttotal: 801ms\tremaining: 2.33s\n",
      "256:\tlearn: 3.2097224\ttotal: 804ms\tremaining: 2.33s\n",
      "257:\tlearn: 3.2059223\ttotal: 807ms\tremaining: 2.32s\n",
      "258:\tlearn: 3.2013767\ttotal: 810ms\tremaining: 2.32s\n",
      "259:\tlearn: 3.1978089\ttotal: 813ms\tremaining: 2.31s\n",
      "260:\tlearn: 3.1937887\ttotal: 816ms\tremaining: 2.31s\n",
      "261:\tlearn: 3.1899340\ttotal: 819ms\tremaining: 2.31s\n",
      "262:\tlearn: 3.1863184\ttotal: 822ms\tremaining: 2.3s\n",
      "263:\tlearn: 3.1824806\ttotal: 825ms\tremaining: 2.3s\n",
      "264:\tlearn: 3.1781891\ttotal: 828ms\tremaining: 2.3s\n",
      "265:\tlearn: 3.1741363\ttotal: 831ms\tremaining: 2.29s\n",
      "266:\tlearn: 3.1714785\ttotal: 834ms\tremaining: 2.29s\n",
      "267:\tlearn: 3.1685037\ttotal: 837ms\tremaining: 2.28s\n",
      "268:\tlearn: 3.1648296\ttotal: 839ms\tremaining: 2.28s\n",
      "269:\tlearn: 3.1609645\ttotal: 842ms\tremaining: 2.28s\n",
      "270:\tlearn: 3.1568571\ttotal: 845ms\tremaining: 2.27s\n",
      "271:\tlearn: 3.1532162\ttotal: 848ms\tremaining: 2.27s\n",
      "272:\tlearn: 3.1497163\ttotal: 852ms\tremaining: 2.27s\n",
      "273:\tlearn: 3.1474532\ttotal: 855ms\tremaining: 2.27s\n",
      "274:\tlearn: 3.1443319\ttotal: 858ms\tremaining: 2.26s\n",
      "275:\tlearn: 3.1413006\ttotal: 860ms\tremaining: 2.26s\n",
      "276:\tlearn: 3.1386824\ttotal: 863ms\tremaining: 2.25s\n",
      "277:\tlearn: 3.1356259\ttotal: 866ms\tremaining: 2.25s\n",
      "278:\tlearn: 3.1326824\ttotal: 868ms\tremaining: 2.24s\n",
      "279:\tlearn: 3.1299207\ttotal: 871ms\tremaining: 2.24s\n",
      "280:\tlearn: 3.1271299\ttotal: 874ms\tremaining: 2.23s\n",
      "281:\tlearn: 3.1241670\ttotal: 876ms\tremaining: 2.23s\n",
      "282:\tlearn: 3.1222324\ttotal: 879ms\tremaining: 2.23s\n",
      "283:\tlearn: 3.1197977\ttotal: 882ms\tremaining: 2.22s\n",
      "284:\tlearn: 3.1169338\ttotal: 885ms\tremaining: 2.22s\n",
      "285:\tlearn: 3.1144261\ttotal: 887ms\tremaining: 2.21s\n",
      "286:\tlearn: 3.1110454\ttotal: 890ms\tremaining: 2.21s\n",
      "287:\tlearn: 3.1077214\ttotal: 892ms\tremaining: 2.21s\n",
      "288:\tlearn: 3.1053915\ttotal: 895ms\tremaining: 2.2s\n",
      "289:\tlearn: 3.1021791\ttotal: 898ms\tremaining: 2.2s\n",
      "290:\tlearn: 3.0978767\ttotal: 902ms\tremaining: 2.2s\n",
      "291:\tlearn: 3.0949429\ttotal: 905ms\tremaining: 2.19s\n",
      "292:\tlearn: 3.0926121\ttotal: 907ms\tremaining: 2.19s\n",
      "293:\tlearn: 3.0903982\ttotal: 910ms\tremaining: 2.19s\n",
      "294:\tlearn: 3.0882463\ttotal: 913ms\tremaining: 2.18s\n",
      "295:\tlearn: 3.0848264\ttotal: 916ms\tremaining: 2.18s\n",
      "296:\tlearn: 3.0804347\ttotal: 918ms\tremaining: 2.17s\n",
      "297:\tlearn: 3.0754209\ttotal: 921ms\tremaining: 2.17s\n",
      "298:\tlearn: 3.0719097\ttotal: 924ms\tremaining: 2.17s\n",
      "299:\tlearn: 3.0684977\ttotal: 926ms\tremaining: 2.16s\n",
      "300:\tlearn: 3.0649795\ttotal: 929ms\tremaining: 2.16s\n",
      "301:\tlearn: 3.0615922\ttotal: 932ms\tremaining: 2.15s\n",
      "302:\tlearn: 3.0572491\ttotal: 935ms\tremaining: 2.15s\n",
      "303:\tlearn: 3.0544546\ttotal: 938ms\tremaining: 2.15s\n",
      "304:\tlearn: 3.0519687\ttotal: 940ms\tremaining: 2.14s\n",
      "305:\tlearn: 3.0496181\ttotal: 943ms\tremaining: 2.14s\n",
      "306:\tlearn: 3.0463670\ttotal: 946ms\tremaining: 2.13s\n",
      "307:\tlearn: 3.0433833\ttotal: 949ms\tremaining: 2.13s\n",
      "308:\tlearn: 3.0411113\ttotal: 951ms\tremaining: 2.13s\n",
      "309:\tlearn: 3.0375075\ttotal: 954ms\tremaining: 2.12s\n",
      "310:\tlearn: 3.0343046\ttotal: 957ms\tremaining: 2.12s\n",
      "311:\tlearn: 3.0318153\ttotal: 959ms\tremaining: 2.12s\n",
      "312:\tlearn: 3.0285569\ttotal: 962ms\tremaining: 2.11s\n",
      "313:\tlearn: 3.0262250\ttotal: 965ms\tremaining: 2.11s\n",
      "314:\tlearn: 3.0245299\ttotal: 968ms\tremaining: 2.1s\n",
      "315:\tlearn: 3.0222245\ttotal: 971ms\tremaining: 2.1s\n",
      "316:\tlearn: 3.0195343\ttotal: 974ms\tremaining: 2.1s\n",
      "317:\tlearn: 3.0172069\ttotal: 976ms\tremaining: 2.09s\n",
      "318:\tlearn: 3.0153648\ttotal: 980ms\tremaining: 2.09s\n",
      "319:\tlearn: 3.0122816\ttotal: 982ms\tremaining: 2.09s\n",
      "320:\tlearn: 3.0083659\ttotal: 985ms\tremaining: 2.08s\n",
      "321:\tlearn: 3.0065591\ttotal: 988ms\tremaining: 2.08s\n",
      "322:\tlearn: 3.0038366\ttotal: 991ms\tremaining: 2.08s\n",
      "323:\tlearn: 3.0002525\ttotal: 994ms\tremaining: 2.07s\n",
      "324:\tlearn: 2.9981211\ttotal: 997ms\tremaining: 2.07s\n",
      "325:\tlearn: 2.9940541\ttotal: 999ms\tremaining: 2.07s\n",
      "326:\tlearn: 2.9910307\ttotal: 1s\tremaining: 2.06s\n",
      "327:\tlearn: 2.9886381\ttotal: 1s\tremaining: 2.06s\n",
      "328:\tlearn: 2.9869566\ttotal: 1.01s\tremaining: 2.05s\n",
      "329:\tlearn: 2.9850557\ttotal: 1.01s\tremaining: 2.05s\n",
      "330:\tlearn: 2.9826388\ttotal: 1.01s\tremaining: 2.05s\n",
      "331:\tlearn: 2.9798719\ttotal: 1.01s\tremaining: 2.04s\n"
     ]
    },
    {
     "name": "stdout",
     "output_type": "stream",
     "text": [
      "332:\tlearn: 2.9773104\ttotal: 1.02s\tremaining: 2.04s\n",
      "333:\tlearn: 2.9745498\ttotal: 1.02s\tremaining: 2.04s\n",
      "334:\tlearn: 2.9720393\ttotal: 1.02s\tremaining: 2.03s\n",
      "335:\tlearn: 2.9677079\ttotal: 1.03s\tremaining: 2.03s\n",
      "336:\tlearn: 2.9664378\ttotal: 1.03s\tremaining: 2.03s\n",
      "337:\tlearn: 2.9647242\ttotal: 1.03s\tremaining: 2.02s\n",
      "338:\tlearn: 2.9613721\ttotal: 1.03s\tremaining: 2.02s\n",
      "339:\tlearn: 2.9587865\ttotal: 1.04s\tremaining: 2.02s\n",
      "340:\tlearn: 2.9560885\ttotal: 1.04s\tremaining: 2.01s\n",
      "341:\tlearn: 2.9527775\ttotal: 1.04s\tremaining: 2.01s\n",
      "342:\tlearn: 2.9506583\ttotal: 1.05s\tremaining: 2.01s\n",
      "343:\tlearn: 2.9470939\ttotal: 1.05s\tremaining: 2s\n",
      "344:\tlearn: 2.9441721\ttotal: 1.05s\tremaining: 2s\n",
      "345:\tlearn: 2.9407095\ttotal: 1.06s\tremaining: 2s\n",
      "346:\tlearn: 2.9380090\ttotal: 1.06s\tremaining: 1.99s\n",
      "347:\tlearn: 2.9353369\ttotal: 1.06s\tremaining: 1.99s\n",
      "348:\tlearn: 2.9323053\ttotal: 1.07s\tremaining: 1.99s\n",
      "349:\tlearn: 2.9297100\ttotal: 1.07s\tremaining: 1.99s\n",
      "350:\tlearn: 2.9267054\ttotal: 1.07s\tremaining: 1.98s\n",
      "351:\tlearn: 2.9244958\ttotal: 1.07s\tremaining: 1.98s\n",
      "352:\tlearn: 2.9222793\ttotal: 1.08s\tremaining: 1.98s\n",
      "353:\tlearn: 2.9205532\ttotal: 1.08s\tremaining: 1.97s\n",
      "354:\tlearn: 2.9179054\ttotal: 1.08s\tremaining: 1.97s\n",
      "355:\tlearn: 2.9151390\ttotal: 1.09s\tremaining: 1.97s\n",
      "356:\tlearn: 2.9130784\ttotal: 1.09s\tremaining: 1.96s\n",
      "357:\tlearn: 2.9107689\ttotal: 1.09s\tremaining: 1.96s\n",
      "358:\tlearn: 2.9072765\ttotal: 1.1s\tremaining: 1.96s\n",
      "359:\tlearn: 2.9038221\ttotal: 1.1s\tremaining: 1.95s\n",
      "360:\tlearn: 2.9022246\ttotal: 1.1s\tremaining: 1.95s\n",
      "361:\tlearn: 2.8997429\ttotal: 1.1s\tremaining: 1.95s\n",
      "362:\tlearn: 2.8976415\ttotal: 1.11s\tremaining: 1.94s\n",
      "363:\tlearn: 2.8960193\ttotal: 1.11s\tremaining: 1.94s\n",
      "364:\tlearn: 2.8937861\ttotal: 1.11s\tremaining: 1.94s\n",
      "365:\tlearn: 2.8919176\ttotal: 1.11s\tremaining: 1.93s\n",
      "366:\tlearn: 2.8898565\ttotal: 1.12s\tremaining: 1.93s\n",
      "367:\tlearn: 2.8879809\ttotal: 1.12s\tremaining: 1.93s\n",
      "368:\tlearn: 2.8848209\ttotal: 1.12s\tremaining: 1.92s\n",
      "369:\tlearn: 2.8819672\ttotal: 1.13s\tremaining: 1.92s\n",
      "370:\tlearn: 2.8801978\ttotal: 1.13s\tremaining: 1.91s\n",
      "371:\tlearn: 2.8780093\ttotal: 1.13s\tremaining: 1.91s\n",
      "372:\tlearn: 2.8756883\ttotal: 1.13s\tremaining: 1.91s\n",
      "373:\tlearn: 2.8741871\ttotal: 1.14s\tremaining: 1.9s\n",
      "374:\tlearn: 2.8724804\ttotal: 1.14s\tremaining: 1.9s\n",
      "375:\tlearn: 2.8714698\ttotal: 1.14s\tremaining: 1.9s\n",
      "376:\tlearn: 2.8701401\ttotal: 1.15s\tremaining: 1.89s\n",
      "377:\tlearn: 2.8663588\ttotal: 1.15s\tremaining: 1.89s\n",
      "378:\tlearn: 2.8649635\ttotal: 1.15s\tremaining: 1.89s\n",
      "379:\tlearn: 2.8632194\ttotal: 1.15s\tremaining: 1.88s\n",
      "380:\tlearn: 2.8608525\ttotal: 1.16s\tremaining: 1.88s\n",
      "381:\tlearn: 2.8590483\ttotal: 1.16s\tremaining: 1.88s\n",
      "382:\tlearn: 2.8562652\ttotal: 1.16s\tremaining: 1.87s\n",
      "383:\tlearn: 2.8545039\ttotal: 1.17s\tremaining: 1.87s\n",
      "384:\tlearn: 2.8512030\ttotal: 1.17s\tremaining: 1.86s\n",
      "385:\tlearn: 2.8476486\ttotal: 1.17s\tremaining: 1.86s\n",
      "386:\tlearn: 2.8452915\ttotal: 1.17s\tremaining: 1.86s\n",
      "387:\tlearn: 2.8429074\ttotal: 1.18s\tremaining: 1.85s\n",
      "388:\tlearn: 2.8405267\ttotal: 1.18s\tremaining: 1.85s\n",
      "389:\tlearn: 2.8387091\ttotal: 1.18s\tremaining: 1.85s\n",
      "390:\tlearn: 2.8370233\ttotal: 1.18s\tremaining: 1.84s\n",
      "391:\tlearn: 2.8346693\ttotal: 1.19s\tremaining: 1.84s\n",
      "392:\tlearn: 2.8334689\ttotal: 1.19s\tremaining: 1.84s\n",
      "393:\tlearn: 2.8312415\ttotal: 1.19s\tremaining: 1.83s\n",
      "394:\tlearn: 2.8291879\ttotal: 1.19s\tremaining: 1.83s\n",
      "395:\tlearn: 2.8259946\ttotal: 1.2s\tremaining: 1.83s\n",
      "396:\tlearn: 2.8235605\ttotal: 1.2s\tremaining: 1.82s\n",
      "397:\tlearn: 2.8219877\ttotal: 1.2s\tremaining: 1.82s\n",
      "398:\tlearn: 2.8203210\ttotal: 1.21s\tremaining: 1.82s\n",
      "399:\tlearn: 2.8175635\ttotal: 1.21s\tremaining: 1.81s\n",
      "400:\tlearn: 2.8157618\ttotal: 1.21s\tremaining: 1.81s\n",
      "401:\tlearn: 2.8136451\ttotal: 1.21s\tremaining: 1.81s\n",
      "402:\tlearn: 2.8116464\ttotal: 1.22s\tremaining: 1.8s\n",
      "403:\tlearn: 2.8084195\ttotal: 1.22s\tremaining: 1.8s\n",
      "404:\tlearn: 2.8063752\ttotal: 1.22s\tremaining: 1.8s\n",
      "405:\tlearn: 2.8039195\ttotal: 1.23s\tremaining: 1.79s\n",
      "406:\tlearn: 2.8017956\ttotal: 1.23s\tremaining: 1.79s\n",
      "407:\tlearn: 2.7998201\ttotal: 1.23s\tremaining: 1.79s\n",
      "408:\tlearn: 2.7983848\ttotal: 1.23s\tremaining: 1.78s\n",
      "409:\tlearn: 2.7956417\ttotal: 1.24s\tremaining: 1.78s\n",
      "410:\tlearn: 2.7934078\ttotal: 1.24s\tremaining: 1.77s\n",
      "411:\tlearn: 2.7908924\ttotal: 1.24s\tremaining: 1.77s\n",
      "412:\tlearn: 2.7893277\ttotal: 1.24s\tremaining: 1.77s\n",
      "413:\tlearn: 2.7872550\ttotal: 1.25s\tremaining: 1.76s\n",
      "414:\tlearn: 2.7849653\ttotal: 1.25s\tremaining: 1.76s\n",
      "415:\tlearn: 2.7818129\ttotal: 1.25s\tremaining: 1.76s\n",
      "416:\tlearn: 2.7796035\ttotal: 1.25s\tremaining: 1.75s\n",
      "417:\tlearn: 2.7772650\ttotal: 1.26s\tremaining: 1.75s\n",
      "418:\tlearn: 2.7751987\ttotal: 1.26s\tremaining: 1.75s\n",
      "419:\tlearn: 2.7737617\ttotal: 1.26s\tremaining: 1.75s\n",
      "420:\tlearn: 2.7707913\ttotal: 1.27s\tremaining: 1.74s\n",
      "421:\tlearn: 2.7690487\ttotal: 1.27s\tremaining: 1.74s\n",
      "422:\tlearn: 2.7665704\ttotal: 1.27s\tremaining: 1.73s\n",
      "423:\tlearn: 2.7642437\ttotal: 1.27s\tremaining: 1.73s\n",
      "424:\tlearn: 2.7616954\ttotal: 1.28s\tremaining: 1.73s\n",
      "425:\tlearn: 2.7594652\ttotal: 1.28s\tremaining: 1.72s\n",
      "426:\tlearn: 2.7579617\ttotal: 1.28s\tremaining: 1.72s\n",
      "427:\tlearn: 2.7562263\ttotal: 1.28s\tremaining: 1.72s\n",
      "428:\tlearn: 2.7549399\ttotal: 1.29s\tremaining: 1.71s\n",
      "429:\tlearn: 2.7530029\ttotal: 1.29s\tremaining: 1.71s\n",
      "430:\tlearn: 2.7509014\ttotal: 1.29s\tremaining: 1.71s\n",
      "431:\tlearn: 2.7491097\ttotal: 1.3s\tremaining: 1.71s\n",
      "432:\tlearn: 2.7469173\ttotal: 1.3s\tremaining: 1.7s\n",
      "433:\tlearn: 2.7445600\ttotal: 1.3s\tremaining: 1.7s\n",
      "434:\tlearn: 2.7427913\ttotal: 1.3s\tremaining: 1.69s\n",
      "435:\tlearn: 2.7402222\ttotal: 1.31s\tremaining: 1.69s\n",
      "436:\tlearn: 2.7385888\ttotal: 1.31s\tremaining: 1.69s\n",
      "437:\tlearn: 2.7361727\ttotal: 1.31s\tremaining: 1.68s\n",
      "438:\tlearn: 2.7347527\ttotal: 1.31s\tremaining: 1.68s\n",
      "439:\tlearn: 2.7311428\ttotal: 1.32s\tremaining: 1.68s\n",
      "440:\tlearn: 2.7290663\ttotal: 1.32s\tremaining: 1.67s\n",
      "441:\tlearn: 2.7279100\ttotal: 1.32s\tremaining: 1.67s\n",
      "442:\tlearn: 2.7253512\ttotal: 1.32s\tremaining: 1.67s\n",
      "443:\tlearn: 2.7225777\ttotal: 1.33s\tremaining: 1.66s\n",
      "444:\tlearn: 2.7206657\ttotal: 1.33s\tremaining: 1.66s\n",
      "445:\tlearn: 2.7179906\ttotal: 1.33s\tremaining: 1.66s\n",
      "446:\tlearn: 2.7162223\ttotal: 1.34s\tremaining: 1.65s\n",
      "447:\tlearn: 2.7155970\ttotal: 1.34s\tremaining: 1.65s\n",
      "448:\tlearn: 2.7142561\ttotal: 1.34s\tremaining: 1.65s\n",
      "449:\tlearn: 2.7112483\ttotal: 1.34s\tremaining: 1.64s\n",
      "450:\tlearn: 2.7094003\ttotal: 1.35s\tremaining: 1.64s\n",
      "451:\tlearn: 2.7067312\ttotal: 1.35s\tremaining: 1.64s\n",
      "452:\tlearn: 2.7049921\ttotal: 1.35s\tremaining: 1.63s\n",
      "453:\tlearn: 2.7031714\ttotal: 1.35s\tremaining: 1.63s\n",
      "454:\tlearn: 2.7012570\ttotal: 1.36s\tremaining: 1.63s\n",
      "455:\tlearn: 2.6998087\ttotal: 1.36s\tremaining: 1.62s\n",
      "456:\tlearn: 2.6974396\ttotal: 1.36s\tremaining: 1.62s\n",
      "457:\tlearn: 2.6955466\ttotal: 1.37s\tremaining: 1.62s\n",
      "458:\tlearn: 2.6939480\ttotal: 1.37s\tremaining: 1.61s\n",
      "459:\tlearn: 2.6920636\ttotal: 1.37s\tremaining: 1.61s\n",
      "460:\tlearn: 2.6898193\ttotal: 1.37s\tremaining: 1.61s\n",
      "461:\tlearn: 2.6880371\ttotal: 1.38s\tremaining: 1.6s\n",
      "462:\tlearn: 2.6865391\ttotal: 1.38s\tremaining: 1.6s\n",
      "463:\tlearn: 2.6849095\ttotal: 1.38s\tremaining: 1.6s\n",
      "464:\tlearn: 2.6833382\ttotal: 1.39s\tremaining: 1.59s\n",
      "465:\tlearn: 2.6810428\ttotal: 1.39s\tremaining: 1.59s\n",
      "466:\tlearn: 2.6792736\ttotal: 1.39s\tremaining: 1.59s\n",
      "467:\tlearn: 2.6777208\ttotal: 1.39s\tremaining: 1.58s\n",
      "468:\tlearn: 2.6762398\ttotal: 1.4s\tremaining: 1.58s\n",
      "469:\tlearn: 2.6741518\ttotal: 1.4s\tremaining: 1.58s\n",
      "470:\tlearn: 2.6720784\ttotal: 1.4s\tremaining: 1.57s\n",
      "471:\tlearn: 2.6699095\ttotal: 1.4s\tremaining: 1.57s\n",
      "472:\tlearn: 2.6683215\ttotal: 1.41s\tremaining: 1.57s\n",
      "473:\tlearn: 2.6665622\ttotal: 1.41s\tremaining: 1.56s\n",
      "474:\tlearn: 2.6642182\ttotal: 1.41s\tremaining: 1.56s\n",
      "475:\tlearn: 2.6619203\ttotal: 1.42s\tremaining: 1.56s\n",
      "476:\tlearn: 2.6601467\ttotal: 1.42s\tremaining: 1.55s\n",
      "477:\tlearn: 2.6584385\ttotal: 1.42s\tremaining: 1.55s\n",
      "478:\tlearn: 2.6570142\ttotal: 1.42s\tremaining: 1.55s\n",
      "479:\tlearn: 2.6551455\ttotal: 1.43s\tremaining: 1.54s\n",
      "480:\tlearn: 2.6520372\ttotal: 1.43s\tremaining: 1.54s\n",
      "481:\tlearn: 2.6506629\ttotal: 1.43s\tremaining: 1.54s\n",
      "482:\tlearn: 2.6480687\ttotal: 1.44s\tremaining: 1.54s\n",
      "483:\tlearn: 2.6463323\ttotal: 1.44s\tremaining: 1.53s\n",
      "484:\tlearn: 2.6449507\ttotal: 1.44s\tremaining: 1.53s\n",
      "485:\tlearn: 2.6428324\ttotal: 1.44s\tremaining: 1.53s\n",
      "486:\tlearn: 2.6415228\ttotal: 1.45s\tremaining: 1.52s\n",
      "487:\tlearn: 2.6402506\ttotal: 1.45s\tremaining: 1.52s\n",
      "488:\tlearn: 2.6381120\ttotal: 1.45s\tremaining: 1.52s\n",
      "489:\tlearn: 2.6363430\ttotal: 1.45s\tremaining: 1.51s\n",
      "490:\tlearn: 2.6347907\ttotal: 1.46s\tremaining: 1.51s\n",
      "491:\tlearn: 2.6334415\ttotal: 1.46s\tremaining: 1.51s\n",
      "492:\tlearn: 2.6318391\ttotal: 1.46s\tremaining: 1.5s\n",
      "493:\tlearn: 2.6301487\ttotal: 1.47s\tremaining: 1.5s\n",
      "494:\tlearn: 2.6285140\ttotal: 1.47s\tremaining: 1.5s\n",
      "495:\tlearn: 2.6269378\ttotal: 1.47s\tremaining: 1.49s\n",
      "496:\tlearn: 2.6253546\ttotal: 1.47s\tremaining: 1.49s\n",
      "497:\tlearn: 2.6233348\ttotal: 1.48s\tremaining: 1.49s\n",
      "498:\tlearn: 2.6221086\ttotal: 1.48s\tremaining: 1.49s\n",
      "499:\tlearn: 2.6203179\ttotal: 1.48s\tremaining: 1.48s\n"
     ]
    },
    {
     "name": "stdout",
     "output_type": "stream",
     "text": [
      "500:\tlearn: 2.6181831\ttotal: 1.49s\tremaining: 1.48s\n",
      "501:\tlearn: 2.6158450\ttotal: 1.49s\tremaining: 1.48s\n",
      "502:\tlearn: 2.6140245\ttotal: 1.49s\tremaining: 1.47s\n",
      "503:\tlearn: 2.6122722\ttotal: 1.49s\tremaining: 1.47s\n",
      "504:\tlearn: 2.6104990\ttotal: 1.5s\tremaining: 1.47s\n",
      "505:\tlearn: 2.6091255\ttotal: 1.5s\tremaining: 1.46s\n",
      "506:\tlearn: 2.6071021\ttotal: 1.5s\tremaining: 1.46s\n",
      "507:\tlearn: 2.6047767\ttotal: 1.5s\tremaining: 1.46s\n",
      "508:\tlearn: 2.6032396\ttotal: 1.51s\tremaining: 1.45s\n",
      "509:\tlearn: 2.6010316\ttotal: 1.51s\tremaining: 1.45s\n",
      "510:\tlearn: 2.5990075\ttotal: 1.51s\tremaining: 1.45s\n",
      "511:\tlearn: 2.5977165\ttotal: 1.51s\tremaining: 1.44s\n",
      "512:\tlearn: 2.5963192\ttotal: 1.52s\tremaining: 1.44s\n",
      "513:\tlearn: 2.5947313\ttotal: 1.52s\tremaining: 1.44s\n",
      "514:\tlearn: 2.5933649\ttotal: 1.52s\tremaining: 1.44s\n",
      "515:\tlearn: 2.5922384\ttotal: 1.53s\tremaining: 1.43s\n",
      "516:\tlearn: 2.5906290\ttotal: 1.53s\tremaining: 1.43s\n",
      "517:\tlearn: 2.5887996\ttotal: 1.53s\tremaining: 1.43s\n",
      "518:\tlearn: 2.5873990\ttotal: 1.53s\tremaining: 1.42s\n",
      "519:\tlearn: 2.5853904\ttotal: 1.54s\tremaining: 1.42s\n",
      "520:\tlearn: 2.5839338\ttotal: 1.54s\tremaining: 1.42s\n",
      "521:\tlearn: 2.5808753\ttotal: 1.54s\tremaining: 1.41s\n",
      "522:\tlearn: 2.5784574\ttotal: 1.55s\tremaining: 1.41s\n",
      "523:\tlearn: 2.5771490\ttotal: 1.55s\tremaining: 1.41s\n",
      "524:\tlearn: 2.5756829\ttotal: 1.55s\tremaining: 1.4s\n",
      "525:\tlearn: 2.5744857\ttotal: 1.55s\tremaining: 1.4s\n",
      "526:\tlearn: 2.5720157\ttotal: 1.56s\tremaining: 1.4s\n",
      "527:\tlearn: 2.5705328\ttotal: 1.56s\tremaining: 1.39s\n",
      "528:\tlearn: 2.5692819\ttotal: 1.56s\tremaining: 1.39s\n",
      "529:\tlearn: 2.5671866\ttotal: 1.56s\tremaining: 1.39s\n",
      "530:\tlearn: 2.5652527\ttotal: 1.57s\tremaining: 1.38s\n",
      "531:\tlearn: 2.5639608\ttotal: 1.57s\tremaining: 1.38s\n",
      "532:\tlearn: 2.5627865\ttotal: 1.57s\tremaining: 1.38s\n",
      "533:\tlearn: 2.5605700\ttotal: 1.57s\tremaining: 1.38s\n",
      "534:\tlearn: 2.5584845\ttotal: 1.58s\tremaining: 1.37s\n",
      "535:\tlearn: 2.5559526\ttotal: 1.58s\tremaining: 1.37s\n",
      "536:\tlearn: 2.5539196\ttotal: 1.58s\tremaining: 1.37s\n",
      "537:\tlearn: 2.5526202\ttotal: 1.59s\tremaining: 1.36s\n",
      "538:\tlearn: 2.5511266\ttotal: 1.59s\tremaining: 1.36s\n",
      "539:\tlearn: 2.5483178\ttotal: 1.59s\tremaining: 1.36s\n",
      "540:\tlearn: 2.5465990\ttotal: 1.59s\tremaining: 1.35s\n",
      "541:\tlearn: 2.5443701\ttotal: 1.6s\tremaining: 1.35s\n",
      "542:\tlearn: 2.5424255\ttotal: 1.6s\tremaining: 1.35s\n",
      "543:\tlearn: 2.5412640\ttotal: 1.6s\tremaining: 1.34s\n",
      "544:\tlearn: 2.5406457\ttotal: 1.61s\tremaining: 1.34s\n",
      "545:\tlearn: 2.5392371\ttotal: 1.61s\tremaining: 1.34s\n",
      "546:\tlearn: 2.5376456\ttotal: 1.61s\tremaining: 1.33s\n",
      "547:\tlearn: 2.5359496\ttotal: 1.61s\tremaining: 1.33s\n",
      "548:\tlearn: 2.5346220\ttotal: 1.62s\tremaining: 1.33s\n",
      "549:\tlearn: 2.5330283\ttotal: 1.62s\tremaining: 1.32s\n",
      "550:\tlearn: 2.5303524\ttotal: 1.62s\tremaining: 1.32s\n",
      "551:\tlearn: 2.5286304\ttotal: 1.63s\tremaining: 1.32s\n",
      "552:\tlearn: 2.5274495\ttotal: 1.63s\tremaining: 1.32s\n",
      "553:\tlearn: 2.5264657\ttotal: 1.63s\tremaining: 1.31s\n",
      "554:\tlearn: 2.5251721\ttotal: 1.63s\tremaining: 1.31s\n",
      "555:\tlearn: 2.5240521\ttotal: 1.64s\tremaining: 1.31s\n",
      "556:\tlearn: 2.5224659\ttotal: 1.64s\tremaining: 1.31s\n",
      "557:\tlearn: 2.5210002\ttotal: 1.65s\tremaining: 1.3s\n",
      "558:\tlearn: 2.5197787\ttotal: 1.65s\tremaining: 1.3s\n",
      "559:\tlearn: 2.5181295\ttotal: 1.65s\tremaining: 1.3s\n",
      "560:\tlearn: 2.5165627\ttotal: 1.66s\tremaining: 1.29s\n",
      "561:\tlearn: 2.5148433\ttotal: 1.66s\tremaining: 1.29s\n",
      "562:\tlearn: 2.5123239\ttotal: 1.66s\tremaining: 1.29s\n",
      "563:\tlearn: 2.5109854\ttotal: 1.66s\tremaining: 1.29s\n",
      "564:\tlearn: 2.5097562\ttotal: 1.67s\tremaining: 1.28s\n",
      "565:\tlearn: 2.5083598\ttotal: 1.67s\tremaining: 1.28s\n",
      "566:\tlearn: 2.5059541\ttotal: 1.67s\tremaining: 1.28s\n",
      "567:\tlearn: 2.5042477\ttotal: 1.68s\tremaining: 1.27s\n",
      "568:\tlearn: 2.5023988\ttotal: 1.68s\tremaining: 1.27s\n",
      "569:\tlearn: 2.5005563\ttotal: 1.68s\tremaining: 1.27s\n",
      "570:\tlearn: 2.4991584\ttotal: 1.68s\tremaining: 1.26s\n",
      "571:\tlearn: 2.4977248\ttotal: 1.69s\tremaining: 1.26s\n",
      "572:\tlearn: 2.4957801\ttotal: 1.69s\tremaining: 1.26s\n",
      "573:\tlearn: 2.4944445\ttotal: 1.69s\tremaining: 1.26s\n",
      "574:\tlearn: 2.4930325\ttotal: 1.7s\tremaining: 1.25s\n",
      "575:\tlearn: 2.4920209\ttotal: 1.7s\tremaining: 1.25s\n",
      "576:\tlearn: 2.4906307\ttotal: 1.7s\tremaining: 1.25s\n",
      "577:\tlearn: 2.4893635\ttotal: 1.7s\tremaining: 1.24s\n",
      "578:\tlearn: 2.4880889\ttotal: 1.71s\tremaining: 1.24s\n",
      "579:\tlearn: 2.4857949\ttotal: 1.71s\tremaining: 1.24s\n",
      "580:\tlearn: 2.4843216\ttotal: 1.71s\tremaining: 1.23s\n",
      "581:\tlearn: 2.4832739\ttotal: 1.71s\tremaining: 1.23s\n",
      "582:\tlearn: 2.4817008\ttotal: 1.72s\tremaining: 1.23s\n",
      "583:\tlearn: 2.4798727\ttotal: 1.72s\tremaining: 1.23s\n",
      "584:\tlearn: 2.4785319\ttotal: 1.72s\tremaining: 1.22s\n",
      "585:\tlearn: 2.4774551\ttotal: 1.73s\tremaining: 1.22s\n",
      "586:\tlearn: 2.4761807\ttotal: 1.73s\tremaining: 1.22s\n",
      "587:\tlearn: 2.4747579\ttotal: 1.73s\tremaining: 1.21s\n",
      "588:\tlearn: 2.4721153\ttotal: 1.73s\tremaining: 1.21s\n",
      "589:\tlearn: 2.4706503\ttotal: 1.74s\tremaining: 1.21s\n",
      "590:\tlearn: 2.4682704\ttotal: 1.74s\tremaining: 1.2s\n",
      "591:\tlearn: 2.4665819\ttotal: 1.74s\tremaining: 1.2s\n",
      "592:\tlearn: 2.4655282\ttotal: 1.74s\tremaining: 1.2s\n",
      "593:\tlearn: 2.4641042\ttotal: 1.75s\tremaining: 1.19s\n",
      "594:\tlearn: 2.4631271\ttotal: 1.75s\tremaining: 1.19s\n",
      "595:\tlearn: 2.4617240\ttotal: 1.75s\tremaining: 1.19s\n",
      "596:\tlearn: 2.4606982\ttotal: 1.75s\tremaining: 1.18s\n",
      "597:\tlearn: 2.4594976\ttotal: 1.76s\tremaining: 1.18s\n",
      "598:\tlearn: 2.4581099\ttotal: 1.76s\tremaining: 1.18s\n",
      "599:\tlearn: 2.4570458\ttotal: 1.76s\tremaining: 1.18s\n",
      "600:\tlearn: 2.4543305\ttotal: 1.77s\tremaining: 1.17s\n",
      "601:\tlearn: 2.4532007\ttotal: 1.77s\tremaining: 1.17s\n",
      "602:\tlearn: 2.4517975\ttotal: 1.77s\tremaining: 1.17s\n",
      "603:\tlearn: 2.4495803\ttotal: 1.77s\tremaining: 1.16s\n",
      "604:\tlearn: 2.4480475\ttotal: 1.78s\tremaining: 1.16s\n",
      "605:\tlearn: 2.4463591\ttotal: 1.78s\tremaining: 1.16s\n",
      "606:\tlearn: 2.4453034\ttotal: 1.78s\tremaining: 1.15s\n",
      "607:\tlearn: 2.4443884\ttotal: 1.78s\tremaining: 1.15s\n",
      "608:\tlearn: 2.4430667\ttotal: 1.79s\tremaining: 1.15s\n",
      "609:\tlearn: 2.4416012\ttotal: 1.79s\tremaining: 1.15s\n",
      "610:\tlearn: 2.4407313\ttotal: 1.79s\tremaining: 1.14s\n",
      "611:\tlearn: 2.4388857\ttotal: 1.8s\tremaining: 1.14s\n",
      "612:\tlearn: 2.4370479\ttotal: 1.8s\tremaining: 1.14s\n",
      "613:\tlearn: 2.4359449\ttotal: 1.8s\tremaining: 1.13s\n",
      "614:\tlearn: 2.4352213\ttotal: 1.8s\tremaining: 1.13s\n",
      "615:\tlearn: 2.4337424\ttotal: 1.81s\tremaining: 1.13s\n",
      "616:\tlearn: 2.4326244\ttotal: 1.81s\tremaining: 1.12s\n",
      "617:\tlearn: 2.4308220\ttotal: 1.81s\tremaining: 1.12s\n",
      "618:\tlearn: 2.4298478\ttotal: 1.82s\tremaining: 1.12s\n",
      "619:\tlearn: 2.4287106\ttotal: 1.82s\tremaining: 1.11s\n",
      "620:\tlearn: 2.4275285\ttotal: 1.82s\tremaining: 1.11s\n",
      "621:\tlearn: 2.4262707\ttotal: 1.83s\tremaining: 1.11s\n",
      "622:\tlearn: 2.4250055\ttotal: 1.83s\tremaining: 1.11s\n",
      "623:\tlearn: 2.4243204\ttotal: 1.83s\tremaining: 1.1s\n",
      "624:\tlearn: 2.4221881\ttotal: 1.83s\tremaining: 1.1s\n",
      "625:\tlearn: 2.4202771\ttotal: 1.84s\tremaining: 1.1s\n",
      "626:\tlearn: 2.4190406\ttotal: 1.84s\tremaining: 1.09s\n",
      "627:\tlearn: 2.4181345\ttotal: 1.84s\tremaining: 1.09s\n",
      "628:\tlearn: 2.4168908\ttotal: 1.84s\tremaining: 1.09s\n",
      "629:\tlearn: 2.4153390\ttotal: 1.85s\tremaining: 1.08s\n",
      "630:\tlearn: 2.4140635\ttotal: 1.85s\tremaining: 1.08s\n",
      "631:\tlearn: 2.4129726\ttotal: 1.85s\tremaining: 1.08s\n",
      "632:\tlearn: 2.4115884\ttotal: 1.85s\tremaining: 1.07s\n",
      "633:\tlearn: 2.4099233\ttotal: 1.86s\tremaining: 1.07s\n",
      "634:\tlearn: 2.4083374\ttotal: 1.86s\tremaining: 1.07s\n",
      "635:\tlearn: 2.4064638\ttotal: 1.86s\tremaining: 1.07s\n",
      "636:\tlearn: 2.4052278\ttotal: 1.87s\tremaining: 1.06s\n",
      "637:\tlearn: 2.4042191\ttotal: 1.87s\tremaining: 1.06s\n",
      "638:\tlearn: 2.4029290\ttotal: 1.88s\tremaining: 1.06s\n",
      "639:\tlearn: 2.4016465\ttotal: 1.88s\tremaining: 1.06s\n",
      "640:\tlearn: 2.4005234\ttotal: 1.88s\tremaining: 1.05s\n",
      "641:\tlearn: 2.3989128\ttotal: 1.88s\tremaining: 1.05s\n",
      "642:\tlearn: 2.3973300\ttotal: 1.89s\tremaining: 1.05s\n",
      "643:\tlearn: 2.3962431\ttotal: 1.89s\tremaining: 1.04s\n",
      "644:\tlearn: 2.3952221\ttotal: 1.89s\tremaining: 1.04s\n",
      "645:\tlearn: 2.3938785\ttotal: 1.9s\tremaining: 1.04s\n",
      "646:\tlearn: 2.3922954\ttotal: 1.9s\tremaining: 1.03s\n",
      "647:\tlearn: 2.3908071\ttotal: 1.9s\tremaining: 1.03s\n",
      "648:\tlearn: 2.3890394\ttotal: 1.9s\tremaining: 1.03s\n",
      "649:\tlearn: 2.3880145\ttotal: 1.91s\tremaining: 1.03s\n",
      "650:\tlearn: 2.3862228\ttotal: 1.91s\tremaining: 1.02s\n",
      "651:\tlearn: 2.3849108\ttotal: 1.91s\tremaining: 1.02s\n",
      "652:\tlearn: 2.3833513\ttotal: 1.92s\tremaining: 1.02s\n",
      "653:\tlearn: 2.3819474\ttotal: 1.92s\tremaining: 1.01s\n",
      "654:\tlearn: 2.3805644\ttotal: 1.92s\tremaining: 1.01s\n",
      "655:\tlearn: 2.3798540\ttotal: 1.92s\tremaining: 1.01s\n",
      "656:\tlearn: 2.3783002\ttotal: 1.93s\tremaining: 1.01s\n",
      "657:\tlearn: 2.3768146\ttotal: 1.93s\tremaining: 1s\n",
      "658:\tlearn: 2.3755033\ttotal: 1.93s\tremaining: 1000ms\n",
      "659:\tlearn: 2.3739802\ttotal: 1.94s\tremaining: 997ms\n"
     ]
    },
    {
     "name": "stdout",
     "output_type": "stream",
     "text": [
      "660:\tlearn: 2.3726522\ttotal: 1.94s\tremaining: 994ms\n",
      "661:\tlearn: 2.3709989\ttotal: 1.94s\tremaining: 991ms\n",
      "662:\tlearn: 2.3699400\ttotal: 1.94s\tremaining: 988ms\n",
      "663:\tlearn: 2.3685535\ttotal: 1.95s\tremaining: 985ms\n",
      "664:\tlearn: 2.3674439\ttotal: 1.95s\tremaining: 982ms\n",
      "665:\tlearn: 2.3662550\ttotal: 1.95s\tremaining: 979ms\n",
      "666:\tlearn: 2.3646464\ttotal: 1.95s\tremaining: 976ms\n",
      "667:\tlearn: 2.3635701\ttotal: 1.96s\tremaining: 973ms\n",
      "668:\tlearn: 2.3623655\ttotal: 1.96s\tremaining: 970ms\n",
      "669:\tlearn: 2.3609643\ttotal: 1.96s\tremaining: 967ms\n",
      "670:\tlearn: 2.3599773\ttotal: 1.97s\tremaining: 964ms\n",
      "671:\tlearn: 2.3579165\ttotal: 1.97s\tremaining: 961ms\n",
      "672:\tlearn: 2.3564964\ttotal: 1.97s\tremaining: 958ms\n",
      "673:\tlearn: 2.3551064\ttotal: 1.97s\tremaining: 955ms\n",
      "674:\tlearn: 2.3538066\ttotal: 1.98s\tremaining: 952ms\n",
      "675:\tlearn: 2.3524386\ttotal: 1.98s\tremaining: 949ms\n",
      "676:\tlearn: 2.3506343\ttotal: 1.98s\tremaining: 946ms\n",
      "677:\tlearn: 2.3487503\ttotal: 1.99s\tremaining: 943ms\n",
      "678:\tlearn: 2.3479090\ttotal: 1.99s\tremaining: 940ms\n",
      "679:\tlearn: 2.3474460\ttotal: 1.99s\tremaining: 937ms\n",
      "680:\tlearn: 2.3467635\ttotal: 1.99s\tremaining: 934ms\n",
      "681:\tlearn: 2.3452084\ttotal: 2s\tremaining: 931ms\n",
      "682:\tlearn: 2.3438667\ttotal: 2s\tremaining: 928ms\n",
      "683:\tlearn: 2.3428409\ttotal: 2s\tremaining: 925ms\n",
      "684:\tlearn: 2.3417506\ttotal: 2.01s\tremaining: 923ms\n",
      "685:\tlearn: 2.3407403\ttotal: 2.01s\tremaining: 920ms\n",
      "686:\tlearn: 2.3392465\ttotal: 2.01s\tremaining: 917ms\n",
      "687:\tlearn: 2.3381012\ttotal: 2.02s\tremaining: 914ms\n",
      "688:\tlearn: 2.3372392\ttotal: 2.02s\tremaining: 911ms\n",
      "689:\tlearn: 2.3359574\ttotal: 2.02s\tremaining: 908ms\n",
      "690:\tlearn: 2.3349065\ttotal: 2.02s\tremaining: 906ms\n",
      "691:\tlearn: 2.3333608\ttotal: 2.03s\tremaining: 903ms\n",
      "692:\tlearn: 2.3316031\ttotal: 2.03s\tremaining: 900ms\n",
      "693:\tlearn: 2.3305146\ttotal: 2.03s\tremaining: 897ms\n",
      "694:\tlearn: 2.3295577\ttotal: 2.04s\tremaining: 894ms\n",
      "695:\tlearn: 2.3283741\ttotal: 2.04s\tremaining: 891ms\n",
      "696:\tlearn: 2.3271622\ttotal: 2.04s\tremaining: 888ms\n",
      "697:\tlearn: 2.3253790\ttotal: 2.05s\tremaining: 886ms\n",
      "698:\tlearn: 2.3239420\ttotal: 2.05s\tremaining: 883ms\n",
      "699:\tlearn: 2.3230166\ttotal: 2.05s\tremaining: 880ms\n",
      "700:\tlearn: 2.3219264\ttotal: 2.06s\tremaining: 877ms\n",
      "701:\tlearn: 2.3199916\ttotal: 2.06s\tremaining: 874ms\n",
      "702:\tlearn: 2.3190790\ttotal: 2.06s\tremaining: 871ms\n",
      "703:\tlearn: 2.3174471\ttotal: 2.06s\tremaining: 868ms\n",
      "704:\tlearn: 2.3166507\ttotal: 2.07s\tremaining: 865ms\n",
      "705:\tlearn: 2.3158152\ttotal: 2.07s\tremaining: 862ms\n",
      "706:\tlearn: 2.3144762\ttotal: 2.07s\tremaining: 859ms\n",
      "707:\tlearn: 2.3129860\ttotal: 2.08s\tremaining: 856ms\n",
      "708:\tlearn: 2.3113395\ttotal: 2.08s\tremaining: 853ms\n",
      "709:\tlearn: 2.3104476\ttotal: 2.08s\tremaining: 850ms\n",
      "710:\tlearn: 2.3094498\ttotal: 2.08s\tremaining: 847ms\n",
      "711:\tlearn: 2.3083325\ttotal: 2.09s\tremaining: 844ms\n",
      "712:\tlearn: 2.3064531\ttotal: 2.09s\tremaining: 841ms\n",
      "713:\tlearn: 2.3049049\ttotal: 2.09s\tremaining: 838ms\n",
      "714:\tlearn: 2.3036522\ttotal: 2.1s\tremaining: 836ms\n",
      "715:\tlearn: 2.3026833\ttotal: 2.1s\tremaining: 833ms\n",
      "716:\tlearn: 2.3018672\ttotal: 2.1s\tremaining: 830ms\n",
      "717:\tlearn: 2.3002533\ttotal: 2.1s\tremaining: 826ms\n",
      "718:\tlearn: 2.2991522\ttotal: 2.11s\tremaining: 823ms\n",
      "719:\tlearn: 2.2976454\ttotal: 2.11s\tremaining: 821ms\n",
      "720:\tlearn: 2.2963719\ttotal: 2.11s\tremaining: 818ms\n",
      "721:\tlearn: 2.2946464\ttotal: 2.12s\tremaining: 815ms\n",
      "722:\tlearn: 2.2933898\ttotal: 2.12s\tremaining: 812ms\n",
      "723:\tlearn: 2.2929272\ttotal: 2.12s\tremaining: 809ms\n",
      "724:\tlearn: 2.2917164\ttotal: 2.12s\tremaining: 806ms\n",
      "725:\tlearn: 2.2907875\ttotal: 2.13s\tremaining: 802ms\n",
      "726:\tlearn: 2.2897446\ttotal: 2.13s\tremaining: 800ms\n",
      "727:\tlearn: 2.2885719\ttotal: 2.13s\tremaining: 797ms\n",
      "728:\tlearn: 2.2874278\ttotal: 2.14s\tremaining: 794ms\n",
      "729:\tlearn: 2.2861877\ttotal: 2.14s\tremaining: 791ms\n",
      "730:\tlearn: 2.2848268\ttotal: 2.14s\tremaining: 788ms\n",
      "731:\tlearn: 2.2838873\ttotal: 2.14s\tremaining: 785ms\n",
      "732:\tlearn: 2.2829849\ttotal: 2.15s\tremaining: 782ms\n",
      "733:\tlearn: 2.2819494\ttotal: 2.15s\tremaining: 779ms\n",
      "734:\tlearn: 2.2807056\ttotal: 2.15s\tremaining: 776ms\n",
      "735:\tlearn: 2.2801447\ttotal: 2.15s\tremaining: 773ms\n",
      "736:\tlearn: 2.2789053\ttotal: 2.16s\tremaining: 770ms\n",
      "737:\tlearn: 2.2774705\ttotal: 2.16s\tremaining: 767ms\n",
      "738:\tlearn: 2.2768112\ttotal: 2.16s\tremaining: 764ms\n",
      "739:\tlearn: 2.2750514\ttotal: 2.17s\tremaining: 761ms\n",
      "740:\tlearn: 2.2740790\ttotal: 2.17s\tremaining: 758ms\n",
      "741:\tlearn: 2.2727482\ttotal: 2.17s\tremaining: 755ms\n",
      "742:\tlearn: 2.2715203\ttotal: 2.17s\tremaining: 752ms\n",
      "743:\tlearn: 2.2700287\ttotal: 2.18s\tremaining: 749ms\n",
      "744:\tlearn: 2.2683179\ttotal: 2.18s\tremaining: 746ms\n",
      "745:\tlearn: 2.2671364\ttotal: 2.18s\tremaining: 744ms\n",
      "746:\tlearn: 2.2657350\ttotal: 2.19s\tremaining: 741ms\n",
      "747:\tlearn: 2.2644286\ttotal: 2.19s\tremaining: 738ms\n",
      "748:\tlearn: 2.2626652\ttotal: 2.19s\tremaining: 735ms\n",
      "749:\tlearn: 2.2613065\ttotal: 2.19s\tremaining: 732ms\n",
      "750:\tlearn: 2.2604695\ttotal: 2.2s\tremaining: 729ms\n",
      "751:\tlearn: 2.2590965\ttotal: 2.2s\tremaining: 726ms\n",
      "752:\tlearn: 2.2578336\ttotal: 2.2s\tremaining: 723ms\n",
      "753:\tlearn: 2.2567663\ttotal: 2.21s\tremaining: 720ms\n",
      "754:\tlearn: 2.2553770\ttotal: 2.21s\tremaining: 717ms\n",
      "755:\tlearn: 2.2539105\ttotal: 2.21s\tremaining: 714ms\n",
      "756:\tlearn: 2.2523034\ttotal: 2.21s\tremaining: 711ms\n",
      "757:\tlearn: 2.2513372\ttotal: 2.22s\tremaining: 708ms\n",
      "758:\tlearn: 2.2503163\ttotal: 2.22s\tremaining: 705ms\n",
      "759:\tlearn: 2.2490187\ttotal: 2.22s\tremaining: 702ms\n",
      "760:\tlearn: 2.2482602\ttotal: 2.23s\tremaining: 699ms\n",
      "761:\tlearn: 2.2469738\ttotal: 2.23s\tremaining: 696ms\n",
      "762:\tlearn: 2.2464554\ttotal: 2.23s\tremaining: 693ms\n",
      "763:\tlearn: 2.2455408\ttotal: 2.23s\tremaining: 690ms\n",
      "764:\tlearn: 2.2442618\ttotal: 2.24s\tremaining: 687ms\n",
      "765:\tlearn: 2.2430935\ttotal: 2.24s\tremaining: 684ms\n",
      "766:\tlearn: 2.2418974\ttotal: 2.24s\tremaining: 681ms\n",
      "767:\tlearn: 2.2407262\ttotal: 2.24s\tremaining: 678ms\n",
      "768:\tlearn: 2.2385575\ttotal: 2.25s\tremaining: 675ms\n",
      "769:\tlearn: 2.2373855\ttotal: 2.25s\tremaining: 672ms\n",
      "770:\tlearn: 2.2365846\ttotal: 2.25s\tremaining: 669ms\n",
      "771:\tlearn: 2.2352065\ttotal: 2.25s\tremaining: 666ms\n",
      "772:\tlearn: 2.2339786\ttotal: 2.26s\tremaining: 663ms\n",
      "773:\tlearn: 2.2335510\ttotal: 2.26s\tremaining: 660ms\n",
      "774:\tlearn: 2.2326226\ttotal: 2.26s\tremaining: 657ms\n",
      "775:\tlearn: 2.2317908\ttotal: 2.27s\tremaining: 654ms\n",
      "776:\tlearn: 2.2310226\ttotal: 2.27s\tremaining: 651ms\n",
      "777:\tlearn: 2.2303257\ttotal: 2.27s\tremaining: 649ms\n",
      "778:\tlearn: 2.2284876\ttotal: 2.27s\tremaining: 646ms\n",
      "779:\tlearn: 2.2271140\ttotal: 2.28s\tremaining: 643ms\n",
      "780:\tlearn: 2.2265612\ttotal: 2.28s\tremaining: 640ms\n",
      "781:\tlearn: 2.2255775\ttotal: 2.28s\tremaining: 637ms\n",
      "782:\tlearn: 2.2248464\ttotal: 2.29s\tremaining: 634ms\n",
      "783:\tlearn: 2.2228827\ttotal: 2.29s\tremaining: 631ms\n",
      "784:\tlearn: 2.2220765\ttotal: 2.29s\tremaining: 628ms\n",
      "785:\tlearn: 2.2211026\ttotal: 2.29s\tremaining: 625ms\n",
      "786:\tlearn: 2.2202041\ttotal: 2.3s\tremaining: 622ms\n",
      "787:\tlearn: 2.2186302\ttotal: 2.3s\tremaining: 619ms\n",
      "788:\tlearn: 2.2169705\ttotal: 2.3s\tremaining: 616ms\n",
      "789:\tlearn: 2.2161727\ttotal: 2.31s\tremaining: 613ms\n",
      "790:\tlearn: 2.2154009\ttotal: 2.31s\tremaining: 610ms\n",
      "791:\tlearn: 2.2146871\ttotal: 2.31s\tremaining: 607ms\n",
      "792:\tlearn: 2.2138224\ttotal: 2.31s\tremaining: 604ms\n",
      "793:\tlearn: 2.2122530\ttotal: 2.31s\tremaining: 601ms\n",
      "794:\tlearn: 2.2113692\ttotal: 2.32s\tremaining: 598ms\n",
      "795:\tlearn: 2.2100318\ttotal: 2.32s\tremaining: 595ms\n",
      "796:\tlearn: 2.2086803\ttotal: 2.32s\tremaining: 592ms\n",
      "797:\tlearn: 2.2079530\ttotal: 2.33s\tremaining: 589ms\n",
      "798:\tlearn: 2.2066205\ttotal: 2.33s\tremaining: 586ms\n",
      "799:\tlearn: 2.2053116\ttotal: 2.33s\tremaining: 584ms\n",
      "800:\tlearn: 2.2044566\ttotal: 2.34s\tremaining: 581ms\n",
      "801:\tlearn: 2.2036391\ttotal: 2.34s\tremaining: 578ms\n",
      "802:\tlearn: 2.2027585\ttotal: 2.34s\tremaining: 575ms\n",
      "803:\tlearn: 2.2020365\ttotal: 2.35s\tremaining: 572ms\n",
      "804:\tlearn: 2.2005904\ttotal: 2.35s\tremaining: 569ms\n",
      "805:\tlearn: 2.1994085\ttotal: 2.35s\tremaining: 566ms\n",
      "806:\tlearn: 2.1980823\ttotal: 2.35s\tremaining: 563ms\n",
      "807:\tlearn: 2.1967249\ttotal: 2.36s\tremaining: 560ms\n",
      "808:\tlearn: 2.1955859\ttotal: 2.36s\tremaining: 557ms\n",
      "809:\tlearn: 2.1943674\ttotal: 2.36s\tremaining: 554ms\n",
      "810:\tlearn: 2.1935513\ttotal: 2.36s\tremaining: 551ms\n",
      "811:\tlearn: 2.1927137\ttotal: 2.37s\tremaining: 548ms\n",
      "812:\tlearn: 2.1917295\ttotal: 2.37s\tremaining: 545ms\n",
      "813:\tlearn: 2.1912894\ttotal: 2.37s\tremaining: 542ms\n",
      "814:\tlearn: 2.1903875\ttotal: 2.38s\tremaining: 539ms\n",
      "815:\tlearn: 2.1890189\ttotal: 2.38s\tremaining: 536ms\n",
      "816:\tlearn: 2.1871484\ttotal: 2.38s\tremaining: 533ms\n",
      "817:\tlearn: 2.1856159\ttotal: 2.38s\tremaining: 530ms\n",
      "818:\tlearn: 2.1845891\ttotal: 2.39s\tremaining: 527ms\n",
      "819:\tlearn: 2.1832730\ttotal: 2.39s\tremaining: 524ms\n",
      "820:\tlearn: 2.1822890\ttotal: 2.39s\tremaining: 521ms\n",
      "821:\tlearn: 2.1809396\ttotal: 2.39s\tremaining: 518ms\n",
      "822:\tlearn: 2.1796180\ttotal: 2.4s\tremaining: 516ms\n",
      "823:\tlearn: 2.1783326\ttotal: 2.4s\tremaining: 513ms\n"
     ]
    },
    {
     "name": "stdout",
     "output_type": "stream",
     "text": [
      "824:\tlearn: 2.1771715\ttotal: 2.4s\tremaining: 510ms\n",
      "825:\tlearn: 2.1765519\ttotal: 2.41s\tremaining: 507ms\n",
      "826:\tlearn: 2.1760198\ttotal: 2.41s\tremaining: 504ms\n",
      "827:\tlearn: 2.1744936\ttotal: 2.41s\tremaining: 501ms\n",
      "828:\tlearn: 2.1729919\ttotal: 2.41s\tremaining: 498ms\n",
      "829:\tlearn: 2.1720933\ttotal: 2.42s\tremaining: 495ms\n",
      "830:\tlearn: 2.1709073\ttotal: 2.42s\tremaining: 492ms\n",
      "831:\tlearn: 2.1694567\ttotal: 2.42s\tremaining: 489ms\n",
      "832:\tlearn: 2.1683788\ttotal: 2.42s\tremaining: 486ms\n",
      "833:\tlearn: 2.1675154\ttotal: 2.43s\tremaining: 483ms\n",
      "834:\tlearn: 2.1658875\ttotal: 2.43s\tremaining: 480ms\n",
      "835:\tlearn: 2.1646148\ttotal: 2.43s\tremaining: 477ms\n",
      "836:\tlearn: 2.1641052\ttotal: 2.44s\tremaining: 475ms\n",
      "837:\tlearn: 2.1630121\ttotal: 2.44s\tremaining: 472ms\n",
      "838:\tlearn: 2.1621792\ttotal: 2.44s\tremaining: 469ms\n",
      "839:\tlearn: 2.1613659\ttotal: 2.45s\tremaining: 466ms\n",
      "840:\tlearn: 2.1606383\ttotal: 2.45s\tremaining: 463ms\n",
      "841:\tlearn: 2.1598151\ttotal: 2.45s\tremaining: 460ms\n",
      "842:\tlearn: 2.1594346\ttotal: 2.46s\tremaining: 458ms\n",
      "843:\tlearn: 2.1589658\ttotal: 2.46s\tremaining: 455ms\n",
      "844:\tlearn: 2.1575281\ttotal: 2.46s\tremaining: 452ms\n",
      "845:\tlearn: 2.1565235\ttotal: 2.47s\tremaining: 449ms\n",
      "846:\tlearn: 2.1561047\ttotal: 2.47s\tremaining: 447ms\n",
      "847:\tlearn: 2.1550475\ttotal: 2.48s\tremaining: 444ms\n",
      "848:\tlearn: 2.1538183\ttotal: 2.48s\tremaining: 441ms\n",
      "849:\tlearn: 2.1525740\ttotal: 2.48s\tremaining: 438ms\n",
      "850:\tlearn: 2.1516407\ttotal: 2.48s\tremaining: 435ms\n",
      "851:\tlearn: 2.1503947\ttotal: 2.49s\tremaining: 432ms\n",
      "852:\tlearn: 2.1496207\ttotal: 2.49s\tremaining: 429ms\n",
      "853:\tlearn: 2.1487704\ttotal: 2.49s\tremaining: 426ms\n",
      "854:\tlearn: 2.1477898\ttotal: 2.5s\tremaining: 423ms\n",
      "855:\tlearn: 2.1465290\ttotal: 2.5s\tremaining: 420ms\n",
      "856:\tlearn: 2.1452110\ttotal: 2.5s\tremaining: 418ms\n",
      "857:\tlearn: 2.1441659\ttotal: 2.5s\tremaining: 415ms\n",
      "858:\tlearn: 2.1432202\ttotal: 2.51s\tremaining: 412ms\n",
      "859:\tlearn: 2.1423308\ttotal: 2.51s\tremaining: 409ms\n",
      "860:\tlearn: 2.1415607\ttotal: 2.51s\tremaining: 406ms\n",
      "861:\tlearn: 2.1406541\ttotal: 2.52s\tremaining: 403ms\n",
      "862:\tlearn: 2.1399177\ttotal: 2.52s\tremaining: 400ms\n",
      "863:\tlearn: 2.1385465\ttotal: 2.52s\tremaining: 397ms\n",
      "864:\tlearn: 2.1376473\ttotal: 2.53s\tremaining: 395ms\n",
      "865:\tlearn: 2.1369049\ttotal: 2.53s\tremaining: 392ms\n",
      "866:\tlearn: 2.1361149\ttotal: 2.53s\tremaining: 389ms\n",
      "867:\tlearn: 2.1355514\ttotal: 2.54s\tremaining: 386ms\n",
      "868:\tlearn: 2.1345073\ttotal: 2.54s\tremaining: 383ms\n",
      "869:\tlearn: 2.1326530\ttotal: 2.54s\tremaining: 380ms\n",
      "870:\tlearn: 2.1317864\ttotal: 2.55s\tremaining: 377ms\n",
      "871:\tlearn: 2.1299181\ttotal: 2.55s\tremaining: 374ms\n",
      "872:\tlearn: 2.1286300\ttotal: 2.55s\tremaining: 371ms\n",
      "873:\tlearn: 2.1270918\ttotal: 2.56s\tremaining: 368ms\n",
      "874:\tlearn: 2.1258755\ttotal: 2.56s\tremaining: 366ms\n",
      "875:\tlearn: 2.1249020\ttotal: 2.56s\tremaining: 363ms\n",
      "876:\tlearn: 2.1237202\ttotal: 2.56s\tremaining: 360ms\n",
      "877:\tlearn: 2.1224390\ttotal: 2.57s\tremaining: 357ms\n",
      "878:\tlearn: 2.1212971\ttotal: 2.57s\tremaining: 354ms\n",
      "879:\tlearn: 2.1208200\ttotal: 2.57s\tremaining: 351ms\n",
      "880:\tlearn: 2.1194267\ttotal: 2.58s\tremaining: 348ms\n",
      "881:\tlearn: 2.1181391\ttotal: 2.58s\tremaining: 345ms\n",
      "882:\tlearn: 2.1172296\ttotal: 2.58s\tremaining: 342ms\n",
      "883:\tlearn: 2.1163239\ttotal: 2.59s\tremaining: 339ms\n",
      "884:\tlearn: 2.1149860\ttotal: 2.59s\tremaining: 336ms\n",
      "885:\tlearn: 2.1141193\ttotal: 2.59s\tremaining: 334ms\n",
      "886:\tlearn: 2.1129782\ttotal: 2.6s\tremaining: 331ms\n",
      "887:\tlearn: 2.1115422\ttotal: 2.6s\tremaining: 328ms\n",
      "888:\tlearn: 2.1108507\ttotal: 2.6s\tremaining: 325ms\n",
      "889:\tlearn: 2.1095135\ttotal: 2.6s\tremaining: 322ms\n",
      "890:\tlearn: 2.1086701\ttotal: 2.61s\tremaining: 319ms\n",
      "891:\tlearn: 2.1079072\ttotal: 2.61s\tremaining: 316ms\n",
      "892:\tlearn: 2.1071718\ttotal: 2.61s\tremaining: 313ms\n",
      "893:\tlearn: 2.1063186\ttotal: 2.62s\tremaining: 310ms\n",
      "894:\tlearn: 2.1051621\ttotal: 2.62s\tremaining: 308ms\n",
      "895:\tlearn: 2.1036762\ttotal: 2.63s\tremaining: 305ms\n",
      "896:\tlearn: 2.1022092\ttotal: 2.63s\tremaining: 302ms\n",
      "897:\tlearn: 2.1011609\ttotal: 2.63s\tremaining: 299ms\n",
      "898:\tlearn: 2.0998353\ttotal: 2.64s\tremaining: 296ms\n",
      "899:\tlearn: 2.0987806\ttotal: 2.64s\tremaining: 293ms\n",
      "900:\tlearn: 2.0976964\ttotal: 2.64s\tremaining: 290ms\n",
      "901:\tlearn: 2.0960162\ttotal: 2.65s\tremaining: 288ms\n",
      "902:\tlearn: 2.0952441\ttotal: 2.65s\tremaining: 285ms\n",
      "903:\tlearn: 2.0943146\ttotal: 2.65s\tremaining: 282ms\n",
      "904:\tlearn: 2.0932952\ttotal: 2.66s\tremaining: 279ms\n",
      "905:\tlearn: 2.0923790\ttotal: 2.66s\tremaining: 276ms\n",
      "906:\tlearn: 2.0916576\ttotal: 2.66s\tremaining: 273ms\n",
      "907:\tlearn: 2.0906015\ttotal: 2.67s\tremaining: 270ms\n",
      "908:\tlearn: 2.0890712\ttotal: 2.67s\tremaining: 267ms\n",
      "909:\tlearn: 2.0883573\ttotal: 2.67s\tremaining: 264ms\n",
      "910:\tlearn: 2.0871337\ttotal: 2.67s\tremaining: 261ms\n",
      "911:\tlearn: 2.0860688\ttotal: 2.68s\tremaining: 258ms\n",
      "912:\tlearn: 2.0853266\ttotal: 2.68s\tremaining: 255ms\n",
      "913:\tlearn: 2.0838823\ttotal: 2.68s\tremaining: 252ms\n",
      "914:\tlearn: 2.0830261\ttotal: 2.69s\tremaining: 250ms\n",
      "915:\tlearn: 2.0819790\ttotal: 2.69s\tremaining: 247ms\n",
      "916:\tlearn: 2.0814246\ttotal: 2.69s\tremaining: 244ms\n",
      "917:\tlearn: 2.0810590\ttotal: 2.69s\tremaining: 241ms\n",
      "918:\tlearn: 2.0798955\ttotal: 2.7s\tremaining: 238ms\n",
      "919:\tlearn: 2.0787294\ttotal: 2.7s\tremaining: 235ms\n",
      "920:\tlearn: 2.0780836\ttotal: 2.7s\tremaining: 232ms\n",
      "921:\tlearn: 2.0769669\ttotal: 2.71s\tremaining: 229ms\n",
      "922:\tlearn: 2.0760953\ttotal: 2.71s\tremaining: 226ms\n",
      "923:\tlearn: 2.0753317\ttotal: 2.71s\tremaining: 223ms\n",
      "924:\tlearn: 2.0740591\ttotal: 2.71s\tremaining: 220ms\n",
      "925:\tlearn: 2.0733441\ttotal: 2.72s\tremaining: 217ms\n",
      "926:\tlearn: 2.0726758\ttotal: 2.72s\tremaining: 214ms\n",
      "927:\tlearn: 2.0718768\ttotal: 2.72s\tremaining: 211ms\n",
      "928:\tlearn: 2.0707116\ttotal: 2.73s\tremaining: 208ms\n",
      "929:\tlearn: 2.0699887\ttotal: 2.73s\tremaining: 205ms\n",
      "930:\tlearn: 2.0691170\ttotal: 2.73s\tremaining: 202ms\n",
      "931:\tlearn: 2.0682497\ttotal: 2.73s\tremaining: 199ms\n",
      "932:\tlearn: 2.0673122\ttotal: 2.74s\tremaining: 197ms\n",
      "933:\tlearn: 2.0663793\ttotal: 2.74s\tremaining: 194ms\n",
      "934:\tlearn: 2.0655858\ttotal: 2.74s\tremaining: 191ms\n",
      "935:\tlearn: 2.0652193\ttotal: 2.75s\tremaining: 188ms\n",
      "936:\tlearn: 2.0639796\ttotal: 2.75s\tremaining: 185ms\n",
      "937:\tlearn: 2.0629732\ttotal: 2.75s\tremaining: 182ms\n",
      "938:\tlearn: 2.0619873\ttotal: 2.75s\tremaining: 179ms\n",
      "939:\tlearn: 2.0610125\ttotal: 2.76s\tremaining: 176ms\n",
      "940:\tlearn: 2.0603516\ttotal: 2.76s\tremaining: 173ms\n",
      "941:\tlearn: 2.0596950\ttotal: 2.76s\tremaining: 170ms\n",
      "942:\tlearn: 2.0590207\ttotal: 2.76s\tremaining: 167ms\n",
      "943:\tlearn: 2.0580661\ttotal: 2.77s\tremaining: 164ms\n",
      "944:\tlearn: 2.0574383\ttotal: 2.77s\tremaining: 161ms\n",
      "945:\tlearn: 2.0564594\ttotal: 2.77s\tremaining: 158ms\n",
      "946:\tlearn: 2.0553527\ttotal: 2.78s\tremaining: 155ms\n",
      "947:\tlearn: 2.0543657\ttotal: 2.78s\tremaining: 152ms\n",
      "948:\tlearn: 2.0530309\ttotal: 2.78s\tremaining: 149ms\n",
      "949:\tlearn: 2.0518678\ttotal: 2.78s\tremaining: 147ms\n",
      "950:\tlearn: 2.0505544\ttotal: 2.79s\tremaining: 144ms\n",
      "951:\tlearn: 2.0492778\ttotal: 2.79s\tremaining: 141ms\n",
      "952:\tlearn: 2.0483174\ttotal: 2.79s\tremaining: 138ms\n",
      "953:\tlearn: 2.0477377\ttotal: 2.8s\tremaining: 135ms\n",
      "954:\tlearn: 2.0466385\ttotal: 2.8s\tremaining: 132ms\n",
      "955:\tlearn: 2.0457729\ttotal: 2.8s\tremaining: 129ms\n",
      "956:\tlearn: 2.0448779\ttotal: 2.81s\tremaining: 126ms\n",
      "957:\tlearn: 2.0438080\ttotal: 2.81s\tremaining: 123ms\n",
      "958:\tlearn: 2.0427646\ttotal: 2.81s\tremaining: 120ms\n",
      "959:\tlearn: 2.0416957\ttotal: 2.81s\tremaining: 117ms\n",
      "960:\tlearn: 2.0407273\ttotal: 2.82s\tremaining: 115ms\n",
      "961:\tlearn: 2.0393097\ttotal: 2.82s\tremaining: 112ms\n",
      "962:\tlearn: 2.0385311\ttotal: 2.83s\tremaining: 109ms\n",
      "963:\tlearn: 2.0375501\ttotal: 2.83s\tremaining: 106ms\n",
      "964:\tlearn: 2.0369417\ttotal: 2.83s\tremaining: 103ms\n",
      "965:\tlearn: 2.0360897\ttotal: 2.84s\tremaining: 99.9ms\n",
      "966:\tlearn: 2.0354653\ttotal: 2.84s\tremaining: 96.9ms\n",
      "967:\tlearn: 2.0351096\ttotal: 2.84s\tremaining: 94ms\n",
      "968:\tlearn: 2.0341372\ttotal: 2.85s\tremaining: 91.1ms\n",
      "969:\tlearn: 2.0327782\ttotal: 2.85s\tremaining: 88.1ms\n",
      "970:\tlearn: 2.0319668\ttotal: 2.85s\tremaining: 85.2ms\n",
      "971:\tlearn: 2.0306771\ttotal: 2.85s\tremaining: 82.3ms\n",
      "972:\tlearn: 2.0303154\ttotal: 2.86s\tremaining: 79.3ms\n",
      "973:\tlearn: 2.0296943\ttotal: 2.86s\tremaining: 76.4ms\n",
      "974:\tlearn: 2.0290394\ttotal: 2.86s\tremaining: 73.4ms\n",
      "975:\tlearn: 2.0276621\ttotal: 2.87s\tremaining: 70.5ms\n",
      "976:\tlearn: 2.0270180\ttotal: 2.87s\tremaining: 67.6ms\n",
      "977:\tlearn: 2.0261673\ttotal: 2.87s\tremaining: 64.6ms\n",
      "978:\tlearn: 2.0253248\ttotal: 2.88s\tremaining: 61.7ms\n",
      "979:\tlearn: 2.0243572\ttotal: 2.88s\tremaining: 58.7ms\n",
      "980:\tlearn: 2.0237488\ttotal: 2.88s\tremaining: 55.8ms\n",
      "981:\tlearn: 2.0226060\ttotal: 2.88s\tremaining: 52.9ms\n",
      "982:\tlearn: 2.0217183\ttotal: 2.89s\tremaining: 49.9ms\n",
      "983:\tlearn: 2.0207346\ttotal: 2.89s\tremaining: 47ms\n",
      "984:\tlearn: 2.0199618\ttotal: 2.89s\tremaining: 44.1ms\n",
      "985:\tlearn: 2.0195710\ttotal: 2.9s\tremaining: 41.1ms\n",
      "986:\tlearn: 2.0186355\ttotal: 2.9s\tremaining: 38.2ms\n",
      "987:\tlearn: 2.0177588\ttotal: 2.9s\tremaining: 35.2ms\n",
      "988:\tlearn: 2.0169146\ttotal: 2.9s\tremaining: 32.3ms\n",
      "989:\tlearn: 2.0160703\ttotal: 2.91s\tremaining: 29.4ms\n",
      "990:\tlearn: 2.0153321\ttotal: 2.91s\tremaining: 26.4ms\n"
     ]
    },
    {
     "name": "stdout",
     "output_type": "stream",
     "text": [
      "991:\tlearn: 2.0138994\ttotal: 2.91s\tremaining: 23.5ms\n",
      "992:\tlearn: 2.0133139\ttotal: 2.92s\tremaining: 20.6ms\n",
      "993:\tlearn: 2.0127652\ttotal: 2.92s\tremaining: 17.6ms\n",
      "994:\tlearn: 2.0120522\ttotal: 2.92s\tremaining: 14.7ms\n",
      "995:\tlearn: 2.0115205\ttotal: 2.92s\tremaining: 11.7ms\n",
      "996:\tlearn: 2.0103749\ttotal: 2.93s\tremaining: 8.81ms\n",
      "997:\tlearn: 2.0094668\ttotal: 2.93s\tremaining: 5.87ms\n",
      "998:\tlearn: 2.0091331\ttotal: 2.93s\tremaining: 2.94ms\n",
      "999:\tlearn: 2.0082293\ttotal: 2.94s\tremaining: 0us\n"
     ]
    }
   ],
   "source": [
    "# Создадим модель.\n",
    "model_cbr_rougher = CatBoostRegressor()\n",
    "\n",
    "# Обучим модель.\n",
    "model_cbr_rougher.fit(features_train, target_train_rougher)\n",
    "\n",
    "#Получим предсказания.\n",
    "predictions = model_cbr_rougher.predict(features_train)\n",
    "\n",
    "# Посчитаем sMAPE_rougher на обучающей выборке.\n",
    "best_r_score = sMAPE_rougher(target_train_rougher, predictions)"
   ]
  },
  {
   "cell_type": "code",
   "execution_count": 50,
   "metadata": {},
   "outputs": [
    {
     "name": "stdout",
     "output_type": "stream",
     "text": [
      "Learning rate set to 0.061931\n",
      "0:\tlearn: 9.1102262\ttotal: 3ms\tremaining: 3s\n",
      "1:\tlearn: 8.9468121\ttotal: 6.52ms\tremaining: 3.25s\n",
      "2:\tlearn: 8.7941891\ttotal: 9.31ms\tremaining: 3.1s\n",
      "3:\tlearn: 8.6601427\ttotal: 13.1ms\tremaining: 3.26s\n",
      "4:\tlearn: 8.5199607\ttotal: 15.9ms\tremaining: 3.16s\n",
      "5:\tlearn: 8.3973612\ttotal: 19.5ms\tremaining: 3.23s\n",
      "6:\tlearn: 8.2757648\ttotal: 22.9ms\tremaining: 3.25s\n",
      "7:\tlearn: 8.1744798\ttotal: 25.9ms\tremaining: 3.21s\n",
      "8:\tlearn: 8.0809610\ttotal: 28.8ms\tremaining: 3.17s\n",
      "9:\tlearn: 7.9869290\ttotal: 31.7ms\tremaining: 3.13s\n",
      "10:\tlearn: 7.9104422\ttotal: 34.5ms\tremaining: 3.1s\n",
      "11:\tlearn: 7.8290151\ttotal: 38.2ms\tremaining: 3.14s\n",
      "12:\tlearn: 7.7593151\ttotal: 41.4ms\tremaining: 3.14s\n",
      "13:\tlearn: 7.6872166\ttotal: 44.3ms\tremaining: 3.12s\n",
      "14:\tlearn: 7.6265705\ttotal: 47.2ms\tremaining: 3.1s\n",
      "15:\tlearn: 7.5685340\ttotal: 50.9ms\tremaining: 3.13s\n",
      "16:\tlearn: 7.5182480\ttotal: 54.2ms\tremaining: 3.14s\n",
      "17:\tlearn: 7.4667152\ttotal: 57.1ms\tremaining: 3.12s\n",
      "18:\tlearn: 7.4242098\ttotal: 60.1ms\tremaining: 3.1s\n",
      "19:\tlearn: 7.3784875\ttotal: 62.8ms\tremaining: 3.08s\n",
      "20:\tlearn: 7.3343997\ttotal: 65.5ms\tremaining: 3.05s\n",
      "21:\tlearn: 7.2876668\ttotal: 68.6ms\tremaining: 3.05s\n",
      "22:\tlearn: 7.2471770\ttotal: 72ms\tremaining: 3.06s\n",
      "23:\tlearn: 7.2097426\ttotal: 74.8ms\tremaining: 3.04s\n",
      "24:\tlearn: 7.1762551\ttotal: 77.7ms\tremaining: 3.03s\n",
      "25:\tlearn: 7.1432181\ttotal: 80.4ms\tremaining: 3.01s\n",
      "26:\tlearn: 7.1153085\ttotal: 83.2ms\tremaining: 3s\n",
      "27:\tlearn: 7.0895666\ttotal: 86.2ms\tremaining: 2.99s\n",
      "28:\tlearn: 7.0593848\ttotal: 88.8ms\tremaining: 2.97s\n",
      "29:\tlearn: 7.0356696\ttotal: 91.4ms\tremaining: 2.95s\n",
      "30:\tlearn: 7.0103153\ttotal: 94ms\tremaining: 2.94s\n",
      "31:\tlearn: 6.9823892\ttotal: 96.6ms\tremaining: 2.92s\n",
      "32:\tlearn: 6.9596896\ttotal: 99.2ms\tremaining: 2.91s\n",
      "33:\tlearn: 6.9325626\ttotal: 103ms\tremaining: 2.92s\n",
      "34:\tlearn: 6.9131563\ttotal: 105ms\tremaining: 2.9s\n",
      "35:\tlearn: 6.8905688\ttotal: 108ms\tremaining: 2.89s\n",
      "36:\tlearn: 6.8635543\ttotal: 111ms\tremaining: 2.88s\n",
      "37:\tlearn: 6.8464040\ttotal: 113ms\tremaining: 2.87s\n",
      "38:\tlearn: 6.8255317\ttotal: 116ms\tremaining: 2.87s\n",
      "39:\tlearn: 6.8054101\ttotal: 119ms\tremaining: 2.86s\n",
      "40:\tlearn: 6.7869563\ttotal: 122ms\tremaining: 2.85s\n",
      "41:\tlearn: 6.7695939\ttotal: 124ms\tremaining: 2.84s\n",
      "42:\tlearn: 6.7552972\ttotal: 127ms\tremaining: 2.83s\n",
      "43:\tlearn: 6.7385147\ttotal: 130ms\tremaining: 2.82s\n",
      "44:\tlearn: 6.7205675\ttotal: 132ms\tremaining: 2.81s\n",
      "45:\tlearn: 6.7053552\ttotal: 136ms\tremaining: 2.81s\n",
      "46:\tlearn: 6.6914413\ttotal: 138ms\tremaining: 2.81s\n",
      "47:\tlearn: 6.6787849\ttotal: 141ms\tremaining: 2.8s\n",
      "48:\tlearn: 6.6619365\ttotal: 144ms\tremaining: 2.79s\n",
      "49:\tlearn: 6.6446074\ttotal: 147ms\tremaining: 2.8s\n",
      "50:\tlearn: 6.6308130\ttotal: 151ms\tremaining: 2.81s\n",
      "51:\tlearn: 6.6174073\ttotal: 154ms\tremaining: 2.8s\n",
      "52:\tlearn: 6.6046574\ttotal: 156ms\tremaining: 2.79s\n",
      "53:\tlearn: 6.5918964\ttotal: 159ms\tremaining: 2.78s\n",
      "54:\tlearn: 6.5772314\ttotal: 162ms\tremaining: 2.78s\n",
      "55:\tlearn: 6.5670084\ttotal: 164ms\tremaining: 2.77s\n",
      "56:\tlearn: 6.5479985\ttotal: 167ms\tremaining: 2.77s\n",
      "57:\tlearn: 6.5374061\ttotal: 170ms\tremaining: 2.76s\n",
      "58:\tlearn: 6.5263013\ttotal: 172ms\tremaining: 2.75s\n",
      "59:\tlearn: 6.5141628\ttotal: 175ms\tremaining: 2.74s\n",
      "60:\tlearn: 6.5035978\ttotal: 178ms\tremaining: 2.73s\n",
      "61:\tlearn: 6.4899851\ttotal: 180ms\tremaining: 2.73s\n",
      "62:\tlearn: 6.4776506\ttotal: 183ms\tremaining: 2.73s\n",
      "63:\tlearn: 6.4671876\ttotal: 186ms\tremaining: 2.72s\n",
      "64:\tlearn: 6.4566479\ttotal: 189ms\tremaining: 2.71s\n",
      "65:\tlearn: 6.4467263\ttotal: 191ms\tremaining: 2.71s\n",
      "66:\tlearn: 6.4363720\ttotal: 194ms\tremaining: 2.7s\n",
      "67:\tlearn: 6.4288415\ttotal: 197ms\tremaining: 2.7s\n",
      "68:\tlearn: 6.4185988\ttotal: 200ms\tremaining: 2.7s\n",
      "69:\tlearn: 6.4102912\ttotal: 203ms\tremaining: 2.69s\n",
      "70:\tlearn: 6.4025510\ttotal: 205ms\tremaining: 2.69s\n",
      "71:\tlearn: 6.3915931\ttotal: 208ms\tremaining: 2.68s\n",
      "72:\tlearn: 6.3846320\ttotal: 211ms\tremaining: 2.68s\n",
      "73:\tlearn: 6.3732240\ttotal: 215ms\tremaining: 2.69s\n",
      "74:\tlearn: 6.3619447\ttotal: 218ms\tremaining: 2.69s\n",
      "75:\tlearn: 6.3514007\ttotal: 221ms\tremaining: 2.69s\n",
      "76:\tlearn: 6.3409507\ttotal: 224ms\tremaining: 2.68s\n",
      "77:\tlearn: 6.3328089\ttotal: 227ms\tremaining: 2.68s\n",
      "78:\tlearn: 6.3245119\ttotal: 230ms\tremaining: 2.68s\n",
      "79:\tlearn: 6.3177030\ttotal: 234ms\tremaining: 2.69s\n",
      "80:\tlearn: 6.3111454\ttotal: 236ms\tremaining: 2.68s\n",
      "81:\tlearn: 6.3039467\ttotal: 240ms\tremaining: 2.69s\n",
      "82:\tlearn: 6.2953238\ttotal: 244ms\tremaining: 2.7s\n",
      "83:\tlearn: 6.2863942\ttotal: 249ms\tremaining: 2.71s\n",
      "84:\tlearn: 6.2804539\ttotal: 252ms\tremaining: 2.71s\n",
      "85:\tlearn: 6.2727098\ttotal: 255ms\tremaining: 2.71s\n",
      "86:\tlearn: 6.2628266\ttotal: 258ms\tremaining: 2.71s\n",
      "87:\tlearn: 6.2568060\ttotal: 261ms\tremaining: 2.7s\n",
      "88:\tlearn: 6.2503649\ttotal: 264ms\tremaining: 2.7s\n",
      "89:\tlearn: 6.2410241\ttotal: 267ms\tremaining: 2.7s\n",
      "90:\tlearn: 6.2320223\ttotal: 270ms\tremaining: 2.7s\n",
      "91:\tlearn: 6.2249318\ttotal: 273ms\tremaining: 2.69s\n",
      "92:\tlearn: 6.2175349\ttotal: 276ms\tremaining: 2.69s\n",
      "93:\tlearn: 6.2114094\ttotal: 279ms\tremaining: 2.69s\n",
      "94:\tlearn: 6.2001122\ttotal: 282ms\tremaining: 2.68s\n",
      "95:\tlearn: 6.1921875\ttotal: 284ms\tremaining: 2.68s\n",
      "96:\tlearn: 6.1834917\ttotal: 287ms\tremaining: 2.67s\n",
      "97:\tlearn: 6.1740800\ttotal: 290ms\tremaining: 2.67s\n",
      "98:\tlearn: 6.1643180\ttotal: 293ms\tremaining: 2.67s\n",
      "99:\tlearn: 6.1578030\ttotal: 296ms\tremaining: 2.66s\n",
      "100:\tlearn: 6.1489779\ttotal: 298ms\tremaining: 2.65s\n",
      "101:\tlearn: 6.1413816\ttotal: 301ms\tremaining: 2.65s\n",
      "102:\tlearn: 6.1334976\ttotal: 304ms\tremaining: 2.64s\n",
      "103:\tlearn: 6.1270076\ttotal: 306ms\tremaining: 2.64s\n",
      "104:\tlearn: 6.1191226\ttotal: 309ms\tremaining: 2.63s\n",
      "105:\tlearn: 6.1100601\ttotal: 312ms\tremaining: 2.63s\n",
      "106:\tlearn: 6.1036504\ttotal: 314ms\tremaining: 2.62s\n",
      "107:\tlearn: 6.0926284\ttotal: 317ms\tremaining: 2.62s\n",
      "108:\tlearn: 6.0849899\ttotal: 320ms\tremaining: 2.61s\n",
      "109:\tlearn: 6.0789719\ttotal: 322ms\tremaining: 2.61s\n",
      "110:\tlearn: 6.0686679\ttotal: 325ms\tremaining: 2.6s\n",
      "111:\tlearn: 6.0628800\ttotal: 328ms\tremaining: 2.6s\n",
      "112:\tlearn: 6.0564082\ttotal: 331ms\tremaining: 2.6s\n",
      "113:\tlearn: 6.0459330\ttotal: 336ms\tremaining: 2.61s\n",
      "114:\tlearn: 6.0365262\ttotal: 338ms\tremaining: 2.6s\n",
      "115:\tlearn: 6.0324701\ttotal: 341ms\tremaining: 2.6s\n",
      "116:\tlearn: 6.0261292\ttotal: 344ms\tremaining: 2.6s\n",
      "117:\tlearn: 6.0179903\ttotal: 347ms\tremaining: 2.59s\n",
      "118:\tlearn: 6.0114588\ttotal: 349ms\tremaining: 2.59s\n",
      "119:\tlearn: 6.0042422\ttotal: 352ms\tremaining: 2.58s\n",
      "120:\tlearn: 5.9988855\ttotal: 355ms\tremaining: 2.58s\n",
      "121:\tlearn: 5.9925598\ttotal: 358ms\tremaining: 2.57s\n",
      "122:\tlearn: 5.9876321\ttotal: 360ms\tremaining: 2.57s\n",
      "123:\tlearn: 5.9798555\ttotal: 363ms\tremaining: 2.56s\n",
      "124:\tlearn: 5.9722384\ttotal: 366ms\tremaining: 2.56s\n",
      "125:\tlearn: 5.9683599\ttotal: 368ms\tremaining: 2.55s\n",
      "126:\tlearn: 5.9630243\ttotal: 371ms\tremaining: 2.55s\n",
      "127:\tlearn: 5.9563196\ttotal: 374ms\tremaining: 2.55s\n",
      "128:\tlearn: 5.9496843\ttotal: 377ms\tremaining: 2.54s\n",
      "129:\tlearn: 5.9428430\ttotal: 379ms\tremaining: 2.54s\n",
      "130:\tlearn: 5.9362388\ttotal: 382ms\tremaining: 2.53s\n",
      "131:\tlearn: 5.9319988\ttotal: 385ms\tremaining: 2.53s\n",
      "132:\tlearn: 5.9266941\ttotal: 387ms\tremaining: 2.52s\n",
      "133:\tlearn: 5.9184121\ttotal: 391ms\tremaining: 2.52s\n",
      "134:\tlearn: 5.9096253\ttotal: 393ms\tremaining: 2.52s\n",
      "135:\tlearn: 5.9046473\ttotal: 396ms\tremaining: 2.52s\n",
      "136:\tlearn: 5.8961431\ttotal: 399ms\tremaining: 2.51s\n",
      "137:\tlearn: 5.8896956\ttotal: 401ms\tremaining: 2.51s\n",
      "138:\tlearn: 5.8826121\ttotal: 404ms\tremaining: 2.5s\n",
      "139:\tlearn: 5.8770081\ttotal: 407ms\tremaining: 2.5s\n",
      "140:\tlearn: 5.8697810\ttotal: 410ms\tremaining: 2.5s\n",
      "141:\tlearn: 5.8618716\ttotal: 413ms\tremaining: 2.49s\n",
      "142:\tlearn: 5.8571341\ttotal: 415ms\tremaining: 2.49s\n",
      "143:\tlearn: 5.8481622\ttotal: 418ms\tremaining: 2.48s\n",
      "144:\tlearn: 5.8395226\ttotal: 421ms\tremaining: 2.48s\n",
      "145:\tlearn: 5.8325470\ttotal: 423ms\tremaining: 2.48s\n",
      "146:\tlearn: 5.8246533\ttotal: 426ms\tremaining: 2.47s\n",
      "147:\tlearn: 5.8196313\ttotal: 429ms\tremaining: 2.47s\n",
      "148:\tlearn: 5.8137473\ttotal: 432ms\tremaining: 2.47s\n",
      "149:\tlearn: 5.8064691\ttotal: 435ms\tremaining: 2.47s\n",
      "150:\tlearn: 5.8010129\ttotal: 438ms\tremaining: 2.46s\n",
      "151:\tlearn: 5.7959682\ttotal: 441ms\tremaining: 2.46s\n",
      "152:\tlearn: 5.7901404\ttotal: 443ms\tremaining: 2.45s\n",
      "153:\tlearn: 5.7826230\ttotal: 446ms\tremaining: 2.45s\n",
      "154:\tlearn: 5.7759103\ttotal: 449ms\tremaining: 2.45s\n",
      "155:\tlearn: 5.7686494\ttotal: 451ms\tremaining: 2.44s\n",
      "156:\tlearn: 5.7635009\ttotal: 454ms\tremaining: 2.44s\n",
      "157:\tlearn: 5.7577788\ttotal: 457ms\tremaining: 2.44s\n",
      "158:\tlearn: 5.7497321\ttotal: 460ms\tremaining: 2.43s\n",
      "159:\tlearn: 5.7436010\ttotal: 462ms\tremaining: 2.43s\n",
      "160:\tlearn: 5.7372693\ttotal: 465ms\tremaining: 2.42s\n",
      "161:\tlearn: 5.7315494\ttotal: 468ms\tremaining: 2.42s\n",
      "162:\tlearn: 5.7255059\ttotal: 471ms\tremaining: 2.42s\n",
      "163:\tlearn: 5.7195377\ttotal: 474ms\tremaining: 2.42s\n",
      "164:\tlearn: 5.7146176\ttotal: 477ms\tremaining: 2.41s\n",
      "165:\tlearn: 5.7120994\ttotal: 479ms\tremaining: 2.41s\n",
      "166:\tlearn: 5.7055278\ttotal: 483ms\tremaining: 2.41s\n",
      "167:\tlearn: 5.7010910\ttotal: 485ms\tremaining: 2.4s\n",
      "168:\tlearn: 5.6960484\ttotal: 488ms\tremaining: 2.4s\n",
      "169:\tlearn: 5.6898338\ttotal: 491ms\tremaining: 2.4s\n",
      "170:\tlearn: 5.6827971\ttotal: 494ms\tremaining: 2.39s\n",
      "171:\tlearn: 5.6756785\ttotal: 496ms\tremaining: 2.39s\n",
      "172:\tlearn: 5.6697854\ttotal: 500ms\tremaining: 2.39s\n",
      "173:\tlearn: 5.6638811\ttotal: 502ms\tremaining: 2.38s\n",
      "174:\tlearn: 5.6567901\ttotal: 505ms\tremaining: 2.38s\n",
      "175:\tlearn: 5.6510373\ttotal: 508ms\tremaining: 2.38s\n",
      "176:\tlearn: 5.6461487\ttotal: 510ms\tremaining: 2.37s\n",
      "177:\tlearn: 5.6405125\ttotal: 513ms\tremaining: 2.37s\n",
      "178:\tlearn: 5.6357748\ttotal: 516ms\tremaining: 2.37s\n",
      "179:\tlearn: 5.6283066\ttotal: 519ms\tremaining: 2.36s\n",
      "180:\tlearn: 5.6219316\ttotal: 521ms\tremaining: 2.36s\n"
     ]
    },
    {
     "name": "stdout",
     "output_type": "stream",
     "text": [
      "181:\tlearn: 5.6153747\ttotal: 525ms\tremaining: 2.36s\n",
      "182:\tlearn: 5.6087985\ttotal: 527ms\tremaining: 2.35s\n",
      "183:\tlearn: 5.6025372\ttotal: 531ms\tremaining: 2.35s\n",
      "184:\tlearn: 5.5973010\ttotal: 533ms\tremaining: 2.35s\n",
      "185:\tlearn: 5.5921063\ttotal: 536ms\tremaining: 2.35s\n",
      "186:\tlearn: 5.5872100\ttotal: 539ms\tremaining: 2.34s\n",
      "187:\tlearn: 5.5811690\ttotal: 542ms\tremaining: 2.34s\n",
      "188:\tlearn: 5.5754039\ttotal: 544ms\tremaining: 2.34s\n",
      "189:\tlearn: 5.5673230\ttotal: 548ms\tremaining: 2.33s\n",
      "190:\tlearn: 5.5620385\ttotal: 550ms\tremaining: 2.33s\n",
      "191:\tlearn: 5.5538032\ttotal: 553ms\tremaining: 2.33s\n",
      "192:\tlearn: 5.5495852\ttotal: 556ms\tremaining: 2.32s\n",
      "193:\tlearn: 5.5454342\ttotal: 558ms\tremaining: 2.32s\n",
      "194:\tlearn: 5.5410999\ttotal: 561ms\tremaining: 2.31s\n",
      "195:\tlearn: 5.5359436\ttotal: 563ms\tremaining: 2.31s\n",
      "196:\tlearn: 5.5313842\ttotal: 567ms\tremaining: 2.31s\n",
      "197:\tlearn: 5.5256113\ttotal: 569ms\tremaining: 2.31s\n",
      "198:\tlearn: 5.5200353\ttotal: 572ms\tremaining: 2.3s\n",
      "199:\tlearn: 5.5140749\ttotal: 575ms\tremaining: 2.3s\n",
      "200:\tlearn: 5.5099722\ttotal: 578ms\tremaining: 2.3s\n",
      "201:\tlearn: 5.5048400\ttotal: 581ms\tremaining: 2.29s\n",
      "202:\tlearn: 5.4988835\ttotal: 583ms\tremaining: 2.29s\n",
      "203:\tlearn: 5.4924126\ttotal: 586ms\tremaining: 2.29s\n",
      "204:\tlearn: 5.4867731\ttotal: 589ms\tremaining: 2.28s\n",
      "205:\tlearn: 5.4810257\ttotal: 592ms\tremaining: 2.28s\n",
      "206:\tlearn: 5.4755506\ttotal: 594ms\tremaining: 2.28s\n",
      "207:\tlearn: 5.4720109\ttotal: 597ms\tremaining: 2.27s\n",
      "208:\tlearn: 5.4664686\ttotal: 599ms\tremaining: 2.27s\n",
      "209:\tlearn: 5.4623890\ttotal: 602ms\tremaining: 2.27s\n",
      "210:\tlearn: 5.4564319\ttotal: 605ms\tremaining: 2.26s\n",
      "211:\tlearn: 5.4510012\ttotal: 608ms\tremaining: 2.26s\n",
      "212:\tlearn: 5.4447139\ttotal: 611ms\tremaining: 2.26s\n",
      "213:\tlearn: 5.4393998\ttotal: 614ms\tremaining: 2.25s\n",
      "214:\tlearn: 5.4344214\ttotal: 617ms\tremaining: 2.25s\n",
      "215:\tlearn: 5.4295395\ttotal: 620ms\tremaining: 2.25s\n",
      "216:\tlearn: 5.4255964\ttotal: 623ms\tremaining: 2.25s\n",
      "217:\tlearn: 5.4186545\ttotal: 626ms\tremaining: 2.24s\n",
      "218:\tlearn: 5.4135646\ttotal: 628ms\tremaining: 2.24s\n",
      "219:\tlearn: 5.4102094\ttotal: 631ms\tremaining: 2.24s\n",
      "220:\tlearn: 5.4061062\ttotal: 633ms\tremaining: 2.23s\n",
      "221:\tlearn: 5.4017277\ttotal: 636ms\tremaining: 2.23s\n",
      "222:\tlearn: 5.3949298\ttotal: 639ms\tremaining: 2.23s\n",
      "223:\tlearn: 5.3886710\ttotal: 642ms\tremaining: 2.22s\n",
      "224:\tlearn: 5.3833432\ttotal: 644ms\tremaining: 2.22s\n",
      "225:\tlearn: 5.3805299\ttotal: 647ms\tremaining: 2.21s\n",
      "226:\tlearn: 5.3748878\ttotal: 650ms\tremaining: 2.21s\n",
      "227:\tlearn: 5.3709904\ttotal: 653ms\tremaining: 2.21s\n",
      "228:\tlearn: 5.3676235\ttotal: 655ms\tremaining: 2.21s\n",
      "229:\tlearn: 5.3618138\ttotal: 658ms\tremaining: 2.2s\n",
      "230:\tlearn: 5.3571934\ttotal: 661ms\tremaining: 2.2s\n",
      "231:\tlearn: 5.3524421\ttotal: 664ms\tremaining: 2.2s\n",
      "232:\tlearn: 5.3485157\ttotal: 666ms\tremaining: 2.19s\n",
      "233:\tlearn: 5.3430946\ttotal: 669ms\tremaining: 2.19s\n",
      "234:\tlearn: 5.3396319\ttotal: 672ms\tremaining: 2.19s\n",
      "235:\tlearn: 5.3362979\ttotal: 674ms\tremaining: 2.18s\n",
      "236:\tlearn: 5.3319777\ttotal: 677ms\tremaining: 2.18s\n",
      "237:\tlearn: 5.3284061\ttotal: 680ms\tremaining: 2.18s\n",
      "238:\tlearn: 5.3229774\ttotal: 683ms\tremaining: 2.17s\n",
      "239:\tlearn: 5.3191914\ttotal: 686ms\tremaining: 2.17s\n",
      "240:\tlearn: 5.3124378\ttotal: 689ms\tremaining: 2.17s\n",
      "241:\tlearn: 5.3056793\ttotal: 692ms\tremaining: 2.17s\n",
      "242:\tlearn: 5.3014439\ttotal: 695ms\tremaining: 2.16s\n",
      "243:\tlearn: 5.2974506\ttotal: 697ms\tremaining: 2.16s\n",
      "244:\tlearn: 5.2939035\ttotal: 700ms\tremaining: 2.16s\n",
      "245:\tlearn: 5.2879230\ttotal: 703ms\tremaining: 2.15s\n",
      "246:\tlearn: 5.2817160\ttotal: 706ms\tremaining: 2.15s\n",
      "247:\tlearn: 5.2770502\ttotal: 709ms\tremaining: 2.15s\n",
      "248:\tlearn: 5.2739572\ttotal: 711ms\tremaining: 2.15s\n",
      "249:\tlearn: 5.2699267\ttotal: 714ms\tremaining: 2.14s\n",
      "250:\tlearn: 5.2658436\ttotal: 717ms\tremaining: 2.14s\n",
      "251:\tlearn: 5.2622074\ttotal: 720ms\tremaining: 2.14s\n",
      "252:\tlearn: 5.2575478\ttotal: 723ms\tremaining: 2.13s\n",
      "253:\tlearn: 5.2527257\ttotal: 726ms\tremaining: 2.13s\n",
      "254:\tlearn: 5.2490445\ttotal: 728ms\tremaining: 2.13s\n",
      "255:\tlearn: 5.2440689\ttotal: 731ms\tremaining: 2.12s\n",
      "256:\tlearn: 5.2410991\ttotal: 734ms\tremaining: 2.12s\n",
      "257:\tlearn: 5.2371257\ttotal: 736ms\tremaining: 2.12s\n",
      "258:\tlearn: 5.2320814\ttotal: 739ms\tremaining: 2.11s\n",
      "259:\tlearn: 5.2288934\ttotal: 742ms\tremaining: 2.11s\n",
      "260:\tlearn: 5.2232830\ttotal: 745ms\tremaining: 2.11s\n",
      "261:\tlearn: 5.2188834\ttotal: 748ms\tremaining: 2.11s\n",
      "262:\tlearn: 5.2125741\ttotal: 751ms\tremaining: 2.1s\n",
      "263:\tlearn: 5.2074797\ttotal: 753ms\tremaining: 2.1s\n",
      "264:\tlearn: 5.2020998\ttotal: 756ms\tremaining: 2.1s\n",
      "265:\tlearn: 5.1977362\ttotal: 759ms\tremaining: 2.09s\n",
      "266:\tlearn: 5.1922491\ttotal: 762ms\tremaining: 2.09s\n",
      "267:\tlearn: 5.1865625\ttotal: 765ms\tremaining: 2.09s\n",
      "268:\tlearn: 5.1830844\ttotal: 767ms\tremaining: 2.08s\n",
      "269:\tlearn: 5.1781003\ttotal: 771ms\tremaining: 2.08s\n",
      "270:\tlearn: 5.1738157\ttotal: 774ms\tremaining: 2.08s\n",
      "271:\tlearn: 5.1701668\ttotal: 777ms\tremaining: 2.08s\n",
      "272:\tlearn: 5.1651534\ttotal: 780ms\tremaining: 2.08s\n",
      "273:\tlearn: 5.1606692\ttotal: 782ms\tremaining: 2.07s\n",
      "274:\tlearn: 5.1562040\ttotal: 785ms\tremaining: 2.07s\n",
      "275:\tlearn: 5.1534696\ttotal: 788ms\tremaining: 2.07s\n",
      "276:\tlearn: 5.1499502\ttotal: 792ms\tremaining: 2.07s\n",
      "277:\tlearn: 5.1474626\ttotal: 794ms\tremaining: 2.06s\n",
      "278:\tlearn: 5.1433993\ttotal: 797ms\tremaining: 2.06s\n",
      "279:\tlearn: 5.1390458\ttotal: 800ms\tremaining: 2.06s\n",
      "280:\tlearn: 5.1344983\ttotal: 804ms\tremaining: 2.06s\n",
      "281:\tlearn: 5.1307179\ttotal: 807ms\tremaining: 2.06s\n",
      "282:\tlearn: 5.1259695\ttotal: 810ms\tremaining: 2.05s\n",
      "283:\tlearn: 5.1211109\ttotal: 813ms\tremaining: 2.05s\n",
      "284:\tlearn: 5.1166489\ttotal: 816ms\tremaining: 2.05s\n",
      "285:\tlearn: 5.1110140\ttotal: 819ms\tremaining: 2.04s\n",
      "286:\tlearn: 5.1076372\ttotal: 823ms\tremaining: 2.04s\n",
      "287:\tlearn: 5.1039212\ttotal: 826ms\tremaining: 2.04s\n",
      "288:\tlearn: 5.1006440\ttotal: 829ms\tremaining: 2.04s\n",
      "289:\tlearn: 5.0935188\ttotal: 831ms\tremaining: 2.04s\n",
      "290:\tlearn: 5.0892154\ttotal: 834ms\tremaining: 2.03s\n",
      "291:\tlearn: 5.0866952\ttotal: 838ms\tremaining: 2.03s\n",
      "292:\tlearn: 5.0823643\ttotal: 841ms\tremaining: 2.03s\n",
      "293:\tlearn: 5.0789952\ttotal: 845ms\tremaining: 2.03s\n",
      "294:\tlearn: 5.0766397\ttotal: 848ms\tremaining: 2.03s\n",
      "295:\tlearn: 5.0735978\ttotal: 851ms\tremaining: 2.02s\n",
      "296:\tlearn: 5.0702679\ttotal: 854ms\tremaining: 2.02s\n",
      "297:\tlearn: 5.0675812\ttotal: 857ms\tremaining: 2.02s\n",
      "298:\tlearn: 5.0635712\ttotal: 860ms\tremaining: 2.02s\n",
      "299:\tlearn: 5.0594443\ttotal: 862ms\tremaining: 2.01s\n",
      "300:\tlearn: 5.0552767\ttotal: 865ms\tremaining: 2.01s\n",
      "301:\tlearn: 5.0489743\ttotal: 868ms\tremaining: 2.01s\n",
      "302:\tlearn: 5.0454136\ttotal: 871ms\tremaining: 2s\n",
      "303:\tlearn: 5.0425210\ttotal: 874ms\tremaining: 2s\n",
      "304:\tlearn: 5.0385417\ttotal: 877ms\tremaining: 2s\n",
      "305:\tlearn: 5.0320272\ttotal: 879ms\tremaining: 1.99s\n",
      "306:\tlearn: 5.0272822\ttotal: 882ms\tremaining: 1.99s\n",
      "307:\tlearn: 5.0237229\ttotal: 886ms\tremaining: 1.99s\n",
      "308:\tlearn: 5.0198626\ttotal: 889ms\tremaining: 1.99s\n",
      "309:\tlearn: 5.0156798\ttotal: 891ms\tremaining: 1.98s\n",
      "310:\tlearn: 5.0125079\ttotal: 894ms\tremaining: 1.98s\n",
      "311:\tlearn: 5.0084333\ttotal: 897ms\tremaining: 1.98s\n",
      "312:\tlearn: 5.0058627\ttotal: 899ms\tremaining: 1.97s\n",
      "313:\tlearn: 5.0039725\ttotal: 903ms\tremaining: 1.97s\n",
      "314:\tlearn: 5.0008116\ttotal: 905ms\tremaining: 1.97s\n",
      "315:\tlearn: 4.9986381\ttotal: 908ms\tremaining: 1.96s\n",
      "316:\tlearn: 4.9954461\ttotal: 910ms\tremaining: 1.96s\n",
      "317:\tlearn: 4.9921951\ttotal: 914ms\tremaining: 1.96s\n",
      "318:\tlearn: 4.9863271\ttotal: 917ms\tremaining: 1.96s\n",
      "319:\tlearn: 4.9815016\ttotal: 920ms\tremaining: 1.95s\n",
      "320:\tlearn: 4.9756426\ttotal: 922ms\tremaining: 1.95s\n",
      "321:\tlearn: 4.9716926\ttotal: 925ms\tremaining: 1.95s\n",
      "322:\tlearn: 4.9680975\ttotal: 928ms\tremaining: 1.94s\n",
      "323:\tlearn: 4.9620409\ttotal: 931ms\tremaining: 1.94s\n",
      "324:\tlearn: 4.9576234\ttotal: 934ms\tremaining: 1.94s\n",
      "325:\tlearn: 4.9526534\ttotal: 936ms\tremaining: 1.94s\n",
      "326:\tlearn: 4.9485911\ttotal: 939ms\tremaining: 1.93s\n",
      "327:\tlearn: 4.9450386\ttotal: 941ms\tremaining: 1.93s\n",
      "328:\tlearn: 4.9397141\ttotal: 944ms\tremaining: 1.93s\n",
      "329:\tlearn: 4.9373076\ttotal: 947ms\tremaining: 1.92s\n",
      "330:\tlearn: 4.9321124\ttotal: 950ms\tremaining: 1.92s\n",
      "331:\tlearn: 4.9287949\ttotal: 956ms\tremaining: 1.92s\n",
      "332:\tlearn: 4.9267049\ttotal: 959ms\tremaining: 1.92s\n",
      "333:\tlearn: 4.9222134\ttotal: 962ms\tremaining: 1.92s\n",
      "334:\tlearn: 4.9169295\ttotal: 967ms\tremaining: 1.92s\n",
      "335:\tlearn: 4.9121311\ttotal: 970ms\tremaining: 1.92s\n",
      "336:\tlearn: 4.9083472\ttotal: 973ms\tremaining: 1.91s\n",
      "337:\tlearn: 4.9057548\ttotal: 975ms\tremaining: 1.91s\n",
      "338:\tlearn: 4.9017417\ttotal: 978ms\tremaining: 1.91s\n",
      "339:\tlearn: 4.8984650\ttotal: 981ms\tremaining: 1.9s\n",
      "340:\tlearn: 4.8946690\ttotal: 984ms\tremaining: 1.9s\n",
      "341:\tlearn: 4.8924775\ttotal: 987ms\tremaining: 1.9s\n",
      "342:\tlearn: 4.8898453\ttotal: 990ms\tremaining: 1.9s\n",
      "343:\tlearn: 4.8851658\ttotal: 992ms\tremaining: 1.89s\n"
     ]
    },
    {
     "name": "stdout",
     "output_type": "stream",
     "text": [
      "344:\tlearn: 4.8810705\ttotal: 996ms\tremaining: 1.89s\n",
      "345:\tlearn: 4.8765659\ttotal: 999ms\tremaining: 1.89s\n",
      "346:\tlearn: 4.8738789\ttotal: 1s\tremaining: 1.89s\n",
      "347:\tlearn: 4.8682867\ttotal: 1s\tremaining: 1.88s\n",
      "348:\tlearn: 4.8640757\ttotal: 1.01s\tremaining: 1.88s\n",
      "349:\tlearn: 4.8600774\ttotal: 1.01s\tremaining: 1.88s\n",
      "350:\tlearn: 4.8574151\ttotal: 1.01s\tremaining: 1.87s\n",
      "351:\tlearn: 4.8528781\ttotal: 1.01s\tremaining: 1.87s\n",
      "352:\tlearn: 4.8497390\ttotal: 1.02s\tremaining: 1.87s\n",
      "353:\tlearn: 4.8469239\ttotal: 1.02s\tremaining: 1.86s\n",
      "354:\tlearn: 4.8428207\ttotal: 1.02s\tremaining: 1.86s\n",
      "355:\tlearn: 4.8393540\ttotal: 1.03s\tremaining: 1.86s\n",
      "356:\tlearn: 4.8364464\ttotal: 1.03s\tremaining: 1.85s\n",
      "357:\tlearn: 4.8327044\ttotal: 1.03s\tremaining: 1.85s\n",
      "358:\tlearn: 4.8296469\ttotal: 1.03s\tremaining: 1.85s\n",
      "359:\tlearn: 4.8263828\ttotal: 1.04s\tremaining: 1.84s\n",
      "360:\tlearn: 4.8235810\ttotal: 1.04s\tremaining: 1.84s\n",
      "361:\tlearn: 4.8205337\ttotal: 1.04s\tremaining: 1.84s\n",
      "362:\tlearn: 4.8169503\ttotal: 1.05s\tremaining: 1.84s\n",
      "363:\tlearn: 4.8137628\ttotal: 1.05s\tremaining: 1.83s\n",
      "364:\tlearn: 4.8108421\ttotal: 1.05s\tremaining: 1.83s\n",
      "365:\tlearn: 4.8073052\ttotal: 1.05s\tremaining: 1.83s\n",
      "366:\tlearn: 4.8026741\ttotal: 1.06s\tremaining: 1.82s\n",
      "367:\tlearn: 4.7999149\ttotal: 1.06s\tremaining: 1.82s\n",
      "368:\tlearn: 4.7969903\ttotal: 1.06s\tremaining: 1.82s\n",
      "369:\tlearn: 4.7947885\ttotal: 1.07s\tremaining: 1.81s\n",
      "370:\tlearn: 4.7898061\ttotal: 1.07s\tremaining: 1.81s\n",
      "371:\tlearn: 4.7863833\ttotal: 1.07s\tremaining: 1.81s\n",
      "372:\tlearn: 4.7848553\ttotal: 1.07s\tremaining: 1.8s\n",
      "373:\tlearn: 4.7822217\ttotal: 1.08s\tremaining: 1.8s\n",
      "374:\tlearn: 4.7794807\ttotal: 1.08s\tremaining: 1.8s\n",
      "375:\tlearn: 4.7760415\ttotal: 1.08s\tremaining: 1.8s\n",
      "376:\tlearn: 4.7727834\ttotal: 1.08s\tremaining: 1.79s\n",
      "377:\tlearn: 4.7701224\ttotal: 1.09s\tremaining: 1.79s\n",
      "378:\tlearn: 4.7655407\ttotal: 1.09s\tremaining: 1.79s\n",
      "379:\tlearn: 4.7628357\ttotal: 1.09s\tremaining: 1.78s\n",
      "380:\tlearn: 4.7597442\ttotal: 1.1s\tremaining: 1.78s\n",
      "381:\tlearn: 4.7573225\ttotal: 1.1s\tremaining: 1.78s\n",
      "382:\tlearn: 4.7550968\ttotal: 1.1s\tremaining: 1.77s\n",
      "383:\tlearn: 4.7518928\ttotal: 1.1s\tremaining: 1.77s\n",
      "384:\tlearn: 4.7481048\ttotal: 1.11s\tremaining: 1.77s\n",
      "385:\tlearn: 4.7458384\ttotal: 1.11s\tremaining: 1.77s\n",
      "386:\tlearn: 4.7426475\ttotal: 1.11s\tremaining: 1.76s\n",
      "387:\tlearn: 4.7413796\ttotal: 1.12s\tremaining: 1.76s\n",
      "388:\tlearn: 4.7386578\ttotal: 1.12s\tremaining: 1.76s\n",
      "389:\tlearn: 4.7341850\ttotal: 1.12s\tremaining: 1.75s\n",
      "390:\tlearn: 4.7312192\ttotal: 1.13s\tremaining: 1.75s\n",
      "391:\tlearn: 4.7273900\ttotal: 1.13s\tremaining: 1.75s\n",
      "392:\tlearn: 4.7241465\ttotal: 1.13s\tremaining: 1.75s\n",
      "393:\tlearn: 4.7212636\ttotal: 1.13s\tremaining: 1.74s\n",
      "394:\tlearn: 4.7178745\ttotal: 1.14s\tremaining: 1.74s\n",
      "395:\tlearn: 4.7148780\ttotal: 1.14s\tremaining: 1.74s\n",
      "396:\tlearn: 4.7114141\ttotal: 1.14s\tremaining: 1.73s\n",
      "397:\tlearn: 4.7090953\ttotal: 1.14s\tremaining: 1.73s\n",
      "398:\tlearn: 4.7059775\ttotal: 1.15s\tremaining: 1.73s\n",
      "399:\tlearn: 4.7036842\ttotal: 1.15s\tremaining: 1.72s\n",
      "400:\tlearn: 4.7012749\ttotal: 1.15s\tremaining: 1.72s\n",
      "401:\tlearn: 4.6985237\ttotal: 1.16s\tremaining: 1.72s\n",
      "402:\tlearn: 4.6958677\ttotal: 1.16s\tremaining: 1.72s\n",
      "403:\tlearn: 4.6931862\ttotal: 1.16s\tremaining: 1.71s\n",
      "404:\tlearn: 4.6911011\ttotal: 1.16s\tremaining: 1.71s\n",
      "405:\tlearn: 4.6867130\ttotal: 1.17s\tremaining: 1.71s\n",
      "406:\tlearn: 4.6836066\ttotal: 1.17s\tremaining: 1.71s\n",
      "407:\tlearn: 4.6794106\ttotal: 1.17s\tremaining: 1.7s\n",
      "408:\tlearn: 4.6756203\ttotal: 1.18s\tremaining: 1.7s\n",
      "409:\tlearn: 4.6722353\ttotal: 1.18s\tremaining: 1.7s\n",
      "410:\tlearn: 4.6691122\ttotal: 1.18s\tremaining: 1.69s\n",
      "411:\tlearn: 4.6660988\ttotal: 1.18s\tremaining: 1.69s\n",
      "412:\tlearn: 4.6637595\ttotal: 1.19s\tremaining: 1.69s\n",
      "413:\tlearn: 4.6616311\ttotal: 1.19s\tremaining: 1.68s\n",
      "414:\tlearn: 4.6592520\ttotal: 1.19s\tremaining: 1.68s\n",
      "415:\tlearn: 4.6548202\ttotal: 1.2s\tremaining: 1.68s\n",
      "416:\tlearn: 4.6533169\ttotal: 1.2s\tremaining: 1.68s\n",
      "417:\tlearn: 4.6512718\ttotal: 1.2s\tremaining: 1.67s\n",
      "418:\tlearn: 4.6473217\ttotal: 1.21s\tremaining: 1.67s\n",
      "419:\tlearn: 4.6446940\ttotal: 1.21s\tremaining: 1.67s\n",
      "420:\tlearn: 4.6413071\ttotal: 1.21s\tremaining: 1.67s\n",
      "421:\tlearn: 4.6377286\ttotal: 1.21s\tremaining: 1.66s\n",
      "422:\tlearn: 4.6337221\ttotal: 1.22s\tremaining: 1.66s\n",
      "423:\tlearn: 4.6308237\ttotal: 1.22s\tremaining: 1.66s\n",
      "424:\tlearn: 4.6277563\ttotal: 1.22s\tremaining: 1.65s\n",
      "425:\tlearn: 4.6242108\ttotal: 1.22s\tremaining: 1.65s\n",
      "426:\tlearn: 4.6210445\ttotal: 1.23s\tremaining: 1.65s\n",
      "427:\tlearn: 4.6190014\ttotal: 1.23s\tremaining: 1.64s\n",
      "428:\tlearn: 4.6145131\ttotal: 1.23s\tremaining: 1.64s\n",
      "429:\tlearn: 4.6115182\ttotal: 1.24s\tremaining: 1.64s\n",
      "430:\tlearn: 4.6083725\ttotal: 1.24s\tremaining: 1.64s\n",
      "431:\tlearn: 4.6053069\ttotal: 1.24s\tremaining: 1.63s\n",
      "432:\tlearn: 4.6037630\ttotal: 1.24s\tremaining: 1.63s\n",
      "433:\tlearn: 4.6007295\ttotal: 1.25s\tremaining: 1.63s\n",
      "434:\tlearn: 4.5979934\ttotal: 1.25s\tremaining: 1.62s\n",
      "435:\tlearn: 4.5947863\ttotal: 1.25s\tremaining: 1.62s\n",
      "436:\tlearn: 4.5929601\ttotal: 1.26s\tremaining: 1.62s\n",
      "437:\tlearn: 4.5905236\ttotal: 1.26s\tremaining: 1.61s\n",
      "438:\tlearn: 4.5868905\ttotal: 1.26s\tremaining: 1.61s\n",
      "439:\tlearn: 4.5831279\ttotal: 1.26s\tremaining: 1.61s\n",
      "440:\tlearn: 4.5789071\ttotal: 1.27s\tremaining: 1.6s\n",
      "441:\tlearn: 4.5752709\ttotal: 1.27s\tremaining: 1.6s\n",
      "442:\tlearn: 4.5727655\ttotal: 1.27s\tremaining: 1.6s\n",
      "443:\tlearn: 4.5710078\ttotal: 1.27s\tremaining: 1.6s\n",
      "444:\tlearn: 4.5671220\ttotal: 1.28s\tremaining: 1.59s\n",
      "445:\tlearn: 4.5646866\ttotal: 1.28s\tremaining: 1.59s\n",
      "446:\tlearn: 4.5612358\ttotal: 1.28s\tremaining: 1.59s\n",
      "447:\tlearn: 4.5586453\ttotal: 1.28s\tremaining: 1.58s\n",
      "448:\tlearn: 4.5551477\ttotal: 1.29s\tremaining: 1.58s\n",
      "449:\tlearn: 4.5520832\ttotal: 1.29s\tremaining: 1.58s\n",
      "450:\tlearn: 4.5501499\ttotal: 1.29s\tremaining: 1.57s\n",
      "451:\tlearn: 4.5474446\ttotal: 1.3s\tremaining: 1.57s\n",
      "452:\tlearn: 4.5454562\ttotal: 1.3s\tremaining: 1.57s\n",
      "453:\tlearn: 4.5429475\ttotal: 1.3s\tremaining: 1.57s\n",
      "454:\tlearn: 4.5412386\ttotal: 1.3s\tremaining: 1.56s\n",
      "455:\tlearn: 4.5387310\ttotal: 1.31s\tremaining: 1.56s\n",
      "456:\tlearn: 4.5359316\ttotal: 1.31s\tremaining: 1.56s\n",
      "457:\tlearn: 4.5333362\ttotal: 1.31s\tremaining: 1.55s\n",
      "458:\tlearn: 4.5313915\ttotal: 1.32s\tremaining: 1.55s\n",
      "459:\tlearn: 4.5288877\ttotal: 1.32s\tremaining: 1.55s\n",
      "460:\tlearn: 4.5256789\ttotal: 1.32s\tremaining: 1.54s\n",
      "461:\tlearn: 4.5229102\ttotal: 1.32s\tremaining: 1.54s\n",
      "462:\tlearn: 4.5197174\ttotal: 1.33s\tremaining: 1.54s\n",
      "463:\tlearn: 4.5180250\ttotal: 1.33s\tremaining: 1.54s\n",
      "464:\tlearn: 4.5161804\ttotal: 1.33s\tremaining: 1.53s\n",
      "465:\tlearn: 4.5129793\ttotal: 1.33s\tremaining: 1.53s\n",
      "466:\tlearn: 4.5095744\ttotal: 1.34s\tremaining: 1.53s\n",
      "467:\tlearn: 4.5074946\ttotal: 1.34s\tremaining: 1.52s\n",
      "468:\tlearn: 4.5052969\ttotal: 1.34s\tremaining: 1.52s\n",
      "469:\tlearn: 4.5014129\ttotal: 1.35s\tremaining: 1.52s\n",
      "470:\tlearn: 4.4979012\ttotal: 1.35s\tremaining: 1.51s\n",
      "471:\tlearn: 4.4970155\ttotal: 1.35s\tremaining: 1.51s\n",
      "472:\tlearn: 4.4941577\ttotal: 1.35s\tremaining: 1.51s\n",
      "473:\tlearn: 4.4911997\ttotal: 1.36s\tremaining: 1.51s\n",
      "474:\tlearn: 4.4885371\ttotal: 1.36s\tremaining: 1.5s\n",
      "475:\tlearn: 4.4863356\ttotal: 1.36s\tremaining: 1.5s\n",
      "476:\tlearn: 4.4832960\ttotal: 1.37s\tremaining: 1.5s\n",
      "477:\tlearn: 4.4808452\ttotal: 1.37s\tremaining: 1.5s\n",
      "478:\tlearn: 4.4770645\ttotal: 1.37s\tremaining: 1.49s\n",
      "479:\tlearn: 4.4728911\ttotal: 1.37s\tremaining: 1.49s\n",
      "480:\tlearn: 4.4701538\ttotal: 1.38s\tremaining: 1.49s\n",
      "481:\tlearn: 4.4681188\ttotal: 1.38s\tremaining: 1.48s\n",
      "482:\tlearn: 4.4657864\ttotal: 1.38s\tremaining: 1.48s\n",
      "483:\tlearn: 4.4628317\ttotal: 1.39s\tremaining: 1.48s\n",
      "484:\tlearn: 4.4603174\ttotal: 1.39s\tremaining: 1.47s\n",
      "485:\tlearn: 4.4584585\ttotal: 1.39s\tremaining: 1.47s\n",
      "486:\tlearn: 4.4556969\ttotal: 1.39s\tremaining: 1.47s\n",
      "487:\tlearn: 4.4532592\ttotal: 1.4s\tremaining: 1.47s\n",
      "488:\tlearn: 4.4514879\ttotal: 1.4s\tremaining: 1.46s\n",
      "489:\tlearn: 4.4493560\ttotal: 1.4s\tremaining: 1.46s\n",
      "490:\tlearn: 4.4476211\ttotal: 1.41s\tremaining: 1.46s\n",
      "491:\tlearn: 4.4446754\ttotal: 1.41s\tremaining: 1.45s\n",
      "492:\tlearn: 4.4430628\ttotal: 1.41s\tremaining: 1.45s\n",
      "493:\tlearn: 4.4400042\ttotal: 1.41s\tremaining: 1.45s\n",
      "494:\tlearn: 4.4375464\ttotal: 1.42s\tremaining: 1.44s\n",
      "495:\tlearn: 4.4343585\ttotal: 1.42s\tremaining: 1.44s\n",
      "496:\tlearn: 4.4324647\ttotal: 1.42s\tremaining: 1.44s\n",
      "497:\tlearn: 4.4298452\ttotal: 1.42s\tremaining: 1.44s\n",
      "498:\tlearn: 4.4280923\ttotal: 1.43s\tremaining: 1.43s\n",
      "499:\tlearn: 4.4254145\ttotal: 1.43s\tremaining: 1.43s\n",
      "500:\tlearn: 4.4228225\ttotal: 1.43s\tremaining: 1.43s\n",
      "501:\tlearn: 4.4209428\ttotal: 1.44s\tremaining: 1.42s\n",
      "502:\tlearn: 4.4172955\ttotal: 1.44s\tremaining: 1.42s\n",
      "503:\tlearn: 4.4143106\ttotal: 1.44s\tremaining: 1.42s\n",
      "504:\tlearn: 4.4119050\ttotal: 1.44s\tremaining: 1.41s\n",
      "505:\tlearn: 4.4087682\ttotal: 1.45s\tremaining: 1.41s\n",
      "506:\tlearn: 4.4073883\ttotal: 1.45s\tremaining: 1.41s\n",
      "507:\tlearn: 4.4050144\ttotal: 1.45s\tremaining: 1.41s\n",
      "508:\tlearn: 4.4009302\ttotal: 1.45s\tremaining: 1.4s\n",
      "509:\tlearn: 4.3984154\ttotal: 1.46s\tremaining: 1.4s\n",
      "510:\tlearn: 4.3956917\ttotal: 1.46s\tremaining: 1.4s\n",
      "511:\tlearn: 4.3942849\ttotal: 1.46s\tremaining: 1.39s\n",
      "512:\tlearn: 4.3911079\ttotal: 1.47s\tremaining: 1.39s\n",
      "513:\tlearn: 4.3898598\ttotal: 1.47s\tremaining: 1.39s\n",
      "514:\tlearn: 4.3866486\ttotal: 1.47s\tremaining: 1.39s\n",
      "515:\tlearn: 4.3847837\ttotal: 1.47s\tremaining: 1.38s\n",
      "516:\tlearn: 4.3823120\ttotal: 1.48s\tremaining: 1.38s\n",
      "517:\tlearn: 4.3797681\ttotal: 1.48s\tremaining: 1.38s\n",
      "518:\tlearn: 4.3767081\ttotal: 1.48s\tremaining: 1.37s\n",
      "519:\tlearn: 4.3744440\ttotal: 1.48s\tremaining: 1.37s\n",
      "520:\tlearn: 4.3726544\ttotal: 1.49s\tremaining: 1.37s\n",
      "521:\tlearn: 4.3700961\ttotal: 1.49s\tremaining: 1.36s\n",
      "522:\tlearn: 4.3677252\ttotal: 1.49s\tremaining: 1.36s\n",
      "523:\tlearn: 4.3653450\ttotal: 1.5s\tremaining: 1.36s\n"
     ]
    },
    {
     "name": "stdout",
     "output_type": "stream",
     "text": [
      "524:\tlearn: 4.3633946\ttotal: 1.5s\tremaining: 1.35s\n",
      "525:\tlearn: 4.3616852\ttotal: 1.5s\tremaining: 1.35s\n",
      "526:\tlearn: 4.3588103\ttotal: 1.5s\tremaining: 1.35s\n",
      "527:\tlearn: 4.3552313\ttotal: 1.51s\tremaining: 1.35s\n",
      "528:\tlearn: 4.3539482\ttotal: 1.51s\tremaining: 1.34s\n",
      "529:\tlearn: 4.3521287\ttotal: 1.51s\tremaining: 1.34s\n",
      "530:\tlearn: 4.3495754\ttotal: 1.51s\tremaining: 1.34s\n",
      "531:\tlearn: 4.3467589\ttotal: 1.52s\tremaining: 1.33s\n",
      "532:\tlearn: 4.3444172\ttotal: 1.52s\tremaining: 1.33s\n",
      "533:\tlearn: 4.3427660\ttotal: 1.52s\tremaining: 1.33s\n",
      "534:\tlearn: 4.3397841\ttotal: 1.53s\tremaining: 1.33s\n",
      "535:\tlearn: 4.3376623\ttotal: 1.53s\tremaining: 1.32s\n",
      "536:\tlearn: 4.3345621\ttotal: 1.53s\tremaining: 1.32s\n",
      "537:\tlearn: 4.3322406\ttotal: 1.53s\tremaining: 1.32s\n",
      "538:\tlearn: 4.3307818\ttotal: 1.54s\tremaining: 1.31s\n",
      "539:\tlearn: 4.3284337\ttotal: 1.54s\tremaining: 1.31s\n",
      "540:\tlearn: 4.3265821\ttotal: 1.54s\tremaining: 1.31s\n",
      "541:\tlearn: 4.3241147\ttotal: 1.54s\tremaining: 1.3s\n",
      "542:\tlearn: 4.3211615\ttotal: 1.55s\tremaining: 1.3s\n",
      "543:\tlearn: 4.3172581\ttotal: 1.55s\tremaining: 1.3s\n",
      "544:\tlearn: 4.3144082\ttotal: 1.55s\tremaining: 1.3s\n",
      "545:\tlearn: 4.3123658\ttotal: 1.56s\tremaining: 1.29s\n",
      "546:\tlearn: 4.3092871\ttotal: 1.56s\tremaining: 1.29s\n",
      "547:\tlearn: 4.3067858\ttotal: 1.56s\tremaining: 1.29s\n",
      "548:\tlearn: 4.3035787\ttotal: 1.56s\tremaining: 1.28s\n",
      "549:\tlearn: 4.3011667\ttotal: 1.57s\tremaining: 1.28s\n",
      "550:\tlearn: 4.2994547\ttotal: 1.57s\tremaining: 1.28s\n",
      "551:\tlearn: 4.2972224\ttotal: 1.57s\tremaining: 1.28s\n",
      "552:\tlearn: 4.2946393\ttotal: 1.58s\tremaining: 1.27s\n",
      "553:\tlearn: 4.2908891\ttotal: 1.58s\tremaining: 1.27s\n",
      "554:\tlearn: 4.2883528\ttotal: 1.58s\tremaining: 1.27s\n",
      "555:\tlearn: 4.2862973\ttotal: 1.58s\tremaining: 1.26s\n",
      "556:\tlearn: 4.2830253\ttotal: 1.59s\tremaining: 1.26s\n",
      "557:\tlearn: 4.2802995\ttotal: 1.59s\tremaining: 1.26s\n",
      "558:\tlearn: 4.2781308\ttotal: 1.59s\tremaining: 1.26s\n",
      "559:\tlearn: 4.2767313\ttotal: 1.6s\tremaining: 1.25s\n",
      "560:\tlearn: 4.2743943\ttotal: 1.6s\tremaining: 1.25s\n",
      "561:\tlearn: 4.2718285\ttotal: 1.6s\tremaining: 1.25s\n",
      "562:\tlearn: 4.2694924\ttotal: 1.6s\tremaining: 1.25s\n",
      "563:\tlearn: 4.2677759\ttotal: 1.61s\tremaining: 1.24s\n",
      "564:\tlearn: 4.2664879\ttotal: 1.61s\tremaining: 1.24s\n",
      "565:\tlearn: 4.2642961\ttotal: 1.61s\tremaining: 1.24s\n",
      "566:\tlearn: 4.2622041\ttotal: 1.61s\tremaining: 1.23s\n",
      "567:\tlearn: 4.2595797\ttotal: 1.62s\tremaining: 1.23s\n",
      "568:\tlearn: 4.2574664\ttotal: 1.62s\tremaining: 1.23s\n",
      "569:\tlearn: 4.2548564\ttotal: 1.62s\tremaining: 1.23s\n",
      "570:\tlearn: 4.2534721\ttotal: 1.63s\tremaining: 1.22s\n",
      "571:\tlearn: 4.2508738\ttotal: 1.63s\tremaining: 1.22s\n",
      "572:\tlearn: 4.2478506\ttotal: 1.63s\tremaining: 1.22s\n",
      "573:\tlearn: 4.2468244\ttotal: 1.64s\tremaining: 1.21s\n",
      "574:\tlearn: 4.2443756\ttotal: 1.64s\tremaining: 1.21s\n",
      "575:\tlearn: 4.2420589\ttotal: 1.64s\tremaining: 1.21s\n",
      "576:\tlearn: 4.2393558\ttotal: 1.64s\tremaining: 1.2s\n",
      "577:\tlearn: 4.2378151\ttotal: 1.65s\tremaining: 1.2s\n",
      "578:\tlearn: 4.2358211\ttotal: 1.65s\tremaining: 1.2s\n",
      "579:\tlearn: 4.2337655\ttotal: 1.65s\tremaining: 1.2s\n",
      "580:\tlearn: 4.2310003\ttotal: 1.65s\tremaining: 1.19s\n",
      "581:\tlearn: 4.2286747\ttotal: 1.66s\tremaining: 1.19s\n",
      "582:\tlearn: 4.2255718\ttotal: 1.66s\tremaining: 1.19s\n",
      "583:\tlearn: 4.2240856\ttotal: 1.66s\tremaining: 1.18s\n",
      "584:\tlearn: 4.2215000\ttotal: 1.66s\tremaining: 1.18s\n",
      "585:\tlearn: 4.2174236\ttotal: 1.67s\tremaining: 1.18s\n",
      "586:\tlearn: 4.2153888\ttotal: 1.67s\tremaining: 1.18s\n",
      "587:\tlearn: 4.2114446\ttotal: 1.67s\tremaining: 1.17s\n",
      "588:\tlearn: 4.2085283\ttotal: 1.68s\tremaining: 1.17s\n",
      "589:\tlearn: 4.2071747\ttotal: 1.68s\tremaining: 1.17s\n",
      "590:\tlearn: 4.2036013\ttotal: 1.68s\tremaining: 1.16s\n",
      "591:\tlearn: 4.2013555\ttotal: 1.68s\tremaining: 1.16s\n",
      "592:\tlearn: 4.1980609\ttotal: 1.69s\tremaining: 1.16s\n",
      "593:\tlearn: 4.1965643\ttotal: 1.69s\tremaining: 1.15s\n",
      "594:\tlearn: 4.1950968\ttotal: 1.69s\tremaining: 1.15s\n",
      "595:\tlearn: 4.1923420\ttotal: 1.69s\tremaining: 1.15s\n",
      "596:\tlearn: 4.1901742\ttotal: 1.7s\tremaining: 1.15s\n",
      "597:\tlearn: 4.1887718\ttotal: 1.7s\tremaining: 1.14s\n",
      "598:\tlearn: 4.1873592\ttotal: 1.7s\tremaining: 1.14s\n",
      "599:\tlearn: 4.1860915\ttotal: 1.71s\tremaining: 1.14s\n",
      "600:\tlearn: 4.1830134\ttotal: 1.71s\tremaining: 1.13s\n",
      "601:\tlearn: 4.1809468\ttotal: 1.71s\tremaining: 1.13s\n",
      "602:\tlearn: 4.1786151\ttotal: 1.72s\tremaining: 1.13s\n",
      "603:\tlearn: 4.1765072\ttotal: 1.72s\tremaining: 1.13s\n",
      "604:\tlearn: 4.1746536\ttotal: 1.72s\tremaining: 1.12s\n",
      "605:\tlearn: 4.1727425\ttotal: 1.72s\tremaining: 1.12s\n",
      "606:\tlearn: 4.1711052\ttotal: 1.73s\tremaining: 1.12s\n",
      "607:\tlearn: 4.1697810\ttotal: 1.73s\tremaining: 1.11s\n",
      "608:\tlearn: 4.1679934\ttotal: 1.73s\tremaining: 1.11s\n",
      "609:\tlearn: 4.1661091\ttotal: 1.73s\tremaining: 1.11s\n",
      "610:\tlearn: 4.1647327\ttotal: 1.74s\tremaining: 1.1s\n",
      "611:\tlearn: 4.1623932\ttotal: 1.74s\tremaining: 1.1s\n",
      "612:\tlearn: 4.1606671\ttotal: 1.74s\tremaining: 1.1s\n",
      "613:\tlearn: 4.1587596\ttotal: 1.75s\tremaining: 1.1s\n",
      "614:\tlearn: 4.1558505\ttotal: 1.75s\tremaining: 1.09s\n",
      "615:\tlearn: 4.1537023\ttotal: 1.75s\tremaining: 1.09s\n",
      "616:\tlearn: 4.1513294\ttotal: 1.75s\tremaining: 1.09s\n",
      "617:\tlearn: 4.1502193\ttotal: 1.76s\tremaining: 1.08s\n",
      "618:\tlearn: 4.1475786\ttotal: 1.76s\tremaining: 1.08s\n",
      "619:\tlearn: 4.1454126\ttotal: 1.76s\tremaining: 1.08s\n",
      "620:\tlearn: 4.1441038\ttotal: 1.76s\tremaining: 1.08s\n",
      "621:\tlearn: 4.1408000\ttotal: 1.77s\tremaining: 1.07s\n",
      "622:\tlearn: 4.1385468\ttotal: 1.77s\tremaining: 1.07s\n",
      "623:\tlearn: 4.1366063\ttotal: 1.77s\tremaining: 1.07s\n",
      "624:\tlearn: 4.1348146\ttotal: 1.77s\tremaining: 1.06s\n",
      "625:\tlearn: 4.1329805\ttotal: 1.78s\tremaining: 1.06s\n",
      "626:\tlearn: 4.1306043\ttotal: 1.78s\tremaining: 1.06s\n",
      "627:\tlearn: 4.1290675\ttotal: 1.78s\tremaining: 1.06s\n",
      "628:\tlearn: 4.1268295\ttotal: 1.79s\tremaining: 1.05s\n",
      "629:\tlearn: 4.1253857\ttotal: 1.79s\tremaining: 1.05s\n",
      "630:\tlearn: 4.1224773\ttotal: 1.79s\tremaining: 1.05s\n",
      "631:\tlearn: 4.1193384\ttotal: 1.79s\tremaining: 1.04s\n",
      "632:\tlearn: 4.1181973\ttotal: 1.8s\tremaining: 1.04s\n",
      "633:\tlearn: 4.1167549\ttotal: 1.8s\tremaining: 1.04s\n",
      "634:\tlearn: 4.1136690\ttotal: 1.8s\tremaining: 1.04s\n",
      "635:\tlearn: 4.1119961\ttotal: 1.8s\tremaining: 1.03s\n",
      "636:\tlearn: 4.1104091\ttotal: 1.81s\tremaining: 1.03s\n",
      "637:\tlearn: 4.1082864\ttotal: 1.81s\tremaining: 1.03s\n",
      "638:\tlearn: 4.1065549\ttotal: 1.81s\tremaining: 1.02s\n",
      "639:\tlearn: 4.1053289\ttotal: 1.82s\tremaining: 1.02s\n",
      "640:\tlearn: 4.1033445\ttotal: 1.82s\tremaining: 1.02s\n",
      "641:\tlearn: 4.1022773\ttotal: 1.82s\tremaining: 1.02s\n",
      "642:\tlearn: 4.0999568\ttotal: 1.82s\tremaining: 1.01s\n",
      "643:\tlearn: 4.0978324\ttotal: 1.83s\tremaining: 1.01s\n",
      "644:\tlearn: 4.0954941\ttotal: 1.83s\tremaining: 1.01s\n",
      "645:\tlearn: 4.0935607\ttotal: 1.83s\tremaining: 1s\n",
      "646:\tlearn: 4.0912644\ttotal: 1.84s\tremaining: 1s\n",
      "647:\tlearn: 4.0893288\ttotal: 1.84s\tremaining: 999ms\n",
      "648:\tlearn: 4.0885880\ttotal: 1.84s\tremaining: 996ms\n",
      "649:\tlearn: 4.0859855\ttotal: 1.84s\tremaining: 994ms\n",
      "650:\tlearn: 4.0841594\ttotal: 1.85s\tremaining: 991ms\n",
      "651:\tlearn: 4.0829258\ttotal: 1.85s\tremaining: 988ms\n",
      "652:\tlearn: 4.0808310\ttotal: 1.85s\tremaining: 985ms\n",
      "653:\tlearn: 4.0792473\ttotal: 1.85s\tremaining: 982ms\n",
      "654:\tlearn: 4.0769491\ttotal: 1.86s\tremaining: 979ms\n",
      "655:\tlearn: 4.0740715\ttotal: 1.86s\tremaining: 976ms\n",
      "656:\tlearn: 4.0725666\ttotal: 1.86s\tremaining: 973ms\n",
      "657:\tlearn: 4.0699947\ttotal: 1.87s\tremaining: 970ms\n",
      "658:\tlearn: 4.0682877\ttotal: 1.87s\tremaining: 967ms\n",
      "659:\tlearn: 4.0662107\ttotal: 1.87s\tremaining: 964ms\n",
      "660:\tlearn: 4.0642248\ttotal: 1.88s\tremaining: 962ms\n",
      "661:\tlearn: 4.0630558\ttotal: 1.88s\tremaining: 959ms\n",
      "662:\tlearn: 4.0618600\ttotal: 1.88s\tremaining: 956ms\n",
      "663:\tlearn: 4.0602338\ttotal: 1.88s\tremaining: 953ms\n",
      "664:\tlearn: 4.0585456\ttotal: 1.89s\tremaining: 950ms\n",
      "665:\tlearn: 4.0570334\ttotal: 1.89s\tremaining: 947ms\n",
      "666:\tlearn: 4.0544532\ttotal: 1.89s\tremaining: 944ms\n",
      "667:\tlearn: 4.0522944\ttotal: 1.89s\tremaining: 941ms\n",
      "668:\tlearn: 4.0505973\ttotal: 1.9s\tremaining: 938ms\n",
      "669:\tlearn: 4.0481977\ttotal: 1.9s\tremaining: 936ms\n",
      "670:\tlearn: 4.0454146\ttotal: 1.9s\tremaining: 933ms\n",
      "671:\tlearn: 4.0420951\ttotal: 1.9s\tremaining: 930ms\n",
      "672:\tlearn: 4.0401542\ttotal: 1.91s\tremaining: 927ms\n",
      "673:\tlearn: 4.0385388\ttotal: 1.91s\tremaining: 924ms\n",
      "674:\tlearn: 4.0362826\ttotal: 1.91s\tremaining: 922ms\n",
      "675:\tlearn: 4.0350962\ttotal: 1.92s\tremaining: 919ms\n",
      "676:\tlearn: 4.0339267\ttotal: 1.92s\tremaining: 916ms\n",
      "677:\tlearn: 4.0325232\ttotal: 1.92s\tremaining: 913ms\n",
      "678:\tlearn: 4.0303344\ttotal: 1.93s\tremaining: 911ms\n",
      "679:\tlearn: 4.0290308\ttotal: 1.93s\tremaining: 908ms\n",
      "680:\tlearn: 4.0276650\ttotal: 1.93s\tremaining: 905ms\n",
      "681:\tlearn: 4.0257084\ttotal: 1.93s\tremaining: 902ms\n",
      "682:\tlearn: 4.0239700\ttotal: 1.94s\tremaining: 899ms\n",
      "683:\tlearn: 4.0216227\ttotal: 1.94s\tremaining: 897ms\n",
      "684:\tlearn: 4.0192801\ttotal: 1.94s\tremaining: 894ms\n",
      "685:\tlearn: 4.0175816\ttotal: 1.95s\tremaining: 891ms\n",
      "686:\tlearn: 4.0156849\ttotal: 1.95s\tremaining: 888ms\n",
      "687:\tlearn: 4.0143309\ttotal: 1.95s\tremaining: 885ms\n",
      "688:\tlearn: 4.0120214\ttotal: 1.96s\tremaining: 883ms\n",
      "689:\tlearn: 4.0101453\ttotal: 1.96s\tremaining: 880ms\n",
      "690:\tlearn: 4.0072395\ttotal: 1.96s\tremaining: 877ms\n"
     ]
    },
    {
     "name": "stdout",
     "output_type": "stream",
     "text": [
      "691:\tlearn: 4.0056021\ttotal: 1.96s\tremaining: 874ms\n",
      "692:\tlearn: 4.0039700\ttotal: 1.97s\tremaining: 871ms\n",
      "693:\tlearn: 4.0018036\ttotal: 1.97s\tremaining: 869ms\n",
      "694:\tlearn: 3.9995923\ttotal: 1.97s\tremaining: 866ms\n",
      "695:\tlearn: 3.9977768\ttotal: 1.98s\tremaining: 863ms\n",
      "696:\tlearn: 3.9962233\ttotal: 1.98s\tremaining: 860ms\n",
      "697:\tlearn: 3.9949684\ttotal: 1.98s\tremaining: 858ms\n",
      "698:\tlearn: 3.9925419\ttotal: 1.99s\tremaining: 855ms\n",
      "699:\tlearn: 3.9909226\ttotal: 1.99s\tremaining: 852ms\n",
      "700:\tlearn: 3.9884893\ttotal: 1.99s\tremaining: 849ms\n",
      "701:\tlearn: 3.9860242\ttotal: 1.99s\tremaining: 847ms\n",
      "702:\tlearn: 3.9833766\ttotal: 2s\tremaining: 844ms\n",
      "703:\tlearn: 3.9815446\ttotal: 2s\tremaining: 841ms\n",
      "704:\tlearn: 3.9799901\ttotal: 2s\tremaining: 838ms\n",
      "705:\tlearn: 3.9778541\ttotal: 2s\tremaining: 835ms\n",
      "706:\tlearn: 3.9753936\ttotal: 2.01s\tremaining: 832ms\n",
      "707:\tlearn: 3.9727359\ttotal: 2.01s\tremaining: 830ms\n",
      "708:\tlearn: 3.9707203\ttotal: 2.01s\tremaining: 827ms\n",
      "709:\tlearn: 3.9679317\ttotal: 2.02s\tremaining: 824ms\n",
      "710:\tlearn: 3.9642967\ttotal: 2.02s\tremaining: 821ms\n",
      "711:\tlearn: 3.9625290\ttotal: 2.02s\tremaining: 818ms\n",
      "712:\tlearn: 3.9614340\ttotal: 2.02s\tremaining: 815ms\n",
      "713:\tlearn: 3.9588638\ttotal: 2.03s\tremaining: 813ms\n",
      "714:\tlearn: 3.9565643\ttotal: 2.03s\tremaining: 810ms\n",
      "715:\tlearn: 3.9552562\ttotal: 2.03s\tremaining: 807ms\n",
      "716:\tlearn: 3.9536342\ttotal: 2.04s\tremaining: 804ms\n",
      "717:\tlearn: 3.9524792\ttotal: 2.04s\tremaining: 801ms\n",
      "718:\tlearn: 3.9496841\ttotal: 2.04s\tremaining: 798ms\n",
      "719:\tlearn: 3.9485779\ttotal: 2.04s\tremaining: 795ms\n",
      "720:\tlearn: 3.9467956\ttotal: 2.05s\tremaining: 792ms\n",
      "721:\tlearn: 3.9451960\ttotal: 2.05s\tremaining: 789ms\n",
      "722:\tlearn: 3.9435143\ttotal: 2.05s\tremaining: 786ms\n",
      "723:\tlearn: 3.9418726\ttotal: 2.06s\tremaining: 784ms\n",
      "724:\tlearn: 3.9397820\ttotal: 2.06s\tremaining: 781ms\n",
      "725:\tlearn: 3.9377842\ttotal: 2.06s\tremaining: 778ms\n",
      "726:\tlearn: 3.9355484\ttotal: 2.06s\tremaining: 775ms\n",
      "727:\tlearn: 3.9346313\ttotal: 2.07s\tremaining: 772ms\n",
      "728:\tlearn: 3.9335916\ttotal: 2.07s\tremaining: 769ms\n",
      "729:\tlearn: 3.9319548\ttotal: 2.07s\tremaining: 766ms\n",
      "730:\tlearn: 3.9307579\ttotal: 2.07s\tremaining: 764ms\n",
      "731:\tlearn: 3.9277896\ttotal: 2.08s\tremaining: 761ms\n",
      "732:\tlearn: 3.9265248\ttotal: 2.08s\tremaining: 758ms\n",
      "733:\tlearn: 3.9238835\ttotal: 2.08s\tremaining: 755ms\n",
      "734:\tlearn: 3.9219961\ttotal: 2.09s\tremaining: 752ms\n",
      "735:\tlearn: 3.9198805\ttotal: 2.09s\tremaining: 750ms\n",
      "736:\tlearn: 3.9172133\ttotal: 2.09s\tremaining: 747ms\n",
      "737:\tlearn: 3.9148866\ttotal: 2.1s\tremaining: 744ms\n",
      "738:\tlearn: 3.9134441\ttotal: 2.1s\tremaining: 741ms\n",
      "739:\tlearn: 3.9121902\ttotal: 2.1s\tremaining: 738ms\n",
      "740:\tlearn: 3.9099546\ttotal: 2.1s\tremaining: 735ms\n",
      "741:\tlearn: 3.9085647\ttotal: 2.1s\tremaining: 732ms\n",
      "742:\tlearn: 3.9065740\ttotal: 2.11s\tremaining: 729ms\n",
      "743:\tlearn: 3.9048520\ttotal: 2.11s\tremaining: 726ms\n",
      "744:\tlearn: 3.9020006\ttotal: 2.11s\tremaining: 724ms\n",
      "745:\tlearn: 3.8999999\ttotal: 2.12s\tremaining: 721ms\n",
      "746:\tlearn: 3.8978135\ttotal: 2.12s\tremaining: 718ms\n",
      "747:\tlearn: 3.8960537\ttotal: 2.12s\tremaining: 715ms\n",
      "748:\tlearn: 3.8944178\ttotal: 2.13s\tremaining: 712ms\n",
      "749:\tlearn: 3.8923497\ttotal: 2.13s\tremaining: 709ms\n",
      "750:\tlearn: 3.8906466\ttotal: 2.13s\tremaining: 707ms\n",
      "751:\tlearn: 3.8897309\ttotal: 2.13s\tremaining: 704ms\n",
      "752:\tlearn: 3.8881107\ttotal: 2.14s\tremaining: 701ms\n",
      "753:\tlearn: 3.8863009\ttotal: 2.14s\tremaining: 698ms\n",
      "754:\tlearn: 3.8849048\ttotal: 2.14s\tremaining: 695ms\n",
      "755:\tlearn: 3.8824119\ttotal: 2.14s\tremaining: 692ms\n",
      "756:\tlearn: 3.8804319\ttotal: 2.15s\tremaining: 689ms\n",
      "757:\tlearn: 3.8782440\ttotal: 2.15s\tremaining: 687ms\n",
      "758:\tlearn: 3.8756297\ttotal: 2.15s\tremaining: 684ms\n",
      "759:\tlearn: 3.8742162\ttotal: 2.15s\tremaining: 681ms\n",
      "760:\tlearn: 3.8724114\ttotal: 2.16s\tremaining: 678ms\n",
      "761:\tlearn: 3.8705143\ttotal: 2.16s\tremaining: 675ms\n",
      "762:\tlearn: 3.8680638\ttotal: 2.16s\tremaining: 672ms\n",
      "763:\tlearn: 3.8653164\ttotal: 2.17s\tremaining: 669ms\n",
      "764:\tlearn: 3.8639762\ttotal: 2.17s\tremaining: 667ms\n",
      "765:\tlearn: 3.8618922\ttotal: 2.17s\tremaining: 664ms\n",
      "766:\tlearn: 3.8604158\ttotal: 2.17s\tremaining: 661ms\n",
      "767:\tlearn: 3.8585809\ttotal: 2.18s\tremaining: 658ms\n",
      "768:\tlearn: 3.8570469\ttotal: 2.18s\tremaining: 655ms\n",
      "769:\tlearn: 3.8551505\ttotal: 2.18s\tremaining: 652ms\n",
      "770:\tlearn: 3.8533177\ttotal: 2.19s\tremaining: 650ms\n",
      "771:\tlearn: 3.8518173\ttotal: 2.19s\tremaining: 647ms\n",
      "772:\tlearn: 3.8508404\ttotal: 2.19s\tremaining: 644ms\n",
      "773:\tlearn: 3.8488257\ttotal: 2.19s\tremaining: 641ms\n",
      "774:\tlearn: 3.8468384\ttotal: 2.2s\tremaining: 638ms\n",
      "775:\tlearn: 3.8447508\ttotal: 2.2s\tremaining: 635ms\n",
      "776:\tlearn: 3.8427195\ttotal: 2.2s\tremaining: 632ms\n",
      "777:\tlearn: 3.8413138\ttotal: 2.21s\tremaining: 630ms\n",
      "778:\tlearn: 3.8394338\ttotal: 2.21s\tremaining: 627ms\n",
      "779:\tlearn: 3.8385026\ttotal: 2.21s\tremaining: 624ms\n",
      "780:\tlearn: 3.8373311\ttotal: 2.21s\tremaining: 621ms\n",
      "781:\tlearn: 3.8352187\ttotal: 2.22s\tremaining: 618ms\n",
      "782:\tlearn: 3.8334783\ttotal: 2.22s\tremaining: 615ms\n",
      "783:\tlearn: 3.8319368\ttotal: 2.22s\tremaining: 612ms\n",
      "784:\tlearn: 3.8301536\ttotal: 2.23s\tremaining: 609ms\n",
      "785:\tlearn: 3.8284922\ttotal: 2.23s\tremaining: 607ms\n",
      "786:\tlearn: 3.8257492\ttotal: 2.23s\tremaining: 604ms\n",
      "787:\tlearn: 3.8238446\ttotal: 2.23s\tremaining: 601ms\n",
      "788:\tlearn: 3.8221314\ttotal: 2.24s\tremaining: 598ms\n",
      "789:\tlearn: 3.8198503\ttotal: 2.24s\tremaining: 595ms\n",
      "790:\tlearn: 3.8177936\ttotal: 2.24s\tremaining: 592ms\n",
      "791:\tlearn: 3.8156365\ttotal: 2.24s\tremaining: 590ms\n",
      "792:\tlearn: 3.8146048\ttotal: 2.25s\tremaining: 587ms\n",
      "793:\tlearn: 3.8127944\ttotal: 2.25s\tremaining: 584ms\n",
      "794:\tlearn: 3.8106299\ttotal: 2.25s\tremaining: 581ms\n",
      "795:\tlearn: 3.8095891\ttotal: 2.26s\tremaining: 578ms\n",
      "796:\tlearn: 3.8079119\ttotal: 2.26s\tremaining: 575ms\n",
      "797:\tlearn: 3.8066047\ttotal: 2.26s\tremaining: 573ms\n",
      "798:\tlearn: 3.8039425\ttotal: 2.26s\tremaining: 570ms\n",
      "799:\tlearn: 3.8011164\ttotal: 2.27s\tremaining: 567ms\n",
      "800:\tlearn: 3.7992389\ttotal: 2.27s\tremaining: 564ms\n",
      "801:\tlearn: 3.7969958\ttotal: 2.27s\tremaining: 561ms\n",
      "802:\tlearn: 3.7952198\ttotal: 2.28s\tremaining: 559ms\n",
      "803:\tlearn: 3.7932516\ttotal: 2.28s\tremaining: 556ms\n",
      "804:\tlearn: 3.7911060\ttotal: 2.28s\tremaining: 553ms\n",
      "805:\tlearn: 3.7894191\ttotal: 2.28s\tremaining: 550ms\n",
      "806:\tlearn: 3.7879715\ttotal: 2.29s\tremaining: 547ms\n",
      "807:\tlearn: 3.7862336\ttotal: 2.29s\tremaining: 544ms\n",
      "808:\tlearn: 3.7844024\ttotal: 2.29s\tremaining: 541ms\n",
      "809:\tlearn: 3.7835070\ttotal: 2.29s\tremaining: 538ms\n",
      "810:\tlearn: 3.7818089\ttotal: 2.3s\tremaining: 536ms\n",
      "811:\tlearn: 3.7803148\ttotal: 2.3s\tremaining: 533ms\n",
      "812:\tlearn: 3.7790125\ttotal: 2.3s\tremaining: 530ms\n",
      "813:\tlearn: 3.7766627\ttotal: 2.31s\tremaining: 527ms\n",
      "814:\tlearn: 3.7753717\ttotal: 2.31s\tremaining: 524ms\n",
      "815:\tlearn: 3.7742627\ttotal: 2.31s\tremaining: 521ms\n",
      "816:\tlearn: 3.7724122\ttotal: 2.31s\tremaining: 518ms\n",
      "817:\tlearn: 3.7706667\ttotal: 2.32s\tremaining: 516ms\n",
      "818:\tlearn: 3.7694424\ttotal: 2.32s\tremaining: 513ms\n",
      "819:\tlearn: 3.7682365\ttotal: 2.32s\tremaining: 510ms\n",
      "820:\tlearn: 3.7671390\ttotal: 2.33s\tremaining: 507ms\n",
      "821:\tlearn: 3.7651663\ttotal: 2.33s\tremaining: 504ms\n",
      "822:\tlearn: 3.7638485\ttotal: 2.33s\tremaining: 501ms\n",
      "823:\tlearn: 3.7626973\ttotal: 2.33s\tremaining: 498ms\n",
      "824:\tlearn: 3.7607901\ttotal: 2.34s\tremaining: 496ms\n",
      "825:\tlearn: 3.7585643\ttotal: 2.34s\tremaining: 493ms\n",
      "826:\tlearn: 3.7571084\ttotal: 2.34s\tremaining: 490ms\n",
      "827:\tlearn: 3.7556047\ttotal: 2.35s\tremaining: 487ms\n",
      "828:\tlearn: 3.7540486\ttotal: 2.35s\tremaining: 484ms\n",
      "829:\tlearn: 3.7521361\ttotal: 2.35s\tremaining: 482ms\n",
      "830:\tlearn: 3.7512736\ttotal: 2.35s\tremaining: 479ms\n",
      "831:\tlearn: 3.7498362\ttotal: 2.36s\tremaining: 476ms\n",
      "832:\tlearn: 3.7474838\ttotal: 2.36s\tremaining: 473ms\n",
      "833:\tlearn: 3.7455190\ttotal: 2.36s\tremaining: 470ms\n",
      "834:\tlearn: 3.7442895\ttotal: 2.37s\tremaining: 468ms\n",
      "835:\tlearn: 3.7431741\ttotal: 2.37s\tremaining: 465ms\n",
      "836:\tlearn: 3.7408880\ttotal: 2.37s\tremaining: 462ms\n",
      "837:\tlearn: 3.7391492\ttotal: 2.37s\tremaining: 459ms\n",
      "838:\tlearn: 3.7376626\ttotal: 2.38s\tremaining: 456ms\n",
      "839:\tlearn: 3.7355423\ttotal: 2.38s\tremaining: 453ms\n",
      "840:\tlearn: 3.7346965\ttotal: 2.38s\tremaining: 451ms\n",
      "841:\tlearn: 3.7324485\ttotal: 2.38s\tremaining: 448ms\n",
      "842:\tlearn: 3.7307116\ttotal: 2.39s\tremaining: 445ms\n",
      "843:\tlearn: 3.7285154\ttotal: 2.39s\tremaining: 442ms\n",
      "844:\tlearn: 3.7265629\ttotal: 2.39s\tremaining: 439ms\n",
      "845:\tlearn: 3.7246626\ttotal: 2.4s\tremaining: 436ms\n",
      "846:\tlearn: 3.7229200\ttotal: 2.4s\tremaining: 434ms\n",
      "847:\tlearn: 3.7217577\ttotal: 2.4s\tremaining: 431ms\n",
      "848:\tlearn: 3.7203403\ttotal: 2.41s\tremaining: 428ms\n",
      "849:\tlearn: 3.7185064\ttotal: 2.41s\tremaining: 425ms\n",
      "850:\tlearn: 3.7166415\ttotal: 2.41s\tremaining: 422ms\n",
      "851:\tlearn: 3.7144921\ttotal: 2.42s\tremaining: 420ms\n",
      "852:\tlearn: 3.7131668\ttotal: 2.42s\tremaining: 417ms\n",
      "853:\tlearn: 3.7111679\ttotal: 2.42s\tremaining: 414ms\n",
      "854:\tlearn: 3.7093123\ttotal: 2.42s\tremaining: 411ms\n",
      "855:\tlearn: 3.7080004\ttotal: 2.43s\tremaining: 408ms\n",
      "856:\tlearn: 3.7064461\ttotal: 2.43s\tremaining: 405ms\n",
      "857:\tlearn: 3.7048330\ttotal: 2.43s\tremaining: 402ms\n",
      "858:\tlearn: 3.7026139\ttotal: 2.43s\tremaining: 400ms\n",
      "859:\tlearn: 3.7006922\ttotal: 2.44s\tremaining: 397ms\n",
      "860:\tlearn: 3.6988093\ttotal: 2.44s\tremaining: 394ms\n",
      "861:\tlearn: 3.6978120\ttotal: 2.44s\tremaining: 391ms\n",
      "862:\tlearn: 3.6969937\ttotal: 2.44s\tremaining: 388ms\n",
      "863:\tlearn: 3.6950865\ttotal: 2.45s\tremaining: 385ms\n",
      "864:\tlearn: 3.6932213\ttotal: 2.45s\tremaining: 382ms\n",
      "865:\tlearn: 3.6920005\ttotal: 2.45s\tremaining: 380ms\n",
      "866:\tlearn: 3.6904782\ttotal: 2.46s\tremaining: 377ms\n",
      "867:\tlearn: 3.6884211\ttotal: 2.46s\tremaining: 374ms\n",
      "868:\tlearn: 3.6867382\ttotal: 2.46s\tremaining: 371ms\n",
      "869:\tlearn: 3.6860025\ttotal: 2.46s\tremaining: 368ms\n"
     ]
    },
    {
     "name": "stdout",
     "output_type": "stream",
     "text": [
      "870:\tlearn: 3.6845868\ttotal: 2.47s\tremaining: 365ms\n",
      "871:\tlearn: 3.6828835\ttotal: 2.47s\tremaining: 363ms\n",
      "872:\tlearn: 3.6814787\ttotal: 2.47s\tremaining: 360ms\n",
      "873:\tlearn: 3.6806989\ttotal: 2.48s\tremaining: 357ms\n",
      "874:\tlearn: 3.6787874\ttotal: 2.48s\tremaining: 354ms\n",
      "875:\tlearn: 3.6772309\ttotal: 2.48s\tremaining: 351ms\n",
      "876:\tlearn: 3.6756181\ttotal: 2.48s\tremaining: 348ms\n",
      "877:\tlearn: 3.6739035\ttotal: 2.49s\tremaining: 346ms\n",
      "878:\tlearn: 3.6723844\ttotal: 2.49s\tremaining: 343ms\n",
      "879:\tlearn: 3.6705966\ttotal: 2.49s\tremaining: 340ms\n",
      "880:\tlearn: 3.6694290\ttotal: 2.49s\tremaining: 337ms\n",
      "881:\tlearn: 3.6676758\ttotal: 2.5s\tremaining: 334ms\n",
      "882:\tlearn: 3.6659219\ttotal: 2.5s\tremaining: 331ms\n",
      "883:\tlearn: 3.6651578\ttotal: 2.5s\tremaining: 328ms\n",
      "884:\tlearn: 3.6628567\ttotal: 2.5s\tremaining: 326ms\n",
      "885:\tlearn: 3.6611744\ttotal: 2.51s\tremaining: 323ms\n",
      "886:\tlearn: 3.6597859\ttotal: 2.51s\tremaining: 320ms\n",
      "887:\tlearn: 3.6587090\ttotal: 2.51s\tremaining: 317ms\n",
      "888:\tlearn: 3.6572821\ttotal: 2.52s\tremaining: 314ms\n",
      "889:\tlearn: 3.6557408\ttotal: 2.52s\tremaining: 311ms\n",
      "890:\tlearn: 3.6550768\ttotal: 2.52s\tremaining: 309ms\n",
      "891:\tlearn: 3.6542839\ttotal: 2.52s\tremaining: 306ms\n",
      "892:\tlearn: 3.6526872\ttotal: 2.53s\tremaining: 303ms\n",
      "893:\tlearn: 3.6515709\ttotal: 2.53s\tremaining: 300ms\n",
      "894:\tlearn: 3.6503636\ttotal: 2.53s\tremaining: 297ms\n",
      "895:\tlearn: 3.6487367\ttotal: 2.54s\tremaining: 294ms\n",
      "896:\tlearn: 3.6472913\ttotal: 2.54s\tremaining: 291ms\n",
      "897:\tlearn: 3.6457602\ttotal: 2.54s\tremaining: 289ms\n",
      "898:\tlearn: 3.6444038\ttotal: 2.54s\tremaining: 286ms\n",
      "899:\tlearn: 3.6419296\ttotal: 2.55s\tremaining: 283ms\n",
      "900:\tlearn: 3.6404805\ttotal: 2.55s\tremaining: 280ms\n",
      "901:\tlearn: 3.6393950\ttotal: 2.55s\tremaining: 277ms\n",
      "902:\tlearn: 3.6388288\ttotal: 2.56s\tremaining: 274ms\n",
      "903:\tlearn: 3.6364503\ttotal: 2.56s\tremaining: 272ms\n",
      "904:\tlearn: 3.6348783\ttotal: 2.56s\tremaining: 269ms\n",
      "905:\tlearn: 3.6334807\ttotal: 2.56s\tremaining: 266ms\n",
      "906:\tlearn: 3.6316028\ttotal: 2.57s\tremaining: 263ms\n",
      "907:\tlearn: 3.6301250\ttotal: 2.57s\tremaining: 260ms\n",
      "908:\tlearn: 3.6287550\ttotal: 2.57s\tremaining: 257ms\n",
      "909:\tlearn: 3.6279513\ttotal: 2.57s\tremaining: 255ms\n",
      "910:\tlearn: 3.6262174\ttotal: 2.58s\tremaining: 252ms\n",
      "911:\tlearn: 3.6255076\ttotal: 2.58s\tremaining: 249ms\n",
      "912:\tlearn: 3.6235917\ttotal: 2.58s\tremaining: 246ms\n",
      "913:\tlearn: 3.6217185\ttotal: 2.58s\tremaining: 243ms\n",
      "914:\tlearn: 3.6203956\ttotal: 2.59s\tremaining: 240ms\n",
      "915:\tlearn: 3.6187501\ttotal: 2.59s\tremaining: 238ms\n",
      "916:\tlearn: 3.6175597\ttotal: 2.59s\tremaining: 235ms\n",
      "917:\tlearn: 3.6156854\ttotal: 2.6s\tremaining: 232ms\n",
      "918:\tlearn: 3.6150979\ttotal: 2.6s\tremaining: 229ms\n",
      "919:\tlearn: 3.6142450\ttotal: 2.6s\tremaining: 226ms\n",
      "920:\tlearn: 3.6125439\ttotal: 2.6s\tremaining: 223ms\n",
      "921:\tlearn: 3.6105450\ttotal: 2.61s\tremaining: 221ms\n",
      "922:\tlearn: 3.6087633\ttotal: 2.61s\tremaining: 218ms\n",
      "923:\tlearn: 3.6074603\ttotal: 2.61s\tremaining: 215ms\n",
      "924:\tlearn: 3.6054086\ttotal: 2.62s\tremaining: 212ms\n",
      "925:\tlearn: 3.6032313\ttotal: 2.62s\tremaining: 209ms\n",
      "926:\tlearn: 3.6014209\ttotal: 2.62s\tremaining: 206ms\n",
      "927:\tlearn: 3.5999969\ttotal: 2.62s\tremaining: 204ms\n",
      "928:\tlearn: 3.5986440\ttotal: 2.63s\tremaining: 201ms\n",
      "929:\tlearn: 3.5974511\ttotal: 2.63s\tremaining: 198ms\n",
      "930:\tlearn: 3.5961370\ttotal: 2.63s\tremaining: 195ms\n",
      "931:\tlearn: 3.5952118\ttotal: 2.63s\tremaining: 192ms\n",
      "932:\tlearn: 3.5937322\ttotal: 2.64s\tremaining: 189ms\n",
      "933:\tlearn: 3.5921466\ttotal: 2.64s\tremaining: 187ms\n",
      "934:\tlearn: 3.5908580\ttotal: 2.64s\tremaining: 184ms\n",
      "935:\tlearn: 3.5893718\ttotal: 2.65s\tremaining: 181ms\n",
      "936:\tlearn: 3.5882021\ttotal: 2.65s\tremaining: 178ms\n",
      "937:\tlearn: 3.5866257\ttotal: 2.65s\tremaining: 175ms\n",
      "938:\tlearn: 3.5847697\ttotal: 2.65s\tremaining: 172ms\n",
      "939:\tlearn: 3.5835333\ttotal: 2.66s\tremaining: 170ms\n",
      "940:\tlearn: 3.5817250\ttotal: 2.66s\tremaining: 167ms\n",
      "941:\tlearn: 3.5796533\ttotal: 2.66s\tremaining: 164ms\n",
      "942:\tlearn: 3.5785497\ttotal: 2.67s\tremaining: 161ms\n",
      "943:\tlearn: 3.5773282\ttotal: 2.67s\tremaining: 158ms\n",
      "944:\tlearn: 3.5752997\ttotal: 2.67s\tremaining: 156ms\n",
      "945:\tlearn: 3.5736716\ttotal: 2.67s\tremaining: 153ms\n",
      "946:\tlearn: 3.5728018\ttotal: 2.68s\tremaining: 150ms\n",
      "947:\tlearn: 3.5719077\ttotal: 2.68s\tremaining: 147ms\n",
      "948:\tlearn: 3.5707793\ttotal: 2.68s\tremaining: 144ms\n",
      "949:\tlearn: 3.5690336\ttotal: 2.69s\tremaining: 141ms\n",
      "950:\tlearn: 3.5676546\ttotal: 2.69s\tremaining: 139ms\n",
      "951:\tlearn: 3.5653647\ttotal: 2.69s\tremaining: 136ms\n",
      "952:\tlearn: 3.5640498\ttotal: 2.69s\tremaining: 133ms\n",
      "953:\tlearn: 3.5631342\ttotal: 2.7s\tremaining: 130ms\n",
      "954:\tlearn: 3.5619202\ttotal: 2.7s\tremaining: 127ms\n",
      "955:\tlearn: 3.5609170\ttotal: 2.7s\tremaining: 124ms\n",
      "956:\tlearn: 3.5593748\ttotal: 2.7s\tremaining: 121ms\n",
      "957:\tlearn: 3.5578798\ttotal: 2.71s\tremaining: 119ms\n",
      "958:\tlearn: 3.5559003\ttotal: 2.71s\tremaining: 116ms\n",
      "959:\tlearn: 3.5538892\ttotal: 2.71s\tremaining: 113ms\n",
      "960:\tlearn: 3.5520732\ttotal: 2.71s\tremaining: 110ms\n",
      "961:\tlearn: 3.5506091\ttotal: 2.72s\tremaining: 107ms\n",
      "962:\tlearn: 3.5500174\ttotal: 2.72s\tremaining: 105ms\n",
      "963:\tlearn: 3.5486297\ttotal: 2.72s\tremaining: 102ms\n",
      "964:\tlearn: 3.5475400\ttotal: 2.73s\tremaining: 98.9ms\n",
      "965:\tlearn: 3.5455020\ttotal: 2.73s\tremaining: 96ms\n",
      "966:\tlearn: 3.5439225\ttotal: 2.73s\tremaining: 93.2ms\n",
      "967:\tlearn: 3.5424551\ttotal: 2.73s\tremaining: 90.4ms\n",
      "968:\tlearn: 3.5404760\ttotal: 2.74s\tremaining: 87.6ms\n",
      "969:\tlearn: 3.5388671\ttotal: 2.74s\tremaining: 84.7ms\n",
      "970:\tlearn: 3.5376470\ttotal: 2.74s\tremaining: 81.9ms\n",
      "971:\tlearn: 3.5359109\ttotal: 2.75s\tremaining: 79.1ms\n",
      "972:\tlearn: 3.5345373\ttotal: 2.75s\tremaining: 76.3ms\n",
      "973:\tlearn: 3.5334227\ttotal: 2.75s\tremaining: 73.4ms\n",
      "974:\tlearn: 3.5318836\ttotal: 2.75s\tremaining: 70.6ms\n",
      "975:\tlearn: 3.5306104\ttotal: 2.76s\tremaining: 67.8ms\n",
      "976:\tlearn: 3.5288919\ttotal: 2.76s\tremaining: 65ms\n",
      "977:\tlearn: 3.5277168\ttotal: 2.76s\tremaining: 62.2ms\n",
      "978:\tlearn: 3.5259337\ttotal: 2.77s\tremaining: 59.3ms\n",
      "979:\tlearn: 3.5242025\ttotal: 2.77s\tremaining: 56.5ms\n",
      "980:\tlearn: 3.5229452\ttotal: 2.77s\tremaining: 53.7ms\n",
      "981:\tlearn: 3.5216384\ttotal: 2.77s\tremaining: 50.9ms\n",
      "982:\tlearn: 3.5207358\ttotal: 2.78s\tremaining: 48ms\n",
      "983:\tlearn: 3.5196542\ttotal: 2.78s\tremaining: 45.2ms\n",
      "984:\tlearn: 3.5182353\ttotal: 2.78s\tremaining: 42.4ms\n",
      "985:\tlearn: 3.5173276\ttotal: 2.79s\tremaining: 39.6ms\n",
      "986:\tlearn: 3.5160490\ttotal: 2.79s\tremaining: 36.7ms\n",
      "987:\tlearn: 3.5146168\ttotal: 2.79s\tremaining: 33.9ms\n",
      "988:\tlearn: 3.5134084\ttotal: 2.8s\tremaining: 31.1ms\n",
      "989:\tlearn: 3.5109661\ttotal: 2.8s\tremaining: 28.3ms\n",
      "990:\tlearn: 3.5093938\ttotal: 2.81s\tremaining: 25.5ms\n",
      "991:\tlearn: 3.5086099\ttotal: 2.81s\tremaining: 22.7ms\n",
      "992:\tlearn: 3.5078126\ttotal: 2.81s\tremaining: 19.8ms\n",
      "993:\tlearn: 3.5067085\ttotal: 2.81s\tremaining: 17ms\n",
      "994:\tlearn: 3.5051309\ttotal: 2.82s\tremaining: 14.2ms\n",
      "995:\tlearn: 3.5041318\ttotal: 2.82s\tremaining: 11.3ms\n",
      "996:\tlearn: 3.5020831\ttotal: 2.82s\tremaining: 8.5ms\n",
      "997:\tlearn: 3.5008551\ttotal: 2.83s\tremaining: 5.66ms\n",
      "998:\tlearn: 3.4994372\ttotal: 2.83s\tremaining: 2.83ms\n",
      "999:\tlearn: 3.4979792\ttotal: 2.83s\tremaining: 0us\n"
     ]
    }
   ],
   "source": [
    "# Создадим модель.\n",
    "model_cbr_final = CatBoostRegressor()\n",
    "\n",
    "# Обучим модель.\n",
    "model_cbr_final.fit(features_train, target_train_final)\n",
    "\n",
    "#Получим предсказания.\n",
    "predictions = model_cbr_final.predict(features_train)\n",
    "\n",
    "# Посчитаем sMAPE_rougher на обучающей выборке.\n",
    "best_f_score = sMAPE_final(target_train_final, predictions)"
   ]
  },
  {
   "cell_type": "code",
   "execution_count": 51,
   "metadata": {},
   "outputs": [
    {
     "name": "stdout",
     "output_type": "stream",
     "text": [
      "Лучшее значение sMAPE для модели CatBoostRegressor 3.42\n"
     ]
    }
   ],
   "source": [
    "# Посчитаем итоговую sMAPE на обучающей выборке.\n",
    "sMAPE = sMAPE_aggregate(best_r_score, best_f_score)\n",
    "print(f'Лучшее значение sMAPE для модели CatBoostRegressor {sMAPE:,.2f}')"
   ]
  },
  {
   "cell_type": "code",
   "execution_count": 52,
   "metadata": {},
   "outputs": [
    {
     "name": "stdout",
     "output_type": "stream",
     "text": [
      "Learning rate set to 0.061931\n",
      "0:\tlearn: 7.7502331\ttotal: 4.06ms\tremaining: 4.06s\n",
      "1:\tlearn: 7.5207634\ttotal: 7.98ms\tremaining: 3.98s\n",
      "2:\tlearn: 7.3192855\ttotal: 11.6ms\tremaining: 3.84s\n",
      "3:\tlearn: 7.1327551\ttotal: 14.7ms\tremaining: 3.67s\n",
      "4:\tlearn: 6.9661907\ttotal: 17.7ms\tremaining: 3.52s\n",
      "5:\tlearn: 6.8089502\ttotal: 20.5ms\tremaining: 3.39s\n",
      "6:\tlearn: 6.6745426\ttotal: 23.7ms\tremaining: 3.36s\n",
      "7:\tlearn: 6.5298543\ttotal: 29.2ms\tremaining: 3.62s\n",
      "8:\tlearn: 6.4017669\ttotal: 32.4ms\tremaining: 3.56s\n",
      "9:\tlearn: 6.2944844\ttotal: 35.3ms\tremaining: 3.49s\n",
      "10:\tlearn: 6.1827580\ttotal: 38.3ms\tremaining: 3.45s\n",
      "11:\tlearn: 6.0788451\ttotal: 41.9ms\tremaining: 3.45s\n",
      "12:\tlearn: 5.9808909\ttotal: 44.9ms\tremaining: 3.41s\n",
      "13:\tlearn: 5.8916349\ttotal: 48ms\tremaining: 3.38s\n",
      "14:\tlearn: 5.8179647\ttotal: 50.7ms\tremaining: 3.33s\n",
      "15:\tlearn: 5.7431800\ttotal: 54ms\tremaining: 3.32s\n",
      "16:\tlearn: 5.6745339\ttotal: 57.7ms\tremaining: 3.33s\n",
      "17:\tlearn: 5.6032402\ttotal: 61.8ms\tremaining: 3.37s\n",
      "18:\tlearn: 5.5408033\ttotal: 64.7ms\tremaining: 3.34s\n",
      "19:\tlearn: 5.4841217\ttotal: 67.7ms\tremaining: 3.32s\n",
      "20:\tlearn: 5.4282956\ttotal: 71.1ms\tremaining: 3.31s\n",
      "21:\tlearn: 5.3750661\ttotal: 74.1ms\tremaining: 3.29s\n",
      "22:\tlearn: 5.3272687\ttotal: 76.9ms\tremaining: 3.27s\n",
      "23:\tlearn: 5.2825582\ttotal: 79.8ms\tremaining: 3.24s\n",
      "24:\tlearn: 5.2387547\ttotal: 82.5ms\tremaining: 3.22s\n",
      "25:\tlearn: 5.1963999\ttotal: 85.7ms\tremaining: 3.21s\n",
      "26:\tlearn: 5.1607241\ttotal: 89.5ms\tremaining: 3.23s\n",
      "27:\tlearn: 5.1247160\ttotal: 92.2ms\tremaining: 3.2s\n",
      "28:\tlearn: 5.0960657\ttotal: 95ms\tremaining: 3.18s\n",
      "29:\tlearn: 5.0538305\ttotal: 97.9ms\tremaining: 3.16s\n",
      "30:\tlearn: 5.0238242\ttotal: 101ms\tremaining: 3.17s\n",
      "31:\tlearn: 4.9951052\ttotal: 104ms\tremaining: 3.16s\n",
      "32:\tlearn: 4.9637854\ttotal: 107ms\tremaining: 3.14s\n",
      "33:\tlearn: 4.9387556\ttotal: 110ms\tremaining: 3.12s\n",
      "34:\tlearn: 4.9147945\ttotal: 113ms\tremaining: 3.1s\n",
      "35:\tlearn: 4.8865529\ttotal: 116ms\tremaining: 3.1s\n",
      "36:\tlearn: 4.8651788\ttotal: 119ms\tremaining: 3.08s\n",
      "37:\tlearn: 4.8417988\ttotal: 122ms\tremaining: 3.08s\n",
      "38:\tlearn: 4.8211566\ttotal: 124ms\tremaining: 3.06s\n",
      "39:\tlearn: 4.8013946\ttotal: 127ms\tremaining: 3.05s\n",
      "40:\tlearn: 4.7800115\ttotal: 130ms\tremaining: 3.04s\n",
      "41:\tlearn: 4.7544244\ttotal: 132ms\tremaining: 3.02s\n",
      "42:\tlearn: 4.7328358\ttotal: 136ms\tremaining: 3.03s\n",
      "43:\tlearn: 4.7165223\ttotal: 139ms\tremaining: 3.02s\n",
      "44:\tlearn: 4.7016590\ttotal: 142ms\tremaining: 3.01s\n",
      "45:\tlearn: 4.6790112\ttotal: 145ms\tremaining: 3s\n",
      "46:\tlearn: 4.6590003\ttotal: 147ms\tremaining: 2.99s\n",
      "47:\tlearn: 4.6400178\ttotal: 151ms\tremaining: 2.99s\n",
      "48:\tlearn: 4.6218021\ttotal: 154ms\tremaining: 2.99s\n",
      "49:\tlearn: 4.6082167\ttotal: 157ms\tremaining: 2.98s\n",
      "50:\tlearn: 4.5907930\ttotal: 159ms\tremaining: 2.97s\n",
      "51:\tlearn: 4.5771414\ttotal: 162ms\tremaining: 2.96s\n",
      "52:\tlearn: 4.5650876\ttotal: 166ms\tremaining: 2.96s\n",
      "53:\tlearn: 4.5448431\ttotal: 169ms\tremaining: 2.96s\n",
      "54:\tlearn: 4.5364856\ttotal: 171ms\tremaining: 2.95s\n",
      "55:\tlearn: 4.5268028\ttotal: 174ms\tremaining: 2.93s\n",
      "56:\tlearn: 4.5127046\ttotal: 177ms\tremaining: 2.93s\n",
      "57:\tlearn: 4.4969655\ttotal: 180ms\tremaining: 2.93s\n",
      "58:\tlearn: 4.4814225\ttotal: 183ms\tremaining: 2.92s\n",
      "59:\tlearn: 4.4654011\ttotal: 186ms\tremaining: 2.92s\n",
      "60:\tlearn: 4.4568449\ttotal: 189ms\tremaining: 2.91s\n",
      "61:\tlearn: 4.4429140\ttotal: 192ms\tremaining: 2.9s\n",
      "62:\tlearn: 4.4318776\ttotal: 195ms\tremaining: 2.9s\n",
      "63:\tlearn: 4.4213824\ttotal: 198ms\tremaining: 2.9s\n",
      "64:\tlearn: 4.4073250\ttotal: 202ms\tremaining: 2.9s\n",
      "65:\tlearn: 4.3926814\ttotal: 205ms\tremaining: 2.9s\n",
      "66:\tlearn: 4.3797247\ttotal: 208ms\tremaining: 2.89s\n",
      "67:\tlearn: 4.3692343\ttotal: 210ms\tremaining: 2.88s\n",
      "68:\tlearn: 4.3609536\ttotal: 214ms\tremaining: 2.88s\n",
      "69:\tlearn: 4.3496068\ttotal: 217ms\tremaining: 2.88s\n",
      "70:\tlearn: 4.3333240\ttotal: 220ms\tremaining: 2.87s\n",
      "71:\tlearn: 4.3229617\ttotal: 222ms\tremaining: 2.86s\n",
      "72:\tlearn: 4.3152524\ttotal: 225ms\tremaining: 2.85s\n",
      "73:\tlearn: 4.3054555\ttotal: 228ms\tremaining: 2.85s\n",
      "74:\tlearn: 4.2958540\ttotal: 231ms\tremaining: 2.85s\n",
      "75:\tlearn: 4.2853739\ttotal: 234ms\tremaining: 2.85s\n",
      "76:\tlearn: 4.2735401\ttotal: 237ms\tremaining: 2.84s\n",
      "77:\tlearn: 4.2615472\ttotal: 239ms\tremaining: 2.83s\n",
      "78:\tlearn: 4.2487546\ttotal: 242ms\tremaining: 2.82s\n",
      "79:\tlearn: 4.2353170\ttotal: 245ms\tremaining: 2.82s\n",
      "80:\tlearn: 4.2270920\ttotal: 249ms\tremaining: 2.82s\n",
      "81:\tlearn: 4.2181237\ttotal: 251ms\tremaining: 2.81s\n",
      "82:\tlearn: 4.2093052\ttotal: 254ms\tremaining: 2.81s\n",
      "83:\tlearn: 4.1986592\ttotal: 257ms\tremaining: 2.8s\n",
      "84:\tlearn: 4.1865897\ttotal: 262ms\tremaining: 2.82s\n",
      "85:\tlearn: 4.1768144\ttotal: 265ms\tremaining: 2.82s\n",
      "86:\tlearn: 4.1692023\ttotal: 268ms\tremaining: 2.81s\n",
      "87:\tlearn: 4.1599539\ttotal: 271ms\tremaining: 2.81s\n",
      "88:\tlearn: 4.1478456\ttotal: 274ms\tremaining: 2.8s\n",
      "89:\tlearn: 4.1362547\ttotal: 276ms\tremaining: 2.79s\n",
      "90:\tlearn: 4.1279601\ttotal: 279ms\tremaining: 2.79s\n",
      "91:\tlearn: 4.1179888\ttotal: 282ms\tremaining: 2.78s\n",
      "92:\tlearn: 4.1097024\ttotal: 285ms\tremaining: 2.78s\n",
      "93:\tlearn: 4.1029168\ttotal: 287ms\tremaining: 2.77s\n",
      "94:\tlearn: 4.0929866\ttotal: 290ms\tremaining: 2.76s\n",
      "95:\tlearn: 4.0815773\ttotal: 293ms\tremaining: 2.76s\n",
      "96:\tlearn: 4.0719526\ttotal: 296ms\tremaining: 2.75s\n",
      "97:\tlearn: 4.0613286\ttotal: 299ms\tremaining: 2.75s\n",
      "98:\tlearn: 4.0560365\ttotal: 301ms\tremaining: 2.74s\n",
      "99:\tlearn: 4.0449647\ttotal: 304ms\tremaining: 2.73s\n",
      "100:\tlearn: 4.0363318\ttotal: 307ms\tremaining: 2.73s\n",
      "101:\tlearn: 4.0292836\ttotal: 310ms\tremaining: 2.73s\n",
      "102:\tlearn: 4.0229766\ttotal: 313ms\tremaining: 2.73s\n",
      "103:\tlearn: 4.0127387\ttotal: 316ms\tremaining: 2.72s\n",
      "104:\tlearn: 4.0059687\ttotal: 318ms\tremaining: 2.71s\n",
      "105:\tlearn: 4.0002317\ttotal: 321ms\tremaining: 2.71s\n",
      "106:\tlearn: 3.9930424\ttotal: 323ms\tremaining: 2.7s\n",
      "107:\tlearn: 3.9881673\ttotal: 326ms\tremaining: 2.69s\n",
      "108:\tlearn: 3.9782589\ttotal: 329ms\tremaining: 2.69s\n",
      "109:\tlearn: 3.9734867\ttotal: 332ms\tremaining: 2.69s\n",
      "110:\tlearn: 3.9664082\ttotal: 335ms\tremaining: 2.68s\n",
      "111:\tlearn: 3.9590348\ttotal: 337ms\tremaining: 2.67s\n",
      "112:\tlearn: 3.9476374\ttotal: 340ms\tremaining: 2.67s\n",
      "113:\tlearn: 3.9416170\ttotal: 343ms\tremaining: 2.67s\n",
      "114:\tlearn: 3.9331944\ttotal: 346ms\tremaining: 2.66s\n",
      "115:\tlearn: 3.9246059\ttotal: 349ms\tremaining: 2.66s\n",
      "116:\tlearn: 3.9192848\ttotal: 351ms\tremaining: 2.65s\n",
      "117:\tlearn: 3.9135430\ttotal: 354ms\tremaining: 2.65s\n",
      "118:\tlearn: 3.9079585\ttotal: 357ms\tremaining: 2.64s\n",
      "119:\tlearn: 3.9007842\ttotal: 360ms\tremaining: 2.64s\n",
      "120:\tlearn: 3.8952951\ttotal: 362ms\tremaining: 2.63s\n",
      "121:\tlearn: 3.8902935\ttotal: 365ms\tremaining: 2.63s\n",
      "122:\tlearn: 3.8841967\ttotal: 368ms\tremaining: 2.62s\n",
      "123:\tlearn: 3.8780659\ttotal: 371ms\tremaining: 2.62s\n",
      "124:\tlearn: 3.8729680\ttotal: 374ms\tremaining: 2.62s\n",
      "125:\tlearn: 3.8669015\ttotal: 378ms\tremaining: 2.62s\n",
      "126:\tlearn: 3.8604882\ttotal: 381ms\tremaining: 2.62s\n",
      "127:\tlearn: 3.8523991\ttotal: 383ms\tremaining: 2.61s\n",
      "128:\tlearn: 3.8476959\ttotal: 386ms\tremaining: 2.61s\n",
      "129:\tlearn: 3.8413317\ttotal: 389ms\tremaining: 2.6s\n",
      "130:\tlearn: 3.8367718\ttotal: 392ms\tremaining: 2.6s\n",
      "131:\tlearn: 3.8284756\ttotal: 395ms\tremaining: 2.6s\n",
      "132:\tlearn: 3.8214201\ttotal: 398ms\tremaining: 2.59s\n",
      "133:\tlearn: 3.8161798\ttotal: 401ms\tremaining: 2.59s\n",
      "134:\tlearn: 3.8109907\ttotal: 403ms\tremaining: 2.58s\n",
      "135:\tlearn: 3.8053271\ttotal: 407ms\tremaining: 2.58s\n",
      "136:\tlearn: 3.8003391\ttotal: 410ms\tremaining: 2.58s\n",
      "137:\tlearn: 3.7942117\ttotal: 412ms\tremaining: 2.57s\n",
      "138:\tlearn: 3.7868767\ttotal: 415ms\tremaining: 2.57s\n",
      "139:\tlearn: 3.7804018\ttotal: 418ms\tremaining: 2.56s\n",
      "140:\tlearn: 3.7755403\ttotal: 421ms\tremaining: 2.57s\n",
      "141:\tlearn: 3.7682333\ttotal: 425ms\tremaining: 2.57s\n",
      "142:\tlearn: 3.7622249\ttotal: 428ms\tremaining: 2.56s\n",
      "143:\tlearn: 3.7540937\ttotal: 430ms\tremaining: 2.56s\n",
      "144:\tlearn: 3.7488532\ttotal: 433ms\tremaining: 2.56s\n",
      "145:\tlearn: 3.7428588\ttotal: 436ms\tremaining: 2.55s\n",
      "146:\tlearn: 3.7342714\ttotal: 439ms\tremaining: 2.55s\n",
      "147:\tlearn: 3.7267573\ttotal: 442ms\tremaining: 2.54s\n",
      "148:\tlearn: 3.7203099\ttotal: 445ms\tremaining: 2.54s\n",
      "149:\tlearn: 3.7136343\ttotal: 448ms\tremaining: 2.54s\n",
      "150:\tlearn: 3.7068365\ttotal: 451ms\tremaining: 2.53s\n",
      "151:\tlearn: 3.7018560\ttotal: 454ms\tremaining: 2.53s\n",
      "152:\tlearn: 3.6953964\ttotal: 457ms\tremaining: 2.53s\n",
      "153:\tlearn: 3.6878627\ttotal: 460ms\tremaining: 2.52s\n",
      "154:\tlearn: 3.6827952\ttotal: 463ms\tremaining: 2.52s\n",
      "155:\tlearn: 3.6787689\ttotal: 465ms\tremaining: 2.52s\n",
      "156:\tlearn: 3.6732686\ttotal: 468ms\tremaining: 2.51s\n",
      "157:\tlearn: 3.6685547\ttotal: 472ms\tremaining: 2.51s\n",
      "158:\tlearn: 3.6619130\ttotal: 474ms\tremaining: 2.51s\n",
      "159:\tlearn: 3.6565974\ttotal: 477ms\tremaining: 2.5s\n",
      "160:\tlearn: 3.6526037\ttotal: 480ms\tremaining: 2.5s\n",
      "161:\tlearn: 3.6471232\ttotal: 482ms\tremaining: 2.49s\n",
      "162:\tlearn: 3.6411549\ttotal: 485ms\tremaining: 2.49s\n",
      "163:\tlearn: 3.6357911\ttotal: 488ms\tremaining: 2.49s\n",
      "164:\tlearn: 3.6293439\ttotal: 491ms\tremaining: 2.48s\n",
      "165:\tlearn: 3.6227522\ttotal: 494ms\tremaining: 2.48s\n",
      "166:\tlearn: 3.6176892\ttotal: 496ms\tremaining: 2.48s\n",
      "167:\tlearn: 3.6112536\ttotal: 499ms\tremaining: 2.47s\n"
     ]
    },
    {
     "name": "stdout",
     "output_type": "stream",
     "text": [
      "168:\tlearn: 3.6079201\ttotal: 503ms\tremaining: 2.47s\n",
      "169:\tlearn: 3.6020449\ttotal: 506ms\tremaining: 2.47s\n",
      "170:\tlearn: 3.5960773\ttotal: 508ms\tremaining: 2.46s\n",
      "171:\tlearn: 3.5904412\ttotal: 511ms\tremaining: 2.46s\n",
      "172:\tlearn: 3.5858633\ttotal: 514ms\tremaining: 2.46s\n",
      "173:\tlearn: 3.5809901\ttotal: 516ms\tremaining: 2.45s\n",
      "174:\tlearn: 3.5755261\ttotal: 519ms\tremaining: 2.45s\n",
      "175:\tlearn: 3.5697665\ttotal: 522ms\tremaining: 2.44s\n",
      "176:\tlearn: 3.5643592\ttotal: 525ms\tremaining: 2.44s\n",
      "177:\tlearn: 3.5601568\ttotal: 527ms\tremaining: 2.43s\n",
      "178:\tlearn: 3.5542400\ttotal: 530ms\tremaining: 2.43s\n",
      "179:\tlearn: 3.5473480\ttotal: 533ms\tremaining: 2.43s\n",
      "180:\tlearn: 3.5428974\ttotal: 536ms\tremaining: 2.42s\n",
      "181:\tlearn: 3.5377374\ttotal: 538ms\tremaining: 2.42s\n",
      "182:\tlearn: 3.5316933\ttotal: 541ms\tremaining: 2.42s\n",
      "183:\tlearn: 3.5278692\ttotal: 544ms\tremaining: 2.41s\n",
      "184:\tlearn: 3.5225217\ttotal: 546ms\tremaining: 2.41s\n",
      "185:\tlearn: 3.5181422\ttotal: 549ms\tremaining: 2.4s\n",
      "186:\tlearn: 3.5128251\ttotal: 552ms\tremaining: 2.4s\n",
      "187:\tlearn: 3.5053174\ttotal: 555ms\tremaining: 2.4s\n",
      "188:\tlearn: 3.5020869\ttotal: 558ms\tremaining: 2.39s\n",
      "189:\tlearn: 3.4966795\ttotal: 560ms\tremaining: 2.39s\n",
      "190:\tlearn: 3.4914581\ttotal: 563ms\tremaining: 2.38s\n",
      "191:\tlearn: 3.4843445\ttotal: 567ms\tremaining: 2.39s\n",
      "192:\tlearn: 3.4801405\ttotal: 570ms\tremaining: 2.38s\n",
      "193:\tlearn: 3.4751212\ttotal: 572ms\tremaining: 2.38s\n",
      "194:\tlearn: 3.4708462\ttotal: 575ms\tremaining: 2.37s\n",
      "195:\tlearn: 3.4661817\ttotal: 578ms\tremaining: 2.37s\n",
      "196:\tlearn: 3.4599944\ttotal: 581ms\tremaining: 2.37s\n",
      "197:\tlearn: 3.4559137\ttotal: 584ms\tremaining: 2.37s\n",
      "198:\tlearn: 3.4531497\ttotal: 587ms\tremaining: 2.36s\n",
      "199:\tlearn: 3.4485332\ttotal: 589ms\tremaining: 2.36s\n",
      "200:\tlearn: 3.4442570\ttotal: 592ms\tremaining: 2.35s\n",
      "201:\tlearn: 3.4387589\ttotal: 595ms\tremaining: 2.35s\n",
      "202:\tlearn: 3.4338835\ttotal: 598ms\tremaining: 2.35s\n",
      "203:\tlearn: 3.4300619\ttotal: 600ms\tremaining: 2.34s\n",
      "204:\tlearn: 3.4238308\ttotal: 603ms\tremaining: 2.34s\n",
      "205:\tlearn: 3.4206822\ttotal: 606ms\tremaining: 2.33s\n",
      "206:\tlearn: 3.4166097\ttotal: 608ms\tremaining: 2.33s\n",
      "207:\tlearn: 3.4115532\ttotal: 611ms\tremaining: 2.33s\n",
      "208:\tlearn: 3.4064962\ttotal: 613ms\tremaining: 2.32s\n",
      "209:\tlearn: 3.4026807\ttotal: 617ms\tremaining: 2.32s\n",
      "210:\tlearn: 3.3962317\ttotal: 620ms\tremaining: 2.32s\n",
      "211:\tlearn: 3.3929541\ttotal: 622ms\tremaining: 2.31s\n",
      "212:\tlearn: 3.3882271\ttotal: 625ms\tremaining: 2.31s\n",
      "213:\tlearn: 3.3839387\ttotal: 628ms\tremaining: 2.31s\n",
      "214:\tlearn: 3.3795593\ttotal: 631ms\tremaining: 2.3s\n",
      "215:\tlearn: 3.3740552\ttotal: 634ms\tremaining: 2.3s\n",
      "216:\tlearn: 3.3683890\ttotal: 636ms\tremaining: 2.3s\n",
      "217:\tlearn: 3.3633033\ttotal: 639ms\tremaining: 2.29s\n",
      "218:\tlearn: 3.3591753\ttotal: 642ms\tremaining: 2.29s\n",
      "219:\tlearn: 3.3563037\ttotal: 645ms\tremaining: 2.29s\n",
      "220:\tlearn: 3.3537061\ttotal: 647ms\tremaining: 2.28s\n",
      "221:\tlearn: 3.3496267\ttotal: 650ms\tremaining: 2.28s\n",
      "222:\tlearn: 3.3447100\ttotal: 653ms\tremaining: 2.27s\n",
      "223:\tlearn: 3.3410418\ttotal: 656ms\tremaining: 2.27s\n",
      "224:\tlearn: 3.3361105\ttotal: 658ms\tremaining: 2.27s\n",
      "225:\tlearn: 3.3307637\ttotal: 661ms\tremaining: 2.26s\n",
      "226:\tlearn: 3.3261935\ttotal: 664ms\tremaining: 2.26s\n",
      "227:\tlearn: 3.3230753\ttotal: 667ms\tremaining: 2.26s\n",
      "228:\tlearn: 3.3195575\ttotal: 670ms\tremaining: 2.25s\n",
      "229:\tlearn: 3.3165293\ttotal: 672ms\tremaining: 2.25s\n",
      "230:\tlearn: 3.3115816\ttotal: 675ms\tremaining: 2.25s\n",
      "231:\tlearn: 3.3067265\ttotal: 678ms\tremaining: 2.24s\n",
      "232:\tlearn: 3.3031440\ttotal: 681ms\tremaining: 2.24s\n",
      "233:\tlearn: 3.2983217\ttotal: 683ms\tremaining: 2.24s\n",
      "234:\tlearn: 3.2940718\ttotal: 686ms\tremaining: 2.23s\n",
      "235:\tlearn: 3.2885921\ttotal: 689ms\tremaining: 2.23s\n",
      "236:\tlearn: 3.2839659\ttotal: 691ms\tremaining: 2.23s\n",
      "237:\tlearn: 3.2812081\ttotal: 694ms\tremaining: 2.22s\n",
      "238:\tlearn: 3.2770161\ttotal: 698ms\tremaining: 2.22s\n",
      "239:\tlearn: 3.2722064\ttotal: 700ms\tremaining: 2.22s\n",
      "240:\tlearn: 3.2680585\ttotal: 703ms\tremaining: 2.21s\n",
      "241:\tlearn: 3.2643249\ttotal: 706ms\tremaining: 2.21s\n",
      "242:\tlearn: 3.2594079\ttotal: 708ms\tremaining: 2.21s\n",
      "243:\tlearn: 3.2545458\ttotal: 712ms\tremaining: 2.21s\n",
      "244:\tlearn: 3.2504760\ttotal: 715ms\tremaining: 2.2s\n",
      "245:\tlearn: 3.2480712\ttotal: 718ms\tremaining: 2.2s\n",
      "246:\tlearn: 3.2448812\ttotal: 720ms\tremaining: 2.19s\n",
      "247:\tlearn: 3.2413315\ttotal: 723ms\tremaining: 2.19s\n",
      "248:\tlearn: 3.2373253\ttotal: 726ms\tremaining: 2.19s\n",
      "249:\tlearn: 3.2322217\ttotal: 729ms\tremaining: 2.19s\n",
      "250:\tlearn: 3.2290743\ttotal: 731ms\tremaining: 2.18s\n",
      "251:\tlearn: 3.2271336\ttotal: 734ms\tremaining: 2.18s\n",
      "252:\tlearn: 3.2239711\ttotal: 737ms\tremaining: 2.17s\n",
      "253:\tlearn: 3.2196577\ttotal: 739ms\tremaining: 2.17s\n",
      "254:\tlearn: 3.2164754\ttotal: 742ms\tremaining: 2.17s\n",
      "255:\tlearn: 3.2126657\ttotal: 745ms\tremaining: 2.17s\n",
      "256:\tlearn: 3.2097224\ttotal: 748ms\tremaining: 2.16s\n",
      "257:\tlearn: 3.2059223\ttotal: 751ms\tremaining: 2.16s\n",
      "258:\tlearn: 3.2013767\ttotal: 753ms\tremaining: 2.15s\n",
      "259:\tlearn: 3.1978089\ttotal: 756ms\tremaining: 2.15s\n",
      "260:\tlearn: 3.1937887\ttotal: 759ms\tremaining: 2.15s\n",
      "261:\tlearn: 3.1899340\ttotal: 762ms\tremaining: 2.15s\n",
      "262:\tlearn: 3.1863184\ttotal: 765ms\tremaining: 2.14s\n",
      "263:\tlearn: 3.1824806\ttotal: 767ms\tremaining: 2.14s\n",
      "264:\tlearn: 3.1781891\ttotal: 770ms\tremaining: 2.14s\n",
      "265:\tlearn: 3.1741363\ttotal: 773ms\tremaining: 2.13s\n",
      "266:\tlearn: 3.1714785\ttotal: 776ms\tremaining: 2.13s\n",
      "267:\tlearn: 3.1685037\ttotal: 779ms\tremaining: 2.13s\n",
      "268:\tlearn: 3.1648296\ttotal: 782ms\tremaining: 2.12s\n",
      "269:\tlearn: 3.1609645\ttotal: 785ms\tremaining: 2.12s\n",
      "270:\tlearn: 3.1568571\ttotal: 787ms\tremaining: 2.12s\n",
      "271:\tlearn: 3.1532162\ttotal: 790ms\tremaining: 2.11s\n",
      "272:\tlearn: 3.1497163\ttotal: 793ms\tremaining: 2.11s\n",
      "273:\tlearn: 3.1474532\ttotal: 795ms\tremaining: 2.11s\n",
      "274:\tlearn: 3.1443319\ttotal: 798ms\tremaining: 2.1s\n",
      "275:\tlearn: 3.1413006\ttotal: 801ms\tremaining: 2.1s\n",
      "276:\tlearn: 3.1386824\ttotal: 803ms\tremaining: 2.1s\n",
      "277:\tlearn: 3.1356259\ttotal: 806ms\tremaining: 2.09s\n",
      "278:\tlearn: 3.1326824\ttotal: 809ms\tremaining: 2.09s\n",
      "279:\tlearn: 3.1299207\ttotal: 812ms\tremaining: 2.09s\n",
      "280:\tlearn: 3.1271299\ttotal: 814ms\tremaining: 2.08s\n",
      "281:\tlearn: 3.1241670\ttotal: 817ms\tremaining: 2.08s\n",
      "282:\tlearn: 3.1222324\ttotal: 820ms\tremaining: 2.08s\n",
      "283:\tlearn: 3.1197977\ttotal: 823ms\tremaining: 2.08s\n",
      "284:\tlearn: 3.1169338\ttotal: 826ms\tremaining: 2.07s\n",
      "285:\tlearn: 3.1144261\ttotal: 828ms\tremaining: 2.07s\n",
      "286:\tlearn: 3.1110454\ttotal: 831ms\tremaining: 2.06s\n",
      "287:\tlearn: 3.1077214\ttotal: 834ms\tremaining: 2.06s\n",
      "288:\tlearn: 3.1053915\ttotal: 838ms\tremaining: 2.06s\n",
      "289:\tlearn: 3.1021791\ttotal: 841ms\tremaining: 2.06s\n",
      "290:\tlearn: 3.0978767\ttotal: 843ms\tremaining: 2.06s\n",
      "291:\tlearn: 3.0949429\ttotal: 846ms\tremaining: 2.05s\n",
      "292:\tlearn: 3.0926121\ttotal: 849ms\tremaining: 2.05s\n",
      "293:\tlearn: 3.0903982\ttotal: 852ms\tremaining: 2.04s\n",
      "294:\tlearn: 3.0882463\ttotal: 855ms\tremaining: 2.04s\n",
      "295:\tlearn: 3.0848264\ttotal: 857ms\tremaining: 2.04s\n",
      "296:\tlearn: 3.0804347\ttotal: 860ms\tremaining: 2.04s\n",
      "297:\tlearn: 3.0754209\ttotal: 863ms\tremaining: 2.03s\n",
      "298:\tlearn: 3.0719097\ttotal: 865ms\tremaining: 2.03s\n",
      "299:\tlearn: 3.0684977\ttotal: 868ms\tremaining: 2.02s\n",
      "300:\tlearn: 3.0649795\ttotal: 871ms\tremaining: 2.02s\n",
      "301:\tlearn: 3.0615922\ttotal: 874ms\tremaining: 2.02s\n",
      "302:\tlearn: 3.0572491\ttotal: 877ms\tremaining: 2.02s\n",
      "303:\tlearn: 3.0544546\ttotal: 879ms\tremaining: 2.01s\n",
      "304:\tlearn: 3.0519687\ttotal: 882ms\tremaining: 2.01s\n",
      "305:\tlearn: 3.0496181\ttotal: 885ms\tremaining: 2.01s\n",
      "306:\tlearn: 3.0463670\ttotal: 888ms\tremaining: 2s\n",
      "307:\tlearn: 3.0433833\ttotal: 891ms\tremaining: 2s\n",
      "308:\tlearn: 3.0411113\ttotal: 894ms\tremaining: 2s\n",
      "309:\tlearn: 3.0375075\ttotal: 897ms\tremaining: 2s\n",
      "310:\tlearn: 3.0343046\ttotal: 899ms\tremaining: 1.99s\n",
      "311:\tlearn: 3.0318153\ttotal: 902ms\tremaining: 1.99s\n",
      "312:\tlearn: 3.0285569\ttotal: 905ms\tremaining: 1.99s\n",
      "313:\tlearn: 3.0262250\ttotal: 908ms\tremaining: 1.98s\n",
      "314:\tlearn: 3.0245299\ttotal: 910ms\tremaining: 1.98s\n",
      "315:\tlearn: 3.0222245\ttotal: 913ms\tremaining: 1.98s\n",
      "316:\tlearn: 3.0195343\ttotal: 915ms\tremaining: 1.97s\n",
      "317:\tlearn: 3.0172069\ttotal: 918ms\tremaining: 1.97s\n",
      "318:\tlearn: 3.0153648\ttotal: 921ms\tremaining: 1.97s\n",
      "319:\tlearn: 3.0122816\ttotal: 924ms\tremaining: 1.96s\n",
      "320:\tlearn: 3.0083659\ttotal: 927ms\tremaining: 1.96s\n",
      "321:\tlearn: 3.0065591\ttotal: 929ms\tremaining: 1.96s\n",
      "322:\tlearn: 3.0038366\ttotal: 932ms\tremaining: 1.95s\n",
      "323:\tlearn: 3.0002525\ttotal: 936ms\tremaining: 1.95s\n",
      "324:\tlearn: 2.9981211\ttotal: 939ms\tremaining: 1.95s\n",
      "325:\tlearn: 2.9940541\ttotal: 941ms\tremaining: 1.95s\n",
      "326:\tlearn: 2.9910307\ttotal: 944ms\tremaining: 1.94s\n",
      "327:\tlearn: 2.9886381\ttotal: 947ms\tremaining: 1.94s\n",
      "328:\tlearn: 2.9869566\ttotal: 949ms\tremaining: 1.94s\n"
     ]
    },
    {
     "name": "stdout",
     "output_type": "stream",
     "text": [
      "329:\tlearn: 2.9850557\ttotal: 953ms\tremaining: 1.93s\n",
      "330:\tlearn: 2.9826388\ttotal: 956ms\tremaining: 1.93s\n",
      "331:\tlearn: 2.9798719\ttotal: 960ms\tremaining: 1.93s\n",
      "332:\tlearn: 2.9773104\ttotal: 962ms\tremaining: 1.93s\n",
      "333:\tlearn: 2.9745498\ttotal: 967ms\tremaining: 1.93s\n",
      "334:\tlearn: 2.9720393\ttotal: 970ms\tremaining: 1.93s\n",
      "335:\tlearn: 2.9677079\ttotal: 973ms\tremaining: 1.92s\n",
      "336:\tlearn: 2.9664378\ttotal: 977ms\tremaining: 1.92s\n",
      "337:\tlearn: 2.9647242\ttotal: 980ms\tremaining: 1.92s\n",
      "338:\tlearn: 2.9613721\ttotal: 984ms\tremaining: 1.92s\n",
      "339:\tlearn: 2.9587865\ttotal: 987ms\tremaining: 1.92s\n",
      "340:\tlearn: 2.9560885\ttotal: 989ms\tremaining: 1.91s\n",
      "341:\tlearn: 2.9527775\ttotal: 992ms\tremaining: 1.91s\n",
      "342:\tlearn: 2.9506583\ttotal: 995ms\tremaining: 1.91s\n",
      "343:\tlearn: 2.9470939\ttotal: 998ms\tremaining: 1.9s\n",
      "344:\tlearn: 2.9441721\ttotal: 1s\tremaining: 1.9s\n",
      "345:\tlearn: 2.9407095\ttotal: 1s\tremaining: 1.9s\n",
      "346:\tlearn: 2.9380090\ttotal: 1.01s\tremaining: 1.9s\n",
      "347:\tlearn: 2.9353369\ttotal: 1.01s\tremaining: 1.89s\n",
      "348:\tlearn: 2.9323053\ttotal: 1.01s\tremaining: 1.89s\n",
      "349:\tlearn: 2.9297100\ttotal: 1.02s\tremaining: 1.89s\n",
      "350:\tlearn: 2.9267054\ttotal: 1.02s\tremaining: 1.89s\n",
      "351:\tlearn: 2.9244958\ttotal: 1.02s\tremaining: 1.88s\n",
      "352:\tlearn: 2.9222793\ttotal: 1.02s\tremaining: 1.88s\n",
      "353:\tlearn: 2.9205532\ttotal: 1.03s\tremaining: 1.88s\n",
      "354:\tlearn: 2.9179054\ttotal: 1.03s\tremaining: 1.87s\n",
      "355:\tlearn: 2.9151390\ttotal: 1.03s\tremaining: 1.87s\n",
      "356:\tlearn: 2.9130784\ttotal: 1.04s\tremaining: 1.87s\n",
      "357:\tlearn: 2.9107689\ttotal: 1.04s\tremaining: 1.86s\n",
      "358:\tlearn: 2.9072765\ttotal: 1.04s\tremaining: 1.86s\n",
      "359:\tlearn: 2.9038221\ttotal: 1.04s\tremaining: 1.86s\n",
      "360:\tlearn: 2.9022246\ttotal: 1.05s\tremaining: 1.85s\n",
      "361:\tlearn: 2.8997429\ttotal: 1.05s\tremaining: 1.85s\n",
      "362:\tlearn: 2.8976415\ttotal: 1.05s\tremaining: 1.85s\n",
      "363:\tlearn: 2.8960193\ttotal: 1.06s\tremaining: 1.84s\n",
      "364:\tlearn: 2.8937861\ttotal: 1.06s\tremaining: 1.84s\n",
      "365:\tlearn: 2.8919176\ttotal: 1.06s\tremaining: 1.84s\n",
      "366:\tlearn: 2.8898565\ttotal: 1.06s\tremaining: 1.83s\n",
      "367:\tlearn: 2.8879809\ttotal: 1.07s\tremaining: 1.83s\n",
      "368:\tlearn: 2.8848209\ttotal: 1.07s\tremaining: 1.83s\n",
      "369:\tlearn: 2.8819672\ttotal: 1.07s\tremaining: 1.82s\n",
      "370:\tlearn: 2.8801978\ttotal: 1.07s\tremaining: 1.82s\n",
      "371:\tlearn: 2.8780093\ttotal: 1.08s\tremaining: 1.82s\n",
      "372:\tlearn: 2.8756883\ttotal: 1.08s\tremaining: 1.81s\n",
      "373:\tlearn: 2.8741871\ttotal: 1.08s\tremaining: 1.81s\n",
      "374:\tlearn: 2.8724804\ttotal: 1.08s\tremaining: 1.81s\n",
      "375:\tlearn: 2.8714698\ttotal: 1.09s\tremaining: 1.8s\n",
      "376:\tlearn: 2.8701401\ttotal: 1.09s\tremaining: 1.8s\n",
      "377:\tlearn: 2.8663588\ttotal: 1.09s\tremaining: 1.8s\n",
      "378:\tlearn: 2.8649635\ttotal: 1.1s\tremaining: 1.8s\n",
      "379:\tlearn: 2.8632194\ttotal: 1.1s\tremaining: 1.79s\n",
      "380:\tlearn: 2.8608525\ttotal: 1.1s\tremaining: 1.79s\n",
      "381:\tlearn: 2.8590483\ttotal: 1.1s\tremaining: 1.79s\n",
      "382:\tlearn: 2.8562652\ttotal: 1.11s\tremaining: 1.78s\n",
      "383:\tlearn: 2.8545039\ttotal: 1.11s\tremaining: 1.78s\n",
      "384:\tlearn: 2.8512030\ttotal: 1.11s\tremaining: 1.78s\n",
      "385:\tlearn: 2.8476486\ttotal: 1.12s\tremaining: 1.77s\n",
      "386:\tlearn: 2.8452915\ttotal: 1.12s\tremaining: 1.77s\n",
      "387:\tlearn: 2.8429074\ttotal: 1.12s\tremaining: 1.77s\n",
      "388:\tlearn: 2.8405267\ttotal: 1.12s\tremaining: 1.76s\n",
      "389:\tlearn: 2.8387091\ttotal: 1.13s\tremaining: 1.76s\n",
      "390:\tlearn: 2.8370233\ttotal: 1.13s\tremaining: 1.76s\n",
      "391:\tlearn: 2.8346693\ttotal: 1.13s\tremaining: 1.76s\n",
      "392:\tlearn: 2.8334689\ttotal: 1.14s\tremaining: 1.75s\n",
      "393:\tlearn: 2.8312415\ttotal: 1.14s\tremaining: 1.75s\n",
      "394:\tlearn: 2.8291879\ttotal: 1.14s\tremaining: 1.75s\n",
      "395:\tlearn: 2.8259946\ttotal: 1.14s\tremaining: 1.74s\n",
      "396:\tlearn: 2.8235605\ttotal: 1.15s\tremaining: 1.74s\n",
      "397:\tlearn: 2.8219877\ttotal: 1.15s\tremaining: 1.74s\n",
      "398:\tlearn: 2.8203210\ttotal: 1.15s\tremaining: 1.74s\n",
      "399:\tlearn: 2.8175635\ttotal: 1.16s\tremaining: 1.73s\n",
      "400:\tlearn: 2.8157618\ttotal: 1.16s\tremaining: 1.73s\n",
      "401:\tlearn: 2.8136451\ttotal: 1.16s\tremaining: 1.73s\n",
      "402:\tlearn: 2.8116464\ttotal: 1.17s\tremaining: 1.73s\n",
      "403:\tlearn: 2.8084195\ttotal: 1.17s\tremaining: 1.72s\n",
      "404:\tlearn: 2.8063752\ttotal: 1.17s\tremaining: 1.72s\n",
      "405:\tlearn: 2.8039195\ttotal: 1.17s\tremaining: 1.72s\n",
      "406:\tlearn: 2.8017956\ttotal: 1.18s\tremaining: 1.71s\n",
      "407:\tlearn: 2.7998201\ttotal: 1.18s\tremaining: 1.71s\n",
      "408:\tlearn: 2.7983848\ttotal: 1.18s\tremaining: 1.71s\n",
      "409:\tlearn: 2.7956417\ttotal: 1.18s\tremaining: 1.7s\n",
      "410:\tlearn: 2.7934078\ttotal: 1.19s\tremaining: 1.7s\n",
      "411:\tlearn: 2.7908924\ttotal: 1.19s\tremaining: 1.7s\n",
      "412:\tlearn: 2.7893277\ttotal: 1.19s\tremaining: 1.69s\n",
      "413:\tlearn: 2.7872550\ttotal: 1.19s\tremaining: 1.69s\n",
      "414:\tlearn: 2.7849653\ttotal: 1.2s\tremaining: 1.69s\n",
      "415:\tlearn: 2.7818129\ttotal: 1.2s\tremaining: 1.68s\n",
      "416:\tlearn: 2.7796035\ttotal: 1.2s\tremaining: 1.68s\n",
      "417:\tlearn: 2.7772650\ttotal: 1.21s\tremaining: 1.68s\n",
      "418:\tlearn: 2.7751987\ttotal: 1.21s\tremaining: 1.68s\n",
      "419:\tlearn: 2.7737617\ttotal: 1.21s\tremaining: 1.67s\n",
      "420:\tlearn: 2.7707913\ttotal: 1.21s\tremaining: 1.67s\n",
      "421:\tlearn: 2.7690487\ttotal: 1.22s\tremaining: 1.67s\n",
      "422:\tlearn: 2.7665704\ttotal: 1.22s\tremaining: 1.66s\n",
      "423:\tlearn: 2.7642437\ttotal: 1.22s\tremaining: 1.66s\n",
      "424:\tlearn: 2.7616954\ttotal: 1.23s\tremaining: 1.66s\n",
      "425:\tlearn: 2.7594652\ttotal: 1.23s\tremaining: 1.66s\n",
      "426:\tlearn: 2.7579617\ttotal: 1.23s\tremaining: 1.65s\n",
      "427:\tlearn: 2.7562263\ttotal: 1.23s\tremaining: 1.65s\n",
      "428:\tlearn: 2.7549399\ttotal: 1.24s\tremaining: 1.65s\n",
      "429:\tlearn: 2.7530029\ttotal: 1.24s\tremaining: 1.64s\n",
      "430:\tlearn: 2.7509014\ttotal: 1.24s\tremaining: 1.64s\n",
      "431:\tlearn: 2.7491097\ttotal: 1.24s\tremaining: 1.64s\n",
      "432:\tlearn: 2.7469173\ttotal: 1.25s\tremaining: 1.63s\n",
      "433:\tlearn: 2.7445600\ttotal: 1.25s\tremaining: 1.63s\n",
      "434:\tlearn: 2.7427913\ttotal: 1.25s\tremaining: 1.63s\n",
      "435:\tlearn: 2.7402222\ttotal: 1.25s\tremaining: 1.62s\n",
      "436:\tlearn: 2.7385888\ttotal: 1.26s\tremaining: 1.62s\n",
      "437:\tlearn: 2.7361727\ttotal: 1.26s\tremaining: 1.62s\n",
      "438:\tlearn: 2.7347527\ttotal: 1.26s\tremaining: 1.61s\n",
      "439:\tlearn: 2.7311428\ttotal: 1.27s\tremaining: 1.61s\n",
      "440:\tlearn: 2.7290663\ttotal: 1.27s\tremaining: 1.61s\n",
      "441:\tlearn: 2.7279100\ttotal: 1.27s\tremaining: 1.6s\n",
      "442:\tlearn: 2.7253512\ttotal: 1.27s\tremaining: 1.6s\n",
      "443:\tlearn: 2.7225777\ttotal: 1.28s\tremaining: 1.6s\n",
      "444:\tlearn: 2.7206657\ttotal: 1.28s\tremaining: 1.6s\n",
      "445:\tlearn: 2.7179906\ttotal: 1.28s\tremaining: 1.59s\n",
      "446:\tlearn: 2.7162223\ttotal: 1.28s\tremaining: 1.59s\n",
      "447:\tlearn: 2.7155970\ttotal: 1.29s\tremaining: 1.59s\n",
      "448:\tlearn: 2.7142561\ttotal: 1.29s\tremaining: 1.58s\n",
      "449:\tlearn: 2.7112483\ttotal: 1.29s\tremaining: 1.58s\n",
      "450:\tlearn: 2.7094003\ttotal: 1.29s\tremaining: 1.58s\n",
      "451:\tlearn: 2.7067312\ttotal: 1.3s\tremaining: 1.57s\n",
      "452:\tlearn: 2.7049921\ttotal: 1.3s\tremaining: 1.57s\n",
      "453:\tlearn: 2.7031714\ttotal: 1.3s\tremaining: 1.57s\n",
      "454:\tlearn: 2.7012570\ttotal: 1.31s\tremaining: 1.56s\n",
      "455:\tlearn: 2.6998087\ttotal: 1.31s\tremaining: 1.56s\n",
      "456:\tlearn: 2.6974396\ttotal: 1.31s\tremaining: 1.56s\n",
      "457:\tlearn: 2.6955466\ttotal: 1.31s\tremaining: 1.56s\n",
      "458:\tlearn: 2.6939480\ttotal: 1.32s\tremaining: 1.55s\n",
      "459:\tlearn: 2.6920636\ttotal: 1.32s\tremaining: 1.55s\n",
      "460:\tlearn: 2.6898193\ttotal: 1.32s\tremaining: 1.55s\n",
      "461:\tlearn: 2.6880371\ttotal: 1.32s\tremaining: 1.54s\n",
      "462:\tlearn: 2.6865391\ttotal: 1.33s\tremaining: 1.54s\n",
      "463:\tlearn: 2.6849095\ttotal: 1.33s\tremaining: 1.54s\n",
      "464:\tlearn: 2.6833382\ttotal: 1.33s\tremaining: 1.53s\n",
      "465:\tlearn: 2.6810428\ttotal: 1.34s\tremaining: 1.53s\n",
      "466:\tlearn: 2.6792736\ttotal: 1.34s\tremaining: 1.53s\n",
      "467:\tlearn: 2.6777208\ttotal: 1.34s\tremaining: 1.52s\n",
      "468:\tlearn: 2.6762398\ttotal: 1.34s\tremaining: 1.52s\n",
      "469:\tlearn: 2.6741518\ttotal: 1.35s\tremaining: 1.52s\n",
      "470:\tlearn: 2.6720784\ttotal: 1.35s\tremaining: 1.52s\n",
      "471:\tlearn: 2.6699095\ttotal: 1.35s\tremaining: 1.51s\n",
      "472:\tlearn: 2.6683215\ttotal: 1.36s\tremaining: 1.51s\n",
      "473:\tlearn: 2.6665622\ttotal: 1.36s\tremaining: 1.51s\n",
      "474:\tlearn: 2.6642182\ttotal: 1.36s\tremaining: 1.51s\n",
      "475:\tlearn: 2.6619203\ttotal: 1.36s\tremaining: 1.5s\n",
      "476:\tlearn: 2.6601467\ttotal: 1.37s\tremaining: 1.5s\n",
      "477:\tlearn: 2.6584385\ttotal: 1.37s\tremaining: 1.5s\n",
      "478:\tlearn: 2.6570142\ttotal: 1.37s\tremaining: 1.49s\n",
      "479:\tlearn: 2.6551455\ttotal: 1.38s\tremaining: 1.49s\n",
      "480:\tlearn: 2.6520372\ttotal: 1.38s\tremaining: 1.49s\n",
      "481:\tlearn: 2.6506629\ttotal: 1.38s\tremaining: 1.49s\n",
      "482:\tlearn: 2.6480687\ttotal: 1.38s\tremaining: 1.48s\n",
      "483:\tlearn: 2.6463323\ttotal: 1.39s\tremaining: 1.48s\n",
      "484:\tlearn: 2.6449507\ttotal: 1.39s\tremaining: 1.48s\n",
      "485:\tlearn: 2.6428324\ttotal: 1.39s\tremaining: 1.47s\n",
      "486:\tlearn: 2.6415228\ttotal: 1.4s\tremaining: 1.47s\n",
      "487:\tlearn: 2.6402506\ttotal: 1.4s\tremaining: 1.47s\n",
      "488:\tlearn: 2.6381120\ttotal: 1.4s\tremaining: 1.47s\n",
      "489:\tlearn: 2.6363430\ttotal: 1.4s\tremaining: 1.46s\n",
      "490:\tlearn: 2.6347907\ttotal: 1.41s\tremaining: 1.46s\n",
      "491:\tlearn: 2.6334415\ttotal: 1.41s\tremaining: 1.46s\n",
      "492:\tlearn: 2.6318391\ttotal: 1.41s\tremaining: 1.45s\n",
      "493:\tlearn: 2.6301487\ttotal: 1.42s\tremaining: 1.45s\n"
     ]
    },
    {
     "name": "stdout",
     "output_type": "stream",
     "text": [
      "494:\tlearn: 2.6285140\ttotal: 1.42s\tremaining: 1.45s\n",
      "495:\tlearn: 2.6269378\ttotal: 1.42s\tremaining: 1.44s\n",
      "496:\tlearn: 2.6253546\ttotal: 1.42s\tremaining: 1.44s\n",
      "497:\tlearn: 2.6233348\ttotal: 1.43s\tremaining: 1.44s\n",
      "498:\tlearn: 2.6221086\ttotal: 1.43s\tremaining: 1.44s\n",
      "499:\tlearn: 2.6203179\ttotal: 1.43s\tremaining: 1.43s\n",
      "500:\tlearn: 2.6181831\ttotal: 1.44s\tremaining: 1.43s\n",
      "501:\tlearn: 2.6158450\ttotal: 1.44s\tremaining: 1.43s\n",
      "502:\tlearn: 2.6140245\ttotal: 1.44s\tremaining: 1.42s\n",
      "503:\tlearn: 2.6122722\ttotal: 1.44s\tremaining: 1.42s\n",
      "504:\tlearn: 2.6104990\ttotal: 1.45s\tremaining: 1.42s\n",
      "505:\tlearn: 2.6091255\ttotal: 1.45s\tremaining: 1.42s\n",
      "506:\tlearn: 2.6071021\ttotal: 1.45s\tremaining: 1.41s\n",
      "507:\tlearn: 2.6047767\ttotal: 1.45s\tremaining: 1.41s\n",
      "508:\tlearn: 2.6032396\ttotal: 1.46s\tremaining: 1.41s\n",
      "509:\tlearn: 2.6010316\ttotal: 1.46s\tremaining: 1.4s\n",
      "510:\tlearn: 2.5990075\ttotal: 1.46s\tremaining: 1.4s\n",
      "511:\tlearn: 2.5977165\ttotal: 1.47s\tremaining: 1.4s\n",
      "512:\tlearn: 2.5963192\ttotal: 1.47s\tremaining: 1.39s\n",
      "513:\tlearn: 2.5947313\ttotal: 1.47s\tremaining: 1.39s\n",
      "514:\tlearn: 2.5933649\ttotal: 1.47s\tremaining: 1.39s\n",
      "515:\tlearn: 2.5922384\ttotal: 1.48s\tremaining: 1.39s\n",
      "516:\tlearn: 2.5906290\ttotal: 1.48s\tremaining: 1.38s\n",
      "517:\tlearn: 2.5887996\ttotal: 1.48s\tremaining: 1.38s\n",
      "518:\tlearn: 2.5873990\ttotal: 1.48s\tremaining: 1.38s\n",
      "519:\tlearn: 2.5853904\ttotal: 1.49s\tremaining: 1.37s\n",
      "520:\tlearn: 2.5839338\ttotal: 1.49s\tremaining: 1.37s\n",
      "521:\tlearn: 2.5808753\ttotal: 1.49s\tremaining: 1.37s\n",
      "522:\tlearn: 2.5784574\ttotal: 1.5s\tremaining: 1.36s\n",
      "523:\tlearn: 2.5771490\ttotal: 1.5s\tremaining: 1.36s\n",
      "524:\tlearn: 2.5756829\ttotal: 1.5s\tremaining: 1.36s\n",
      "525:\tlearn: 2.5744857\ttotal: 1.5s\tremaining: 1.35s\n",
      "526:\tlearn: 2.5720157\ttotal: 1.51s\tremaining: 1.35s\n",
      "527:\tlearn: 2.5705328\ttotal: 1.51s\tremaining: 1.35s\n",
      "528:\tlearn: 2.5692819\ttotal: 1.51s\tremaining: 1.35s\n",
      "529:\tlearn: 2.5671866\ttotal: 1.51s\tremaining: 1.34s\n",
      "530:\tlearn: 2.5652527\ttotal: 1.52s\tremaining: 1.34s\n",
      "531:\tlearn: 2.5639608\ttotal: 1.52s\tremaining: 1.34s\n",
      "532:\tlearn: 2.5627865\ttotal: 1.52s\tremaining: 1.33s\n",
      "533:\tlearn: 2.5605700\ttotal: 1.53s\tremaining: 1.33s\n",
      "534:\tlearn: 2.5584845\ttotal: 1.53s\tremaining: 1.33s\n",
      "535:\tlearn: 2.5559526\ttotal: 1.53s\tremaining: 1.33s\n",
      "536:\tlearn: 2.5539196\ttotal: 1.53s\tremaining: 1.32s\n",
      "537:\tlearn: 2.5526202\ttotal: 1.54s\tremaining: 1.32s\n",
      "538:\tlearn: 2.5511266\ttotal: 1.54s\tremaining: 1.32s\n",
      "539:\tlearn: 2.5483178\ttotal: 1.54s\tremaining: 1.31s\n",
      "540:\tlearn: 2.5465990\ttotal: 1.55s\tremaining: 1.31s\n",
      "541:\tlearn: 2.5443701\ttotal: 1.55s\tremaining: 1.31s\n",
      "542:\tlearn: 2.5424255\ttotal: 1.55s\tremaining: 1.3s\n",
      "543:\tlearn: 2.5412640\ttotal: 1.55s\tremaining: 1.3s\n",
      "544:\tlearn: 2.5406457\ttotal: 1.56s\tremaining: 1.3s\n",
      "545:\tlearn: 2.5392371\ttotal: 1.56s\tremaining: 1.3s\n",
      "546:\tlearn: 2.5376456\ttotal: 1.56s\tremaining: 1.29s\n",
      "547:\tlearn: 2.5359496\ttotal: 1.56s\tremaining: 1.29s\n",
      "548:\tlearn: 2.5346220\ttotal: 1.57s\tremaining: 1.29s\n",
      "549:\tlearn: 2.5330283\ttotal: 1.57s\tremaining: 1.28s\n",
      "550:\tlearn: 2.5303524\ttotal: 1.57s\tremaining: 1.28s\n",
      "551:\tlearn: 2.5286304\ttotal: 1.58s\tremaining: 1.28s\n",
      "552:\tlearn: 2.5274495\ttotal: 1.58s\tremaining: 1.28s\n",
      "553:\tlearn: 2.5264657\ttotal: 1.58s\tremaining: 1.27s\n",
      "554:\tlearn: 2.5251721\ttotal: 1.58s\tremaining: 1.27s\n",
      "555:\tlearn: 2.5240521\ttotal: 1.59s\tremaining: 1.27s\n",
      "556:\tlearn: 2.5224659\ttotal: 1.59s\tremaining: 1.26s\n",
      "557:\tlearn: 2.5210002\ttotal: 1.59s\tremaining: 1.26s\n",
      "558:\tlearn: 2.5197787\ttotal: 1.6s\tremaining: 1.26s\n",
      "559:\tlearn: 2.5181295\ttotal: 1.6s\tremaining: 1.26s\n",
      "560:\tlearn: 2.5165627\ttotal: 1.6s\tremaining: 1.25s\n",
      "561:\tlearn: 2.5148433\ttotal: 1.6s\tremaining: 1.25s\n",
      "562:\tlearn: 2.5123239\ttotal: 1.61s\tremaining: 1.25s\n",
      "563:\tlearn: 2.5109854\ttotal: 1.61s\tremaining: 1.25s\n",
      "564:\tlearn: 2.5097562\ttotal: 1.61s\tremaining: 1.24s\n",
      "565:\tlearn: 2.5083598\ttotal: 1.62s\tremaining: 1.24s\n",
      "566:\tlearn: 2.5059541\ttotal: 1.62s\tremaining: 1.24s\n",
      "567:\tlearn: 2.5042477\ttotal: 1.62s\tremaining: 1.23s\n",
      "568:\tlearn: 2.5023988\ttotal: 1.62s\tremaining: 1.23s\n",
      "569:\tlearn: 2.5005563\ttotal: 1.63s\tremaining: 1.23s\n",
      "570:\tlearn: 2.4991584\ttotal: 1.63s\tremaining: 1.22s\n",
      "571:\tlearn: 2.4977248\ttotal: 1.63s\tremaining: 1.22s\n",
      "572:\tlearn: 2.4957801\ttotal: 1.64s\tremaining: 1.22s\n",
      "573:\tlearn: 2.4944445\ttotal: 1.64s\tremaining: 1.22s\n",
      "574:\tlearn: 2.4930325\ttotal: 1.64s\tremaining: 1.21s\n",
      "575:\tlearn: 2.4920209\ttotal: 1.64s\tremaining: 1.21s\n",
      "576:\tlearn: 2.4906307\ttotal: 1.65s\tremaining: 1.21s\n",
      "577:\tlearn: 2.4893635\ttotal: 1.65s\tremaining: 1.2s\n",
      "578:\tlearn: 2.4880889\ttotal: 1.65s\tremaining: 1.2s\n",
      "579:\tlearn: 2.4857949\ttotal: 1.66s\tremaining: 1.2s\n",
      "580:\tlearn: 2.4843216\ttotal: 1.66s\tremaining: 1.2s\n",
      "581:\tlearn: 2.4832739\ttotal: 1.66s\tremaining: 1.19s\n",
      "582:\tlearn: 2.4817008\ttotal: 1.66s\tremaining: 1.19s\n",
      "583:\tlearn: 2.4798727\ttotal: 1.67s\tremaining: 1.19s\n",
      "584:\tlearn: 2.4785319\ttotal: 1.67s\tremaining: 1.18s\n",
      "585:\tlearn: 2.4774551\ttotal: 1.67s\tremaining: 1.18s\n",
      "586:\tlearn: 2.4761807\ttotal: 1.67s\tremaining: 1.18s\n",
      "587:\tlearn: 2.4747579\ttotal: 1.68s\tremaining: 1.18s\n",
      "588:\tlearn: 2.4721153\ttotal: 1.68s\tremaining: 1.17s\n",
      "589:\tlearn: 2.4706503\ttotal: 1.68s\tremaining: 1.17s\n",
      "590:\tlearn: 2.4682704\ttotal: 1.69s\tremaining: 1.17s\n",
      "591:\tlearn: 2.4665819\ttotal: 1.69s\tremaining: 1.16s\n",
      "592:\tlearn: 2.4655282\ttotal: 1.69s\tremaining: 1.16s\n",
      "593:\tlearn: 2.4641042\ttotal: 1.69s\tremaining: 1.16s\n",
      "594:\tlearn: 2.4631271\ttotal: 1.7s\tremaining: 1.15s\n",
      "595:\tlearn: 2.4617240\ttotal: 1.7s\tremaining: 1.15s\n",
      "596:\tlearn: 2.4606982\ttotal: 1.7s\tremaining: 1.15s\n",
      "597:\tlearn: 2.4594976\ttotal: 1.7s\tremaining: 1.15s\n",
      "598:\tlearn: 2.4581099\ttotal: 1.71s\tremaining: 1.14s\n",
      "599:\tlearn: 2.4570458\ttotal: 1.71s\tremaining: 1.14s\n",
      "600:\tlearn: 2.4543305\ttotal: 1.71s\tremaining: 1.14s\n",
      "601:\tlearn: 2.4532007\ttotal: 1.71s\tremaining: 1.13s\n",
      "602:\tlearn: 2.4517975\ttotal: 1.72s\tremaining: 1.13s\n",
      "603:\tlearn: 2.4495803\ttotal: 1.72s\tremaining: 1.13s\n",
      "604:\tlearn: 2.4480475\ttotal: 1.72s\tremaining: 1.12s\n",
      "605:\tlearn: 2.4463591\ttotal: 1.73s\tremaining: 1.12s\n",
      "606:\tlearn: 2.4453034\ttotal: 1.73s\tremaining: 1.12s\n",
      "607:\tlearn: 2.4443884\ttotal: 1.73s\tremaining: 1.12s\n",
      "608:\tlearn: 2.4430667\ttotal: 1.73s\tremaining: 1.11s\n",
      "609:\tlearn: 2.4416012\ttotal: 1.74s\tremaining: 1.11s\n",
      "610:\tlearn: 2.4407313\ttotal: 1.74s\tremaining: 1.11s\n",
      "611:\tlearn: 2.4388857\ttotal: 1.74s\tremaining: 1.1s\n",
      "612:\tlearn: 2.4370479\ttotal: 1.74s\tremaining: 1.1s\n",
      "613:\tlearn: 2.4359449\ttotal: 1.75s\tremaining: 1.1s\n",
      "614:\tlearn: 2.4352213\ttotal: 1.75s\tremaining: 1.1s\n",
      "615:\tlearn: 2.4337424\ttotal: 1.75s\tremaining: 1.09s\n",
      "616:\tlearn: 2.4326244\ttotal: 1.76s\tremaining: 1.09s\n",
      "617:\tlearn: 2.4308220\ttotal: 1.76s\tremaining: 1.09s\n",
      "618:\tlearn: 2.4298478\ttotal: 1.76s\tremaining: 1.08s\n",
      "619:\tlearn: 2.4287106\ttotal: 1.76s\tremaining: 1.08s\n",
      "620:\tlearn: 2.4275285\ttotal: 1.77s\tremaining: 1.08s\n",
      "621:\tlearn: 2.4262707\ttotal: 1.77s\tremaining: 1.07s\n",
      "622:\tlearn: 2.4250055\ttotal: 1.77s\tremaining: 1.07s\n",
      "623:\tlearn: 2.4243204\ttotal: 1.77s\tremaining: 1.07s\n",
      "624:\tlearn: 2.4221881\ttotal: 1.78s\tremaining: 1.07s\n",
      "625:\tlearn: 2.4202771\ttotal: 1.78s\tremaining: 1.06s\n",
      "626:\tlearn: 2.4190406\ttotal: 1.78s\tremaining: 1.06s\n",
      "627:\tlearn: 2.4181345\ttotal: 1.79s\tremaining: 1.06s\n",
      "628:\tlearn: 2.4168908\ttotal: 1.79s\tremaining: 1.06s\n",
      "629:\tlearn: 2.4153390\ttotal: 1.79s\tremaining: 1.05s\n",
      "630:\tlearn: 2.4140635\ttotal: 1.8s\tremaining: 1.05s\n",
      "631:\tlearn: 2.4129726\ttotal: 1.8s\tremaining: 1.05s\n",
      "632:\tlearn: 2.4115884\ttotal: 1.8s\tremaining: 1.04s\n",
      "633:\tlearn: 2.4099233\ttotal: 1.8s\tremaining: 1.04s\n",
      "634:\tlearn: 2.4083374\ttotal: 1.81s\tremaining: 1.04s\n",
      "635:\tlearn: 2.4064638\ttotal: 1.81s\tremaining: 1.04s\n",
      "636:\tlearn: 2.4052278\ttotal: 1.81s\tremaining: 1.03s\n",
      "637:\tlearn: 2.4042191\ttotal: 1.82s\tremaining: 1.03s\n",
      "638:\tlearn: 2.4029290\ttotal: 1.82s\tremaining: 1.03s\n",
      "639:\tlearn: 2.4016465\ttotal: 1.82s\tremaining: 1.02s\n",
      "640:\tlearn: 2.4005234\ttotal: 1.82s\tremaining: 1.02s\n",
      "641:\tlearn: 2.3989128\ttotal: 1.83s\tremaining: 1.02s\n",
      "642:\tlearn: 2.3973300\ttotal: 1.83s\tremaining: 1.02s\n",
      "643:\tlearn: 2.3962431\ttotal: 1.83s\tremaining: 1.01s\n",
      "644:\tlearn: 2.3952221\ttotal: 1.83s\tremaining: 1.01s\n",
      "645:\tlearn: 2.3938785\ttotal: 1.84s\tremaining: 1.01s\n",
      "646:\tlearn: 2.3922954\ttotal: 1.84s\tremaining: 1s\n",
      "647:\tlearn: 2.3908071\ttotal: 1.84s\tremaining: 1s\n",
      "648:\tlearn: 2.3890394\ttotal: 1.85s\tremaining: 999ms\n",
      "649:\tlearn: 2.3880145\ttotal: 1.85s\tremaining: 996ms\n",
      "650:\tlearn: 2.3862228\ttotal: 1.85s\tremaining: 993ms\n",
      "651:\tlearn: 2.3849108\ttotal: 1.85s\tremaining: 990ms\n",
      "652:\tlearn: 2.3833513\ttotal: 1.86s\tremaining: 987ms\n",
      "653:\tlearn: 2.3819474\ttotal: 1.86s\tremaining: 984ms\n"
     ]
    },
    {
     "name": "stdout",
     "output_type": "stream",
     "text": [
      "654:\tlearn: 2.3805644\ttotal: 1.86s\tremaining: 981ms\n",
      "655:\tlearn: 2.3798540\ttotal: 1.86s\tremaining: 978ms\n",
      "656:\tlearn: 2.3783002\ttotal: 1.87s\tremaining: 975ms\n",
      "657:\tlearn: 2.3768146\ttotal: 1.87s\tremaining: 972ms\n",
      "658:\tlearn: 2.3755033\ttotal: 1.87s\tremaining: 969ms\n",
      "659:\tlearn: 2.3739802\ttotal: 1.88s\tremaining: 967ms\n",
      "660:\tlearn: 2.3726522\ttotal: 1.88s\tremaining: 964ms\n",
      "661:\tlearn: 2.3709989\ttotal: 1.88s\tremaining: 961ms\n",
      "662:\tlearn: 2.3699400\ttotal: 1.88s\tremaining: 958ms\n",
      "663:\tlearn: 2.3685535\ttotal: 1.89s\tremaining: 955ms\n",
      "664:\tlearn: 2.3674439\ttotal: 1.89s\tremaining: 952ms\n",
      "665:\tlearn: 2.3662550\ttotal: 1.89s\tremaining: 949ms\n",
      "666:\tlearn: 2.3646464\ttotal: 1.9s\tremaining: 947ms\n",
      "667:\tlearn: 2.3635701\ttotal: 1.9s\tremaining: 944ms\n",
      "668:\tlearn: 2.3623655\ttotal: 1.9s\tremaining: 941ms\n",
      "669:\tlearn: 2.3609643\ttotal: 1.9s\tremaining: 938ms\n",
      "670:\tlearn: 2.3599773\ttotal: 1.91s\tremaining: 935ms\n",
      "671:\tlearn: 2.3579165\ttotal: 1.91s\tremaining: 932ms\n",
      "672:\tlearn: 2.3564964\ttotal: 1.92s\tremaining: 931ms\n",
      "673:\tlearn: 2.3551064\ttotal: 1.92s\tremaining: 928ms\n",
      "674:\tlearn: 2.3538066\ttotal: 1.92s\tremaining: 925ms\n",
      "675:\tlearn: 2.3524386\ttotal: 1.92s\tremaining: 923ms\n",
      "676:\tlearn: 2.3506343\ttotal: 1.93s\tremaining: 920ms\n",
      "677:\tlearn: 2.3487503\ttotal: 1.93s\tremaining: 917ms\n",
      "678:\tlearn: 2.3479090\ttotal: 1.93s\tremaining: 914ms\n",
      "679:\tlearn: 2.3474460\ttotal: 1.94s\tremaining: 911ms\n",
      "680:\tlearn: 2.3467635\ttotal: 1.94s\tremaining: 908ms\n",
      "681:\tlearn: 2.3452084\ttotal: 1.94s\tremaining: 905ms\n",
      "682:\tlearn: 2.3438667\ttotal: 1.94s\tremaining: 902ms\n",
      "683:\tlearn: 2.3428409\ttotal: 1.95s\tremaining: 900ms\n",
      "684:\tlearn: 2.3417506\ttotal: 1.95s\tremaining: 897ms\n",
      "685:\tlearn: 2.3407403\ttotal: 1.95s\tremaining: 894ms\n",
      "686:\tlearn: 2.3392465\ttotal: 1.96s\tremaining: 891ms\n",
      "687:\tlearn: 2.3381012\ttotal: 1.96s\tremaining: 888ms\n",
      "688:\tlearn: 2.3372392\ttotal: 1.96s\tremaining: 885ms\n",
      "689:\tlearn: 2.3359574\ttotal: 1.96s\tremaining: 882ms\n",
      "690:\tlearn: 2.3349065\ttotal: 1.97s\tremaining: 879ms\n",
      "691:\tlearn: 2.3333608\ttotal: 1.97s\tremaining: 877ms\n",
      "692:\tlearn: 2.3316031\ttotal: 1.97s\tremaining: 874ms\n",
      "693:\tlearn: 2.3305146\ttotal: 1.98s\tremaining: 871ms\n",
      "694:\tlearn: 2.3295577\ttotal: 1.98s\tremaining: 868ms\n",
      "695:\tlearn: 2.3283741\ttotal: 1.98s\tremaining: 865ms\n",
      "696:\tlearn: 2.3271622\ttotal: 1.98s\tremaining: 862ms\n",
      "697:\tlearn: 2.3253790\ttotal: 1.99s\tremaining: 859ms\n",
      "698:\tlearn: 2.3239420\ttotal: 1.99s\tremaining: 857ms\n",
      "699:\tlearn: 2.3230166\ttotal: 1.99s\tremaining: 854ms\n",
      "700:\tlearn: 2.3219264\ttotal: 2s\tremaining: 851ms\n",
      "701:\tlearn: 2.3199916\ttotal: 2s\tremaining: 848ms\n",
      "702:\tlearn: 2.3190790\ttotal: 2s\tremaining: 845ms\n",
      "703:\tlearn: 2.3174471\ttotal: 2s\tremaining: 843ms\n",
      "704:\tlearn: 2.3166507\ttotal: 2.01s\tremaining: 840ms\n",
      "705:\tlearn: 2.3158152\ttotal: 2.01s\tremaining: 837ms\n",
      "706:\tlearn: 2.3144762\ttotal: 2.01s\tremaining: 834ms\n",
      "707:\tlearn: 2.3129860\ttotal: 2.02s\tremaining: 831ms\n",
      "708:\tlearn: 2.3113395\ttotal: 2.02s\tremaining: 828ms\n",
      "709:\tlearn: 2.3104476\ttotal: 2.02s\tremaining: 826ms\n",
      "710:\tlearn: 2.3094498\ttotal: 2.02s\tremaining: 823ms\n",
      "711:\tlearn: 2.3083325\ttotal: 2.03s\tremaining: 820ms\n",
      "712:\tlearn: 2.3064531\ttotal: 2.03s\tremaining: 817ms\n",
      "713:\tlearn: 2.3049049\ttotal: 2.03s\tremaining: 814ms\n",
      "714:\tlearn: 2.3036522\ttotal: 2.04s\tremaining: 811ms\n",
      "715:\tlearn: 2.3026833\ttotal: 2.04s\tremaining: 808ms\n",
      "716:\tlearn: 2.3018672\ttotal: 2.04s\tremaining: 805ms\n",
      "717:\tlearn: 2.3002533\ttotal: 2.04s\tremaining: 802ms\n",
      "718:\tlearn: 2.2991522\ttotal: 2.04s\tremaining: 800ms\n",
      "719:\tlearn: 2.2976454\ttotal: 2.05s\tremaining: 797ms\n",
      "720:\tlearn: 2.2963719\ttotal: 2.05s\tremaining: 794ms\n",
      "721:\tlearn: 2.2946464\ttotal: 2.05s\tremaining: 791ms\n",
      "722:\tlearn: 2.2933898\ttotal: 2.06s\tremaining: 788ms\n",
      "723:\tlearn: 2.2929272\ttotal: 2.06s\tremaining: 785ms\n",
      "724:\tlearn: 2.2917164\ttotal: 2.06s\tremaining: 782ms\n",
      "725:\tlearn: 2.2907875\ttotal: 2.06s\tremaining: 780ms\n",
      "726:\tlearn: 2.2897446\ttotal: 2.07s\tremaining: 777ms\n",
      "727:\tlearn: 2.2885719\ttotal: 2.07s\tremaining: 774ms\n",
      "728:\tlearn: 2.2874278\ttotal: 2.07s\tremaining: 771ms\n",
      "729:\tlearn: 2.2861877\ttotal: 2.08s\tremaining: 768ms\n",
      "730:\tlearn: 2.2848268\ttotal: 2.08s\tremaining: 765ms\n",
      "731:\tlearn: 2.2838873\ttotal: 2.08s\tremaining: 763ms\n",
      "732:\tlearn: 2.2829849\ttotal: 2.08s\tremaining: 760ms\n",
      "733:\tlearn: 2.2819494\ttotal: 2.09s\tremaining: 757ms\n",
      "734:\tlearn: 2.2807056\ttotal: 2.09s\tremaining: 754ms\n",
      "735:\tlearn: 2.2801447\ttotal: 2.09s\tremaining: 751ms\n",
      "736:\tlearn: 2.2789053\ttotal: 2.1s\tremaining: 748ms\n",
      "737:\tlearn: 2.2774705\ttotal: 2.1s\tremaining: 745ms\n",
      "738:\tlearn: 2.2768112\ttotal: 2.1s\tremaining: 742ms\n",
      "739:\tlearn: 2.2750514\ttotal: 2.1s\tremaining: 739ms\n",
      "740:\tlearn: 2.2740790\ttotal: 2.11s\tremaining: 736ms\n",
      "741:\tlearn: 2.2727482\ttotal: 2.11s\tremaining: 734ms\n",
      "742:\tlearn: 2.2715203\ttotal: 2.11s\tremaining: 731ms\n",
      "743:\tlearn: 2.2700287\ttotal: 2.12s\tremaining: 728ms\n",
      "744:\tlearn: 2.2683179\ttotal: 2.12s\tremaining: 726ms\n",
      "745:\tlearn: 2.2671364\ttotal: 2.12s\tremaining: 723ms\n",
      "746:\tlearn: 2.2657350\ttotal: 2.13s\tremaining: 720ms\n",
      "747:\tlearn: 2.2644286\ttotal: 2.13s\tremaining: 717ms\n",
      "748:\tlearn: 2.2626652\ttotal: 2.13s\tremaining: 714ms\n",
      "749:\tlearn: 2.2613065\ttotal: 2.13s\tremaining: 711ms\n",
      "750:\tlearn: 2.2604695\ttotal: 2.14s\tremaining: 708ms\n",
      "751:\tlearn: 2.2590965\ttotal: 2.14s\tremaining: 705ms\n",
      "752:\tlearn: 2.2578336\ttotal: 2.14s\tremaining: 703ms\n",
      "753:\tlearn: 2.2567663\ttotal: 2.15s\tremaining: 700ms\n",
      "754:\tlearn: 2.2553770\ttotal: 2.15s\tremaining: 697ms\n",
      "755:\tlearn: 2.2539105\ttotal: 2.15s\tremaining: 694ms\n",
      "756:\tlearn: 2.2523034\ttotal: 2.15s\tremaining: 691ms\n",
      "757:\tlearn: 2.2513372\ttotal: 2.16s\tremaining: 688ms\n",
      "758:\tlearn: 2.2503163\ttotal: 2.16s\tremaining: 685ms\n",
      "759:\tlearn: 2.2490187\ttotal: 2.16s\tremaining: 683ms\n",
      "760:\tlearn: 2.2482602\ttotal: 2.17s\tremaining: 680ms\n",
      "761:\tlearn: 2.2469738\ttotal: 2.17s\tremaining: 677ms\n",
      "762:\tlearn: 2.2464554\ttotal: 2.17s\tremaining: 674ms\n",
      "763:\tlearn: 2.2455408\ttotal: 2.17s\tremaining: 672ms\n",
      "764:\tlearn: 2.2442618\ttotal: 2.18s\tremaining: 669ms\n",
      "765:\tlearn: 2.2430935\ttotal: 2.18s\tremaining: 666ms\n",
      "766:\tlearn: 2.2418974\ttotal: 2.18s\tremaining: 663ms\n",
      "767:\tlearn: 2.2407262\ttotal: 2.18s\tremaining: 660ms\n",
      "768:\tlearn: 2.2385575\ttotal: 2.19s\tremaining: 657ms\n",
      "769:\tlearn: 2.2373855\ttotal: 2.19s\tremaining: 654ms\n",
      "770:\tlearn: 2.2365846\ttotal: 2.19s\tremaining: 651ms\n",
      "771:\tlearn: 2.2352065\ttotal: 2.19s\tremaining: 648ms\n",
      "772:\tlearn: 2.2339786\ttotal: 2.2s\tremaining: 646ms\n",
      "773:\tlearn: 2.2335510\ttotal: 2.2s\tremaining: 643ms\n",
      "774:\tlearn: 2.2326226\ttotal: 2.2s\tremaining: 640ms\n",
      "775:\tlearn: 2.2317908\ttotal: 2.21s\tremaining: 637ms\n",
      "776:\tlearn: 2.2310226\ttotal: 2.21s\tremaining: 634ms\n",
      "777:\tlearn: 2.2303257\ttotal: 2.21s\tremaining: 631ms\n",
      "778:\tlearn: 2.2284876\ttotal: 2.21s\tremaining: 629ms\n",
      "779:\tlearn: 2.2271140\ttotal: 2.22s\tremaining: 626ms\n",
      "780:\tlearn: 2.2265612\ttotal: 2.22s\tremaining: 623ms\n",
      "781:\tlearn: 2.2255775\ttotal: 2.22s\tremaining: 620ms\n",
      "782:\tlearn: 2.2248464\ttotal: 2.23s\tremaining: 617ms\n",
      "783:\tlearn: 2.2228827\ttotal: 2.23s\tremaining: 614ms\n",
      "784:\tlearn: 2.2220765\ttotal: 2.23s\tremaining: 611ms\n",
      "785:\tlearn: 2.2211026\ttotal: 2.23s\tremaining: 608ms\n",
      "786:\tlearn: 2.2202041\ttotal: 2.24s\tremaining: 605ms\n",
      "787:\tlearn: 2.2186302\ttotal: 2.24s\tremaining: 603ms\n",
      "788:\tlearn: 2.2169705\ttotal: 2.24s\tremaining: 600ms\n",
      "789:\tlearn: 2.2161727\ttotal: 2.25s\tremaining: 597ms\n",
      "790:\tlearn: 2.2154009\ttotal: 2.25s\tremaining: 594ms\n",
      "791:\tlearn: 2.2146871\ttotal: 2.25s\tremaining: 591ms\n",
      "792:\tlearn: 2.2138224\ttotal: 2.25s\tremaining: 588ms\n",
      "793:\tlearn: 2.2122530\ttotal: 2.26s\tremaining: 585ms\n",
      "794:\tlearn: 2.2113692\ttotal: 2.26s\tremaining: 583ms\n",
      "795:\tlearn: 2.2100318\ttotal: 2.26s\tremaining: 580ms\n",
      "796:\tlearn: 2.2086803\ttotal: 2.26s\tremaining: 577ms\n",
      "797:\tlearn: 2.2079530\ttotal: 2.27s\tremaining: 574ms\n",
      "798:\tlearn: 2.2066205\ttotal: 2.27s\tremaining: 571ms\n",
      "799:\tlearn: 2.2053116\ttotal: 2.27s\tremaining: 568ms\n",
      "800:\tlearn: 2.2044566\ttotal: 2.27s\tremaining: 565ms\n",
      "801:\tlearn: 2.2036391\ttotal: 2.28s\tremaining: 562ms\n",
      "802:\tlearn: 2.2027585\ttotal: 2.28s\tremaining: 560ms\n",
      "803:\tlearn: 2.2020365\ttotal: 2.28s\tremaining: 557ms\n",
      "804:\tlearn: 2.2005904\ttotal: 2.29s\tremaining: 554ms\n",
      "805:\tlearn: 2.1994085\ttotal: 2.29s\tremaining: 551ms\n",
      "806:\tlearn: 2.1980823\ttotal: 2.29s\tremaining: 548ms\n",
      "807:\tlearn: 2.1967249\ttotal: 2.29s\tremaining: 545ms\n",
      "808:\tlearn: 2.1955859\ttotal: 2.3s\tremaining: 542ms\n",
      "809:\tlearn: 2.1943674\ttotal: 2.3s\tremaining: 540ms\n",
      "810:\tlearn: 2.1935513\ttotal: 2.3s\tremaining: 537ms\n",
      "811:\tlearn: 2.1927137\ttotal: 2.31s\tremaining: 534ms\n",
      "812:\tlearn: 2.1917295\ttotal: 2.31s\tremaining: 531ms\n",
      "813:\tlearn: 2.1912894\ttotal: 2.31s\tremaining: 528ms\n"
     ]
    },
    {
     "name": "stdout",
     "output_type": "stream",
     "text": [
      "814:\tlearn: 2.1903875\ttotal: 2.31s\tremaining: 525ms\n",
      "815:\tlearn: 2.1890189\ttotal: 2.32s\tremaining: 522ms\n",
      "816:\tlearn: 2.1871484\ttotal: 2.32s\tremaining: 520ms\n",
      "817:\tlearn: 2.1856159\ttotal: 2.32s\tremaining: 517ms\n",
      "818:\tlearn: 2.1845891\ttotal: 2.33s\tremaining: 514ms\n",
      "819:\tlearn: 2.1832730\ttotal: 2.33s\tremaining: 511ms\n",
      "820:\tlearn: 2.1822890\ttotal: 2.33s\tremaining: 508ms\n",
      "821:\tlearn: 2.1809396\ttotal: 2.33s\tremaining: 505ms\n",
      "822:\tlearn: 2.1796180\ttotal: 2.34s\tremaining: 502ms\n",
      "823:\tlearn: 2.1783326\ttotal: 2.34s\tremaining: 500ms\n",
      "824:\tlearn: 2.1771715\ttotal: 2.34s\tremaining: 497ms\n",
      "825:\tlearn: 2.1765519\ttotal: 2.35s\tremaining: 494ms\n",
      "826:\tlearn: 2.1760198\ttotal: 2.35s\tremaining: 491ms\n",
      "827:\tlearn: 2.1744936\ttotal: 2.35s\tremaining: 488ms\n",
      "828:\tlearn: 2.1729919\ttotal: 2.35s\tremaining: 486ms\n",
      "829:\tlearn: 2.1720933\ttotal: 2.36s\tremaining: 483ms\n",
      "830:\tlearn: 2.1709073\ttotal: 2.36s\tremaining: 480ms\n",
      "831:\tlearn: 2.1694567\ttotal: 2.36s\tremaining: 477ms\n",
      "832:\tlearn: 2.1683788\ttotal: 2.37s\tremaining: 474ms\n",
      "833:\tlearn: 2.1675154\ttotal: 2.37s\tremaining: 471ms\n",
      "834:\tlearn: 2.1658875\ttotal: 2.37s\tremaining: 469ms\n",
      "835:\tlearn: 2.1646148\ttotal: 2.37s\tremaining: 466ms\n",
      "836:\tlearn: 2.1641052\ttotal: 2.38s\tremaining: 463ms\n",
      "837:\tlearn: 2.1630121\ttotal: 2.38s\tremaining: 460ms\n",
      "838:\tlearn: 2.1621792\ttotal: 2.38s\tremaining: 457ms\n",
      "839:\tlearn: 2.1613659\ttotal: 2.38s\tremaining: 454ms\n",
      "840:\tlearn: 2.1606383\ttotal: 2.39s\tremaining: 451ms\n",
      "841:\tlearn: 2.1598151\ttotal: 2.39s\tremaining: 449ms\n",
      "842:\tlearn: 2.1594346\ttotal: 2.39s\tremaining: 446ms\n",
      "843:\tlearn: 2.1589658\ttotal: 2.4s\tremaining: 443ms\n",
      "844:\tlearn: 2.1575281\ttotal: 2.4s\tremaining: 440ms\n",
      "845:\tlearn: 2.1565235\ttotal: 2.4s\tremaining: 437ms\n",
      "846:\tlearn: 2.1561047\ttotal: 2.4s\tremaining: 434ms\n",
      "847:\tlearn: 2.1550475\ttotal: 2.41s\tremaining: 432ms\n",
      "848:\tlearn: 2.1538183\ttotal: 2.41s\tremaining: 429ms\n",
      "849:\tlearn: 2.1525740\ttotal: 2.41s\tremaining: 426ms\n",
      "850:\tlearn: 2.1516407\ttotal: 2.42s\tremaining: 423ms\n",
      "851:\tlearn: 2.1503947\ttotal: 2.42s\tremaining: 420ms\n",
      "852:\tlearn: 2.1496207\ttotal: 2.42s\tremaining: 417ms\n",
      "853:\tlearn: 2.1487704\ttotal: 2.42s\tremaining: 414ms\n",
      "854:\tlearn: 2.1477898\ttotal: 2.42s\tremaining: 411ms\n",
      "855:\tlearn: 2.1465290\ttotal: 2.43s\tremaining: 409ms\n",
      "856:\tlearn: 2.1452110\ttotal: 2.43s\tremaining: 406ms\n",
      "857:\tlearn: 2.1441659\ttotal: 2.43s\tremaining: 403ms\n",
      "858:\tlearn: 2.1432202\ttotal: 2.44s\tremaining: 400ms\n",
      "859:\tlearn: 2.1423308\ttotal: 2.44s\tremaining: 397ms\n",
      "860:\tlearn: 2.1415607\ttotal: 2.44s\tremaining: 394ms\n",
      "861:\tlearn: 2.1406541\ttotal: 2.44s\tremaining: 391ms\n",
      "862:\tlearn: 2.1399177\ttotal: 2.45s\tremaining: 389ms\n",
      "863:\tlearn: 2.1385465\ttotal: 2.45s\tremaining: 386ms\n",
      "864:\tlearn: 2.1376473\ttotal: 2.45s\tremaining: 383ms\n",
      "865:\tlearn: 2.1369049\ttotal: 2.46s\tremaining: 380ms\n",
      "866:\tlearn: 2.1361149\ttotal: 2.46s\tremaining: 377ms\n",
      "867:\tlearn: 2.1355514\ttotal: 2.46s\tremaining: 374ms\n",
      "868:\tlearn: 2.1345073\ttotal: 2.46s\tremaining: 372ms\n",
      "869:\tlearn: 2.1326530\ttotal: 2.47s\tremaining: 369ms\n",
      "870:\tlearn: 2.1317864\ttotal: 2.47s\tremaining: 366ms\n",
      "871:\tlearn: 2.1299181\ttotal: 2.47s\tremaining: 363ms\n",
      "872:\tlearn: 2.1286300\ttotal: 2.48s\tremaining: 360ms\n",
      "873:\tlearn: 2.1270918\ttotal: 2.48s\tremaining: 357ms\n",
      "874:\tlearn: 2.1258755\ttotal: 2.48s\tremaining: 355ms\n",
      "875:\tlearn: 2.1249020\ttotal: 2.48s\tremaining: 352ms\n",
      "876:\tlearn: 2.1237202\ttotal: 2.49s\tremaining: 349ms\n",
      "877:\tlearn: 2.1224390\ttotal: 2.49s\tremaining: 346ms\n",
      "878:\tlearn: 2.1212971\ttotal: 2.49s\tremaining: 343ms\n",
      "879:\tlearn: 2.1208200\ttotal: 2.5s\tremaining: 340ms\n",
      "880:\tlearn: 2.1194267\ttotal: 2.5s\tremaining: 338ms\n",
      "881:\tlearn: 2.1181391\ttotal: 2.5s\tremaining: 335ms\n",
      "882:\tlearn: 2.1172296\ttotal: 2.5s\tremaining: 332ms\n",
      "883:\tlearn: 2.1163239\ttotal: 2.51s\tremaining: 329ms\n",
      "884:\tlearn: 2.1149860\ttotal: 2.51s\tremaining: 326ms\n",
      "885:\tlearn: 2.1141193\ttotal: 2.51s\tremaining: 323ms\n",
      "886:\tlearn: 2.1129782\ttotal: 2.52s\tremaining: 321ms\n",
      "887:\tlearn: 2.1115422\ttotal: 2.52s\tremaining: 318ms\n",
      "888:\tlearn: 2.1108507\ttotal: 2.52s\tremaining: 315ms\n",
      "889:\tlearn: 2.1095135\ttotal: 2.52s\tremaining: 312ms\n",
      "890:\tlearn: 2.1086701\ttotal: 2.53s\tremaining: 309ms\n",
      "891:\tlearn: 2.1079072\ttotal: 2.53s\tremaining: 307ms\n",
      "892:\tlearn: 2.1071718\ttotal: 2.53s\tremaining: 304ms\n",
      "893:\tlearn: 2.1063186\ttotal: 2.54s\tremaining: 301ms\n",
      "894:\tlearn: 2.1051621\ttotal: 2.54s\tremaining: 298ms\n",
      "895:\tlearn: 2.1036762\ttotal: 2.54s\tremaining: 295ms\n",
      "896:\tlearn: 2.1022092\ttotal: 2.54s\tremaining: 292ms\n",
      "897:\tlearn: 2.1011609\ttotal: 2.55s\tremaining: 289ms\n",
      "898:\tlearn: 2.0998353\ttotal: 2.55s\tremaining: 287ms\n",
      "899:\tlearn: 2.0987806\ttotal: 2.55s\tremaining: 284ms\n",
      "900:\tlearn: 2.0976964\ttotal: 2.56s\tremaining: 281ms\n",
      "901:\tlearn: 2.0960162\ttotal: 2.56s\tremaining: 278ms\n",
      "902:\tlearn: 2.0952441\ttotal: 2.56s\tremaining: 275ms\n",
      "903:\tlearn: 2.0943146\ttotal: 2.56s\tremaining: 272ms\n",
      "904:\tlearn: 2.0932952\ttotal: 2.57s\tremaining: 269ms\n",
      "905:\tlearn: 2.0923790\ttotal: 2.57s\tremaining: 267ms\n",
      "906:\tlearn: 2.0916576\ttotal: 2.57s\tremaining: 264ms\n",
      "907:\tlearn: 2.0906015\ttotal: 2.58s\tremaining: 261ms\n",
      "908:\tlearn: 2.0890712\ttotal: 2.58s\tremaining: 258ms\n",
      "909:\tlearn: 2.0883573\ttotal: 2.58s\tremaining: 255ms\n",
      "910:\tlearn: 2.0871337\ttotal: 2.58s\tremaining: 252ms\n",
      "911:\tlearn: 2.0860688\ttotal: 2.59s\tremaining: 250ms\n",
      "912:\tlearn: 2.0853266\ttotal: 2.59s\tremaining: 247ms\n",
      "913:\tlearn: 2.0838823\ttotal: 2.59s\tremaining: 244ms\n",
      "914:\tlearn: 2.0830261\ttotal: 2.59s\tremaining: 241ms\n",
      "915:\tlearn: 2.0819790\ttotal: 2.6s\tremaining: 238ms\n",
      "916:\tlearn: 2.0814246\ttotal: 2.6s\tremaining: 235ms\n",
      "917:\tlearn: 2.0810590\ttotal: 2.6s\tremaining: 233ms\n",
      "918:\tlearn: 2.0798955\ttotal: 2.6s\tremaining: 230ms\n",
      "919:\tlearn: 2.0787294\ttotal: 2.61s\tremaining: 227ms\n",
      "920:\tlearn: 2.0780836\ttotal: 2.61s\tremaining: 224ms\n",
      "921:\tlearn: 2.0769669\ttotal: 2.61s\tremaining: 221ms\n",
      "922:\tlearn: 2.0760953\ttotal: 2.62s\tremaining: 218ms\n",
      "923:\tlearn: 2.0753317\ttotal: 2.62s\tremaining: 215ms\n",
      "924:\tlearn: 2.0740591\ttotal: 2.62s\tremaining: 213ms\n",
      "925:\tlearn: 2.0733441\ttotal: 2.62s\tremaining: 210ms\n",
      "926:\tlearn: 2.0726758\ttotal: 2.63s\tremaining: 207ms\n",
      "927:\tlearn: 2.0718768\ttotal: 2.63s\tremaining: 204ms\n",
      "928:\tlearn: 2.0707116\ttotal: 2.63s\tremaining: 201ms\n",
      "929:\tlearn: 2.0699887\ttotal: 2.63s\tremaining: 198ms\n",
      "930:\tlearn: 2.0691170\ttotal: 2.64s\tremaining: 196ms\n",
      "931:\tlearn: 2.0682497\ttotal: 2.64s\tremaining: 193ms\n",
      "932:\tlearn: 2.0673122\ttotal: 2.65s\tremaining: 190ms\n",
      "933:\tlearn: 2.0663793\ttotal: 2.65s\tremaining: 187ms\n",
      "934:\tlearn: 2.0655858\ttotal: 2.65s\tremaining: 184ms\n",
      "935:\tlearn: 2.0652193\ttotal: 2.65s\tremaining: 181ms\n",
      "936:\tlearn: 2.0639796\ttotal: 2.65s\tremaining: 179ms\n",
      "937:\tlearn: 2.0629732\ttotal: 2.66s\tremaining: 176ms\n",
      "938:\tlearn: 2.0619873\ttotal: 2.66s\tremaining: 173ms\n",
      "939:\tlearn: 2.0610125\ttotal: 2.66s\tremaining: 170ms\n",
      "940:\tlearn: 2.0603516\ttotal: 2.67s\tremaining: 167ms\n",
      "941:\tlearn: 2.0596950\ttotal: 2.67s\tremaining: 164ms\n",
      "942:\tlearn: 2.0590207\ttotal: 2.67s\tremaining: 162ms\n",
      "943:\tlearn: 2.0580661\ttotal: 2.67s\tremaining: 159ms\n",
      "944:\tlearn: 2.0574383\ttotal: 2.68s\tremaining: 156ms\n",
      "945:\tlearn: 2.0564594\ttotal: 2.68s\tremaining: 153ms\n",
      "946:\tlearn: 2.0553527\ttotal: 2.68s\tremaining: 150ms\n",
      "947:\tlearn: 2.0543657\ttotal: 2.69s\tremaining: 147ms\n",
      "948:\tlearn: 2.0530309\ttotal: 2.69s\tremaining: 144ms\n",
      "949:\tlearn: 2.0518678\ttotal: 2.69s\tremaining: 142ms\n",
      "950:\tlearn: 2.0505544\ttotal: 2.69s\tremaining: 139ms\n",
      "951:\tlearn: 2.0492778\ttotal: 2.7s\tremaining: 136ms\n",
      "952:\tlearn: 2.0483174\ttotal: 2.7s\tremaining: 133ms\n",
      "953:\tlearn: 2.0477377\ttotal: 2.7s\tremaining: 130ms\n",
      "954:\tlearn: 2.0466385\ttotal: 2.71s\tremaining: 128ms\n",
      "955:\tlearn: 2.0457729\ttotal: 2.71s\tremaining: 125ms\n",
      "956:\tlearn: 2.0448779\ttotal: 2.71s\tremaining: 122ms\n",
      "957:\tlearn: 2.0438080\ttotal: 2.71s\tremaining: 119ms\n",
      "958:\tlearn: 2.0427646\ttotal: 2.72s\tremaining: 116ms\n",
      "959:\tlearn: 2.0416957\ttotal: 2.72s\tremaining: 113ms\n",
      "960:\tlearn: 2.0407273\ttotal: 2.72s\tremaining: 110ms\n",
      "961:\tlearn: 2.0393097\ttotal: 2.73s\tremaining: 108ms\n",
      "962:\tlearn: 2.0385311\ttotal: 2.73s\tremaining: 105ms\n",
      "963:\tlearn: 2.0375501\ttotal: 2.73s\tremaining: 102ms\n",
      "964:\tlearn: 2.0369417\ttotal: 2.73s\tremaining: 99.1ms\n",
      "965:\tlearn: 2.0360897\ttotal: 2.74s\tremaining: 96.3ms\n",
      "966:\tlearn: 2.0354653\ttotal: 2.74s\tremaining: 93.5ms\n",
      "967:\tlearn: 2.0351096\ttotal: 2.74s\tremaining: 90.7ms\n",
      "968:\tlearn: 2.0341372\ttotal: 2.75s\tremaining: 87.9ms\n",
      "969:\tlearn: 2.0327782\ttotal: 2.75s\tremaining: 85.1ms\n",
      "970:\tlearn: 2.0319668\ttotal: 2.75s\tremaining: 82.2ms\n",
      "971:\tlearn: 2.0306771\ttotal: 2.76s\tremaining: 79.4ms\n",
      "972:\tlearn: 2.0303154\ttotal: 2.76s\tremaining: 76.6ms\n",
      "973:\tlearn: 2.0296943\ttotal: 2.76s\tremaining: 73.7ms\n",
      "974:\tlearn: 2.0290394\ttotal: 2.76s\tremaining: 70.9ms\n",
      "975:\tlearn: 2.0276621\ttotal: 2.77s\tremaining: 68ms\n",
      "976:\tlearn: 2.0270180\ttotal: 2.77s\tremaining: 65.2ms\n",
      "977:\tlearn: 2.0261673\ttotal: 2.77s\tremaining: 62.4ms\n",
      "978:\tlearn: 2.0253248\ttotal: 2.77s\tremaining: 59.5ms\n"
     ]
    },
    {
     "name": "stdout",
     "output_type": "stream",
     "text": [
      "979:\tlearn: 2.0243572\ttotal: 2.78s\tremaining: 56.7ms\n",
      "980:\tlearn: 2.0237488\ttotal: 2.78s\tremaining: 53.9ms\n",
      "981:\tlearn: 2.0226060\ttotal: 2.78s\tremaining: 51ms\n",
      "982:\tlearn: 2.0217183\ttotal: 2.79s\tremaining: 48.2ms\n",
      "983:\tlearn: 2.0207346\ttotal: 2.79s\tremaining: 45.4ms\n",
      "984:\tlearn: 2.0199618\ttotal: 2.79s\tremaining: 42.5ms\n",
      "985:\tlearn: 2.0195710\ttotal: 2.8s\tremaining: 39.7ms\n",
      "986:\tlearn: 2.0186355\ttotal: 2.8s\tremaining: 36.9ms\n",
      "987:\tlearn: 2.0177588\ttotal: 2.8s\tremaining: 34ms\n",
      "988:\tlearn: 2.0169146\ttotal: 2.81s\tremaining: 31.2ms\n",
      "989:\tlearn: 2.0160703\ttotal: 2.81s\tremaining: 28.4ms\n",
      "990:\tlearn: 2.0153321\ttotal: 2.81s\tremaining: 25.5ms\n",
      "991:\tlearn: 2.0138994\ttotal: 2.81s\tremaining: 22.7ms\n",
      "992:\tlearn: 2.0133139\ttotal: 2.82s\tremaining: 19.9ms\n",
      "993:\tlearn: 2.0127652\ttotal: 2.82s\tremaining: 17ms\n",
      "994:\tlearn: 2.0120522\ttotal: 2.82s\tremaining: 14.2ms\n",
      "995:\tlearn: 2.0115205\ttotal: 2.82s\tremaining: 11.3ms\n",
      "996:\tlearn: 2.0103749\ttotal: 2.83s\tremaining: 8.51ms\n",
      "997:\tlearn: 2.0094668\ttotal: 2.83s\tremaining: 5.67ms\n",
      "998:\tlearn: 2.0091331\ttotal: 2.83s\tremaining: 2.84ms\n",
      "999:\tlearn: 2.0082293\ttotal: 2.84s\tremaining: 0us\n"
     ]
    }
   ],
   "source": [
    "# Создадим модель.\n",
    "model_cbr_rougher = CatBoostRegressor()\n",
    "\n",
    "# Обучим модель.\n",
    "model_cbr_rougher.fit(features_train, target_train_rougher)\n",
    "\n",
    "#Получим предсказания.\n",
    "predictions = model_cbr_rougher.predict(features_test)\n",
    "\n",
    "# Посчитаем sMAPE_rougher на тестовой выборке.\n",
    "best_r_score = sMAPE_rougher(target_test_rougher, predictions)"
   ]
  },
  {
   "cell_type": "code",
   "execution_count": 53,
   "metadata": {
    "scrolled": true
   },
   "outputs": [
    {
     "name": "stdout",
     "output_type": "stream",
     "text": [
      "Learning rate set to 0.061931\n",
      "0:\tlearn: 9.1102262\ttotal: 2.9ms\tremaining: 2.89s\n",
      "1:\tlearn: 8.9468121\ttotal: 5.76ms\tremaining: 2.87s\n",
      "2:\tlearn: 8.7941891\ttotal: 9.18ms\tremaining: 3.05s\n",
      "3:\tlearn: 8.6601427\ttotal: 12.4ms\tremaining: 3.08s\n",
      "4:\tlearn: 8.5199607\ttotal: 15.2ms\tremaining: 3.02s\n",
      "5:\tlearn: 8.3973612\ttotal: 18.6ms\tremaining: 3.09s\n",
      "6:\tlearn: 8.2757648\ttotal: 22ms\tremaining: 3.12s\n",
      "7:\tlearn: 8.1744798\ttotal: 24.9ms\tremaining: 3.09s\n",
      "8:\tlearn: 8.0809610\ttotal: 29.1ms\tremaining: 3.2s\n",
      "9:\tlearn: 7.9869290\ttotal: 32ms\tremaining: 3.17s\n",
      "10:\tlearn: 7.9104422\ttotal: 34.8ms\tremaining: 3.13s\n",
      "11:\tlearn: 7.8290151\ttotal: 37.9ms\tremaining: 3.12s\n",
      "12:\tlearn: 7.7593151\ttotal: 42ms\tremaining: 3.19s\n",
      "13:\tlearn: 7.6872166\ttotal: 51.4ms\tremaining: 3.62s\n",
      "14:\tlearn: 7.6265705\ttotal: 54.5ms\tremaining: 3.58s\n",
      "15:\tlearn: 7.5685340\ttotal: 57.7ms\tremaining: 3.55s\n",
      "16:\tlearn: 7.5182480\ttotal: 61.8ms\tremaining: 3.57s\n",
      "17:\tlearn: 7.4667152\ttotal: 64.6ms\tremaining: 3.52s\n",
      "18:\tlearn: 7.4242098\ttotal: 67.6ms\tremaining: 3.49s\n",
      "19:\tlearn: 7.3784875\ttotal: 70.8ms\tremaining: 3.47s\n",
      "20:\tlearn: 7.3343997\ttotal: 74ms\tremaining: 3.45s\n",
      "21:\tlearn: 7.2876668\ttotal: 78.1ms\tremaining: 3.47s\n",
      "22:\tlearn: 7.2471770\ttotal: 81.3ms\tremaining: 3.45s\n",
      "23:\tlearn: 7.2097426\ttotal: 84.6ms\tremaining: 3.44s\n",
      "24:\tlearn: 7.1762551\ttotal: 88.1ms\tremaining: 3.44s\n",
      "25:\tlearn: 7.1432181\ttotal: 91.3ms\tremaining: 3.42s\n",
      "26:\tlearn: 7.1153085\ttotal: 94.2ms\tremaining: 3.39s\n",
      "27:\tlearn: 7.0895666\ttotal: 97ms\tremaining: 3.37s\n",
      "28:\tlearn: 7.0593848\ttotal: 99.7ms\tremaining: 3.34s\n",
      "29:\tlearn: 7.0356696\ttotal: 103ms\tremaining: 3.33s\n",
      "30:\tlearn: 7.0103153\ttotal: 106ms\tremaining: 3.31s\n",
      "31:\tlearn: 6.9823892\ttotal: 110ms\tremaining: 3.31s\n",
      "32:\tlearn: 6.9596896\ttotal: 113ms\tremaining: 3.3s\n",
      "33:\tlearn: 6.9325626\ttotal: 116ms\tremaining: 3.29s\n",
      "34:\tlearn: 6.9131563\ttotal: 119ms\tremaining: 3.27s\n",
      "35:\tlearn: 6.8905688\ttotal: 121ms\tremaining: 3.25s\n",
      "36:\tlearn: 6.8635543\ttotal: 124ms\tremaining: 3.23s\n",
      "37:\tlearn: 6.8464040\ttotal: 127ms\tremaining: 3.21s\n",
      "38:\tlearn: 6.8255317\ttotal: 130ms\tremaining: 3.19s\n",
      "39:\tlearn: 6.8054101\ttotal: 132ms\tremaining: 3.17s\n",
      "40:\tlearn: 6.7869563\ttotal: 135ms\tremaining: 3.15s\n",
      "41:\tlearn: 6.7695939\ttotal: 138ms\tremaining: 3.14s\n",
      "42:\tlearn: 6.7552972\ttotal: 141ms\tremaining: 3.13s\n",
      "43:\tlearn: 6.7385147\ttotal: 143ms\tremaining: 3.11s\n",
      "44:\tlearn: 6.7205675\ttotal: 146ms\tremaining: 3.1s\n",
      "45:\tlearn: 6.7053552\ttotal: 149ms\tremaining: 3.08s\n",
      "46:\tlearn: 6.6914413\ttotal: 151ms\tremaining: 3.07s\n",
      "47:\tlearn: 6.6787849\ttotal: 154ms\tremaining: 3.06s\n",
      "48:\tlearn: 6.6619365\ttotal: 157ms\tremaining: 3.06s\n",
      "49:\tlearn: 6.6446074\ttotal: 160ms\tremaining: 3.04s\n",
      "50:\tlearn: 6.6308130\ttotal: 163ms\tremaining: 3.03s\n",
      "51:\tlearn: 6.6174073\ttotal: 165ms\tremaining: 3.02s\n",
      "52:\tlearn: 6.6046574\ttotal: 168ms\tremaining: 3s\n",
      "53:\tlearn: 6.5918964\ttotal: 171ms\tremaining: 3s\n",
      "54:\tlearn: 6.5772314\ttotal: 174ms\tremaining: 2.99s\n",
      "55:\tlearn: 6.5670084\ttotal: 177ms\tremaining: 2.98s\n",
      "56:\tlearn: 6.5479985\ttotal: 179ms\tremaining: 2.97s\n",
      "57:\tlearn: 6.5374061\ttotal: 182ms\tremaining: 2.95s\n",
      "58:\tlearn: 6.5263013\ttotal: 184ms\tremaining: 2.94s\n",
      "59:\tlearn: 6.5141628\ttotal: 187ms\tremaining: 2.94s\n",
      "60:\tlearn: 6.5035978\ttotal: 190ms\tremaining: 2.93s\n",
      "61:\tlearn: 6.4899851\ttotal: 193ms\tremaining: 2.92s\n",
      "62:\tlearn: 6.4776506\ttotal: 196ms\tremaining: 2.91s\n",
      "63:\tlearn: 6.4671876\ttotal: 198ms\tremaining: 2.9s\n",
      "64:\tlearn: 6.4566479\ttotal: 201ms\tremaining: 2.89s\n",
      "65:\tlearn: 6.4467263\ttotal: 204ms\tremaining: 2.89s\n",
      "66:\tlearn: 6.4363720\ttotal: 207ms\tremaining: 2.88s\n",
      "67:\tlearn: 6.4288415\ttotal: 210ms\tremaining: 2.88s\n",
      "68:\tlearn: 6.4185988\ttotal: 213ms\tremaining: 2.87s\n",
      "69:\tlearn: 6.4102912\ttotal: 216ms\tremaining: 2.87s\n",
      "70:\tlearn: 6.4025510\ttotal: 219ms\tremaining: 2.87s\n",
      "71:\tlearn: 6.3915931\ttotal: 223ms\tremaining: 2.87s\n",
      "72:\tlearn: 6.3846320\ttotal: 226ms\tremaining: 2.87s\n",
      "73:\tlearn: 6.3732240\ttotal: 230ms\tremaining: 2.88s\n",
      "74:\tlearn: 6.3619447\ttotal: 234ms\tremaining: 2.89s\n",
      "75:\tlearn: 6.3514007\ttotal: 238ms\tremaining: 2.89s\n",
      "76:\tlearn: 6.3409507\ttotal: 241ms\tremaining: 2.89s\n",
      "77:\tlearn: 6.3328089\ttotal: 245ms\tremaining: 2.89s\n",
      "78:\tlearn: 6.3245119\ttotal: 248ms\tremaining: 2.89s\n",
      "79:\tlearn: 6.3177030\ttotal: 252ms\tremaining: 2.9s\n",
      "80:\tlearn: 6.3111454\ttotal: 255ms\tremaining: 2.9s\n",
      "81:\tlearn: 6.3039467\ttotal: 258ms\tremaining: 2.89s\n",
      "82:\tlearn: 6.2953238\ttotal: 262ms\tremaining: 2.9s\n",
      "83:\tlearn: 6.2863942\ttotal: 266ms\tremaining: 2.9s\n",
      "84:\tlearn: 6.2804539\ttotal: 269ms\tremaining: 2.9s\n",
      "85:\tlearn: 6.2727098\ttotal: 273ms\tremaining: 2.9s\n",
      "86:\tlearn: 6.2628266\ttotal: 276ms\tremaining: 2.89s\n",
      "87:\tlearn: 6.2568060\ttotal: 279ms\tremaining: 2.89s\n",
      "88:\tlearn: 6.2503649\ttotal: 281ms\tremaining: 2.88s\n",
      "89:\tlearn: 6.2410241\ttotal: 285ms\tremaining: 2.88s\n",
      "90:\tlearn: 6.2320223\ttotal: 287ms\tremaining: 2.87s\n",
      "91:\tlearn: 6.2249318\ttotal: 290ms\tremaining: 2.86s\n",
      "92:\tlearn: 6.2175349\ttotal: 293ms\tremaining: 2.86s\n",
      "93:\tlearn: 6.2114094\ttotal: 297ms\tremaining: 2.86s\n",
      "94:\tlearn: 6.2001122\ttotal: 301ms\tremaining: 2.86s\n",
      "95:\tlearn: 6.1921875\ttotal: 304ms\tremaining: 2.86s\n",
      "96:\tlearn: 6.1834917\ttotal: 307ms\tremaining: 2.85s\n",
      "97:\tlearn: 6.1740800\ttotal: 309ms\tremaining: 2.85s\n",
      "98:\tlearn: 6.1643180\ttotal: 312ms\tremaining: 2.84s\n",
      "99:\tlearn: 6.1578030\ttotal: 315ms\tremaining: 2.84s\n",
      "100:\tlearn: 6.1489779\ttotal: 318ms\tremaining: 2.83s\n",
      "101:\tlearn: 6.1413816\ttotal: 321ms\tremaining: 2.83s\n",
      "102:\tlearn: 6.1334976\ttotal: 324ms\tremaining: 2.82s\n",
      "103:\tlearn: 6.1270076\ttotal: 327ms\tremaining: 2.81s\n",
      "104:\tlearn: 6.1191226\ttotal: 330ms\tremaining: 2.81s\n",
      "105:\tlearn: 6.1100601\ttotal: 334ms\tremaining: 2.81s\n",
      "106:\tlearn: 6.1036504\ttotal: 337ms\tremaining: 2.81s\n",
      "107:\tlearn: 6.0926284\ttotal: 340ms\tremaining: 2.81s\n",
      "108:\tlearn: 6.0849899\ttotal: 343ms\tremaining: 2.8s\n",
      "109:\tlearn: 6.0789719\ttotal: 346ms\tremaining: 2.79s\n",
      "110:\tlearn: 6.0686679\ttotal: 349ms\tremaining: 2.8s\n",
      "111:\tlearn: 6.0628800\ttotal: 352ms\tremaining: 2.79s\n",
      "112:\tlearn: 6.0564082\ttotal: 356ms\tremaining: 2.79s\n",
      "113:\tlearn: 6.0459330\ttotal: 360ms\tremaining: 2.79s\n",
      "114:\tlearn: 6.0365262\ttotal: 363ms\tremaining: 2.79s\n",
      "115:\tlearn: 6.0324701\ttotal: 366ms\tremaining: 2.79s\n",
      "116:\tlearn: 6.0261292\ttotal: 369ms\tremaining: 2.79s\n",
      "117:\tlearn: 6.0179903\ttotal: 372ms\tremaining: 2.78s\n",
      "118:\tlearn: 6.0114588\ttotal: 375ms\tremaining: 2.77s\n",
      "119:\tlearn: 6.0042422\ttotal: 378ms\tremaining: 2.77s\n",
      "120:\tlearn: 5.9988855\ttotal: 381ms\tremaining: 2.77s\n",
      "121:\tlearn: 5.9925598\ttotal: 384ms\tremaining: 2.77s\n",
      "122:\tlearn: 5.9876321\ttotal: 388ms\tremaining: 2.77s\n",
      "123:\tlearn: 5.9798555\ttotal: 392ms\tremaining: 2.77s\n",
      "124:\tlearn: 5.9722384\ttotal: 396ms\tremaining: 2.77s\n",
      "125:\tlearn: 5.9683599\ttotal: 399ms\tremaining: 2.77s\n",
      "126:\tlearn: 5.9630243\ttotal: 402ms\tremaining: 2.77s\n",
      "127:\tlearn: 5.9563196\ttotal: 406ms\tremaining: 2.76s\n",
      "128:\tlearn: 5.9496843\ttotal: 409ms\tremaining: 2.76s\n",
      "129:\tlearn: 5.9428430\ttotal: 413ms\tremaining: 2.76s\n",
      "130:\tlearn: 5.9362388\ttotal: 416ms\tremaining: 2.76s\n",
      "131:\tlearn: 5.9319988\ttotal: 419ms\tremaining: 2.76s\n",
      "132:\tlearn: 5.9266941\ttotal: 422ms\tremaining: 2.75s\n",
      "133:\tlearn: 5.9184121\ttotal: 425ms\tremaining: 2.75s\n",
      "134:\tlearn: 5.9096253\ttotal: 429ms\tremaining: 2.75s\n",
      "135:\tlearn: 5.9046473\ttotal: 432ms\tremaining: 2.74s\n",
      "136:\tlearn: 5.8961431\ttotal: 434ms\tremaining: 2.73s\n",
      "137:\tlearn: 5.8896956\ttotal: 437ms\tremaining: 2.73s\n",
      "138:\tlearn: 5.8826121\ttotal: 440ms\tremaining: 2.73s\n",
      "139:\tlearn: 5.8770081\ttotal: 443ms\tremaining: 2.72s\n",
      "140:\tlearn: 5.8697810\ttotal: 446ms\tremaining: 2.72s\n",
      "141:\tlearn: 5.8618716\ttotal: 449ms\tremaining: 2.71s\n",
      "142:\tlearn: 5.8571341\ttotal: 452ms\tremaining: 2.71s\n",
      "143:\tlearn: 5.8481622\ttotal: 454ms\tremaining: 2.7s\n",
      "144:\tlearn: 5.8395226\ttotal: 457ms\tremaining: 2.69s\n",
      "145:\tlearn: 5.8325470\ttotal: 461ms\tremaining: 2.69s\n",
      "146:\tlearn: 5.8246533\ttotal: 464ms\tremaining: 2.69s\n",
      "147:\tlearn: 5.8196313\ttotal: 466ms\tremaining: 2.68s\n",
      "148:\tlearn: 5.8137473\ttotal: 469ms\tremaining: 2.68s\n",
      "149:\tlearn: 5.8064691\ttotal: 472ms\tremaining: 2.67s\n",
      "150:\tlearn: 5.8010129\ttotal: 476ms\tremaining: 2.67s\n",
      "151:\tlearn: 5.7959682\ttotal: 479ms\tremaining: 2.67s\n",
      "152:\tlearn: 5.7901404\ttotal: 482ms\tremaining: 2.67s\n",
      "153:\tlearn: 5.7826230\ttotal: 484ms\tremaining: 2.66s\n",
      "154:\tlearn: 5.7759103\ttotal: 487ms\tremaining: 2.66s\n",
      "155:\tlearn: 5.7686494\ttotal: 491ms\tremaining: 2.65s\n",
      "156:\tlearn: 5.7635009\ttotal: 494ms\tremaining: 2.65s\n",
      "157:\tlearn: 5.7577788\ttotal: 497ms\tremaining: 2.65s\n",
      "158:\tlearn: 5.7497321\ttotal: 500ms\tremaining: 2.64s\n",
      "159:\tlearn: 5.7436010\ttotal: 502ms\tremaining: 2.64s\n",
      "160:\tlearn: 5.7372693\ttotal: 505ms\tremaining: 2.63s\n",
      "161:\tlearn: 5.7315494\ttotal: 508ms\tremaining: 2.63s\n",
      "162:\tlearn: 5.7255059\ttotal: 511ms\tremaining: 2.62s\n",
      "163:\tlearn: 5.7195377\ttotal: 514ms\tremaining: 2.62s\n",
      "164:\tlearn: 5.7146176\ttotal: 516ms\tremaining: 2.61s\n",
      "165:\tlearn: 5.7120994\ttotal: 520ms\tremaining: 2.61s\n",
      "166:\tlearn: 5.7055278\ttotal: 524ms\tremaining: 2.62s\n",
      "167:\tlearn: 5.7010910\ttotal: 527ms\tremaining: 2.61s\n",
      "168:\tlearn: 5.6960484\ttotal: 531ms\tremaining: 2.61s\n",
      "169:\tlearn: 5.6898338\ttotal: 534ms\tremaining: 2.6s\n",
      "170:\tlearn: 5.6827971\ttotal: 538ms\tremaining: 2.61s\n",
      "171:\tlearn: 5.6756785\ttotal: 542ms\tremaining: 2.61s\n"
     ]
    },
    {
     "name": "stdout",
     "output_type": "stream",
     "text": [
      "172:\tlearn: 5.6697854\ttotal: 545ms\tremaining: 2.6s\n",
      "173:\tlearn: 5.6638811\ttotal: 549ms\tremaining: 2.6s\n",
      "174:\tlearn: 5.6567901\ttotal: 552ms\tremaining: 2.6s\n",
      "175:\tlearn: 5.6510373\ttotal: 556ms\tremaining: 2.6s\n",
      "176:\tlearn: 5.6461487\ttotal: 558ms\tremaining: 2.6s\n",
      "177:\tlearn: 5.6405125\ttotal: 561ms\tremaining: 2.59s\n",
      "178:\tlearn: 5.6357748\ttotal: 565ms\tremaining: 2.59s\n",
      "179:\tlearn: 5.6283066\ttotal: 568ms\tremaining: 2.59s\n",
      "180:\tlearn: 5.6219316\ttotal: 572ms\tremaining: 2.59s\n",
      "181:\tlearn: 5.6153747\ttotal: 575ms\tremaining: 2.58s\n",
      "182:\tlearn: 5.6087985\ttotal: 578ms\tremaining: 2.58s\n",
      "183:\tlearn: 5.6025372\ttotal: 580ms\tremaining: 2.57s\n",
      "184:\tlearn: 5.5973010\ttotal: 583ms\tremaining: 2.57s\n",
      "185:\tlearn: 5.5921063\ttotal: 589ms\tremaining: 2.58s\n",
      "186:\tlearn: 5.5872100\ttotal: 592ms\tremaining: 2.57s\n",
      "187:\tlearn: 5.5811690\ttotal: 594ms\tremaining: 2.57s\n",
      "188:\tlearn: 5.5754039\ttotal: 597ms\tremaining: 2.56s\n",
      "189:\tlearn: 5.5673230\ttotal: 600ms\tremaining: 2.56s\n",
      "190:\tlearn: 5.5620385\ttotal: 603ms\tremaining: 2.56s\n",
      "191:\tlearn: 5.5538032\ttotal: 606ms\tremaining: 2.55s\n",
      "192:\tlearn: 5.5495852\ttotal: 609ms\tremaining: 2.55s\n",
      "193:\tlearn: 5.5454342\ttotal: 612ms\tremaining: 2.54s\n",
      "194:\tlearn: 5.5410999\ttotal: 615ms\tremaining: 2.54s\n",
      "195:\tlearn: 5.5359436\ttotal: 619ms\tremaining: 2.54s\n",
      "196:\tlearn: 5.5313842\ttotal: 622ms\tremaining: 2.53s\n",
      "197:\tlearn: 5.5256113\ttotal: 625ms\tremaining: 2.53s\n",
      "198:\tlearn: 5.5200353\ttotal: 630ms\tremaining: 2.54s\n",
      "199:\tlearn: 5.5140749\ttotal: 634ms\tremaining: 2.54s\n",
      "200:\tlearn: 5.5099722\ttotal: 637ms\tremaining: 2.53s\n",
      "201:\tlearn: 5.5048400\ttotal: 640ms\tremaining: 2.53s\n",
      "202:\tlearn: 5.4988835\ttotal: 644ms\tremaining: 2.53s\n",
      "203:\tlearn: 5.4924126\ttotal: 648ms\tremaining: 2.53s\n",
      "204:\tlearn: 5.4867731\ttotal: 651ms\tremaining: 2.53s\n",
      "205:\tlearn: 5.4810257\ttotal: 654ms\tremaining: 2.52s\n",
      "206:\tlearn: 5.4755506\ttotal: 657ms\tremaining: 2.52s\n",
      "207:\tlearn: 5.4720109\ttotal: 660ms\tremaining: 2.51s\n",
      "208:\tlearn: 5.4664686\ttotal: 663ms\tremaining: 2.51s\n",
      "209:\tlearn: 5.4623890\ttotal: 666ms\tremaining: 2.5s\n",
      "210:\tlearn: 5.4564319\ttotal: 669ms\tremaining: 2.5s\n",
      "211:\tlearn: 5.4510012\ttotal: 671ms\tremaining: 2.5s\n",
      "212:\tlearn: 5.4447139\ttotal: 674ms\tremaining: 2.49s\n",
      "213:\tlearn: 5.4393998\ttotal: 677ms\tremaining: 2.49s\n",
      "214:\tlearn: 5.4344214\ttotal: 680ms\tremaining: 2.48s\n",
      "215:\tlearn: 5.4295395\ttotal: 683ms\tremaining: 2.48s\n",
      "216:\tlearn: 5.4255964\ttotal: 686ms\tremaining: 2.48s\n",
      "217:\tlearn: 5.4186545\ttotal: 689ms\tremaining: 2.47s\n",
      "218:\tlearn: 5.4135646\ttotal: 692ms\tremaining: 2.47s\n",
      "219:\tlearn: 5.4102094\ttotal: 696ms\tremaining: 2.47s\n",
      "220:\tlearn: 5.4061062\ttotal: 699ms\tremaining: 2.46s\n",
      "221:\tlearn: 5.4017277\ttotal: 702ms\tremaining: 2.46s\n",
      "222:\tlearn: 5.3949298\ttotal: 704ms\tremaining: 2.45s\n",
      "223:\tlearn: 5.3886710\ttotal: 707ms\tremaining: 2.45s\n",
      "224:\tlearn: 5.3833432\ttotal: 710ms\tremaining: 2.44s\n",
      "225:\tlearn: 5.3805299\ttotal: 712ms\tremaining: 2.44s\n",
      "226:\tlearn: 5.3748878\ttotal: 716ms\tremaining: 2.44s\n",
      "227:\tlearn: 5.3709904\ttotal: 719ms\tremaining: 2.43s\n",
      "228:\tlearn: 5.3676235\ttotal: 722ms\tremaining: 2.43s\n",
      "229:\tlearn: 5.3618138\ttotal: 725ms\tremaining: 2.43s\n",
      "230:\tlearn: 5.3571934\ttotal: 728ms\tremaining: 2.42s\n",
      "231:\tlearn: 5.3524421\ttotal: 731ms\tremaining: 2.42s\n",
      "232:\tlearn: 5.3485157\ttotal: 734ms\tremaining: 2.41s\n",
      "233:\tlearn: 5.3430946\ttotal: 736ms\tremaining: 2.41s\n",
      "234:\tlearn: 5.3396319\ttotal: 739ms\tremaining: 2.41s\n",
      "235:\tlearn: 5.3362979\ttotal: 742ms\tremaining: 2.4s\n",
      "236:\tlearn: 5.3319777\ttotal: 745ms\tremaining: 2.4s\n",
      "237:\tlearn: 5.3284061\ttotal: 748ms\tremaining: 2.39s\n",
      "238:\tlearn: 5.3229774\ttotal: 751ms\tremaining: 2.39s\n",
      "239:\tlearn: 5.3191914\ttotal: 753ms\tremaining: 2.38s\n",
      "240:\tlearn: 5.3124378\ttotal: 756ms\tremaining: 2.38s\n",
      "241:\tlearn: 5.3056793\ttotal: 759ms\tremaining: 2.38s\n",
      "242:\tlearn: 5.3014439\ttotal: 762ms\tremaining: 2.38s\n",
      "243:\tlearn: 5.2974506\ttotal: 765ms\tremaining: 2.37s\n",
      "244:\tlearn: 5.2939035\ttotal: 768ms\tremaining: 2.37s\n",
      "245:\tlearn: 5.2879230\ttotal: 771ms\tremaining: 2.36s\n",
      "246:\tlearn: 5.2817160\ttotal: 773ms\tremaining: 2.36s\n",
      "247:\tlearn: 5.2770502\ttotal: 776ms\tremaining: 2.35s\n",
      "248:\tlearn: 5.2739572\ttotal: 780ms\tremaining: 2.35s\n",
      "249:\tlearn: 5.2699267\ttotal: 783ms\tremaining: 2.35s\n",
      "250:\tlearn: 5.2658436\ttotal: 785ms\tremaining: 2.34s\n",
      "251:\tlearn: 5.2622074\ttotal: 788ms\tremaining: 2.34s\n",
      "252:\tlearn: 5.2575478\ttotal: 791ms\tremaining: 2.33s\n",
      "253:\tlearn: 5.2527257\ttotal: 794ms\tremaining: 2.33s\n",
      "254:\tlearn: 5.2490445\ttotal: 797ms\tremaining: 2.33s\n",
      "255:\tlearn: 5.2440689\ttotal: 800ms\tremaining: 2.33s\n",
      "256:\tlearn: 5.2410991\ttotal: 804ms\tremaining: 2.32s\n",
      "257:\tlearn: 5.2371257\ttotal: 806ms\tremaining: 2.32s\n",
      "258:\tlearn: 5.2320814\ttotal: 810ms\tremaining: 2.32s\n",
      "259:\tlearn: 5.2288934\ttotal: 813ms\tremaining: 2.31s\n",
      "260:\tlearn: 5.2232830\ttotal: 816ms\tremaining: 2.31s\n",
      "261:\tlearn: 5.2188834\ttotal: 818ms\tremaining: 2.31s\n",
      "262:\tlearn: 5.2125741\ttotal: 821ms\tremaining: 2.3s\n",
      "263:\tlearn: 5.2074797\ttotal: 824ms\tremaining: 2.3s\n",
      "264:\tlearn: 5.2020998\ttotal: 827ms\tremaining: 2.29s\n",
      "265:\tlearn: 5.1977362\ttotal: 829ms\tremaining: 2.29s\n",
      "266:\tlearn: 5.1922491\ttotal: 832ms\tremaining: 2.28s\n",
      "267:\tlearn: 5.1865625\ttotal: 835ms\tremaining: 2.28s\n",
      "268:\tlearn: 5.1830844\ttotal: 837ms\tremaining: 2.27s\n",
      "269:\tlearn: 5.1781003\ttotal: 840ms\tremaining: 2.27s\n",
      "270:\tlearn: 5.1738157\ttotal: 843ms\tremaining: 2.27s\n",
      "271:\tlearn: 5.1701668\ttotal: 846ms\tremaining: 2.26s\n",
      "272:\tlearn: 5.1651534\ttotal: 849ms\tremaining: 2.26s\n",
      "273:\tlearn: 5.1606692\ttotal: 852ms\tremaining: 2.26s\n",
      "274:\tlearn: 5.1562040\ttotal: 855ms\tremaining: 2.25s\n",
      "275:\tlearn: 5.1534696\ttotal: 858ms\tremaining: 2.25s\n",
      "276:\tlearn: 5.1499502\ttotal: 861ms\tremaining: 2.25s\n",
      "277:\tlearn: 5.1474626\ttotal: 863ms\tremaining: 2.24s\n",
      "278:\tlearn: 5.1433993\ttotal: 866ms\tremaining: 2.24s\n",
      "279:\tlearn: 5.1390458\ttotal: 869ms\tremaining: 2.23s\n",
      "280:\tlearn: 5.1344983\ttotal: 872ms\tremaining: 2.23s\n",
      "281:\tlearn: 5.1307179\ttotal: 875ms\tremaining: 2.23s\n",
      "282:\tlearn: 5.1259695\ttotal: 878ms\tremaining: 2.22s\n",
      "283:\tlearn: 5.1211109\ttotal: 881ms\tremaining: 2.22s\n",
      "284:\tlearn: 5.1166489\ttotal: 884ms\tremaining: 2.22s\n",
      "285:\tlearn: 5.1110140\ttotal: 888ms\tremaining: 2.21s\n",
      "286:\tlearn: 5.1076372\ttotal: 891ms\tremaining: 2.21s\n",
      "287:\tlearn: 5.1039212\ttotal: 893ms\tremaining: 2.21s\n",
      "288:\tlearn: 5.1006440\ttotal: 897ms\tremaining: 2.21s\n",
      "289:\tlearn: 5.0935188\ttotal: 900ms\tremaining: 2.2s\n",
      "290:\tlearn: 5.0892154\ttotal: 902ms\tremaining: 2.2s\n",
      "291:\tlearn: 5.0866952\ttotal: 906ms\tremaining: 2.2s\n",
      "292:\tlearn: 5.0823643\ttotal: 909ms\tremaining: 2.19s\n",
      "293:\tlearn: 5.0789952\ttotal: 912ms\tremaining: 2.19s\n",
      "294:\tlearn: 5.0766397\ttotal: 915ms\tremaining: 2.19s\n",
      "295:\tlearn: 5.0735978\ttotal: 917ms\tremaining: 2.18s\n",
      "296:\tlearn: 5.0702679\ttotal: 921ms\tremaining: 2.18s\n",
      "297:\tlearn: 5.0675812\ttotal: 924ms\tremaining: 2.18s\n",
      "298:\tlearn: 5.0635712\ttotal: 927ms\tremaining: 2.17s\n",
      "299:\tlearn: 5.0594443\ttotal: 929ms\tremaining: 2.17s\n",
      "300:\tlearn: 5.0552767\ttotal: 932ms\tremaining: 2.16s\n",
      "301:\tlearn: 5.0489743\ttotal: 935ms\tremaining: 2.16s\n",
      "302:\tlearn: 5.0454136\ttotal: 938ms\tremaining: 2.16s\n",
      "303:\tlearn: 5.0425210\ttotal: 941ms\tremaining: 2.15s\n",
      "304:\tlearn: 5.0385417\ttotal: 943ms\tremaining: 2.15s\n",
      "305:\tlearn: 5.0320272\ttotal: 946ms\tremaining: 2.15s\n",
      "306:\tlearn: 5.0272822\ttotal: 949ms\tremaining: 2.14s\n",
      "307:\tlearn: 5.0237229\ttotal: 951ms\tremaining: 2.14s\n",
      "308:\tlearn: 5.0198626\ttotal: 954ms\tremaining: 2.13s\n",
      "309:\tlearn: 5.0156798\ttotal: 959ms\tremaining: 2.13s\n",
      "310:\tlearn: 5.0125079\ttotal: 963ms\tremaining: 2.13s\n",
      "311:\tlearn: 5.0084333\ttotal: 966ms\tremaining: 2.13s\n",
      "312:\tlearn: 5.0058627\ttotal: 969ms\tremaining: 2.13s\n",
      "313:\tlearn: 5.0039725\ttotal: 972ms\tremaining: 2.12s\n",
      "314:\tlearn: 5.0008116\ttotal: 975ms\tremaining: 2.12s\n",
      "315:\tlearn: 4.9986381\ttotal: 978ms\tremaining: 2.12s\n",
      "316:\tlearn: 4.9954461\ttotal: 981ms\tremaining: 2.11s\n",
      "317:\tlearn: 4.9921951\ttotal: 983ms\tremaining: 2.11s\n",
      "318:\tlearn: 4.9863271\ttotal: 986ms\tremaining: 2.1s\n",
      "319:\tlearn: 4.9815016\ttotal: 989ms\tremaining: 2.1s\n",
      "320:\tlearn: 4.9756426\ttotal: 992ms\tremaining: 2.1s\n",
      "321:\tlearn: 4.9716926\ttotal: 995ms\tremaining: 2.1s\n",
      "322:\tlearn: 4.9680975\ttotal: 998ms\tremaining: 2.09s\n",
      "323:\tlearn: 4.9620409\ttotal: 1s\tremaining: 2.09s\n",
      "324:\tlearn: 4.9576234\ttotal: 1s\tremaining: 2.08s\n",
      "325:\tlearn: 4.9526534\ttotal: 1.01s\tremaining: 2.08s\n",
      "326:\tlearn: 4.9485911\ttotal: 1.01s\tremaining: 2.08s\n",
      "327:\tlearn: 4.9450386\ttotal: 1.01s\tremaining: 2.08s\n",
      "328:\tlearn: 4.9397141\ttotal: 1.02s\tremaining: 2.07s\n",
      "329:\tlearn: 4.9373076\ttotal: 1.02s\tremaining: 2.07s\n",
      "330:\tlearn: 4.9321124\ttotal: 1.02s\tremaining: 2.07s\n",
      "331:\tlearn: 4.9287949\ttotal: 1.02s\tremaining: 2.06s\n",
      "332:\tlearn: 4.9267049\ttotal: 1.03s\tremaining: 2.06s\n",
      "333:\tlearn: 4.9222134\ttotal: 1.03s\tremaining: 2.06s\n",
      "334:\tlearn: 4.9169295\ttotal: 1.03s\tremaining: 2.05s\n",
      "335:\tlearn: 4.9121311\ttotal: 1.04s\tremaining: 2.05s\n",
      "336:\tlearn: 4.9083472\ttotal: 1.04s\tremaining: 2.05s\n"
     ]
    },
    {
     "name": "stdout",
     "output_type": "stream",
     "text": [
      "337:\tlearn: 4.9057548\ttotal: 1.04s\tremaining: 2.04s\n",
      "338:\tlearn: 4.9017417\ttotal: 1.05s\tremaining: 2.04s\n",
      "339:\tlearn: 4.8984650\ttotal: 1.05s\tremaining: 2.04s\n",
      "340:\tlearn: 4.8946690\ttotal: 1.05s\tremaining: 2.03s\n",
      "341:\tlearn: 4.8924775\ttotal: 1.05s\tremaining: 2.03s\n",
      "342:\tlearn: 4.8898453\ttotal: 1.06s\tremaining: 2.03s\n",
      "343:\tlearn: 4.8851658\ttotal: 1.06s\tremaining: 2.02s\n",
      "344:\tlearn: 4.8810705\ttotal: 1.06s\tremaining: 2.02s\n",
      "345:\tlearn: 4.8765659\ttotal: 1.07s\tremaining: 2.02s\n",
      "346:\tlearn: 4.8738789\ttotal: 1.07s\tremaining: 2.01s\n",
      "347:\tlearn: 4.8682867\ttotal: 1.07s\tremaining: 2.01s\n",
      "348:\tlearn: 4.8640757\ttotal: 1.08s\tremaining: 2.01s\n",
      "349:\tlearn: 4.8600774\ttotal: 1.08s\tremaining: 2s\n",
      "350:\tlearn: 4.8574151\ttotal: 1.08s\tremaining: 2s\n",
      "351:\tlearn: 4.8528781\ttotal: 1.08s\tremaining: 2s\n",
      "352:\tlearn: 4.8497390\ttotal: 1.09s\tremaining: 1.99s\n",
      "353:\tlearn: 4.8469239\ttotal: 1.09s\tremaining: 1.99s\n",
      "354:\tlearn: 4.8428207\ttotal: 1.09s\tremaining: 1.99s\n",
      "355:\tlearn: 4.8393540\ttotal: 1.1s\tremaining: 1.98s\n",
      "356:\tlearn: 4.8364464\ttotal: 1.1s\tremaining: 1.98s\n",
      "357:\tlearn: 4.8327044\ttotal: 1.1s\tremaining: 1.98s\n",
      "358:\tlearn: 4.8296469\ttotal: 1.1s\tremaining: 1.97s\n",
      "359:\tlearn: 4.8263828\ttotal: 1.11s\tremaining: 1.97s\n",
      "360:\tlearn: 4.8235810\ttotal: 1.11s\tremaining: 1.97s\n",
      "361:\tlearn: 4.8205337\ttotal: 1.11s\tremaining: 1.96s\n",
      "362:\tlearn: 4.8169503\ttotal: 1.12s\tremaining: 1.96s\n",
      "363:\tlearn: 4.8137628\ttotal: 1.12s\tremaining: 1.96s\n",
      "364:\tlearn: 4.8108421\ttotal: 1.12s\tremaining: 1.95s\n",
      "365:\tlearn: 4.8073052\ttotal: 1.12s\tremaining: 1.95s\n",
      "366:\tlearn: 4.8026741\ttotal: 1.13s\tremaining: 1.94s\n",
      "367:\tlearn: 4.7999149\ttotal: 1.13s\tremaining: 1.94s\n",
      "368:\tlearn: 4.7969903\ttotal: 1.13s\tremaining: 1.94s\n",
      "369:\tlearn: 4.7947885\ttotal: 1.14s\tremaining: 1.94s\n",
      "370:\tlearn: 4.7898061\ttotal: 1.14s\tremaining: 1.93s\n",
      "371:\tlearn: 4.7863833\ttotal: 1.14s\tremaining: 1.93s\n",
      "372:\tlearn: 4.7848553\ttotal: 1.15s\tremaining: 1.93s\n",
      "373:\tlearn: 4.7822217\ttotal: 1.15s\tremaining: 1.92s\n",
      "374:\tlearn: 4.7794807\ttotal: 1.15s\tremaining: 1.92s\n",
      "375:\tlearn: 4.7760415\ttotal: 1.15s\tremaining: 1.92s\n",
      "376:\tlearn: 4.7727834\ttotal: 1.16s\tremaining: 1.91s\n",
      "377:\tlearn: 4.7701224\ttotal: 1.16s\tremaining: 1.91s\n",
      "378:\tlearn: 4.7655407\ttotal: 1.16s\tremaining: 1.91s\n",
      "379:\tlearn: 4.7628357\ttotal: 1.17s\tremaining: 1.9s\n",
      "380:\tlearn: 4.7597442\ttotal: 1.17s\tremaining: 1.9s\n",
      "381:\tlearn: 4.7573225\ttotal: 1.17s\tremaining: 1.9s\n",
      "382:\tlearn: 4.7550968\ttotal: 1.18s\tremaining: 1.9s\n",
      "383:\tlearn: 4.7518928\ttotal: 1.18s\tremaining: 1.89s\n",
      "384:\tlearn: 4.7481048\ttotal: 1.18s\tremaining: 1.89s\n",
      "385:\tlearn: 4.7458384\ttotal: 1.19s\tremaining: 1.89s\n",
      "386:\tlearn: 4.7426475\ttotal: 1.19s\tremaining: 1.88s\n",
      "387:\tlearn: 4.7413796\ttotal: 1.19s\tremaining: 1.88s\n",
      "388:\tlearn: 4.7386578\ttotal: 1.19s\tremaining: 1.88s\n",
      "389:\tlearn: 4.7341850\ttotal: 1.2s\tremaining: 1.87s\n",
      "390:\tlearn: 4.7312192\ttotal: 1.2s\tremaining: 1.87s\n",
      "391:\tlearn: 4.7273900\ttotal: 1.2s\tremaining: 1.86s\n",
      "392:\tlearn: 4.7241465\ttotal: 1.21s\tremaining: 1.86s\n",
      "393:\tlearn: 4.7212636\ttotal: 1.21s\tremaining: 1.86s\n",
      "394:\tlearn: 4.7178745\ttotal: 1.21s\tremaining: 1.86s\n",
      "395:\tlearn: 4.7148780\ttotal: 1.22s\tremaining: 1.85s\n",
      "396:\tlearn: 4.7114141\ttotal: 1.22s\tremaining: 1.85s\n",
      "397:\tlearn: 4.7090953\ttotal: 1.22s\tremaining: 1.85s\n",
      "398:\tlearn: 4.7059775\ttotal: 1.22s\tremaining: 1.84s\n",
      "399:\tlearn: 4.7036842\ttotal: 1.23s\tremaining: 1.84s\n",
      "400:\tlearn: 4.7012749\ttotal: 1.23s\tremaining: 1.83s\n",
      "401:\tlearn: 4.6985237\ttotal: 1.23s\tremaining: 1.83s\n",
      "402:\tlearn: 4.6958677\ttotal: 1.23s\tremaining: 1.83s\n",
      "403:\tlearn: 4.6931862\ttotal: 1.24s\tremaining: 1.82s\n",
      "404:\tlearn: 4.6911011\ttotal: 1.24s\tremaining: 1.82s\n",
      "405:\tlearn: 4.6867130\ttotal: 1.24s\tremaining: 1.82s\n",
      "406:\tlearn: 4.6836066\ttotal: 1.25s\tremaining: 1.81s\n",
      "407:\tlearn: 4.6794106\ttotal: 1.25s\tremaining: 1.81s\n",
      "408:\tlearn: 4.6756203\ttotal: 1.25s\tremaining: 1.81s\n",
      "409:\tlearn: 4.6722353\ttotal: 1.25s\tremaining: 1.8s\n",
      "410:\tlearn: 4.6691122\ttotal: 1.26s\tremaining: 1.8s\n",
      "411:\tlearn: 4.6660988\ttotal: 1.26s\tremaining: 1.8s\n",
      "412:\tlearn: 4.6637595\ttotal: 1.26s\tremaining: 1.79s\n",
      "413:\tlearn: 4.6616311\ttotal: 1.26s\tremaining: 1.79s\n",
      "414:\tlearn: 4.6592520\ttotal: 1.27s\tremaining: 1.79s\n",
      "415:\tlearn: 4.6548202\ttotal: 1.27s\tremaining: 1.78s\n",
      "416:\tlearn: 4.6533169\ttotal: 1.27s\tremaining: 1.78s\n",
      "417:\tlearn: 4.6512718\ttotal: 1.28s\tremaining: 1.78s\n",
      "418:\tlearn: 4.6473217\ttotal: 1.28s\tremaining: 1.77s\n",
      "419:\tlearn: 4.6446940\ttotal: 1.28s\tremaining: 1.77s\n",
      "420:\tlearn: 4.6413071\ttotal: 1.28s\tremaining: 1.77s\n",
      "421:\tlearn: 4.6377286\ttotal: 1.29s\tremaining: 1.76s\n",
      "422:\tlearn: 4.6337221\ttotal: 1.29s\tremaining: 1.76s\n",
      "423:\tlearn: 4.6308237\ttotal: 1.29s\tremaining: 1.76s\n",
      "424:\tlearn: 4.6277563\ttotal: 1.3s\tremaining: 1.75s\n",
      "425:\tlearn: 4.6242108\ttotal: 1.3s\tremaining: 1.75s\n",
      "426:\tlearn: 4.6210445\ttotal: 1.3s\tremaining: 1.75s\n",
      "427:\tlearn: 4.6190014\ttotal: 1.3s\tremaining: 1.75s\n",
      "428:\tlearn: 4.6145131\ttotal: 1.31s\tremaining: 1.74s\n",
      "429:\tlearn: 4.6115182\ttotal: 1.31s\tremaining: 1.74s\n",
      "430:\tlearn: 4.6083725\ttotal: 1.31s\tremaining: 1.73s\n",
      "431:\tlearn: 4.6053069\ttotal: 1.32s\tremaining: 1.73s\n",
      "432:\tlearn: 4.6037630\ttotal: 1.32s\tremaining: 1.73s\n",
      "433:\tlearn: 4.6007295\ttotal: 1.32s\tremaining: 1.72s\n",
      "434:\tlearn: 4.5979934\ttotal: 1.32s\tremaining: 1.72s\n",
      "435:\tlearn: 4.5947863\ttotal: 1.33s\tremaining: 1.72s\n",
      "436:\tlearn: 4.5929601\ttotal: 1.33s\tremaining: 1.71s\n",
      "437:\tlearn: 4.5905236\ttotal: 1.33s\tremaining: 1.71s\n",
      "438:\tlearn: 4.5868905\ttotal: 1.33s\tremaining: 1.71s\n",
      "439:\tlearn: 4.5831279\ttotal: 1.34s\tremaining: 1.7s\n",
      "440:\tlearn: 4.5789071\ttotal: 1.34s\tremaining: 1.7s\n",
      "441:\tlearn: 4.5752709\ttotal: 1.34s\tremaining: 1.7s\n",
      "442:\tlearn: 4.5727655\ttotal: 1.35s\tremaining: 1.69s\n",
      "443:\tlearn: 4.5710078\ttotal: 1.35s\tremaining: 1.69s\n",
      "444:\tlearn: 4.5671220\ttotal: 1.35s\tremaining: 1.69s\n",
      "445:\tlearn: 4.5646866\ttotal: 1.35s\tremaining: 1.68s\n",
      "446:\tlearn: 4.5612358\ttotal: 1.36s\tremaining: 1.68s\n",
      "447:\tlearn: 4.5586453\ttotal: 1.36s\tremaining: 1.68s\n",
      "448:\tlearn: 4.5551477\ttotal: 1.36s\tremaining: 1.67s\n",
      "449:\tlearn: 4.5520832\ttotal: 1.37s\tremaining: 1.67s\n",
      "450:\tlearn: 4.5501499\ttotal: 1.37s\tremaining: 1.67s\n",
      "451:\tlearn: 4.5474446\ttotal: 1.37s\tremaining: 1.66s\n",
      "452:\tlearn: 4.5454562\ttotal: 1.37s\tremaining: 1.66s\n",
      "453:\tlearn: 4.5429475\ttotal: 1.38s\tremaining: 1.66s\n",
      "454:\tlearn: 4.5412386\ttotal: 1.38s\tremaining: 1.65s\n",
      "455:\tlearn: 4.5387310\ttotal: 1.38s\tremaining: 1.65s\n",
      "456:\tlearn: 4.5359316\ttotal: 1.39s\tremaining: 1.65s\n",
      "457:\tlearn: 4.5333362\ttotal: 1.39s\tremaining: 1.64s\n",
      "458:\tlearn: 4.5313915\ttotal: 1.39s\tremaining: 1.64s\n",
      "459:\tlearn: 4.5288877\ttotal: 1.39s\tremaining: 1.64s\n",
      "460:\tlearn: 4.5256789\ttotal: 1.4s\tremaining: 1.63s\n",
      "461:\tlearn: 4.5229102\ttotal: 1.4s\tremaining: 1.63s\n",
      "462:\tlearn: 4.5197174\ttotal: 1.4s\tremaining: 1.63s\n",
      "463:\tlearn: 4.5180250\ttotal: 1.41s\tremaining: 1.62s\n",
      "464:\tlearn: 4.5161804\ttotal: 1.41s\tremaining: 1.62s\n",
      "465:\tlearn: 4.5129793\ttotal: 1.41s\tremaining: 1.62s\n",
      "466:\tlearn: 4.5095744\ttotal: 1.41s\tremaining: 1.61s\n",
      "467:\tlearn: 4.5074946\ttotal: 1.42s\tremaining: 1.61s\n",
      "468:\tlearn: 4.5052969\ttotal: 1.42s\tremaining: 1.61s\n",
      "469:\tlearn: 4.5014129\ttotal: 1.42s\tremaining: 1.6s\n",
      "470:\tlearn: 4.4979012\ttotal: 1.43s\tremaining: 1.6s\n",
      "471:\tlearn: 4.4970155\ttotal: 1.43s\tremaining: 1.6s\n",
      "472:\tlearn: 4.4941577\ttotal: 1.43s\tremaining: 1.59s\n",
      "473:\tlearn: 4.4911997\ttotal: 1.43s\tremaining: 1.59s\n",
      "474:\tlearn: 4.4885371\ttotal: 1.44s\tremaining: 1.59s\n",
      "475:\tlearn: 4.4863356\ttotal: 1.44s\tremaining: 1.58s\n",
      "476:\tlearn: 4.4832960\ttotal: 1.44s\tremaining: 1.58s\n",
      "477:\tlearn: 4.4808452\ttotal: 1.45s\tremaining: 1.58s\n",
      "478:\tlearn: 4.4770645\ttotal: 1.45s\tremaining: 1.57s\n",
      "479:\tlearn: 4.4728911\ttotal: 1.45s\tremaining: 1.57s\n",
      "480:\tlearn: 4.4701538\ttotal: 1.45s\tremaining: 1.57s\n",
      "481:\tlearn: 4.4681188\ttotal: 1.46s\tremaining: 1.56s\n",
      "482:\tlearn: 4.4657864\ttotal: 1.46s\tremaining: 1.56s\n",
      "483:\tlearn: 4.4628317\ttotal: 1.46s\tremaining: 1.56s\n",
      "484:\tlearn: 4.4603174\ttotal: 1.46s\tremaining: 1.55s\n",
      "485:\tlearn: 4.4584585\ttotal: 1.47s\tremaining: 1.55s\n",
      "486:\tlearn: 4.4556969\ttotal: 1.47s\tremaining: 1.55s\n",
      "487:\tlearn: 4.4532592\ttotal: 1.47s\tremaining: 1.54s\n",
      "488:\tlearn: 4.4514879\ttotal: 1.48s\tremaining: 1.54s\n",
      "489:\tlearn: 4.4493560\ttotal: 1.48s\tremaining: 1.54s\n",
      "490:\tlearn: 4.4476211\ttotal: 1.48s\tremaining: 1.53s\n",
      "491:\tlearn: 4.4446754\ttotal: 1.48s\tremaining: 1.53s\n",
      "492:\tlearn: 4.4430628\ttotal: 1.49s\tremaining: 1.53s\n",
      "493:\tlearn: 4.4400042\ttotal: 1.49s\tremaining: 1.52s\n",
      "494:\tlearn: 4.4375464\ttotal: 1.49s\tremaining: 1.52s\n",
      "495:\tlearn: 4.4343585\ttotal: 1.49s\tremaining: 1.52s\n",
      "496:\tlearn: 4.4324647\ttotal: 1.5s\tremaining: 1.51s\n",
      "497:\tlearn: 4.4298452\ttotal: 1.5s\tremaining: 1.51s\n",
      "498:\tlearn: 4.4280923\ttotal: 1.5s\tremaining: 1.51s\n",
      "499:\tlearn: 4.4254145\ttotal: 1.5s\tremaining: 1.5s\n",
      "500:\tlearn: 4.4228225\ttotal: 1.51s\tremaining: 1.5s\n",
      "501:\tlearn: 4.4209428\ttotal: 1.51s\tremaining: 1.5s\n"
     ]
    },
    {
     "name": "stdout",
     "output_type": "stream",
     "text": [
      "502:\tlearn: 4.4172955\ttotal: 1.51s\tremaining: 1.5s\n",
      "503:\tlearn: 4.4143106\ttotal: 1.52s\tremaining: 1.49s\n",
      "504:\tlearn: 4.4119050\ttotal: 1.52s\tremaining: 1.49s\n",
      "505:\tlearn: 4.4087682\ttotal: 1.52s\tremaining: 1.49s\n",
      "506:\tlearn: 4.4073883\ttotal: 1.52s\tremaining: 1.48s\n",
      "507:\tlearn: 4.4050144\ttotal: 1.53s\tremaining: 1.48s\n",
      "508:\tlearn: 4.4009302\ttotal: 1.53s\tremaining: 1.48s\n",
      "509:\tlearn: 4.3984154\ttotal: 1.53s\tremaining: 1.47s\n",
      "510:\tlearn: 4.3956917\ttotal: 1.54s\tremaining: 1.47s\n",
      "511:\tlearn: 4.3942849\ttotal: 1.54s\tremaining: 1.47s\n",
      "512:\tlearn: 4.3911079\ttotal: 1.54s\tremaining: 1.46s\n",
      "513:\tlearn: 4.3898598\ttotal: 1.54s\tremaining: 1.46s\n",
      "514:\tlearn: 4.3866486\ttotal: 1.55s\tremaining: 1.46s\n",
      "515:\tlearn: 4.3847837\ttotal: 1.55s\tremaining: 1.45s\n",
      "516:\tlearn: 4.3823120\ttotal: 1.55s\tremaining: 1.45s\n",
      "517:\tlearn: 4.3797681\ttotal: 1.56s\tremaining: 1.45s\n",
      "518:\tlearn: 4.3767081\ttotal: 1.56s\tremaining: 1.45s\n",
      "519:\tlearn: 4.3744440\ttotal: 1.56s\tremaining: 1.44s\n",
      "520:\tlearn: 4.3726544\ttotal: 1.56s\tremaining: 1.44s\n",
      "521:\tlearn: 4.3700961\ttotal: 1.57s\tremaining: 1.44s\n",
      "522:\tlearn: 4.3677252\ttotal: 1.57s\tremaining: 1.43s\n",
      "523:\tlearn: 4.3653450\ttotal: 1.57s\tremaining: 1.43s\n",
      "524:\tlearn: 4.3633946\ttotal: 1.57s\tremaining: 1.42s\n",
      "525:\tlearn: 4.3616852\ttotal: 1.58s\tremaining: 1.42s\n",
      "526:\tlearn: 4.3588103\ttotal: 1.58s\tremaining: 1.42s\n",
      "527:\tlearn: 4.3552313\ttotal: 1.58s\tremaining: 1.42s\n",
      "528:\tlearn: 4.3539482\ttotal: 1.59s\tremaining: 1.41s\n",
      "529:\tlearn: 4.3521287\ttotal: 1.59s\tremaining: 1.41s\n",
      "530:\tlearn: 4.3495754\ttotal: 1.59s\tremaining: 1.41s\n",
      "531:\tlearn: 4.3467589\ttotal: 1.6s\tremaining: 1.4s\n",
      "532:\tlearn: 4.3444172\ttotal: 1.6s\tremaining: 1.4s\n",
      "533:\tlearn: 4.3427660\ttotal: 1.6s\tremaining: 1.4s\n",
      "534:\tlearn: 4.3397841\ttotal: 1.6s\tremaining: 1.39s\n",
      "535:\tlearn: 4.3376623\ttotal: 1.61s\tremaining: 1.39s\n",
      "536:\tlearn: 4.3345621\ttotal: 1.61s\tremaining: 1.39s\n",
      "537:\tlearn: 4.3322406\ttotal: 1.61s\tremaining: 1.38s\n",
      "538:\tlearn: 4.3307818\ttotal: 1.61s\tremaining: 1.38s\n",
      "539:\tlearn: 4.3284337\ttotal: 1.62s\tremaining: 1.38s\n",
      "540:\tlearn: 4.3265821\ttotal: 1.62s\tremaining: 1.37s\n",
      "541:\tlearn: 4.3241147\ttotal: 1.62s\tremaining: 1.37s\n",
      "542:\tlearn: 4.3211615\ttotal: 1.63s\tremaining: 1.37s\n",
      "543:\tlearn: 4.3172581\ttotal: 1.63s\tremaining: 1.36s\n",
      "544:\tlearn: 4.3144082\ttotal: 1.63s\tremaining: 1.36s\n",
      "545:\tlearn: 4.3123658\ttotal: 1.63s\tremaining: 1.36s\n",
      "546:\tlearn: 4.3092871\ttotal: 1.64s\tremaining: 1.35s\n",
      "547:\tlearn: 4.3067858\ttotal: 1.64s\tremaining: 1.35s\n",
      "548:\tlearn: 4.3035787\ttotal: 1.64s\tremaining: 1.35s\n",
      "549:\tlearn: 4.3011667\ttotal: 1.65s\tremaining: 1.35s\n",
      "550:\tlearn: 4.2994547\ttotal: 1.65s\tremaining: 1.34s\n",
      "551:\tlearn: 4.2972224\ttotal: 1.65s\tremaining: 1.34s\n",
      "552:\tlearn: 4.2946393\ttotal: 1.65s\tremaining: 1.34s\n",
      "553:\tlearn: 4.2908891\ttotal: 1.66s\tremaining: 1.33s\n",
      "554:\tlearn: 4.2883528\ttotal: 1.66s\tremaining: 1.33s\n",
      "555:\tlearn: 4.2862973\ttotal: 1.66s\tremaining: 1.33s\n",
      "556:\tlearn: 4.2830253\ttotal: 1.67s\tremaining: 1.32s\n",
      "557:\tlearn: 4.2802995\ttotal: 1.67s\tremaining: 1.32s\n",
      "558:\tlearn: 4.2781308\ttotal: 1.67s\tremaining: 1.32s\n",
      "559:\tlearn: 4.2767313\ttotal: 1.67s\tremaining: 1.31s\n",
      "560:\tlearn: 4.2743943\ttotal: 1.68s\tremaining: 1.31s\n",
      "561:\tlearn: 4.2718285\ttotal: 1.68s\tremaining: 1.31s\n",
      "562:\tlearn: 4.2694924\ttotal: 1.68s\tremaining: 1.3s\n",
      "563:\tlearn: 4.2677759\ttotal: 1.69s\tremaining: 1.3s\n",
      "564:\tlearn: 4.2664879\ttotal: 1.69s\tremaining: 1.3s\n",
      "565:\tlearn: 4.2642961\ttotal: 1.69s\tremaining: 1.3s\n",
      "566:\tlearn: 4.2622041\ttotal: 1.69s\tremaining: 1.29s\n",
      "567:\tlearn: 4.2595797\ttotal: 1.7s\tremaining: 1.29s\n",
      "568:\tlearn: 4.2574664\ttotal: 1.7s\tremaining: 1.29s\n",
      "569:\tlearn: 4.2548564\ttotal: 1.7s\tremaining: 1.28s\n",
      "570:\tlearn: 4.2534721\ttotal: 1.71s\tremaining: 1.28s\n",
      "571:\tlearn: 4.2508738\ttotal: 1.71s\tremaining: 1.28s\n",
      "572:\tlearn: 4.2478506\ttotal: 1.71s\tremaining: 1.27s\n",
      "573:\tlearn: 4.2468244\ttotal: 1.71s\tremaining: 1.27s\n",
      "574:\tlearn: 4.2443756\ttotal: 1.72s\tremaining: 1.27s\n",
      "575:\tlearn: 4.2420589\ttotal: 1.72s\tremaining: 1.26s\n",
      "576:\tlearn: 4.2393558\ttotal: 1.72s\tremaining: 1.26s\n",
      "577:\tlearn: 4.2378151\ttotal: 1.72s\tremaining: 1.26s\n",
      "578:\tlearn: 4.2358211\ttotal: 1.73s\tremaining: 1.25s\n",
      "579:\tlearn: 4.2337655\ttotal: 1.73s\tremaining: 1.25s\n",
      "580:\tlearn: 4.2310003\ttotal: 1.73s\tremaining: 1.25s\n",
      "581:\tlearn: 4.2286747\ttotal: 1.73s\tremaining: 1.25s\n",
      "582:\tlearn: 4.2255718\ttotal: 1.74s\tremaining: 1.24s\n",
      "583:\tlearn: 4.2240856\ttotal: 1.74s\tremaining: 1.24s\n",
      "584:\tlearn: 4.2215000\ttotal: 1.74s\tremaining: 1.24s\n",
      "585:\tlearn: 4.2174236\ttotal: 1.75s\tremaining: 1.23s\n",
      "586:\tlearn: 4.2153888\ttotal: 1.75s\tremaining: 1.23s\n",
      "587:\tlearn: 4.2114446\ttotal: 1.75s\tremaining: 1.23s\n",
      "588:\tlearn: 4.2085283\ttotal: 1.75s\tremaining: 1.22s\n",
      "589:\tlearn: 4.2071747\ttotal: 1.76s\tremaining: 1.22s\n",
      "590:\tlearn: 4.2036013\ttotal: 1.76s\tremaining: 1.22s\n",
      "591:\tlearn: 4.2013555\ttotal: 1.76s\tremaining: 1.21s\n",
      "592:\tlearn: 4.1980609\ttotal: 1.76s\tremaining: 1.21s\n",
      "593:\tlearn: 4.1965643\ttotal: 1.77s\tremaining: 1.21s\n",
      "594:\tlearn: 4.1950968\ttotal: 1.77s\tremaining: 1.21s\n",
      "595:\tlearn: 4.1923420\ttotal: 1.77s\tremaining: 1.2s\n",
      "596:\tlearn: 4.1901742\ttotal: 1.78s\tremaining: 1.2s\n",
      "597:\tlearn: 4.1887718\ttotal: 1.78s\tremaining: 1.2s\n",
      "598:\tlearn: 4.1873592\ttotal: 1.78s\tremaining: 1.19s\n",
      "599:\tlearn: 4.1860915\ttotal: 1.78s\tremaining: 1.19s\n",
      "600:\tlearn: 4.1830134\ttotal: 1.79s\tremaining: 1.19s\n",
      "601:\tlearn: 4.1809468\ttotal: 1.79s\tremaining: 1.18s\n",
      "602:\tlearn: 4.1786151\ttotal: 1.79s\tremaining: 1.18s\n",
      "603:\tlearn: 4.1765072\ttotal: 1.8s\tremaining: 1.18s\n",
      "604:\tlearn: 4.1746536\ttotal: 1.8s\tremaining: 1.17s\n",
      "605:\tlearn: 4.1727425\ttotal: 1.8s\tremaining: 1.17s\n",
      "606:\tlearn: 4.1711052\ttotal: 1.8s\tremaining: 1.17s\n",
      "607:\tlearn: 4.1697810\ttotal: 1.81s\tremaining: 1.17s\n",
      "608:\tlearn: 4.1679934\ttotal: 1.81s\tremaining: 1.16s\n",
      "609:\tlearn: 4.1661091\ttotal: 1.81s\tremaining: 1.16s\n",
      "610:\tlearn: 4.1647327\ttotal: 1.82s\tremaining: 1.16s\n",
      "611:\tlearn: 4.1623932\ttotal: 1.82s\tremaining: 1.15s\n",
      "612:\tlearn: 4.1606671\ttotal: 1.82s\tremaining: 1.15s\n",
      "613:\tlearn: 4.1587596\ttotal: 1.83s\tremaining: 1.15s\n",
      "614:\tlearn: 4.1558505\ttotal: 1.83s\tremaining: 1.14s\n",
      "615:\tlearn: 4.1537023\ttotal: 1.83s\tremaining: 1.14s\n",
      "616:\tlearn: 4.1513294\ttotal: 1.83s\tremaining: 1.14s\n",
      "617:\tlearn: 4.1502193\ttotal: 1.84s\tremaining: 1.14s\n",
      "618:\tlearn: 4.1475786\ttotal: 1.84s\tremaining: 1.13s\n",
      "619:\tlearn: 4.1454126\ttotal: 1.84s\tremaining: 1.13s\n",
      "620:\tlearn: 4.1441038\ttotal: 1.84s\tremaining: 1.13s\n",
      "621:\tlearn: 4.1408000\ttotal: 1.85s\tremaining: 1.12s\n",
      "622:\tlearn: 4.1385468\ttotal: 1.85s\tremaining: 1.12s\n",
      "623:\tlearn: 4.1366063\ttotal: 1.85s\tremaining: 1.12s\n",
      "624:\tlearn: 4.1348146\ttotal: 1.86s\tremaining: 1.11s\n",
      "625:\tlearn: 4.1329805\ttotal: 1.86s\tremaining: 1.11s\n",
      "626:\tlearn: 4.1306043\ttotal: 1.86s\tremaining: 1.11s\n",
      "627:\tlearn: 4.1290675\ttotal: 1.86s\tremaining: 1.1s\n",
      "628:\tlearn: 4.1268295\ttotal: 1.87s\tremaining: 1.1s\n",
      "629:\tlearn: 4.1253857\ttotal: 1.87s\tremaining: 1.1s\n",
      "630:\tlearn: 4.1224773\ttotal: 1.87s\tremaining: 1.09s\n",
      "631:\tlearn: 4.1193384\ttotal: 1.88s\tremaining: 1.09s\n",
      "632:\tlearn: 4.1181973\ttotal: 1.88s\tremaining: 1.09s\n",
      "633:\tlearn: 4.1167549\ttotal: 1.88s\tremaining: 1.09s\n",
      "634:\tlearn: 4.1136690\ttotal: 1.88s\tremaining: 1.08s\n",
      "635:\tlearn: 4.1119961\ttotal: 1.89s\tremaining: 1.08s\n",
      "636:\tlearn: 4.1104091\ttotal: 1.89s\tremaining: 1.08s\n",
      "637:\tlearn: 4.1082864\ttotal: 1.89s\tremaining: 1.07s\n",
      "638:\tlearn: 4.1065549\ttotal: 1.9s\tremaining: 1.07s\n",
      "639:\tlearn: 4.1053289\ttotal: 1.9s\tremaining: 1.07s\n",
      "640:\tlearn: 4.1033445\ttotal: 1.9s\tremaining: 1.06s\n",
      "641:\tlearn: 4.1022773\ttotal: 1.9s\tremaining: 1.06s\n",
      "642:\tlearn: 4.0999568\ttotal: 1.91s\tremaining: 1.06s\n",
      "643:\tlearn: 4.0978324\ttotal: 1.91s\tremaining: 1.05s\n",
      "644:\tlearn: 4.0954941\ttotal: 1.91s\tremaining: 1.05s\n",
      "645:\tlearn: 4.0935607\ttotal: 1.92s\tremaining: 1.05s\n",
      "646:\tlearn: 4.0912644\ttotal: 1.92s\tremaining: 1.05s\n",
      "647:\tlearn: 4.0893288\ttotal: 1.92s\tremaining: 1.04s\n",
      "648:\tlearn: 4.0885880\ttotal: 1.93s\tremaining: 1.04s\n",
      "649:\tlearn: 4.0859855\ttotal: 1.93s\tremaining: 1.04s\n",
      "650:\tlearn: 4.0841594\ttotal: 1.93s\tremaining: 1.03s\n",
      "651:\tlearn: 4.0829258\ttotal: 1.93s\tremaining: 1.03s\n",
      "652:\tlearn: 4.0808310\ttotal: 1.94s\tremaining: 1.03s\n",
      "653:\tlearn: 4.0792473\ttotal: 1.94s\tremaining: 1.03s\n",
      "654:\tlearn: 4.0769491\ttotal: 1.94s\tremaining: 1.02s\n",
      "655:\tlearn: 4.0740715\ttotal: 1.95s\tremaining: 1.02s\n",
      "656:\tlearn: 4.0725666\ttotal: 1.95s\tremaining: 1.02s\n",
      "657:\tlearn: 4.0699947\ttotal: 1.95s\tremaining: 1.01s\n",
      "658:\tlearn: 4.0682877\ttotal: 1.96s\tremaining: 1.01s\n",
      "659:\tlearn: 4.0662107\ttotal: 1.96s\tremaining: 1.01s\n",
      "660:\tlearn: 4.0642248\ttotal: 1.96s\tremaining: 1s\n"
     ]
    },
    {
     "name": "stdout",
     "output_type": "stream",
     "text": [
      "661:\tlearn: 4.0630558\ttotal: 1.96s\tremaining: 1s\n",
      "662:\tlearn: 4.0618600\ttotal: 1.97s\tremaining: 1000ms\n",
      "663:\tlearn: 4.0602338\ttotal: 1.97s\tremaining: 997ms\n",
      "664:\tlearn: 4.0585456\ttotal: 1.97s\tremaining: 994ms\n",
      "665:\tlearn: 4.0570334\ttotal: 1.98s\tremaining: 991ms\n",
      "666:\tlearn: 4.0544532\ttotal: 1.98s\tremaining: 988ms\n",
      "667:\tlearn: 4.0522944\ttotal: 1.98s\tremaining: 985ms\n",
      "668:\tlearn: 4.0505973\ttotal: 1.99s\tremaining: 982ms\n",
      "669:\tlearn: 4.0481977\ttotal: 1.99s\tremaining: 979ms\n",
      "670:\tlearn: 4.0454146\ttotal: 1.99s\tremaining: 976ms\n",
      "671:\tlearn: 4.0420951\ttotal: 1.99s\tremaining: 973ms\n",
      "672:\tlearn: 4.0401542\ttotal: 2s\tremaining: 970ms\n",
      "673:\tlearn: 4.0385388\ttotal: 2s\tremaining: 967ms\n",
      "674:\tlearn: 4.0362826\ttotal: 2s\tremaining: 964ms\n",
      "675:\tlearn: 4.0350962\ttotal: 2s\tremaining: 961ms\n",
      "676:\tlearn: 4.0339267\ttotal: 2.01s\tremaining: 958ms\n",
      "677:\tlearn: 4.0325232\ttotal: 2.01s\tremaining: 955ms\n",
      "678:\tlearn: 4.0303344\ttotal: 2.01s\tremaining: 951ms\n",
      "679:\tlearn: 4.0290308\ttotal: 2.02s\tremaining: 949ms\n",
      "680:\tlearn: 4.0276650\ttotal: 2.02s\tremaining: 945ms\n",
      "681:\tlearn: 4.0257084\ttotal: 2.02s\tremaining: 943ms\n",
      "682:\tlearn: 4.0239700\ttotal: 2.02s\tremaining: 940ms\n",
      "683:\tlearn: 4.0216227\ttotal: 2.03s\tremaining: 936ms\n",
      "684:\tlearn: 4.0192801\ttotal: 2.03s\tremaining: 933ms\n",
      "685:\tlearn: 4.0175816\ttotal: 2.03s\tremaining: 930ms\n",
      "686:\tlearn: 4.0156849\ttotal: 2.04s\tremaining: 927ms\n",
      "687:\tlearn: 4.0143309\ttotal: 2.04s\tremaining: 924ms\n",
      "688:\tlearn: 4.0120214\ttotal: 2.04s\tremaining: 921ms\n",
      "689:\tlearn: 4.0101453\ttotal: 2.04s\tremaining: 918ms\n",
      "690:\tlearn: 4.0072395\ttotal: 2.05s\tremaining: 915ms\n",
      "691:\tlearn: 4.0056021\ttotal: 2.05s\tremaining: 912ms\n",
      "692:\tlearn: 4.0039700\ttotal: 2.05s\tremaining: 909ms\n",
      "693:\tlearn: 4.0018036\ttotal: 2.06s\tremaining: 906ms\n",
      "694:\tlearn: 3.9995923\ttotal: 2.06s\tremaining: 903ms\n",
      "695:\tlearn: 3.9977768\ttotal: 2.06s\tremaining: 900ms\n",
      "696:\tlearn: 3.9962233\ttotal: 2.06s\tremaining: 897ms\n",
      "697:\tlearn: 3.9949684\ttotal: 2.07s\tremaining: 894ms\n",
      "698:\tlearn: 3.9925419\ttotal: 2.07s\tremaining: 891ms\n",
      "699:\tlearn: 3.9909226\ttotal: 2.07s\tremaining: 888ms\n",
      "700:\tlearn: 3.9884893\ttotal: 2.07s\tremaining: 885ms\n",
      "701:\tlearn: 3.9860242\ttotal: 2.08s\tremaining: 882ms\n",
      "702:\tlearn: 3.9833766\ttotal: 2.08s\tremaining: 879ms\n",
      "703:\tlearn: 3.9815446\ttotal: 2.08s\tremaining: 876ms\n",
      "704:\tlearn: 3.9799901\ttotal: 2.08s\tremaining: 873ms\n",
      "705:\tlearn: 3.9778541\ttotal: 2.09s\tremaining: 870ms\n",
      "706:\tlearn: 3.9753936\ttotal: 2.09s\tremaining: 867ms\n",
      "707:\tlearn: 3.9727359\ttotal: 2.09s\tremaining: 864ms\n",
      "708:\tlearn: 3.9707203\ttotal: 2.1s\tremaining: 861ms\n",
      "709:\tlearn: 3.9679317\ttotal: 2.1s\tremaining: 858ms\n",
      "710:\tlearn: 3.9642967\ttotal: 2.1s\tremaining: 855ms\n",
      "711:\tlearn: 3.9625290\ttotal: 2.1s\tremaining: 851ms\n",
      "712:\tlearn: 3.9614340\ttotal: 2.11s\tremaining: 848ms\n",
      "713:\tlearn: 3.9588638\ttotal: 2.11s\tremaining: 845ms\n",
      "714:\tlearn: 3.9565643\ttotal: 2.11s\tremaining: 842ms\n",
      "715:\tlearn: 3.9552562\ttotal: 2.12s\tremaining: 839ms\n",
      "716:\tlearn: 3.9536342\ttotal: 2.12s\tremaining: 836ms\n",
      "717:\tlearn: 3.9524792\ttotal: 2.12s\tremaining: 833ms\n",
      "718:\tlearn: 3.9496841\ttotal: 2.12s\tremaining: 830ms\n",
      "719:\tlearn: 3.9485779\ttotal: 2.13s\tremaining: 827ms\n",
      "720:\tlearn: 3.9467956\ttotal: 2.13s\tremaining: 824ms\n",
      "721:\tlearn: 3.9451960\ttotal: 2.13s\tremaining: 821ms\n",
      "722:\tlearn: 3.9435143\ttotal: 2.13s\tremaining: 818ms\n",
      "723:\tlearn: 3.9418726\ttotal: 2.14s\tremaining: 815ms\n",
      "724:\tlearn: 3.9397820\ttotal: 2.14s\tremaining: 812ms\n",
      "725:\tlearn: 3.9377842\ttotal: 2.14s\tremaining: 809ms\n",
      "726:\tlearn: 3.9355484\ttotal: 2.15s\tremaining: 806ms\n",
      "727:\tlearn: 3.9346313\ttotal: 2.15s\tremaining: 803ms\n",
      "728:\tlearn: 3.9335916\ttotal: 2.15s\tremaining: 800ms\n",
      "729:\tlearn: 3.9319548\ttotal: 2.15s\tremaining: 797ms\n",
      "730:\tlearn: 3.9307579\ttotal: 2.16s\tremaining: 794ms\n",
      "731:\tlearn: 3.9277896\ttotal: 2.16s\tremaining: 791ms\n",
      "732:\tlearn: 3.9265248\ttotal: 2.16s\tremaining: 788ms\n",
      "733:\tlearn: 3.9238835\ttotal: 2.17s\tremaining: 785ms\n",
      "734:\tlearn: 3.9219961\ttotal: 2.17s\tremaining: 782ms\n",
      "735:\tlearn: 3.9198805\ttotal: 2.17s\tremaining: 779ms\n",
      "736:\tlearn: 3.9172133\ttotal: 2.17s\tremaining: 776ms\n",
      "737:\tlearn: 3.9148866\ttotal: 2.18s\tremaining: 773ms\n",
      "738:\tlearn: 3.9134441\ttotal: 2.18s\tremaining: 770ms\n",
      "739:\tlearn: 3.9121902\ttotal: 2.18s\tremaining: 767ms\n",
      "740:\tlearn: 3.9099546\ttotal: 2.19s\tremaining: 764ms\n",
      "741:\tlearn: 3.9085647\ttotal: 2.19s\tremaining: 761ms\n",
      "742:\tlearn: 3.9065740\ttotal: 2.19s\tremaining: 758ms\n",
      "743:\tlearn: 3.9048520\ttotal: 2.19s\tremaining: 755ms\n",
      "744:\tlearn: 3.9020006\ttotal: 2.2s\tremaining: 752ms\n",
      "745:\tlearn: 3.8999999\ttotal: 2.2s\tremaining: 749ms\n",
      "746:\tlearn: 3.8978135\ttotal: 2.2s\tremaining: 746ms\n",
      "747:\tlearn: 3.8960537\ttotal: 2.21s\tremaining: 743ms\n",
      "748:\tlearn: 3.8944178\ttotal: 2.21s\tremaining: 740ms\n",
      "749:\tlearn: 3.8923497\ttotal: 2.21s\tremaining: 737ms\n",
      "750:\tlearn: 3.8906466\ttotal: 2.21s\tremaining: 734ms\n",
      "751:\tlearn: 3.8897309\ttotal: 2.22s\tremaining: 731ms\n",
      "752:\tlearn: 3.8881107\ttotal: 2.22s\tremaining: 728ms\n",
      "753:\tlearn: 3.8863009\ttotal: 2.22s\tremaining: 725ms\n",
      "754:\tlearn: 3.8849048\ttotal: 2.22s\tremaining: 722ms\n",
      "755:\tlearn: 3.8824119\ttotal: 2.23s\tremaining: 719ms\n",
      "756:\tlearn: 3.8804319\ttotal: 2.23s\tremaining: 716ms\n",
      "757:\tlearn: 3.8782440\ttotal: 2.23s\tremaining: 713ms\n",
      "758:\tlearn: 3.8756297\ttotal: 2.23s\tremaining: 710ms\n",
      "759:\tlearn: 3.8742162\ttotal: 2.24s\tremaining: 707ms\n",
      "760:\tlearn: 3.8724114\ttotal: 2.24s\tremaining: 704ms\n",
      "761:\tlearn: 3.8705143\ttotal: 2.24s\tremaining: 701ms\n",
      "762:\tlearn: 3.8680638\ttotal: 2.25s\tremaining: 698ms\n",
      "763:\tlearn: 3.8653164\ttotal: 2.25s\tremaining: 695ms\n",
      "764:\tlearn: 3.8639762\ttotal: 2.25s\tremaining: 692ms\n",
      "765:\tlearn: 3.8618922\ttotal: 2.25s\tremaining: 689ms\n",
      "766:\tlearn: 3.8604158\ttotal: 2.26s\tremaining: 686ms\n",
      "767:\tlearn: 3.8585809\ttotal: 2.26s\tremaining: 683ms\n",
      "768:\tlearn: 3.8570469\ttotal: 2.26s\tremaining: 680ms\n",
      "769:\tlearn: 3.8551505\ttotal: 2.27s\tremaining: 677ms\n",
      "770:\tlearn: 3.8533177\ttotal: 2.27s\tremaining: 674ms\n",
      "771:\tlearn: 3.8518173\ttotal: 2.27s\tremaining: 671ms\n",
      "772:\tlearn: 3.8508404\ttotal: 2.27s\tremaining: 668ms\n",
      "773:\tlearn: 3.8488257\ttotal: 2.28s\tremaining: 665ms\n",
      "774:\tlearn: 3.8468384\ttotal: 2.28s\tremaining: 662ms\n",
      "775:\tlearn: 3.8447508\ttotal: 2.28s\tremaining: 659ms\n",
      "776:\tlearn: 3.8427195\ttotal: 2.29s\tremaining: 656ms\n",
      "777:\tlearn: 3.8413138\ttotal: 2.29s\tremaining: 653ms\n",
      "778:\tlearn: 3.8394338\ttotal: 2.29s\tremaining: 650ms\n",
      "779:\tlearn: 3.8385026\ttotal: 2.29s\tremaining: 647ms\n",
      "780:\tlearn: 3.8373311\ttotal: 2.3s\tremaining: 644ms\n",
      "781:\tlearn: 3.8352187\ttotal: 2.3s\tremaining: 641ms\n",
      "782:\tlearn: 3.8334783\ttotal: 2.3s\tremaining: 638ms\n",
      "783:\tlearn: 3.8319368\ttotal: 2.31s\tremaining: 635ms\n",
      "784:\tlearn: 3.8301536\ttotal: 2.31s\tremaining: 632ms\n",
      "785:\tlearn: 3.8284922\ttotal: 2.31s\tremaining: 629ms\n",
      "786:\tlearn: 3.8257492\ttotal: 2.31s\tremaining: 626ms\n",
      "787:\tlearn: 3.8238446\ttotal: 2.32s\tremaining: 623ms\n",
      "788:\tlearn: 3.8221314\ttotal: 2.32s\tremaining: 620ms\n",
      "789:\tlearn: 3.8198503\ttotal: 2.32s\tremaining: 617ms\n",
      "790:\tlearn: 3.8177936\ttotal: 2.33s\tremaining: 614ms\n",
      "791:\tlearn: 3.8156365\ttotal: 2.33s\tremaining: 612ms\n",
      "792:\tlearn: 3.8146048\ttotal: 2.33s\tremaining: 609ms\n",
      "793:\tlearn: 3.8127944\ttotal: 2.33s\tremaining: 606ms\n",
      "794:\tlearn: 3.8106299\ttotal: 2.34s\tremaining: 603ms\n",
      "795:\tlearn: 3.8095891\ttotal: 2.34s\tremaining: 600ms\n",
      "796:\tlearn: 3.8079119\ttotal: 2.34s\tremaining: 597ms\n",
      "797:\tlearn: 3.8066047\ttotal: 2.35s\tremaining: 594ms\n",
      "798:\tlearn: 3.8039425\ttotal: 2.35s\tremaining: 591ms\n",
      "799:\tlearn: 3.8011164\ttotal: 2.35s\tremaining: 588ms\n",
      "800:\tlearn: 3.7992389\ttotal: 2.35s\tremaining: 585ms\n",
      "801:\tlearn: 3.7969958\ttotal: 2.36s\tremaining: 582ms\n",
      "802:\tlearn: 3.7952198\ttotal: 2.36s\tremaining: 579ms\n",
      "803:\tlearn: 3.7932516\ttotal: 2.36s\tremaining: 576ms\n",
      "804:\tlearn: 3.7911060\ttotal: 2.37s\tremaining: 574ms\n",
      "805:\tlearn: 3.7894191\ttotal: 2.37s\tremaining: 571ms\n",
      "806:\tlearn: 3.7879715\ttotal: 2.37s\tremaining: 568ms\n",
      "807:\tlearn: 3.7862336\ttotal: 2.38s\tremaining: 565ms\n",
      "808:\tlearn: 3.7844024\ttotal: 2.38s\tremaining: 562ms\n",
      "809:\tlearn: 3.7835070\ttotal: 2.38s\tremaining: 559ms\n",
      "810:\tlearn: 3.7818089\ttotal: 2.38s\tremaining: 556ms\n",
      "811:\tlearn: 3.7803148\ttotal: 2.39s\tremaining: 553ms\n",
      "812:\tlearn: 3.7790125\ttotal: 2.39s\tremaining: 550ms\n",
      "813:\tlearn: 3.7766627\ttotal: 2.4s\tremaining: 547ms\n",
      "814:\tlearn: 3.7753717\ttotal: 2.4s\tremaining: 544ms\n",
      "815:\tlearn: 3.7742627\ttotal: 2.4s\tremaining: 542ms\n",
      "816:\tlearn: 3.7724122\ttotal: 2.4s\tremaining: 539ms\n",
      "817:\tlearn: 3.7706667\ttotal: 2.41s\tremaining: 536ms\n",
      "818:\tlearn: 3.7694424\ttotal: 2.41s\tremaining: 533ms\n",
      "819:\tlearn: 3.7682365\ttotal: 2.41s\tremaining: 530ms\n",
      "820:\tlearn: 3.7671390\ttotal: 2.42s\tremaining: 527ms\n",
      "821:\tlearn: 3.7651663\ttotal: 2.42s\tremaining: 524ms\n",
      "822:\tlearn: 3.7638485\ttotal: 2.42s\tremaining: 521ms\n",
      "823:\tlearn: 3.7626973\ttotal: 2.42s\tremaining: 518ms\n",
      "824:\tlearn: 3.7607901\ttotal: 2.43s\tremaining: 515ms\n",
      "825:\tlearn: 3.7585643\ttotal: 2.43s\tremaining: 512ms\n"
     ]
    },
    {
     "name": "stdout",
     "output_type": "stream",
     "text": [
      "826:\tlearn: 3.7571084\ttotal: 2.43s\tremaining: 509ms\n",
      "827:\tlearn: 3.7556047\ttotal: 2.44s\tremaining: 506ms\n",
      "828:\tlearn: 3.7540486\ttotal: 2.44s\tremaining: 504ms\n",
      "829:\tlearn: 3.7521361\ttotal: 2.44s\tremaining: 501ms\n",
      "830:\tlearn: 3.7512736\ttotal: 2.45s\tremaining: 498ms\n",
      "831:\tlearn: 3.7498362\ttotal: 2.45s\tremaining: 495ms\n",
      "832:\tlearn: 3.7474838\ttotal: 2.45s\tremaining: 492ms\n",
      "833:\tlearn: 3.7455190\ttotal: 2.46s\tremaining: 489ms\n",
      "834:\tlearn: 3.7442895\ttotal: 2.46s\tremaining: 486ms\n",
      "835:\tlearn: 3.7431741\ttotal: 2.46s\tremaining: 483ms\n",
      "836:\tlearn: 3.7408880\ttotal: 2.46s\tremaining: 480ms\n",
      "837:\tlearn: 3.7391492\ttotal: 2.47s\tremaining: 477ms\n",
      "838:\tlearn: 3.7376626\ttotal: 2.47s\tremaining: 474ms\n",
      "839:\tlearn: 3.7355423\ttotal: 2.48s\tremaining: 472ms\n",
      "840:\tlearn: 3.7346965\ttotal: 2.48s\tremaining: 469ms\n",
      "841:\tlearn: 3.7324485\ttotal: 2.48s\tremaining: 466ms\n",
      "842:\tlearn: 3.7307116\ttotal: 2.48s\tremaining: 463ms\n",
      "843:\tlearn: 3.7285154\ttotal: 2.49s\tremaining: 460ms\n",
      "844:\tlearn: 3.7265629\ttotal: 2.49s\tremaining: 457ms\n",
      "845:\tlearn: 3.7246626\ttotal: 2.49s\tremaining: 454ms\n",
      "846:\tlearn: 3.7229200\ttotal: 2.5s\tremaining: 451ms\n",
      "847:\tlearn: 3.7217577\ttotal: 2.5s\tremaining: 448ms\n",
      "848:\tlearn: 3.7203403\ttotal: 2.5s\tremaining: 445ms\n",
      "849:\tlearn: 3.7185064\ttotal: 2.51s\tremaining: 442ms\n",
      "850:\tlearn: 3.7166415\ttotal: 2.51s\tremaining: 439ms\n",
      "851:\tlearn: 3.7144921\ttotal: 2.51s\tremaining: 436ms\n",
      "852:\tlearn: 3.7131668\ttotal: 2.51s\tremaining: 433ms\n",
      "853:\tlearn: 3.7111679\ttotal: 2.52s\tremaining: 430ms\n",
      "854:\tlearn: 3.7093123\ttotal: 2.52s\tremaining: 427ms\n",
      "855:\tlearn: 3.7080004\ttotal: 2.52s\tremaining: 425ms\n",
      "856:\tlearn: 3.7064461\ttotal: 2.53s\tremaining: 422ms\n",
      "857:\tlearn: 3.7048330\ttotal: 2.53s\tremaining: 419ms\n",
      "858:\tlearn: 3.7026139\ttotal: 2.53s\tremaining: 416ms\n",
      "859:\tlearn: 3.7006922\ttotal: 2.54s\tremaining: 413ms\n",
      "860:\tlearn: 3.6988093\ttotal: 2.54s\tremaining: 410ms\n",
      "861:\tlearn: 3.6978120\ttotal: 2.54s\tremaining: 407ms\n",
      "862:\tlearn: 3.6969937\ttotal: 2.54s\tremaining: 404ms\n",
      "863:\tlearn: 3.6950865\ttotal: 2.55s\tremaining: 401ms\n",
      "864:\tlearn: 3.6932213\ttotal: 2.55s\tremaining: 398ms\n",
      "865:\tlearn: 3.6920005\ttotal: 2.56s\tremaining: 395ms\n",
      "866:\tlearn: 3.6904782\ttotal: 2.56s\tremaining: 392ms\n",
      "867:\tlearn: 3.6884211\ttotal: 2.56s\tremaining: 389ms\n",
      "868:\tlearn: 3.6867382\ttotal: 2.56s\tremaining: 386ms\n",
      "869:\tlearn: 3.6860025\ttotal: 2.57s\tremaining: 384ms\n",
      "870:\tlearn: 3.6845868\ttotal: 2.57s\tremaining: 381ms\n",
      "871:\tlearn: 3.6828835\ttotal: 2.57s\tremaining: 378ms\n",
      "872:\tlearn: 3.6814787\ttotal: 2.58s\tremaining: 375ms\n",
      "873:\tlearn: 3.6806989\ttotal: 2.58s\tremaining: 372ms\n",
      "874:\tlearn: 3.6787874\ttotal: 2.58s\tremaining: 369ms\n",
      "875:\tlearn: 3.6772309\ttotal: 2.58s\tremaining: 366ms\n",
      "876:\tlearn: 3.6756181\ttotal: 2.59s\tremaining: 363ms\n",
      "877:\tlearn: 3.6739035\ttotal: 2.59s\tremaining: 360ms\n",
      "878:\tlearn: 3.6723844\ttotal: 2.59s\tremaining: 357ms\n",
      "879:\tlearn: 3.6705966\ttotal: 2.6s\tremaining: 354ms\n",
      "880:\tlearn: 3.6694290\ttotal: 2.6s\tremaining: 351ms\n",
      "881:\tlearn: 3.6676758\ttotal: 2.6s\tremaining: 348ms\n",
      "882:\tlearn: 3.6659219\ttotal: 2.6s\tremaining: 345ms\n",
      "883:\tlearn: 3.6651578\ttotal: 2.61s\tremaining: 342ms\n",
      "884:\tlearn: 3.6628567\ttotal: 2.61s\tremaining: 339ms\n",
      "885:\tlearn: 3.6611744\ttotal: 2.61s\tremaining: 336ms\n",
      "886:\tlearn: 3.6597859\ttotal: 2.62s\tremaining: 333ms\n",
      "887:\tlearn: 3.6587090\ttotal: 2.62s\tremaining: 331ms\n",
      "888:\tlearn: 3.6572821\ttotal: 2.62s\tremaining: 328ms\n",
      "889:\tlearn: 3.6557408\ttotal: 2.63s\tremaining: 325ms\n",
      "890:\tlearn: 3.6550768\ttotal: 2.63s\tremaining: 322ms\n",
      "891:\tlearn: 3.6542839\ttotal: 2.63s\tremaining: 319ms\n",
      "892:\tlearn: 3.6526872\ttotal: 2.64s\tremaining: 316ms\n",
      "893:\tlearn: 3.6515709\ttotal: 2.64s\tremaining: 313ms\n",
      "894:\tlearn: 3.6503636\ttotal: 2.64s\tremaining: 310ms\n",
      "895:\tlearn: 3.6487367\ttotal: 2.65s\tremaining: 307ms\n",
      "896:\tlearn: 3.6472913\ttotal: 2.65s\tremaining: 304ms\n",
      "897:\tlearn: 3.6457602\ttotal: 2.65s\tremaining: 301ms\n",
      "898:\tlearn: 3.6444038\ttotal: 2.65s\tremaining: 298ms\n",
      "899:\tlearn: 3.6419296\ttotal: 2.66s\tremaining: 295ms\n",
      "900:\tlearn: 3.6404805\ttotal: 2.66s\tremaining: 292ms\n",
      "901:\tlearn: 3.6393950\ttotal: 2.66s\tremaining: 289ms\n",
      "902:\tlearn: 3.6388288\ttotal: 2.67s\tremaining: 286ms\n",
      "903:\tlearn: 3.6364503\ttotal: 2.67s\tremaining: 284ms\n",
      "904:\tlearn: 3.6348783\ttotal: 2.67s\tremaining: 281ms\n",
      "905:\tlearn: 3.6334807\ttotal: 2.67s\tremaining: 278ms\n",
      "906:\tlearn: 3.6316028\ttotal: 2.68s\tremaining: 275ms\n",
      "907:\tlearn: 3.6301250\ttotal: 2.68s\tremaining: 272ms\n",
      "908:\tlearn: 3.6287550\ttotal: 2.69s\tremaining: 269ms\n",
      "909:\tlearn: 3.6279513\ttotal: 2.69s\tremaining: 266ms\n",
      "910:\tlearn: 3.6262174\ttotal: 2.69s\tremaining: 263ms\n",
      "911:\tlearn: 3.6255076\ttotal: 2.69s\tremaining: 260ms\n",
      "912:\tlearn: 3.6235917\ttotal: 2.7s\tremaining: 257ms\n",
      "913:\tlearn: 3.6217185\ttotal: 2.7s\tremaining: 254ms\n",
      "914:\tlearn: 3.6203956\ttotal: 2.7s\tremaining: 251ms\n",
      "915:\tlearn: 3.6187501\ttotal: 2.71s\tremaining: 248ms\n",
      "916:\tlearn: 3.6175597\ttotal: 2.71s\tremaining: 245ms\n",
      "917:\tlearn: 3.6156854\ttotal: 2.71s\tremaining: 242ms\n",
      "918:\tlearn: 3.6150979\ttotal: 2.72s\tremaining: 239ms\n",
      "919:\tlearn: 3.6142450\ttotal: 2.72s\tremaining: 236ms\n",
      "920:\tlearn: 3.6125439\ttotal: 2.72s\tremaining: 233ms\n",
      "921:\tlearn: 3.6105450\ttotal: 2.73s\tremaining: 231ms\n",
      "922:\tlearn: 3.6087633\ttotal: 2.73s\tremaining: 228ms\n",
      "923:\tlearn: 3.6074603\ttotal: 2.73s\tremaining: 225ms\n",
      "924:\tlearn: 3.6054086\ttotal: 2.73s\tremaining: 222ms\n",
      "925:\tlearn: 3.6032313\ttotal: 2.74s\tremaining: 219ms\n",
      "926:\tlearn: 3.6014209\ttotal: 2.74s\tremaining: 216ms\n",
      "927:\tlearn: 3.5999969\ttotal: 2.74s\tremaining: 213ms\n",
      "928:\tlearn: 3.5986440\ttotal: 2.75s\tremaining: 210ms\n",
      "929:\tlearn: 3.5974511\ttotal: 2.75s\tremaining: 207ms\n",
      "930:\tlearn: 3.5961370\ttotal: 2.75s\tremaining: 204ms\n",
      "931:\tlearn: 3.5952118\ttotal: 2.75s\tremaining: 201ms\n",
      "932:\tlearn: 3.5937322\ttotal: 2.76s\tremaining: 198ms\n",
      "933:\tlearn: 3.5921466\ttotal: 2.76s\tremaining: 195ms\n",
      "934:\tlearn: 3.5908580\ttotal: 2.77s\tremaining: 192ms\n",
      "935:\tlearn: 3.5893718\ttotal: 2.77s\tremaining: 189ms\n",
      "936:\tlearn: 3.5882021\ttotal: 2.77s\tremaining: 186ms\n",
      "937:\tlearn: 3.5866257\ttotal: 2.77s\tremaining: 183ms\n",
      "938:\tlearn: 3.5847697\ttotal: 2.78s\tremaining: 180ms\n",
      "939:\tlearn: 3.5835333\ttotal: 2.78s\tremaining: 177ms\n",
      "940:\tlearn: 3.5817250\ttotal: 2.78s\tremaining: 174ms\n",
      "941:\tlearn: 3.5796533\ttotal: 2.79s\tremaining: 172ms\n",
      "942:\tlearn: 3.5785497\ttotal: 2.79s\tremaining: 169ms\n",
      "943:\tlearn: 3.5773282\ttotal: 2.79s\tremaining: 166ms\n",
      "944:\tlearn: 3.5752997\ttotal: 2.79s\tremaining: 163ms\n",
      "945:\tlearn: 3.5736716\ttotal: 2.8s\tremaining: 160ms\n",
      "946:\tlearn: 3.5728018\ttotal: 2.8s\tremaining: 157ms\n",
      "947:\tlearn: 3.5719077\ttotal: 2.8s\tremaining: 154ms\n",
      "948:\tlearn: 3.5707793\ttotal: 2.81s\tremaining: 151ms\n",
      "949:\tlearn: 3.5690336\ttotal: 2.81s\tremaining: 148ms\n",
      "950:\tlearn: 3.5676546\ttotal: 2.81s\tremaining: 145ms\n",
      "951:\tlearn: 3.5653647\ttotal: 2.81s\tremaining: 142ms\n",
      "952:\tlearn: 3.5640498\ttotal: 2.82s\tremaining: 139ms\n",
      "953:\tlearn: 3.5631342\ttotal: 2.82s\tremaining: 136ms\n",
      "954:\tlearn: 3.5619202\ttotal: 2.82s\tremaining: 133ms\n",
      "955:\tlearn: 3.5609170\ttotal: 2.83s\tremaining: 130ms\n",
      "956:\tlearn: 3.5593748\ttotal: 2.83s\tremaining: 127ms\n",
      "957:\tlearn: 3.5578798\ttotal: 2.83s\tremaining: 124ms\n",
      "958:\tlearn: 3.5559003\ttotal: 2.83s\tremaining: 121ms\n",
      "959:\tlearn: 3.5538892\ttotal: 2.84s\tremaining: 118ms\n",
      "960:\tlearn: 3.5520732\ttotal: 2.84s\tremaining: 115ms\n",
      "961:\tlearn: 3.5506091\ttotal: 2.84s\tremaining: 112ms\n",
      "962:\tlearn: 3.5500174\ttotal: 2.85s\tremaining: 109ms\n",
      "963:\tlearn: 3.5486297\ttotal: 2.85s\tremaining: 106ms\n",
      "964:\tlearn: 3.5475400\ttotal: 2.85s\tremaining: 103ms\n",
      "965:\tlearn: 3.5455020\ttotal: 2.86s\tremaining: 101ms\n",
      "966:\tlearn: 3.5439225\ttotal: 2.86s\tremaining: 97.6ms\n",
      "967:\tlearn: 3.5424551\ttotal: 2.86s\tremaining: 94.6ms\n",
      "968:\tlearn: 3.5404760\ttotal: 2.86s\tremaining: 91.6ms\n",
      "969:\tlearn: 3.5388671\ttotal: 2.87s\tremaining: 88.7ms\n",
      "970:\tlearn: 3.5376470\ttotal: 2.87s\tremaining: 85.8ms\n",
      "971:\tlearn: 3.5359109\ttotal: 2.87s\tremaining: 82.8ms\n",
      "972:\tlearn: 3.5345373\ttotal: 2.88s\tremaining: 79.8ms\n",
      "973:\tlearn: 3.5334227\ttotal: 2.88s\tremaining: 76.9ms\n",
      "974:\tlearn: 3.5318836\ttotal: 2.88s\tremaining: 73.9ms\n",
      "975:\tlearn: 3.5306104\ttotal: 2.89s\tremaining: 71ms\n",
      "976:\tlearn: 3.5288919\ttotal: 2.89s\tremaining: 68ms\n",
      "977:\tlearn: 3.5277168\ttotal: 2.89s\tremaining: 65.1ms\n",
      "978:\tlearn: 3.5259337\ttotal: 2.9s\tremaining: 62.1ms\n",
      "979:\tlearn: 3.5242025\ttotal: 2.9s\tremaining: 59.1ms\n",
      "980:\tlearn: 3.5229452\ttotal: 2.9s\tremaining: 56.2ms\n",
      "981:\tlearn: 3.5216384\ttotal: 2.9s\tremaining: 53.3ms\n",
      "982:\tlearn: 3.5207358\ttotal: 2.91s\tremaining: 50.3ms\n",
      "983:\tlearn: 3.5196542\ttotal: 2.91s\tremaining: 47.3ms\n",
      "984:\tlearn: 3.5182353\ttotal: 2.91s\tremaining: 44.4ms\n",
      "985:\tlearn: 3.5173276\ttotal: 2.92s\tremaining: 41.4ms\n"
     ]
    },
    {
     "name": "stdout",
     "output_type": "stream",
     "text": [
      "986:\tlearn: 3.5160490\ttotal: 2.92s\tremaining: 38.5ms\n",
      "987:\tlearn: 3.5146168\ttotal: 2.92s\tremaining: 35.5ms\n",
      "988:\tlearn: 3.5134084\ttotal: 2.93s\tremaining: 32.6ms\n",
      "989:\tlearn: 3.5109661\ttotal: 2.93s\tremaining: 29.6ms\n",
      "990:\tlearn: 3.5093938\ttotal: 2.93s\tremaining: 26.6ms\n",
      "991:\tlearn: 3.5086099\ttotal: 2.94s\tremaining: 23.7ms\n",
      "992:\tlearn: 3.5078126\ttotal: 2.94s\tremaining: 20.7ms\n",
      "993:\tlearn: 3.5067085\ttotal: 2.94s\tremaining: 17.8ms\n",
      "994:\tlearn: 3.5051309\ttotal: 2.95s\tremaining: 14.8ms\n",
      "995:\tlearn: 3.5041318\ttotal: 2.95s\tremaining: 11.9ms\n",
      "996:\tlearn: 3.5020831\ttotal: 2.95s\tremaining: 8.89ms\n",
      "997:\tlearn: 3.5008551\ttotal: 2.96s\tremaining: 5.92ms\n",
      "998:\tlearn: 3.4994372\ttotal: 2.96s\tremaining: 2.96ms\n",
      "999:\tlearn: 3.4979792\ttotal: 2.96s\tremaining: 0us\n"
     ]
    }
   ],
   "source": [
    "# Создадим модель.\n",
    "model_cbr_final = CatBoostRegressor()\n",
    "\n",
    "# Обучим модель.\n",
    "model_cbr_final.fit(features_train, target_train_final)\n",
    "\n",
    "#Получим предсказания.\n",
    "predictions = model_cbr_final.predict(features_test)\n",
    "\n",
    "# Посчитаем sMAPE_rougher на тестовой выборке.\n",
    "best_f_score = sMAPE_final(target_test_final, predictions)"
   ]
  },
  {
   "cell_type": "code",
   "execution_count": 54,
   "metadata": {},
   "outputs": [
    {
     "name": "stdout",
     "output_type": "stream",
     "text": [
      "Лучшее значение sMAPE для модели CatBoostRegressor 7.23\n"
     ]
    }
   ],
   "source": [
    "# Посчитаем итоговую sMAPE на тестовой выборке.\n",
    "sMAPE = sMAPE_aggregate(best_r_score, best_f_score)\n",
    "print(f'Лучшее значение sMAPE для модели CatBoostRegressor {sMAPE:,.2f}')"
   ]
  },
  {
   "cell_type": "markdown",
   "metadata": {},
   "source": [
    "## Выводы"
   ]
  },
  {
   "cell_type": "markdown",
   "metadata": {},
   "source": [
    "Мы применили 4 модели обучения. Итоговые sMAPE на обучающих данных:\n",
    "- RandomForestRegressor - 8.44\n",
    "- DecisionTreeRegressor - 9.23\n",
    "- LinearRegression - 8.03\n",
    "- CatBoostRegressor - 3.42.  \n",
    "\n",
    "sMAPE константной модели на обучающей выборке - 7.37. Таким образом, все модели, кроме CatBoostRegressor показали худшие результаты, чем константная модель. \n",
    "\n",
    "На тестовых выборках модели показали следующие значения sMAPE:\n",
    "- RandomForestRegressor - 7.10 (незначительные различия с предсказаниями на обучающей выборке)\n",
    "- DecisionTreeRegressor - 7.99 (значительные различия с предсказания на обучающей выборке)\n",
    "- LinearRegression - 7.32 (незначительные различия с предсказаниями на обучающей выборке)\n",
    "- CatBoostRegressor - 7.23 (значительные различия с предсказаниями на обучающей выборке)  \n",
    "\n",
    "Наиболее убедительные результаты на тестовой выборке показала модель CatBoostRegressor. "
   ]
  },
  {
   "cell_type": "markdown",
   "metadata": {},
   "source": [
    "## Чек-лист готовности проекта"
   ]
  },
  {
   "cell_type": "markdown",
   "metadata": {},
   "source": [
    "- [x]  Jupyter Notebook открыт\n",
    "- [x]  Весь код выполняется без ошибок\n",
    "- [x]  Ячейки с кодом расположены в порядке выполнения\n",
    "- [x]  Выполнен шаг 1: данные подготовлены\n",
    "    - [x]  Проверена формула вычисления эффективности обогащения\n",
    "    - [x]  Проанализированы признаки, недоступные в тестовой выборке\n",
    "    - [x]  Проведена предобработка данных\n",
    "- [x]  Выполнен шаг 2: данные проанализированы\n",
    "    - [x]  Исследовано изменение концентрации элементов на каждом этапе\n",
    "    - [x]  Проанализированы распределения размеров гранул на обучающей и тестовой выборках\n",
    "    - [x]  Исследованы суммарные концентрации\n",
    "- [x]  Выполнен шаг 3: построена модель прогнозирования\n",
    "    - [x]  Написана функция для вычисления итогового *sMAPE*\n",
    "    - [x]  Обучено и проверено несколько моделей\n",
    "    - [x]  Выбрана лучшая модель, её качество проверено на тестовой выборке"
   ]
  }
 ],
 "metadata": {
  "ExecuteTimeLog": [
   {
    "duration": 749,
    "start_time": "2022-03-11T06:41:23.947Z"
   },
   {
    "duration": 844,
    "start_time": "2022-03-11T06:41:26.320Z"
   },
   {
    "duration": 48,
    "start_time": "2022-03-11T06:41:28.919Z"
   },
   {
    "duration": 47,
    "start_time": "2022-03-11T06:41:32.248Z"
   },
   {
    "duration": 31,
    "start_time": "2022-03-11T06:41:35.168Z"
   },
   {
    "duration": 5,
    "start_time": "2022-03-11T06:47:32.590Z"
   },
   {
    "duration": 7,
    "start_time": "2022-03-11T06:48:41.897Z"
   },
   {
    "duration": 7,
    "start_time": "2022-03-11T06:48:45.968Z"
   },
   {
    "duration": 764,
    "start_time": "2022-03-11T08:23:21.668Z"
   },
   {
    "duration": 5110,
    "start_time": "2022-03-11T08:23:27.022Z"
   },
   {
    "duration": 4,
    "start_time": "2022-03-11T08:23:43.023Z"
   },
   {
    "duration": 4011,
    "start_time": "2022-03-11T08:24:06.806Z"
   },
   {
    "duration": 5,
    "start_time": "2022-03-11T08:24:22.006Z"
   },
   {
    "duration": 6,
    "start_time": "2022-03-11T08:24:23.438Z"
   },
   {
    "duration": 3298,
    "start_time": "2022-03-11T08:24:27.894Z"
   },
   {
    "duration": 1540,
    "start_time": "2022-03-11T08:24:43.697Z"
   },
   {
    "duration": 3349,
    "start_time": "2022-03-11T08:24:45.240Z"
   },
   {
    "duration": 867,
    "start_time": "2022-03-11T08:24:48.592Z"
   },
   {
    "duration": 5,
    "start_time": "2022-03-11T08:24:59.733Z"
   },
   {
    "duration": 4,
    "start_time": "2022-03-11T08:39:48.575Z"
   },
   {
    "duration": 5,
    "start_time": "2022-03-11T08:39:59.434Z"
   },
   {
    "duration": 56,
    "start_time": "2022-03-11T08:40:21.314Z"
   },
   {
    "duration": 42,
    "start_time": "2022-03-11T08:42:53.489Z"
   },
   {
    "duration": 98,
    "start_time": "2022-03-11T08:43:27.034Z"
   },
   {
    "duration": 5,
    "start_time": "2022-03-11T08:43:32.514Z"
   },
   {
    "duration": 47,
    "start_time": "2022-03-11T08:43:51.315Z"
   },
   {
    "duration": 524,
    "start_time": "2022-03-11T08:44:10.809Z"
   },
   {
    "duration": 324,
    "start_time": "2022-03-11T08:45:17.185Z"
   },
   {
    "duration": 285,
    "start_time": "2022-03-11T08:45:27.138Z"
   },
   {
    "duration": 265,
    "start_time": "2022-03-11T08:46:17.952Z"
   },
   {
    "duration": 273,
    "start_time": "2022-03-11T08:46:45.480Z"
   },
   {
    "duration": 280,
    "start_time": "2022-03-11T08:47:01.961Z"
   },
   {
    "duration": 84,
    "start_time": "2022-03-11T08:47:24.329Z"
   },
   {
    "duration": 6,
    "start_time": "2022-03-11T08:47:28.088Z"
   },
   {
    "duration": 324,
    "start_time": "2022-03-11T08:48:37.976Z"
   },
   {
    "duration": 358,
    "start_time": "2022-03-11T08:48:54.633Z"
   },
   {
    "duration": 124,
    "start_time": "2022-03-11T08:58:09.548Z"
   },
   {
    "duration": 15,
    "start_time": "2022-03-11T08:59:01.878Z"
   },
   {
    "duration": 13,
    "start_time": "2022-03-11T08:59:27.157Z"
   },
   {
    "duration": 335,
    "start_time": "2022-03-11T09:00:36.422Z"
   },
   {
    "duration": 7195,
    "start_time": "2022-03-11T09:00:52.382Z"
   },
   {
    "duration": 28,
    "start_time": "2022-03-11T09:01:20.711Z"
   },
   {
    "duration": 15,
    "start_time": "2022-03-11T09:01:56.782Z"
   },
   {
    "duration": 6822,
    "start_time": "2022-03-11T09:02:10.582Z"
   },
   {
    "duration": 24,
    "start_time": "2022-03-11T09:02:20.486Z"
   },
   {
    "duration": 135,
    "start_time": "2022-03-11T09:02:38.342Z"
   },
   {
    "duration": 14,
    "start_time": "2022-03-11T09:02:43.901Z"
   },
   {
    "duration": 19,
    "start_time": "2022-03-11T09:03:30.598Z"
   },
   {
    "duration": 471,
    "start_time": "2022-03-11T09:05:46.789Z"
   },
   {
    "duration": 362,
    "start_time": "2022-03-11T09:06:14.174Z"
   },
   {
    "duration": 14,
    "start_time": "2022-03-11T09:08:49.389Z"
   },
   {
    "duration": 33969,
    "start_time": "2022-03-11T09:17:14.356Z"
   },
   {
    "duration": 4,
    "start_time": "2022-03-11T09:19:12.808Z"
   },
   {
    "duration": 4600,
    "start_time": "2022-03-11T09:20:06.704Z"
   },
   {
    "duration": 510,
    "start_time": "2022-03-11T09:20:50.648Z"
   },
   {
    "duration": 257,
    "start_time": "2022-03-11T09:21:31.168Z"
   },
   {
    "duration": 310,
    "start_time": "2022-03-11T09:21:50.154Z"
   },
   {
    "duration": -30,
    "start_time": "2022-03-11T09:21:50.497Z"
   },
   {
    "duration": -33,
    "start_time": "2022-03-11T09:21:50.502Z"
   },
   {
    "duration": -33,
    "start_time": "2022-03-11T09:21:50.503Z"
   },
   {
    "duration": -33,
    "start_time": "2022-03-11T09:21:50.504Z"
   },
   {
    "duration": -32,
    "start_time": "2022-03-11T09:21:50.505Z"
   },
   {
    "duration": 3,
    "start_time": "2022-03-11T09:22:08.175Z"
   },
   {
    "duration": 4,
    "start_time": "2022-03-11T09:22:16.097Z"
   },
   {
    "duration": 11,
    "start_time": "2022-03-11T09:22:16.104Z"
   },
   {
    "duration": 4127,
    "start_time": "2022-03-11T09:22:16.119Z"
   },
   {
    "duration": 833,
    "start_time": "2022-03-11T09:22:20.253Z"
   },
   {
    "duration": 16,
    "start_time": "2022-03-11T09:22:21.089Z"
   },
   {
    "duration": 515,
    "start_time": "2022-03-11T09:22:21.107Z"
   },
   {
    "duration": 6,
    "start_time": "2022-03-11T09:23:18.779Z"
   },
   {
    "duration": 19,
    "start_time": "2022-03-11T09:23:26.368Z"
   },
   {
    "duration": 24,
    "start_time": "2022-03-11T09:23:55.841Z"
   },
   {
    "duration": 5358,
    "start_time": "2022-03-11T09:25:37.369Z"
   },
   {
    "duration": 5,
    "start_time": "2022-03-11T09:26:04.076Z"
   },
   {
    "duration": 5,
    "start_time": "2022-03-11T09:26:04.084Z"
   },
   {
    "duration": 5,
    "start_time": "2022-03-11T09:26:04.092Z"
   },
   {
    "duration": 4168,
    "start_time": "2022-03-11T09:26:04.099Z"
   },
   {
    "duration": 1274,
    "start_time": "2022-03-11T09:26:08.270Z"
   },
   {
    "duration": 23,
    "start_time": "2022-03-11T09:26:09.547Z"
   },
   {
    "duration": 325,
    "start_time": "2022-03-11T10:21:19.254Z"
   },
   {
    "duration": 6385,
    "start_time": "2022-03-11T10:21:27.247Z"
   },
   {
    "duration": 874,
    "start_time": "2022-03-11T10:21:33.635Z"
   },
   {
    "duration": 30,
    "start_time": "2022-03-11T10:21:34.513Z"
   },
   {
    "duration": 1418,
    "start_time": "2022-03-13T20:07:03.307Z"
   },
   {
    "duration": 71,
    "start_time": "2022-03-13T20:07:17.027Z"
   },
   {
    "duration": 22820,
    "start_time": "2022-03-13T20:07:19.594Z"
   },
   {
    "duration": 5,
    "start_time": "2022-03-13T20:07:52.235Z"
   },
   {
    "duration": 8184,
    "start_time": "2022-03-13T20:09:18.003Z"
   },
   {
    "duration": 4,
    "start_time": "2022-03-13T20:09:32.747Z"
   },
   {
    "duration": 90007,
    "start_time": "2022-03-13T20:09:54.323Z"
   },
   {
    "duration": 9,
    "start_time": "2022-03-13T20:11:24.333Z"
   },
   {
    "duration": 12,
    "start_time": "2022-03-13T20:12:27.666Z"
   },
   {
    "duration": 5,
    "start_time": "2022-03-13T20:12:31.210Z"
   },
   {
    "duration": 89976,
    "start_time": "2022-03-13T20:13:31.682Z"
   },
   {
    "duration": 3,
    "start_time": "2022-03-13T20:15:11.610Z"
   },
   {
    "duration": 9,
    "start_time": "2022-03-13T20:15:15.570Z"
   },
   {
    "duration": 5,
    "start_time": "2022-03-13T20:15:20.699Z"
   },
   {
    "duration": 738,
    "start_time": "2022-03-13T20:15:26.973Z"
   },
   {
    "duration": 13,
    "start_time": "2022-03-13T20:15:29.836Z"
   },
   {
    "duration": 4,
    "start_time": "2022-03-13T20:15:43.826Z"
   },
   {
    "duration": 6,
    "start_time": "2022-03-13T20:15:46.778Z"
   },
   {
    "duration": 6,
    "start_time": "2022-03-13T20:15:50.338Z"
   },
   {
    "duration": 6,
    "start_time": "2022-03-13T20:15:58.754Z"
   },
   {
    "duration": 91,
    "start_time": "2022-03-13T20:16:06.739Z"
   },
   {
    "duration": 33,
    "start_time": "2022-03-13T20:16:09.778Z"
   },
   {
    "duration": 10,
    "start_time": "2022-03-13T20:16:15.058Z"
   },
   {
    "duration": 7,
    "start_time": "2022-03-13T20:16:30.378Z"
   },
   {
    "duration": 4,
    "start_time": "2022-03-13T20:16:36.786Z"
   },
   {
    "duration": 4,
    "start_time": "2022-03-13T20:16:39.706Z"
   },
   {
    "duration": 752,
    "start_time": "2022-03-13T20:16:42.266Z"
   },
   {
    "duration": 852,
    "start_time": "2022-03-13T20:16:47.803Z"
   },
   {
    "duration": 562,
    "start_time": "2022-03-13T20:16:57.418Z"
   },
   {
    "duration": 5,
    "start_time": "2022-03-13T20:17:09.179Z"
   },
   {
    "duration": 230,
    "start_time": "2022-03-13T20:17:12.290Z"
   },
   {
    "duration": 71188,
    "start_time": "2022-03-13T20:18:05.419Z"
   },
   {
    "duration": -23,
    "start_time": "2022-03-13T20:19:16.633Z"
   },
   {
    "duration": -24,
    "start_time": "2022-03-13T20:19:16.637Z"
   },
   {
    "duration": -31,
    "start_time": "2022-03-13T20:19:16.644Z"
   },
   {
    "duration": -32,
    "start_time": "2022-03-13T20:19:16.646Z"
   },
   {
    "duration": -37,
    "start_time": "2022-03-13T20:19:16.652Z"
   },
   {
    "duration": -39,
    "start_time": "2022-03-13T20:19:16.655Z"
   },
   {
    "duration": -40,
    "start_time": "2022-03-13T20:19:16.657Z"
   },
   {
    "duration": -42,
    "start_time": "2022-03-13T20:19:16.660Z"
   },
   {
    "duration": -43,
    "start_time": "2022-03-13T20:19:16.662Z"
   },
   {
    "duration": -45,
    "start_time": "2022-03-13T20:19:16.665Z"
   },
   {
    "duration": -46,
    "start_time": "2022-03-13T20:19:16.667Z"
   },
   {
    "duration": -58,
    "start_time": "2022-03-13T20:19:16.680Z"
   },
   {
    "duration": -64,
    "start_time": "2022-03-13T20:19:16.687Z"
   },
   {
    "duration": -67,
    "start_time": "2022-03-13T20:19:16.691Z"
   },
   {
    "duration": -68,
    "start_time": "2022-03-13T20:19:16.693Z"
   },
   {
    "duration": -69,
    "start_time": "2022-03-13T20:19:16.695Z"
   },
   {
    "duration": -70,
    "start_time": "2022-03-13T20:19:16.697Z"
   },
   {
    "duration": -71,
    "start_time": "2022-03-13T20:19:16.699Z"
   },
   {
    "duration": -73,
    "start_time": "2022-03-13T20:19:16.702Z"
   },
   {
    "duration": -74,
    "start_time": "2022-03-13T20:19:16.704Z"
   },
   {
    "duration": -77,
    "start_time": "2022-03-13T20:19:16.708Z"
   },
   {
    "duration": -79,
    "start_time": "2022-03-13T20:19:16.711Z"
   },
   {
    "duration": -80,
    "start_time": "2022-03-13T20:19:16.713Z"
   },
   {
    "duration": -81,
    "start_time": "2022-03-13T20:19:16.715Z"
   },
   {
    "duration": -85,
    "start_time": "2022-03-13T20:19:16.720Z"
   },
   {
    "duration": -87,
    "start_time": "2022-03-13T20:19:16.723Z"
   },
   {
    "duration": -89,
    "start_time": "2022-03-13T20:19:16.726Z"
   },
   {
    "duration": -91,
    "start_time": "2022-03-13T20:19:16.729Z"
   },
   {
    "duration": -92,
    "start_time": "2022-03-13T20:19:16.731Z"
   },
   {
    "duration": -94,
    "start_time": "2022-03-13T20:19:16.733Z"
   },
   {
    "duration": -95,
    "start_time": "2022-03-13T20:19:16.735Z"
   },
   {
    "duration": -16,
    "start_time": "2022-03-13T20:20:35.258Z"
   },
   {
    "duration": 1220,
    "start_time": "2022-03-13T20:20:42.715Z"
   },
   {
    "duration": 17754,
    "start_time": "2022-03-13T20:21:05.674Z"
   },
   {
    "duration": 2406,
    "start_time": "2022-03-13T20:21:30.682Z"
   },
   {
    "duration": 3,
    "start_time": "2022-03-13T20:21:41.714Z"
   },
   {
    "duration": 10,
    "start_time": "2022-03-13T20:21:55.774Z"
   },
   {
    "duration": 8,
    "start_time": "2022-03-13T20:21:55.786Z"
   },
   {
    "duration": 713,
    "start_time": "2022-03-13T20:21:55.796Z"
   },
   {
    "duration": 12,
    "start_time": "2022-03-13T20:21:56.511Z"
   },
   {
    "duration": 8,
    "start_time": "2022-03-13T20:21:56.525Z"
   },
   {
    "duration": 2,
    "start_time": "2022-03-13T20:21:56.538Z"
   },
   {
    "duration": 6,
    "start_time": "2022-03-13T20:21:56.541Z"
   },
   {
    "duration": 4,
    "start_time": "2022-03-13T20:21:56.550Z"
   },
   {
    "duration": 8,
    "start_time": "2022-03-13T20:21:56.556Z"
   },
   {
    "duration": 5,
    "start_time": "2022-03-13T20:21:56.566Z"
   },
   {
    "duration": 8,
    "start_time": "2022-03-13T20:21:56.573Z"
   },
   {
    "duration": 103,
    "start_time": "2022-03-13T20:21:56.582Z"
   },
   {
    "duration": 34,
    "start_time": "2022-03-13T20:21:56.687Z"
   },
   {
    "duration": 22,
    "start_time": "2022-03-13T20:21:56.723Z"
   },
   {
    "duration": 5,
    "start_time": "2022-03-13T20:21:56.748Z"
   },
   {
    "duration": 9,
    "start_time": "2022-03-13T20:21:56.755Z"
   },
   {
    "duration": 7,
    "start_time": "2022-03-13T20:21:56.765Z"
   },
   {
    "duration": 779,
    "start_time": "2022-03-13T20:21:56.774Z"
   },
   {
    "duration": 869,
    "start_time": "2022-03-13T20:21:57.555Z"
   },
   {
    "duration": 568,
    "start_time": "2022-03-13T20:21:58.425Z"
   },
   {
    "duration": 5,
    "start_time": "2022-03-13T20:21:58.994Z"
   },
   {
    "duration": 4102,
    "start_time": "2022-03-13T20:21:59.001Z"
   },
   {
    "duration": 16,
    "start_time": "2022-03-13T20:22:03.106Z"
   },
   {
    "duration": 14,
    "start_time": "2022-03-13T20:22:03.124Z"
   },
   {
    "duration": 46,
    "start_time": "2022-03-13T20:22:03.140Z"
   },
   {
    "duration": 13,
    "start_time": "2022-03-13T20:22:03.188Z"
   },
   {
    "duration": 13,
    "start_time": "2022-03-13T20:22:03.203Z"
   },
   {
    "duration": 42,
    "start_time": "2022-03-13T20:22:03.218Z"
   },
   {
    "duration": 4,
    "start_time": "2022-03-13T20:22:03.262Z"
   },
   {
    "duration": 10,
    "start_time": "2022-03-13T20:22:03.268Z"
   },
   {
    "duration": 2809190,
    "start_time": "2022-03-13T20:23:58.427Z"
   },
   {
    "duration": 3823,
    "start_time": "2022-03-13T21:10:47.619Z"
   },
   {
    "duration": 153,
    "start_time": "2022-03-13T21:10:51.445Z"
   },
   {
    "duration": -22,
    "start_time": "2022-03-13T21:10:51.622Z"
   },
   {
    "duration": -24,
    "start_time": "2022-03-13T21:10:51.625Z"
   },
   {
    "duration": -26,
    "start_time": "2022-03-13T21:10:51.628Z"
   },
   {
    "duration": 5,
    "start_time": "2022-03-13T21:11:08.541Z"
   },
   {
    "duration": 6,
    "start_time": "2022-03-13T21:11:11.265Z"
   },
   {
    "duration": 45479,
    "start_time": "2022-03-13T21:12:21.558Z"
   },
   {
    "duration": 488308,
    "start_time": "2022-03-13T21:13:34.478Z"
   },
   {
    "duration": 1180,
    "start_time": "2022-03-13T21:31:09.245Z"
   },
   {
    "duration": 11,
    "start_time": "2022-03-13T21:31:10.427Z"
   },
   {
    "duration": 748,
    "start_time": "2022-03-13T21:31:10.440Z"
   },
   {
    "duration": 13,
    "start_time": "2022-03-13T21:31:11.189Z"
   },
   {
    "duration": 5,
    "start_time": "2022-03-13T21:31:11.204Z"
   },
   {
    "duration": 6,
    "start_time": "2022-03-13T21:31:11.210Z"
   },
   {
    "duration": 7,
    "start_time": "2022-03-13T21:31:11.218Z"
   },
   {
    "duration": 13,
    "start_time": "2022-03-13T21:31:11.227Z"
   },
   {
    "duration": 8,
    "start_time": "2022-03-13T21:31:11.242Z"
   },
   {
    "duration": 6,
    "start_time": "2022-03-13T21:31:11.252Z"
   },
   {
    "duration": 6,
    "start_time": "2022-03-13T21:31:11.260Z"
   },
   {
    "duration": 111,
    "start_time": "2022-03-13T21:31:11.268Z"
   },
   {
    "duration": 36,
    "start_time": "2022-03-13T21:31:11.380Z"
   },
   {
    "duration": 23,
    "start_time": "2022-03-13T21:31:11.418Z"
   },
   {
    "duration": 7,
    "start_time": "2022-03-13T21:31:11.443Z"
   },
   {
    "duration": 11,
    "start_time": "2022-03-13T21:31:11.452Z"
   },
   {
    "duration": 19,
    "start_time": "2022-03-13T21:31:11.465Z"
   },
   {
    "duration": 768,
    "start_time": "2022-03-13T21:31:11.486Z"
   },
   {
    "duration": 891,
    "start_time": "2022-03-13T21:31:12.256Z"
   },
   {
    "duration": 594,
    "start_time": "2022-03-13T21:31:13.149Z"
   },
   {
    "duration": 4,
    "start_time": "2022-03-13T21:31:13.745Z"
   },
   {
    "duration": 4013,
    "start_time": "2022-03-13T21:31:13.751Z"
   },
   {
    "duration": 14,
    "start_time": "2022-03-13T21:31:17.769Z"
   },
   {
    "duration": 4,
    "start_time": "2022-03-13T21:31:17.786Z"
   },
   {
    "duration": 79,
    "start_time": "2022-03-13T21:31:17.792Z"
   },
   {
    "duration": 15,
    "start_time": "2022-03-13T21:31:17.873Z"
   },
   {
    "duration": 18,
    "start_time": "2022-03-13T21:31:17.890Z"
   },
   {
    "duration": 30,
    "start_time": "2022-03-13T21:31:17.910Z"
   },
   {
    "duration": 6,
    "start_time": "2022-03-13T21:31:17.942Z"
   },
   {
    "duration": 10,
    "start_time": "2022-03-13T21:31:17.950Z"
   },
   {
    "duration": 338807,
    "start_time": "2022-03-13T21:31:17.962Z"
   },
   {
    "duration": 3266,
    "start_time": "2022-03-13T21:36:56.771Z"
   },
   {
    "duration": 134,
    "start_time": "2022-03-13T21:37:00.039Z"
   },
   {
    "duration": -31,
    "start_time": "2022-03-13T21:37:00.206Z"
   },
   {
    "duration": -30,
    "start_time": "2022-03-13T21:37:00.207Z"
   },
   {
    "duration": -31,
    "start_time": "2022-03-13T21:37:00.209Z"
   },
   {
    "duration": -30,
    "start_time": "2022-03-13T21:37:00.210Z"
   },
   {
    "duration": -32,
    "start_time": "2022-03-13T21:37:00.213Z"
   },
   {
    "duration": -32,
    "start_time": "2022-03-13T21:37:00.214Z"
   },
   {
    "duration": -32,
    "start_time": "2022-03-13T21:37:00.216Z"
   },
   {
    "duration": -32,
    "start_time": "2022-03-13T21:37:00.217Z"
   },
   {
    "duration": -32,
    "start_time": "2022-03-13T21:37:00.218Z"
   },
   {
    "duration": 53656,
    "start_time": "2022-03-13T21:37:27.867Z"
   },
   {
    "duration": 36314,
    "start_time": "2022-03-13T21:38:30.392Z"
   },
   {
    "duration": 284334,
    "start_time": "2022-03-13T21:39:08.482Z"
   },
   {
    "duration": 4400,
    "start_time": "2022-03-13T21:51:07.273Z"
   },
   {
    "duration": 134,
    "start_time": "2022-03-13T21:51:25.861Z"
   },
   {
    "duration": 8,
    "start_time": "2022-03-13T21:51:37.038Z"
   },
   {
    "duration": 1134,
    "start_time": "2022-03-13T21:52:34.453Z"
   },
   {
    "duration": 2,
    "start_time": "2022-03-13T21:52:35.589Z"
   },
   {
    "duration": 745,
    "start_time": "2022-03-13T21:52:35.593Z"
   },
   {
    "duration": 12,
    "start_time": "2022-03-13T21:52:36.340Z"
   },
   {
    "duration": 5,
    "start_time": "2022-03-13T21:52:36.353Z"
   },
   {
    "duration": 50,
    "start_time": "2022-03-13T21:52:36.359Z"
   },
   {
    "duration": 11,
    "start_time": "2022-03-13T21:52:36.411Z"
   },
   {
    "duration": 6,
    "start_time": "2022-03-13T21:52:36.423Z"
   },
   {
    "duration": 6,
    "start_time": "2022-03-13T21:52:36.431Z"
   },
   {
    "duration": 4,
    "start_time": "2022-03-13T21:52:36.439Z"
   },
   {
    "duration": 5,
    "start_time": "2022-03-13T21:52:36.445Z"
   },
   {
    "duration": 86,
    "start_time": "2022-03-13T21:52:36.452Z"
   },
   {
    "duration": 32,
    "start_time": "2022-03-13T21:52:36.540Z"
   },
   {
    "duration": 9,
    "start_time": "2022-03-13T21:52:36.574Z"
   },
   {
    "duration": 7,
    "start_time": "2022-03-13T21:52:36.585Z"
   },
   {
    "duration": 12,
    "start_time": "2022-03-13T21:52:36.593Z"
   },
   {
    "duration": 9,
    "start_time": "2022-03-13T21:52:36.606Z"
   },
   {
    "duration": 751,
    "start_time": "2022-03-13T21:52:36.616Z"
   },
   {
    "duration": 821,
    "start_time": "2022-03-13T21:52:37.369Z"
   },
   {
    "duration": 549,
    "start_time": "2022-03-13T21:52:38.192Z"
   },
   {
    "duration": 4,
    "start_time": "2022-03-13T21:52:38.742Z"
   },
   {
    "duration": 3887,
    "start_time": "2022-03-13T21:52:38.747Z"
   },
   {
    "duration": 13,
    "start_time": "2022-03-13T21:52:42.636Z"
   },
   {
    "duration": 5,
    "start_time": "2022-03-13T21:52:42.651Z"
   },
   {
    "duration": 44,
    "start_time": "2022-03-13T21:52:42.657Z"
   },
   {
    "duration": 11,
    "start_time": "2022-03-13T21:52:42.703Z"
   },
   {
    "duration": 7,
    "start_time": "2022-03-13T21:52:42.738Z"
   },
   {
    "duration": 29,
    "start_time": "2022-03-13T21:52:42.747Z"
   },
   {
    "duration": 5,
    "start_time": "2022-03-13T21:52:42.777Z"
   },
   {
    "duration": 12,
    "start_time": "2022-03-13T21:52:42.783Z"
   },
   {
    "duration": 45678,
    "start_time": "2022-03-13T21:52:42.797Z"
   },
   {
    "duration": 1332,
    "start_time": "2022-03-13T21:55:26.280Z"
   },
   {
    "duration": 2,
    "start_time": "2022-03-13T21:55:27.614Z"
   },
   {
    "duration": 728,
    "start_time": "2022-03-13T21:55:27.618Z"
   },
   {
    "duration": 12,
    "start_time": "2022-03-13T21:55:28.347Z"
   },
   {
    "duration": 6,
    "start_time": "2022-03-13T21:55:28.360Z"
   },
   {
    "duration": 6,
    "start_time": "2022-03-13T21:55:28.367Z"
   },
   {
    "duration": 5,
    "start_time": "2022-03-13T21:55:28.374Z"
   },
   {
    "duration": 8,
    "start_time": "2022-03-13T21:55:28.381Z"
   },
   {
    "duration": 7,
    "start_time": "2022-03-13T21:55:28.392Z"
   },
   {
    "duration": 5,
    "start_time": "2022-03-13T21:55:28.401Z"
   },
   {
    "duration": 5,
    "start_time": "2022-03-13T21:55:28.407Z"
   },
   {
    "duration": 99,
    "start_time": "2022-03-13T21:55:28.413Z"
   },
   {
    "duration": 41,
    "start_time": "2022-03-13T21:55:28.514Z"
   },
   {
    "duration": 9,
    "start_time": "2022-03-13T21:55:28.557Z"
   },
   {
    "duration": 5,
    "start_time": "2022-03-13T21:55:28.568Z"
   },
   {
    "duration": 16,
    "start_time": "2022-03-13T21:55:28.575Z"
   },
   {
    "duration": 7,
    "start_time": "2022-03-13T21:55:28.593Z"
   },
   {
    "duration": 743,
    "start_time": "2022-03-13T21:55:28.602Z"
   },
   {
    "duration": 854,
    "start_time": "2022-03-13T21:55:29.347Z"
   },
   {
    "duration": 588,
    "start_time": "2022-03-13T21:55:30.203Z"
   },
   {
    "duration": 4,
    "start_time": "2022-03-13T21:55:30.792Z"
   },
   {
    "duration": 3900,
    "start_time": "2022-03-13T21:55:30.798Z"
   },
   {
    "duration": 13,
    "start_time": "2022-03-13T21:55:34.700Z"
   },
   {
    "duration": 3,
    "start_time": "2022-03-13T21:55:34.715Z"
   },
   {
    "duration": 58,
    "start_time": "2022-03-13T21:55:34.719Z"
   },
   {
    "duration": 12,
    "start_time": "2022-03-13T21:55:34.779Z"
   },
   {
    "duration": 8,
    "start_time": "2022-03-13T21:55:34.794Z"
   },
   {
    "duration": 42,
    "start_time": "2022-03-13T21:55:34.804Z"
   },
   {
    "duration": 4,
    "start_time": "2022-03-13T21:55:34.848Z"
   },
   {
    "duration": 10,
    "start_time": "2022-03-13T21:55:34.853Z"
   },
   {
    "duration": 281886,
    "start_time": "2022-03-13T21:55:34.864Z"
   },
   {
    "duration": 21501,
    "start_time": "2022-03-13T22:00:16.752Z"
   },
   {
    "duration": 132,
    "start_time": "2022-03-13T22:00:38.255Z"
   },
   {
    "duration": -25,
    "start_time": "2022-03-13T22:00:38.414Z"
   },
   {
    "duration": -25,
    "start_time": "2022-03-13T22:00:38.415Z"
   },
   {
    "duration": -26,
    "start_time": "2022-03-13T22:00:38.417Z"
   },
   {
    "duration": -26,
    "start_time": "2022-03-13T22:00:38.418Z"
   },
   {
    "duration": -27,
    "start_time": "2022-03-13T22:00:38.420Z"
   },
   {
    "duration": -28,
    "start_time": "2022-03-13T22:00:38.422Z"
   },
   {
    "duration": -29,
    "start_time": "2022-03-13T22:00:38.424Z"
   },
   {
    "duration": -30,
    "start_time": "2022-03-13T22:00:38.425Z"
   },
   {
    "duration": -30,
    "start_time": "2022-03-13T22:00:38.426Z"
   },
   {
    "duration": -29,
    "start_time": "2022-03-13T22:00:38.428Z"
   },
   {
    "duration": 5,
    "start_time": "2022-03-13T22:01:00.426Z"
   },
   {
    "duration": 11526,
    "start_time": "2022-03-13T22:52:02.097Z"
   },
   {
    "duration": 1550,
    "start_time": "2022-03-14T05:09:12.083Z"
   },
   {
    "duration": 4,
    "start_time": "2022-03-14T05:09:13.635Z"
   },
   {
    "duration": 876,
    "start_time": "2022-03-14T05:09:13.642Z"
   },
   {
    "duration": 30,
    "start_time": "2022-03-14T05:09:14.521Z"
   },
   {
    "duration": 3,
    "start_time": "2022-03-14T05:09:14.553Z"
   },
   {
    "duration": 5,
    "start_time": "2022-03-14T05:09:14.559Z"
   },
   {
    "duration": 5,
    "start_time": "2022-03-14T05:09:14.567Z"
   },
   {
    "duration": 14,
    "start_time": "2022-03-14T05:09:14.574Z"
   },
   {
    "duration": 12,
    "start_time": "2022-03-14T05:09:14.592Z"
   },
   {
    "duration": 6,
    "start_time": "2022-03-14T05:09:14.607Z"
   },
   {
    "duration": 7,
    "start_time": "2022-03-14T05:09:14.652Z"
   },
   {
    "duration": 116,
    "start_time": "2022-03-14T05:09:14.661Z"
   },
   {
    "duration": 38,
    "start_time": "2022-03-14T05:09:14.780Z"
   },
   {
    "duration": 31,
    "start_time": "2022-03-14T05:09:14.821Z"
   },
   {
    "duration": 9,
    "start_time": "2022-03-14T05:09:14.854Z"
   },
   {
    "duration": 8,
    "start_time": "2022-03-14T05:09:14.866Z"
   },
   {
    "duration": 12,
    "start_time": "2022-03-14T05:09:14.876Z"
   },
   {
    "duration": 1353,
    "start_time": "2022-03-14T05:09:14.890Z"
   },
   {
    "duration": 1306,
    "start_time": "2022-03-14T05:09:16.245Z"
   },
   {
    "duration": 881,
    "start_time": "2022-03-14T05:09:17.553Z"
   },
   {
    "duration": 15,
    "start_time": "2022-03-14T05:09:18.437Z"
   },
   {
    "duration": 672,
    "start_time": "2022-03-14T05:09:18.454Z"
   },
   {
    "duration": -25,
    "start_time": "2022-03-14T05:09:19.154Z"
   },
   {
    "duration": -26,
    "start_time": "2022-03-14T05:09:19.157Z"
   },
   {
    "duration": -26,
    "start_time": "2022-03-14T05:09:19.159Z"
   },
   {
    "duration": -25,
    "start_time": "2022-03-14T05:09:19.160Z"
   },
   {
    "duration": -24,
    "start_time": "2022-03-14T05:09:19.161Z"
   },
   {
    "duration": -24,
    "start_time": "2022-03-14T05:09:19.163Z"
   },
   {
    "duration": -24,
    "start_time": "2022-03-14T05:09:19.164Z"
   },
   {
    "duration": -26,
    "start_time": "2022-03-14T05:09:19.168Z"
   },
   {
    "duration": -25,
    "start_time": "2022-03-14T05:09:19.169Z"
   },
   {
    "duration": -24,
    "start_time": "2022-03-14T05:09:19.170Z"
   },
   {
    "duration": -24,
    "start_time": "2022-03-14T05:09:19.171Z"
   },
   {
    "duration": -24,
    "start_time": "2022-03-14T05:09:19.173Z"
   },
   {
    "duration": -23,
    "start_time": "2022-03-14T05:09:19.174Z"
   },
   {
    "duration": -24,
    "start_time": "2022-03-14T05:09:19.176Z"
   },
   {
    "duration": -27,
    "start_time": "2022-03-14T05:09:19.181Z"
   },
   {
    "duration": -27,
    "start_time": "2022-03-14T05:09:19.182Z"
   },
   {
    "duration": -26,
    "start_time": "2022-03-14T05:09:19.183Z"
   },
   {
    "duration": -27,
    "start_time": "2022-03-14T05:09:19.185Z"
   },
   {
    "duration": -28,
    "start_time": "2022-03-14T05:09:19.188Z"
   },
   {
    "duration": -28,
    "start_time": "2022-03-14T05:09:19.190Z"
   },
   {
    "duration": 5040,
    "start_time": "2022-03-14T05:10:23.778Z"
   },
   {
    "duration": 530,
    "start_time": "2022-03-14T05:10:53.413Z"
   },
   {
    "duration": 516,
    "start_time": "2022-03-14T05:10:58.844Z"
   },
   {
    "duration": 5,
    "start_time": "2022-03-14T05:11:08.557Z"
   },
   {
    "duration": 3,
    "start_time": "2022-03-14T05:11:15.705Z"
   },
   {
    "duration": 3754,
    "start_time": "2022-03-14T05:11:20.061Z"
   },
   {
    "duration": 6,
    "start_time": "2022-03-14T05:11:38.765Z"
   },
   {
    "duration": 3892,
    "start_time": "2022-03-14T05:11:51.565Z"
   },
   {
    "duration": 6,
    "start_time": "2022-03-14T05:12:06.989Z"
   },
   {
    "duration": 13,
    "start_time": "2022-03-14T05:12:15.588Z"
   },
   {
    "duration": 5,
    "start_time": "2022-03-14T05:12:19.140Z"
   },
   {
    "duration": 1491,
    "start_time": "2022-03-14T05:12:35.672Z"
   },
   {
    "duration": 3186,
    "start_time": "2022-03-14T05:12:37.166Z"
   },
   {
    "duration": 843,
    "start_time": "2022-03-14T05:12:40.359Z"
   },
   {
    "duration": 15,
    "start_time": "2022-03-14T05:12:41.205Z"
   },
   {
    "duration": 6,
    "start_time": "2022-03-14T05:12:41.222Z"
   },
   {
    "duration": 5,
    "start_time": "2022-03-14T05:12:41.230Z"
   },
   {
    "duration": 3,
    "start_time": "2022-03-14T05:12:41.252Z"
   },
   {
    "duration": 5,
    "start_time": "2022-03-14T05:12:41.259Z"
   },
   {
    "duration": 10,
    "start_time": "2022-03-14T05:12:41.267Z"
   },
   {
    "duration": 7,
    "start_time": "2022-03-14T05:12:41.280Z"
   },
   {
    "duration": 10,
    "start_time": "2022-03-14T05:12:41.290Z"
   },
   {
    "duration": 128,
    "start_time": "2022-03-14T05:12:41.302Z"
   },
   {
    "duration": 52,
    "start_time": "2022-03-14T05:12:41.433Z"
   },
   {
    "duration": 12,
    "start_time": "2022-03-14T05:12:41.487Z"
   },
   {
    "duration": 8,
    "start_time": "2022-03-14T05:12:41.501Z"
   },
   {
    "duration": 5,
    "start_time": "2022-03-14T05:12:41.512Z"
   },
   {
    "duration": 33,
    "start_time": "2022-03-14T05:12:41.520Z"
   },
   {
    "duration": 1231,
    "start_time": "2022-03-14T05:12:41.556Z"
   },
   {
    "duration": 1246,
    "start_time": "2022-03-14T05:12:42.789Z"
   },
   {
    "duration": 818,
    "start_time": "2022-03-14T05:12:44.037Z"
   },
   {
    "duration": 6,
    "start_time": "2022-03-14T05:12:44.857Z"
   },
   {
    "duration": 5691,
    "start_time": "2022-03-14T05:12:44.865Z"
   },
   {
    "duration": 19,
    "start_time": "2022-03-14T05:12:50.558Z"
   },
   {
    "duration": 4,
    "start_time": "2022-03-14T05:12:50.580Z"
   },
   {
    "duration": 91,
    "start_time": "2022-03-14T05:12:50.587Z"
   },
   {
    "duration": 16,
    "start_time": "2022-03-14T05:12:50.683Z"
   },
   {
    "duration": 11,
    "start_time": "2022-03-14T05:12:50.702Z"
   },
   {
    "duration": 46,
    "start_time": "2022-03-14T05:12:50.716Z"
   },
   {
    "duration": 6,
    "start_time": "2022-03-14T05:12:50.765Z"
   },
   {
    "duration": 12,
    "start_time": "2022-03-14T05:12:50.773Z"
   },
   {
    "duration": 4657138,
    "start_time": "2022-03-14T05:12:50.787Z"
   },
   {
    "duration": 289,
    "start_time": "2022-03-14T06:59:52.527Z"
   },
   {
    "duration": -34,
    "start_time": "2022-03-14T06:59:52.855Z"
   },
   {
    "duration": -33,
    "start_time": "2022-03-14T06:59:52.856Z"
   },
   {
    "duration": -31,
    "start_time": "2022-03-14T06:59:52.857Z"
   },
   {
    "duration": -31,
    "start_time": "2022-03-14T06:59:52.859Z"
   },
   {
    "duration": -29,
    "start_time": "2022-03-14T06:59:52.860Z"
   },
   {
    "duration": -28,
    "start_time": "2022-03-14T06:59:52.861Z"
   },
   {
    "duration": -27,
    "start_time": "2022-03-14T06:59:52.863Z"
   },
   {
    "duration": -27,
    "start_time": "2022-03-14T06:59:52.865Z"
   },
   {
    "duration": -26,
    "start_time": "2022-03-14T06:59:52.866Z"
   },
   {
    "duration": -25,
    "start_time": "2022-03-14T06:59:52.867Z"
   },
   {
    "duration": 1517,
    "start_time": "2022-03-14T07:00:30.436Z"
   },
   {
    "duration": 1657,
    "start_time": "2022-03-14T07:00:49.396Z"
   },
   {
    "duration": 4,
    "start_time": "2022-03-14T07:01:09.868Z"
   },
   {
    "duration": 4,
    "start_time": "2022-03-14T07:01:17.948Z"
   },
   {
    "duration": 476,
    "start_time": "2022-03-14T07:02:16.285Z"
   },
   {
    "duration": 414,
    "start_time": "2022-03-14T07:08:07.139Z"
   },
   {
    "duration": 477,
    "start_time": "2022-03-14T07:08:20.275Z"
   },
   {
    "duration": 52,
    "start_time": "2022-03-14T07:09:00.955Z"
   },
   {
    "duration": 364,
    "start_time": "2022-03-14T07:09:50.389Z"
   },
   {
    "duration": 7,
    "start_time": "2022-03-14T07:10:20.082Z"
   },
   {
    "duration": 357,
    "start_time": "2022-03-14T07:10:31.498Z"
   },
   {
    "duration": 531,
    "start_time": "2022-03-14T07:11:06.223Z"
   },
   {
    "duration": 583,
    "start_time": "2022-03-14T07:15:29.570Z"
   },
   {
    "duration": 422,
    "start_time": "2022-03-14T07:15:57.138Z"
   },
   {
    "duration": 6,
    "start_time": "2022-03-14T07:16:23.474Z"
   },
   {
    "duration": 505,
    "start_time": "2022-03-14T07:16:32.458Z"
   },
   {
    "duration": 543,
    "start_time": "2022-03-14T07:21:29.513Z"
   },
   {
    "duration": 639,
    "start_time": "2022-03-14T07:21:55.712Z"
   },
   {
    "duration": 680,
    "start_time": "2022-03-14T07:22:23.873Z"
   },
   {
    "duration": 599,
    "start_time": "2022-03-14T07:22:44.354Z"
   },
   {
    "duration": 524,
    "start_time": "2022-03-14T07:23:07.336Z"
   },
   {
    "duration": 7,
    "start_time": "2022-03-14T07:23:48.966Z"
   },
   {
    "duration": 6,
    "start_time": "2022-03-14T07:23:54.652Z"
   },
   {
    "duration": 515,
    "start_time": "2022-03-14T07:24:23.738Z"
   },
   {
    "duration": 6,
    "start_time": "2022-03-14T07:24:35.256Z"
   },
   {
    "duration": 4,
    "start_time": "2022-03-14T07:24:57.649Z"
   },
   {
    "duration": 5,
    "start_time": "2022-03-14T07:26:53.528Z"
   },
   {
    "duration": 553,
    "start_time": "2022-03-14T07:32:45.609Z"
   },
   {
    "duration": 1527,
    "start_time": "2022-03-14T07:40:08.670Z"
   },
   {
    "duration": 3418,
    "start_time": "2022-03-14T07:40:10.200Z"
   },
   {
    "duration": 909,
    "start_time": "2022-03-14T07:40:13.625Z"
   },
   {
    "duration": 21,
    "start_time": "2022-03-14T07:40:14.536Z"
   },
   {
    "duration": 3,
    "start_time": "2022-03-14T07:40:14.559Z"
   },
   {
    "duration": 5,
    "start_time": "2022-03-14T07:40:14.564Z"
   },
   {
    "duration": 4,
    "start_time": "2022-03-14T07:40:14.573Z"
   },
   {
    "duration": 5,
    "start_time": "2022-03-14T07:40:14.579Z"
   },
   {
    "duration": 12,
    "start_time": "2022-03-14T07:40:14.586Z"
   },
   {
    "duration": 7,
    "start_time": "2022-03-14T07:40:14.600Z"
   },
   {
    "duration": 7,
    "start_time": "2022-03-14T07:40:14.653Z"
   },
   {
    "duration": 113,
    "start_time": "2022-03-14T07:40:14.662Z"
   },
   {
    "duration": 39,
    "start_time": "2022-03-14T07:40:14.777Z"
   },
   {
    "duration": 32,
    "start_time": "2022-03-14T07:40:14.819Z"
   },
   {
    "duration": 9,
    "start_time": "2022-03-14T07:40:14.854Z"
   },
   {
    "duration": 10,
    "start_time": "2022-03-14T07:40:14.865Z"
   },
   {
    "duration": 6,
    "start_time": "2022-03-14T07:40:14.877Z"
   },
   {
    "duration": 1196,
    "start_time": "2022-03-14T07:40:14.885Z"
   },
   {
    "duration": 1300,
    "start_time": "2022-03-14T07:40:16.083Z"
   },
   {
    "duration": 883,
    "start_time": "2022-03-14T07:40:17.386Z"
   },
   {
    "duration": 6,
    "start_time": "2022-03-14T07:40:18.272Z"
   },
   {
    "duration": 6341,
    "start_time": "2022-03-14T07:40:18.283Z"
   },
   {
    "duration": 28,
    "start_time": "2022-03-14T07:40:24.626Z"
   },
   {
    "duration": 4,
    "start_time": "2022-03-14T07:40:24.656Z"
   },
   {
    "duration": 57,
    "start_time": "2022-03-14T07:40:24.662Z"
   },
   {
    "duration": 46,
    "start_time": "2022-03-14T07:40:24.721Z"
   },
   {
    "duration": 9,
    "start_time": "2022-03-14T07:40:24.770Z"
   },
   {
    "duration": 22,
    "start_time": "2022-03-14T07:40:24.782Z"
   },
   {
    "duration": 6,
    "start_time": "2022-03-14T07:40:24.809Z"
   },
   {
    "duration": 42,
    "start_time": "2022-03-14T07:40:24.818Z"
   },
   {
    "duration": 83385,
    "start_time": "2022-03-14T07:40:24.862Z"
   },
   {
    "duration": 761637,
    "start_time": "2022-03-14T07:41:48.249Z"
   },
   {
    "duration": 333,
    "start_time": "2022-03-14T07:54:29.889Z"
   },
   {
    "duration": -26,
    "start_time": "2022-03-14T07:54:30.251Z"
   },
   {
    "duration": -30,
    "start_time": "2022-03-14T07:54:30.256Z"
   },
   {
    "duration": -30,
    "start_time": "2022-03-14T07:54:30.258Z"
   },
   {
    "duration": -30,
    "start_time": "2022-03-14T07:54:30.259Z"
   },
   {
    "duration": -31,
    "start_time": "2022-03-14T07:54:30.261Z"
   },
   {
    "duration": -31,
    "start_time": "2022-03-14T07:54:30.262Z"
   },
   {
    "duration": -31,
    "start_time": "2022-03-14T07:54:30.264Z"
   },
   {
    "duration": -30,
    "start_time": "2022-03-14T07:54:30.265Z"
   },
   {
    "duration": -30,
    "start_time": "2022-03-14T07:54:30.266Z"
   },
   {
    "duration": -30,
    "start_time": "2022-03-14T07:54:30.267Z"
   },
   {
    "duration": -30,
    "start_time": "2022-03-14T07:54:30.268Z"
   },
   {
    "duration": -30,
    "start_time": "2022-03-14T07:54:30.270Z"
   },
   {
    "duration": -30,
    "start_time": "2022-03-14T07:54:30.271Z"
   },
   {
    "duration": -29,
    "start_time": "2022-03-14T07:54:30.276Z"
   },
   {
    "duration": 293,
    "start_time": "2022-03-14T07:54:44.105Z"
   },
   {
    "duration": 45863,
    "start_time": "2022-03-14T07:55:18.569Z"
   },
   {
    "duration": 1397,
    "start_time": "2022-03-14T07:56:04.435Z"
   },
   {
    "duration": 97039,
    "start_time": "2022-03-14T07:56:11.154Z"
   },
   {
    "duration": 93853,
    "start_time": "2022-03-14T07:59:30.952Z"
   },
   {
    "duration": 5452,
    "start_time": "2022-03-14T08:01:40.653Z"
   },
   {
    "duration": 95000,
    "start_time": "2022-03-14T08:02:14.671Z"
   },
   {
    "duration": 356,
    "start_time": "2022-03-14T08:04:29.518Z"
   },
   {
    "duration": 3,
    "start_time": "2022-03-14T08:13:31.529Z"
   },
   {
    "duration": 1472782,
    "start_time": "2022-03-14T08:14:42.975Z"
   },
   {
    "duration": -50,
    "start_time": "2022-03-14T08:39:15.810Z"
   },
   {
    "duration": -50,
    "start_time": "2022-03-14T08:39:15.812Z"
   },
   {
    "duration": 6,
    "start_time": "2022-03-14T08:41:07.362Z"
   },
   {
    "duration": 72815,
    "start_time": "2022-03-14T08:41:40.394Z"
   },
   {
    "duration": 396746,
    "start_time": "2022-03-14T08:42:53.212Z"
   },
   {
    "duration": 4,
    "start_time": "2022-03-14T08:49:29.961Z"
   },
   {
    "duration": 33208,
    "start_time": "2022-03-14T08:51:16.720Z"
   },
   {
    "duration": -29,
    "start_time": "2022-03-14T09:11:25.658Z"
   },
   {
    "duration": -34,
    "start_time": "2022-03-14T09:11:25.665Z"
   },
   {
    "duration": 110,
    "start_time": "2022-03-14T09:12:08.193Z"
   },
   {
    "duration": 581,
    "start_time": "2022-03-14T09:12:11.535Z"
   },
   {
    "duration": 5,
    "start_time": "2022-03-14T09:12:17.208Z"
   },
   {
    "duration": 1795,
    "start_time": "2022-03-14T09:13:23.456Z"
   },
   {
    "duration": 1630,
    "start_time": "2022-03-14T09:14:05.322Z"
   },
   {
    "duration": 5,
    "start_time": "2022-03-14T09:14:10.488Z"
   },
   {
    "duration": 588,
    "start_time": "2022-03-14T09:16:22.472Z"
   },
   {
    "duration": 5,
    "start_time": "2022-03-14T09:21:54.016Z"
   },
   {
    "duration": -24,
    "start_time": "2022-03-14T09:47:40.076Z"
   },
   {
    "duration": 3619,
    "start_time": "2022-03-14T09:48:44.050Z"
   },
   {
    "duration": 463,
    "start_time": "2022-03-14T09:53:30.971Z"
   },
   {
    "duration": 14,
    "start_time": "2022-03-14T09:53:55.874Z"
   },
   {
    "duration": 361,
    "start_time": "2022-03-14T09:54:03.483Z"
   },
   {
    "duration": 77940,
    "start_time": "2022-03-14T09:54:25.196Z"
   },
   {
    "duration": -17,
    "start_time": "2022-03-14T09:55:43.157Z"
   },
   {
    "duration": -22,
    "start_time": "2022-03-14T09:55:43.164Z"
   },
   {
    "duration": 77181,
    "start_time": "2022-03-14T09:56:51.122Z"
   },
   {
    "duration": 76291,
    "start_time": "2022-03-14T09:58:08.305Z"
   },
   {
    "duration": 5,
    "start_time": "2022-03-14T09:59:24.600Z"
   },
   {
    "duration": 76184,
    "start_time": "2022-03-14T10:07:10.193Z"
   },
   {
    "duration": -14,
    "start_time": "2022-03-14T10:08:26.394Z"
   },
   {
    "duration": -19,
    "start_time": "2022-03-14T10:08:26.400Z"
   },
   {
    "duration": 79511,
    "start_time": "2022-03-14T10:08:50.504Z"
   },
   {
    "duration": 77258,
    "start_time": "2022-03-14T10:10:10.018Z"
   },
   {
    "duration": 5,
    "start_time": "2022-03-14T10:11:27.279Z"
   },
   {
    "duration": 1124,
    "start_time": "2022-03-15T06:39:17.925Z"
   },
   {
    "duration": 51216,
    "start_time": "2022-03-15T06:39:30.205Z"
   },
   {
    "duration": 2,
    "start_time": "2022-03-15T06:40:21.423Z"
   },
   {
    "duration": 705,
    "start_time": "2022-03-15T06:40:21.427Z"
   },
   {
    "duration": 13,
    "start_time": "2022-03-15T06:40:22.134Z"
   },
   {
    "duration": 3,
    "start_time": "2022-03-15T06:42:42.645Z"
   },
   {
    "duration": 7,
    "start_time": "2022-03-15T06:42:42.650Z"
   },
   {
    "duration": 6,
    "start_time": "2022-03-15T06:42:42.659Z"
   },
   {
    "duration": 4,
    "start_time": "2022-03-15T06:43:07.455Z"
   },
   {
    "duration": 62,
    "start_time": "2022-03-15T06:44:36.756Z"
   },
   {
    "duration": 28,
    "start_time": "2022-03-15T06:45:07.349Z"
   },
   {
    "duration": 8,
    "start_time": "2022-03-15T06:45:09.703Z"
   },
   {
    "duration": 106,
    "start_time": "2022-03-15T06:45:52.534Z"
   },
   {
    "duration": 8,
    "start_time": "2022-03-15T06:46:02.139Z"
   },
   {
    "duration": 9,
    "start_time": "2022-03-15T06:46:35.004Z"
   },
   {
    "duration": 5,
    "start_time": "2022-03-15T06:48:43.149Z"
   },
   {
    "duration": 4,
    "start_time": "2022-03-15T06:48:44.569Z"
   },
   {
    "duration": 4,
    "start_time": "2022-03-15T06:48:45.185Z"
   },
   {
    "duration": 710,
    "start_time": "2022-03-15T06:48:45.784Z"
   },
   {
    "duration": 747,
    "start_time": "2022-03-15T06:48:46.495Z"
   },
   {
    "duration": 469,
    "start_time": "2022-03-15T06:48:48.301Z"
   },
   {
    "duration": 4,
    "start_time": "2022-03-15T06:48:50.572Z"
   },
   {
    "duration": 631,
    "start_time": "2022-03-15T06:48:51.038Z"
   },
   {
    "duration": 13,
    "start_time": "2022-03-15T06:48:52.714Z"
   },
   {
    "duration": 3,
    "start_time": "2022-03-15T06:48:53.289Z"
   },
   {
    "duration": 36,
    "start_time": "2022-03-15T06:48:54.077Z"
   },
   {
    "duration": 12,
    "start_time": "2022-03-15T06:48:54.785Z"
   },
   {
    "duration": 8,
    "start_time": "2022-03-15T06:53:43.002Z"
   },
   {
    "duration": 16,
    "start_time": "2022-03-15T06:53:43.580Z"
   },
   {
    "duration": 4,
    "start_time": "2022-03-15T06:54:21.744Z"
   },
   {
    "duration": 5,
    "start_time": "2022-03-15T06:55:47.332Z"
   },
   {
    "duration": 52381,
    "start_time": "2022-03-15T06:56:50.564Z"
   },
   {
    "duration": 294551,
    "start_time": "2022-03-15T06:57:42.946Z"
   },
   {
    "duration": 3,
    "start_time": "2022-03-15T07:02:37.498Z"
   },
   {
    "duration": 76,
    "start_time": "2022-03-15T07:03:50.051Z"
   },
   {
    "duration": 489,
    "start_time": "2022-03-15T07:03:51.468Z"
   },
   {
    "duration": 3,
    "start_time": "2022-03-15T07:03:53.454Z"
   },
   {
    "duration": 1596,
    "start_time": "2022-03-15T07:04:05.486Z"
   },
   {
    "duration": 1423,
    "start_time": "2022-03-15T07:04:15.561Z"
   },
   {
    "duration": 3,
    "start_time": "2022-03-15T07:05:00.408Z"
   },
   {
    "duration": 243,
    "start_time": "2022-03-15T07:05:42.640Z"
   },
   {
    "duration": 4,
    "start_time": "2022-03-15T07:05:56.865Z"
   },
   {
    "duration": 6,
    "start_time": "2022-03-15T07:06:16.130Z"
   },
   {
    "duration": 237,
    "start_time": "2022-03-15T07:08:34.946Z"
   },
   {
    "duration": 5,
    "start_time": "2022-03-15T07:08:38.991Z"
   },
   {
    "duration": 4,
    "start_time": "2022-03-15T07:09:33.299Z"
   },
   {
    "duration": 4,
    "start_time": "2022-03-15T07:09:45.165Z"
   },
   {
    "duration": 50516,
    "start_time": "2022-03-15T07:10:37.832Z"
   },
   {
    "duration": 51098,
    "start_time": "2022-03-15T07:11:28.349Z"
   },
   {
    "duration": 3,
    "start_time": "2022-03-15T07:12:19.450Z"
   },
   {
    "duration": 50807,
    "start_time": "2022-03-15T07:12:19.455Z"
   },
   {
    "duration": 50294,
    "start_time": "2022-03-15T07:13:10.264Z"
   },
   {
    "duration": 3,
    "start_time": "2022-03-15T07:14:00.559Z"
   },
   {
    "duration": 13,
    "start_time": "2022-03-15T07:14:00.564Z"
   },
   {
    "duration": 1630,
    "start_time": "2022-03-15T08:05:22.628Z"
   },
   {
    "duration": 3673,
    "start_time": "2022-03-15T08:05:24.261Z"
   },
   {
    "duration": 3997,
    "start_time": "2022-03-15T08:05:27.937Z"
   },
   {
    "duration": 855,
    "start_time": "2022-03-15T08:05:31.937Z"
   },
   {
    "duration": 19,
    "start_time": "2022-03-15T08:05:32.794Z"
   },
   {
    "duration": 22,
    "start_time": "2022-03-15T08:05:32.815Z"
   },
   {
    "duration": 18,
    "start_time": "2022-03-15T08:05:32.840Z"
   },
   {
    "duration": 29,
    "start_time": "2022-03-15T08:05:32.862Z"
   },
   {
    "duration": 27,
    "start_time": "2022-03-15T08:05:32.893Z"
   },
   {
    "duration": 25,
    "start_time": "2022-03-15T08:05:32.923Z"
   },
   {
    "duration": 10,
    "start_time": "2022-03-15T08:05:32.950Z"
   },
   {
    "duration": 15,
    "start_time": "2022-03-15T08:05:32.963Z"
   },
   {
    "duration": 98,
    "start_time": "2022-03-15T08:05:32.980Z"
   },
   {
    "duration": 37,
    "start_time": "2022-03-15T08:05:33.080Z"
   },
   {
    "duration": 13,
    "start_time": "2022-03-15T08:05:33.119Z"
   },
   {
    "duration": 28,
    "start_time": "2022-03-15T08:05:33.134Z"
   },
   {
    "duration": 23,
    "start_time": "2022-03-15T08:05:33.164Z"
   },
   {
    "duration": 17,
    "start_time": "2022-03-15T08:05:33.189Z"
   },
   {
    "duration": 26,
    "start_time": "2022-03-15T08:05:33.209Z"
   },
   {
    "duration": 1208,
    "start_time": "2022-03-15T08:05:33.238Z"
   },
   {
    "duration": 1338,
    "start_time": "2022-03-15T08:05:34.449Z"
   },
   {
    "duration": 919,
    "start_time": "2022-03-15T08:05:35.789Z"
   },
   {
    "duration": 6,
    "start_time": "2022-03-15T08:05:36.713Z"
   },
   {
    "duration": 647,
    "start_time": "2022-03-15T08:05:36.723Z"
   },
   {
    "duration": -21,
    "start_time": "2022-03-15T08:05:37.394Z"
   },
   {
    "duration": -22,
    "start_time": "2022-03-15T08:05:37.396Z"
   },
   {
    "duration": -22,
    "start_time": "2022-03-15T08:05:37.398Z"
   },
   {
    "duration": -21,
    "start_time": "2022-03-15T08:05:37.399Z"
   },
   {
    "duration": -24,
    "start_time": "2022-03-15T08:05:37.404Z"
   },
   {
    "duration": -25,
    "start_time": "2022-03-15T08:05:37.406Z"
   },
   {
    "duration": -25,
    "start_time": "2022-03-15T08:05:37.408Z"
   },
   {
    "duration": -25,
    "start_time": "2022-03-15T08:05:37.409Z"
   },
   {
    "duration": -25,
    "start_time": "2022-03-15T08:05:37.411Z"
   },
   {
    "duration": -24,
    "start_time": "2022-03-15T08:05:37.412Z"
   },
   {
    "duration": -25,
    "start_time": "2022-03-15T08:05:37.414Z"
   },
   {
    "duration": -24,
    "start_time": "2022-03-15T08:05:37.415Z"
   },
   {
    "duration": -25,
    "start_time": "2022-03-15T08:05:37.417Z"
   },
   {
    "duration": -25,
    "start_time": "2022-03-15T08:05:37.418Z"
   },
   {
    "duration": -29,
    "start_time": "2022-03-15T08:05:37.424Z"
   },
   {
    "duration": -30,
    "start_time": "2022-03-15T08:05:37.426Z"
   },
   {
    "duration": -29,
    "start_time": "2022-03-15T08:05:37.427Z"
   },
   {
    "duration": -30,
    "start_time": "2022-03-15T08:05:37.429Z"
   },
   {
    "duration": -29,
    "start_time": "2022-03-15T08:05:37.430Z"
   },
   {
    "duration": -30,
    "start_time": "2022-03-15T08:05:37.432Z"
   },
   {
    "duration": -29,
    "start_time": "2022-03-15T08:05:37.433Z"
   },
   {
    "duration": -29,
    "start_time": "2022-03-15T08:05:37.435Z"
   },
   {
    "duration": -33,
    "start_time": "2022-03-15T08:05:37.440Z"
   },
   {
    "duration": -34,
    "start_time": "2022-03-15T08:05:37.442Z"
   },
   {
    "duration": -33,
    "start_time": "2022-03-15T08:05:37.443Z"
   },
   {
    "duration": -34,
    "start_time": "2022-03-15T08:05:37.445Z"
   },
   {
    "duration": -33,
    "start_time": "2022-03-15T08:05:37.446Z"
   },
   {
    "duration": -82,
    "start_time": "2022-03-15T08:05:37.496Z"
   },
   {
    "duration": -90,
    "start_time": "2022-03-15T08:05:37.506Z"
   },
   {
    "duration": -91,
    "start_time": "2022-03-15T08:05:37.508Z"
   },
   {
    "duration": -99,
    "start_time": "2022-03-15T08:05:37.517Z"
   },
   {
    "duration": -98,
    "start_time": "2022-03-15T08:05:37.518Z"
   },
   {
    "duration": -99,
    "start_time": "2022-03-15T08:05:37.520Z"
   },
   {
    "duration": 12,
    "start_time": "2022-03-15T08:06:30.575Z"
   },
   {
    "duration": 456,
    "start_time": "2022-03-15T08:06:48.271Z"
   },
   {
    "duration": 287,
    "start_time": "2022-03-15T08:06:59.672Z"
   },
   {
    "duration": 5,
    "start_time": "2022-03-15T08:07:23.647Z"
   },
   {
    "duration": 3547,
    "start_time": "2022-03-15T08:07:28.647Z"
   },
   {
    "duration": 1615,
    "start_time": "2022-03-15T08:07:44.172Z"
   },
   {
    "duration": 3150,
    "start_time": "2022-03-15T08:07:45.789Z"
   },
   {
    "duration": 3486,
    "start_time": "2022-03-15T08:07:48.946Z"
   },
   {
    "duration": 915,
    "start_time": "2022-03-15T08:07:52.435Z"
   },
   {
    "duration": 18,
    "start_time": "2022-03-15T08:07:53.353Z"
   },
   {
    "duration": 3,
    "start_time": "2022-03-15T08:07:53.388Z"
   },
   {
    "duration": 6,
    "start_time": "2022-03-15T08:07:53.394Z"
   },
   {
    "duration": 4,
    "start_time": "2022-03-15T08:07:53.406Z"
   },
   {
    "duration": 5,
    "start_time": "2022-03-15T08:07:53.414Z"
   },
   {
    "duration": 11,
    "start_time": "2022-03-15T08:07:53.422Z"
   },
   {
    "duration": 7,
    "start_time": "2022-03-15T08:07:53.436Z"
   },
   {
    "duration": 10,
    "start_time": "2022-03-15T08:07:53.489Z"
   },
   {
    "duration": 122,
    "start_time": "2022-03-15T08:07:53.502Z"
   },
   {
    "duration": 42,
    "start_time": "2022-03-15T08:07:53.627Z"
   },
   {
    "duration": 14,
    "start_time": "2022-03-15T08:07:53.687Z"
   },
   {
    "duration": 17,
    "start_time": "2022-03-15T08:07:53.703Z"
   },
   {
    "duration": 10,
    "start_time": "2022-03-15T08:07:53.722Z"
   },
   {
    "duration": 6,
    "start_time": "2022-03-15T08:07:53.734Z"
   },
   {
    "duration": 12,
    "start_time": "2022-03-15T08:07:53.742Z"
   },
   {
    "duration": 1214,
    "start_time": "2022-03-15T08:07:53.757Z"
   },
   {
    "duration": 1357,
    "start_time": "2022-03-15T08:07:54.974Z"
   },
   {
    "duration": 871,
    "start_time": "2022-03-15T08:07:56.334Z"
   },
   {
    "duration": 6,
    "start_time": "2022-03-15T08:07:57.207Z"
   },
   {
    "duration": 6241,
    "start_time": "2022-03-15T08:07:57.216Z"
   },
   {
    "duration": 33,
    "start_time": "2022-03-15T08:08:03.459Z"
   },
   {
    "duration": 4,
    "start_time": "2022-03-15T08:08:03.498Z"
   },
   {
    "duration": 82,
    "start_time": "2022-03-15T08:08:03.505Z"
   },
   {
    "duration": 17,
    "start_time": "2022-03-15T08:08:03.589Z"
   },
   {
    "duration": 12,
    "start_time": "2022-03-15T08:08:03.608Z"
   },
   {
    "duration": 27,
    "start_time": "2022-03-15T08:08:03.623Z"
   },
   {
    "duration": 6,
    "start_time": "2022-03-15T08:08:03.653Z"
   },
   {
    "duration": 8,
    "start_time": "2022-03-15T08:08:03.687Z"
   },
   {
    "duration": 92,
    "start_time": "2022-03-15T08:08:03.698Z"
   },
   {
    "duration": -25,
    "start_time": "2022-03-15T08:08:03.818Z"
   },
   {
    "duration": -26,
    "start_time": "2022-03-15T08:08:03.820Z"
   },
   {
    "duration": -26,
    "start_time": "2022-03-15T08:08:03.822Z"
   },
   {
    "duration": -25,
    "start_time": "2022-03-15T08:08:03.823Z"
   },
   {
    "duration": -27,
    "start_time": "2022-03-15T08:08:03.826Z"
   },
   {
    "duration": -27,
    "start_time": "2022-03-15T08:08:03.827Z"
   },
   {
    "duration": -27,
    "start_time": "2022-03-15T08:08:03.829Z"
   },
   {
    "duration": -27,
    "start_time": "2022-03-15T08:08:03.830Z"
   },
   {
    "duration": -35,
    "start_time": "2022-03-15T08:08:03.840Z"
   },
   {
    "duration": -36,
    "start_time": "2022-03-15T08:08:03.842Z"
   },
   {
    "duration": -35,
    "start_time": "2022-03-15T08:08:03.843Z"
   },
   {
    "duration": -36,
    "start_time": "2022-03-15T08:08:03.845Z"
   },
   {
    "duration": -35,
    "start_time": "2022-03-15T08:08:03.846Z"
   },
   {
    "duration": -36,
    "start_time": "2022-03-15T08:08:03.848Z"
   },
   {
    "duration": -34,
    "start_time": "2022-03-15T08:08:03.849Z"
   },
   {
    "duration": -34,
    "start_time": "2022-03-15T08:08:03.851Z"
   },
   {
    "duration": -34,
    "start_time": "2022-03-15T08:08:03.852Z"
   },
   {
    "duration": -34,
    "start_time": "2022-03-15T08:08:03.853Z"
   },
   {
    "duration": -79,
    "start_time": "2022-03-15T08:08:03.900Z"
   },
   {
    "duration": -82,
    "start_time": "2022-03-15T08:08:03.904Z"
   },
   {
    "duration": -84,
    "start_time": "2022-03-15T08:08:03.908Z"
   },
   {
    "duration": -85,
    "start_time": "2022-03-15T08:08:03.910Z"
   },
   {
    "duration": -89,
    "start_time": "2022-03-15T08:08:03.915Z"
   },
   {
    "duration": -89,
    "start_time": "2022-03-15T08:08:03.917Z"
   },
   {
    "duration": 21,
    "start_time": "2022-03-15T08:10:00.918Z"
   },
   {
    "duration": 6,
    "start_time": "2022-03-15T08:10:04.696Z"
   },
   {
    "duration": 8,
    "start_time": "2022-03-15T08:10:14.718Z"
   },
   {
    "duration": 8,
    "start_time": "2022-03-15T08:10:23.846Z"
   },
   {
    "duration": 1575,
    "start_time": "2022-03-15T08:10:51.414Z"
   },
   {
    "duration": 1447,
    "start_time": "2022-03-15T08:10:56.145Z"
   },
   {
    "duration": 5,
    "start_time": "2022-03-15T08:11:01.455Z"
   },
   {
    "duration": 329,
    "start_time": "2022-03-15T08:11:05.166Z"
   },
   {
    "duration": 19,
    "start_time": "2022-03-15T08:11:28.270Z"
   },
   {
    "duration": 1258,
    "start_time": "2022-03-15T08:11:48.238Z"
   },
   {
    "duration": 1421,
    "start_time": "2022-03-15T08:11:52.576Z"
   },
   {
    "duration": 5,
    "start_time": "2022-03-15T08:11:56.566Z"
   },
   {
    "duration": 508,
    "start_time": "2022-03-15T08:12:20.382Z"
   },
   {
    "duration": 7,
    "start_time": "2022-03-15T08:12:26.143Z"
   },
   {
    "duration": 6,
    "start_time": "2022-03-15T08:13:44.728Z"
   },
   {
    "duration": 6,
    "start_time": "2022-03-15T08:13:54.870Z"
   },
   {
    "duration": 6,
    "start_time": "2022-03-15T08:14:02.261Z"
   },
   {
    "duration": 487,
    "start_time": "2022-03-15T08:17:37.705Z"
   },
   {
    "duration": 1441,
    "start_time": "2022-03-15T08:18:55.046Z"
   },
   {
    "duration": 1526,
    "start_time": "2022-03-15T08:19:10.063Z"
   },
   {
    "duration": 4,
    "start_time": "2022-03-15T08:19:15.056Z"
   },
   {
    "duration": 393,
    "start_time": "2022-03-15T08:19:18.303Z"
   },
   {
    "duration": 395,
    "start_time": "2022-03-15T08:20:03.501Z"
   }
  ],
  "kernelspec": {
   "display_name": "Python 3 (ipykernel)",
   "language": "python",
   "name": "python3"
  },
  "language_info": {
   "codemirror_mode": {
    "name": "ipython",
    "version": 3
   },
   "file_extension": ".py",
   "mimetype": "text/x-python",
   "name": "python",
   "nbconvert_exporter": "python",
   "pygments_lexer": "ipython3",
   "version": "3.10.5"
  },
  "toc": {
   "base_numbering": 1,
   "nav_menu": {},
   "number_sections": true,
   "sideBar": true,
   "skip_h1_title": true,
   "title_cell": "Содержание",
   "title_sidebar": "Contents",
   "toc_cell": true,
   "toc_position": {},
   "toc_section_display": true,
   "toc_window_display": true
  },
  "varInspector": {
   "cols": {
    "lenName": 16,
    "lenType": 16,
    "lenVar": 40
   },
   "kernels_config": {
    "python": {
     "delete_cmd_postfix": "",
     "delete_cmd_prefix": "del ",
     "library": "var_list.py",
     "varRefreshCmd": "print(var_dic_list())"
    },
    "r": {
     "delete_cmd_postfix": ") ",
     "delete_cmd_prefix": "rm(",
     "library": "var_list.r",
     "varRefreshCmd": "cat(var_dic_list()) "
    }
   },
   "types_to_exclude": [
    "module",
    "function",
    "builtin_function_or_method",
    "instance",
    "_Feature"
   ],
   "window_display": false
  }
 },
 "nbformat": 4,
 "nbformat_minor": 2
}
